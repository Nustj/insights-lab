{
 "cells": [
  {
   "cell_type": "markdown",
   "id": "54202dfa-99a5-4d83-9f39-2fd80174caae",
   "metadata": {},
   "source": [
    "# Getting the data"
   ]
  },
  {
   "cell_type": "code",
   "execution_count": 4,
   "id": "feae3b6d-7528-4e35-a991-bdc51195a6e9",
   "metadata": {},
   "outputs": [
    {
     "data": {
      "text/html": [
       "<div>\n",
       "<style scoped>\n",
       "    .dataframe tbody tr th:only-of-type {\n",
       "        vertical-align: middle;\n",
       "    }\n",
       "\n",
       "    .dataframe tbody tr th {\n",
       "        vertical-align: top;\n",
       "    }\n",
       "\n",
       "    .dataframe thead th {\n",
       "        text-align: right;\n",
       "    }\n",
       "</style>\n",
       "<table border=\"1\" class=\"dataframe\">\n",
       "  <thead>\n",
       "    <tr style=\"text-align: right;\">\n",
       "      <th></th>\n",
       "      <th>Unnamed: 0</th>\n",
       "      <th>course_title</th>\n",
       "      <th>course_organization</th>\n",
       "      <th>course_Certificate_type</th>\n",
       "      <th>course_rating</th>\n",
       "      <th>course_difficulty</th>\n",
       "      <th>course_students_enrolled</th>\n",
       "    </tr>\n",
       "  </thead>\n",
       "  <tbody>\n",
       "    <tr>\n",
       "      <th>0</th>\n",
       "      <td>134</td>\n",
       "      <td>(ISC)² Systems Security Certified Practitioner...</td>\n",
       "      <td>(ISC)²</td>\n",
       "      <td>SPECIALIZATION</td>\n",
       "      <td>4.7</td>\n",
       "      <td>Beginner</td>\n",
       "      <td>5.3k</td>\n",
       "    </tr>\n",
       "    <tr>\n",
       "      <th>1</th>\n",
       "      <td>743</td>\n",
       "      <td>A Crash Course in Causality:  Inferring Causal...</td>\n",
       "      <td>University of Pennsylvania</td>\n",
       "      <td>COURSE</td>\n",
       "      <td>4.7</td>\n",
       "      <td>Intermediate</td>\n",
       "      <td>17k</td>\n",
       "    </tr>\n",
       "    <tr>\n",
       "      <th>2</th>\n",
       "      <td>874</td>\n",
       "      <td>A Crash Course in Data Science</td>\n",
       "      <td>Johns Hopkins University</td>\n",
       "      <td>COURSE</td>\n",
       "      <td>4.5</td>\n",
       "      <td>Mixed</td>\n",
       "      <td>130k</td>\n",
       "    </tr>\n",
       "    <tr>\n",
       "      <th>3</th>\n",
       "      <td>413</td>\n",
       "      <td>A Law Student's Toolkit</td>\n",
       "      <td>Yale University</td>\n",
       "      <td>COURSE</td>\n",
       "      <td>4.7</td>\n",
       "      <td>Mixed</td>\n",
       "      <td>91k</td>\n",
       "    </tr>\n",
       "    <tr>\n",
       "      <th>4</th>\n",
       "      <td>635</td>\n",
       "      <td>A Life of Happiness and Fulfillment</td>\n",
       "      <td>Indian School of Business</td>\n",
       "      <td>COURSE</td>\n",
       "      <td>4.8</td>\n",
       "      <td>Mixed</td>\n",
       "      <td>320k</td>\n",
       "    </tr>\n",
       "  </tbody>\n",
       "</table>\n",
       "</div>"
      ],
      "text/plain": [
       "   Unnamed: 0                                       course_title  \\\n",
       "0         134  (ISC)² Systems Security Certified Practitioner...   \n",
       "1         743  A Crash Course in Causality:  Inferring Causal...   \n",
       "2         874                     A Crash Course in Data Science   \n",
       "3         413                            A Law Student's Toolkit   \n",
       "4         635                A Life of Happiness and Fulfillment   \n",
       "\n",
       "          course_organization course_Certificate_type  course_rating  \\\n",
       "0                      (ISC)²          SPECIALIZATION            4.7   \n",
       "1  University of Pennsylvania                  COURSE            4.7   \n",
       "2    Johns Hopkins University                  COURSE            4.5   \n",
       "3             Yale University                  COURSE            4.7   \n",
       "4   Indian School of Business                  COURSE            4.8   \n",
       "\n",
       "  course_difficulty course_students_enrolled  \n",
       "0          Beginner                     5.3k  \n",
       "1      Intermediate                      17k  \n",
       "2             Mixed                     130k  \n",
       "3             Mixed                      91k  \n",
       "4             Mixed                     320k  "
      ]
     },
     "execution_count": 4,
     "metadata": {},
     "output_type": "execute_result"
    }
   ],
   "source": [
    "import pandas as pd\n",
    "import numpy as np\n",
    "df = pd.read_csv('D:/coursera_data.csv')\n",
    "df.head()"
   ]
  },
  {
   "cell_type": "code",
   "execution_count": 6,
   "id": "e0c055f4-c8fe-4c06-9cab-b89ad4e1aa17",
   "metadata": {},
   "outputs": [
    {
     "data": {
      "text/html": [
       "        <script type=\"text/javascript\">\n",
       "        window.PlotlyConfig = {MathJaxConfig: 'local'};\n",
       "        if (window.MathJax && window.MathJax.Hub && window.MathJax.Hub.Config) {window.MathJax.Hub.Config({SVG: {font: \"STIX-Web\"}});}\n",
       "        if (typeof require !== 'undefined') {\n",
       "        require.undef(\"plotly\");\n",
       "        requirejs.config({\n",
       "            paths: {\n",
       "                'plotly': ['https://cdn.plot.ly/plotly-2.35.2.min']\n",
       "            }\n",
       "        });\n",
       "        require(['plotly'], function(Plotly) {\n",
       "            window._Plotly = Plotly;\n",
       "        });\n",
       "        }\n",
       "        </script>\n",
       "        "
      ]
     },
     "metadata": {},
     "output_type": "display_data"
    },
    {
     "data": {
      "text/html": [
       "        <script type=\"text/javascript\">\n",
       "        window.PlotlyConfig = {MathJaxConfig: 'local'};\n",
       "        if (window.MathJax && window.MathJax.Hub && window.MathJax.Hub.Config) {window.MathJax.Hub.Config({SVG: {font: \"STIX-Web\"}});}\n",
       "        if (typeof require !== 'undefined') {\n",
       "        require.undef(\"plotly\");\n",
       "        requirejs.config({\n",
       "            paths: {\n",
       "                'plotly': ['https://cdn.plot.ly/plotly-2.35.2.min']\n",
       "            }\n",
       "        });\n",
       "        require(['plotly'], function(Plotly) {\n",
       "            window._Plotly = Plotly;\n",
       "        });\n",
       "        }\n",
       "        </script>\n",
       "        "
      ]
     },
     "metadata": {},
     "output_type": "display_data"
    }
   ],
   "source": [
    "import matplotlib.pyplot as plt\n",
    "import seaborn as sns\n",
    "import chart_studio.plotly as py\n",
    "import plotly.express as px\n",
    "import cufflinks as cf\n",
    "%matplotlib inline\n",
    "\n",
    "from plotly.offline import download_plotlyjs, init_notebook_mode, plot, iplot\n",
    "init_notebook_mode(connected=True)\n",
    "cf.go_offline()\n"
   ]
  },
  {
   "cell_type": "markdown",
   "id": "b3a78a76-33fd-4d7d-bf33-82b20467effa",
   "metadata": {},
   "source": [
    "# Data cleaning"
   ]
  },
  {
   "cell_type": "code",
   "execution_count": 8,
   "id": "cdd931fc-5cfb-44e9-aa9f-aead67d1de69",
   "metadata": {},
   "outputs": [
    {
     "name": "stdout",
     "output_type": "stream",
     "text": [
      "Null values are: Dataset_number              0\n",
      "course_title                0\n",
      "course_organization         0\n",
      "course_certificate_type     0\n",
      "course_rating               0\n",
      "course_difficulty           0\n",
      "course_students_enrolled    0\n",
      "dtype: int64\n",
      "Number of duplicate rows: 0\n",
      "   Dataset_number                                       course_title  \\\n",
      "0             134  (ISC)² Systems Security Certified Practitioner...   \n",
      "1             743  A Crash Course in Causality:  Inferring Causal...   \n",
      "2             874                     A Crash Course in Data Science   \n",
      "3             413                            A Law Student's Toolkit   \n",
      "4             635                A Life of Happiness and Fulfillment   \n",
      "\n",
      "                                 course_organization course_certificate_type  \\\n",
      "0  (ISC)² Systems Security Certified Practitioner...          SPECIALIZATION   \n",
      "1  A Crash Course in Causality:  Inferring Causal...                  COURSE   \n",
      "2                     A Crash Course in Data Science                  COURSE   \n",
      "3                            A Law Student's Toolkit                  COURSE   \n",
      "4                A Life of Happiness and Fulfillment                  COURSE   \n",
      "\n",
      "   course_rating course_difficulty  course_students_enrolled  \n",
      "0            4.7          Beginner                      5300  \n",
      "1            4.7      Intermediate                     17000  \n",
      "2            4.5             Mixed                    130000  \n",
      "3            4.7             Mixed                     91000  \n",
      "4            4.8             Mixed                    320000  \n"
     ]
    }
   ],
   "source": [
    "# Rename columns\n",
    "df.rename(columns={\"course_Certificate_type\": \"course_certificate_type\"}, inplace=True)\n",
    "df.rename(columns={\"Unnamed: 0\": \"Dataset_number\"}, inplace=True)\n",
    "\n",
    "# student enrollment to actual numbers\n",
    "def actual_students_numbers(value):\n",
    "    value=str(value).lower()\n",
    "\n",
    "    if \"k\" in value:\n",
    "        value=int(float(value.replace(\"k\",\"\"))*1000)\n",
    "    elif \"m\" in value:\n",
    "        value=int(float(value.replace(\"m\",\"\"))*1000000)\n",
    "        \n",
    "    return int(value)\n",
    "\n",
    "df[\"course_students_enrolled\"]=df[\"course_students_enrolled\"].apply(actual_students_numbers)\n",
    "\n",
    "# Strip extra spaces\n",
    "df[\"course_title\"] = df[\"course_title\"].str.strip()\n",
    "df[\"course_organization\"] = df[\"course_title\"].str.strip()\n",
    "\n",
    "# Count null values\n",
    "print(f\"Null values are: { df.isnull().sum()}\")\n",
    "\n",
    "# Count duplicates\n",
    "duplicate_count = df.duplicated().sum()\n",
    "print(f\"Number of duplicate rows: {duplicate_count}\")\n",
    "# double check without ID\n",
    "\n",
    "# Drop duplicates\n",
    "df.drop_duplicates(inplace=True)\n",
    "\n",
    "print(df.head())"
   ]
  },
  {
   "cell_type": "markdown",
   "id": "4c06ec4b-6210-40be-8d09-b67844eae0c3",
   "metadata": {},
   "source": [
    "# Exploratory data analysis"
   ]
  },
  {
   "cell_type": "markdown",
   "id": "31b6549f-78db-4c20-ae9f-59b45e3cccec",
   "metadata": {},
   "source": [
    "# Summary statistics"
   ]
  },
  {
   "cell_type": "code",
   "execution_count": 11,
   "id": "91dc9cff-94e4-4a4f-a84b-4a2218160985",
   "metadata": {},
   "outputs": [
    {
     "data": {
      "text/html": [
       "<div>\n",
       "<style scoped>\n",
       "    .dataframe tbody tr th:only-of-type {\n",
       "        vertical-align: middle;\n",
       "    }\n",
       "\n",
       "    .dataframe tbody tr th {\n",
       "        vertical-align: top;\n",
       "    }\n",
       "\n",
       "    .dataframe thead th {\n",
       "        text-align: right;\n",
       "    }\n",
       "</style>\n",
       "<table border=\"1\" class=\"dataframe\">\n",
       "  <thead>\n",
       "    <tr style=\"text-align: right;\">\n",
       "      <th></th>\n",
       "      <th>Dataset_number</th>\n",
       "      <th>course_rating</th>\n",
       "      <th>course_students_enrolled</th>\n",
       "    </tr>\n",
       "  </thead>\n",
       "  <tbody>\n",
       "    <tr>\n",
       "      <th>count</th>\n",
       "      <td>891.000000</td>\n",
       "      <td>891.000000</td>\n",
       "      <td>8.910000e+02</td>\n",
       "    </tr>\n",
       "    <tr>\n",
       "      <th>mean</th>\n",
       "      <td>445.000000</td>\n",
       "      <td>4.677329</td>\n",
       "      <td>9.055208e+04</td>\n",
       "    </tr>\n",
       "    <tr>\n",
       "      <th>std</th>\n",
       "      <td>257.353842</td>\n",
       "      <td>0.162225</td>\n",
       "      <td>1.819365e+05</td>\n",
       "    </tr>\n",
       "    <tr>\n",
       "      <th>min</th>\n",
       "      <td>0.000000</td>\n",
       "      <td>3.300000</td>\n",
       "      <td>1.500000e+03</td>\n",
       "    </tr>\n",
       "    <tr>\n",
       "      <th>25%</th>\n",
       "      <td>222.500000</td>\n",
       "      <td>4.600000</td>\n",
       "      <td>1.750000e+04</td>\n",
       "    </tr>\n",
       "    <tr>\n",
       "      <th>50%</th>\n",
       "      <td>445.000000</td>\n",
       "      <td>4.700000</td>\n",
       "      <td>4.200000e+04</td>\n",
       "    </tr>\n",
       "    <tr>\n",
       "      <th>75%</th>\n",
       "      <td>667.500000</td>\n",
       "      <td>4.800000</td>\n",
       "      <td>9.950000e+04</td>\n",
       "    </tr>\n",
       "    <tr>\n",
       "      <th>max</th>\n",
       "      <td>890.000000</td>\n",
       "      <td>5.000000</td>\n",
       "      <td>3.200000e+06</td>\n",
       "    </tr>\n",
       "  </tbody>\n",
       "</table>\n",
       "</div>"
      ],
      "text/plain": [
       "       Dataset_number  course_rating  course_students_enrolled\n",
       "count      891.000000     891.000000              8.910000e+02\n",
       "mean       445.000000       4.677329              9.055208e+04\n",
       "std        257.353842       0.162225              1.819365e+05\n",
       "min          0.000000       3.300000              1.500000e+03\n",
       "25%        222.500000       4.600000              1.750000e+04\n",
       "50%        445.000000       4.700000              4.200000e+04\n",
       "75%        667.500000       4.800000              9.950000e+04\n",
       "max        890.000000       5.000000              3.200000e+06"
      ]
     },
     "execution_count": 11,
     "metadata": {},
     "output_type": "execute_result"
    }
   ],
   "source": [
    "df.describe()"
   ]
  },
  {
   "cell_type": "code",
   "execution_count": 12,
   "id": "14640deb-af38-4b90-b739-0094f2c1d9b8",
   "metadata": {},
   "outputs": [
    {
     "data": {
      "image/png": "[encoded data removed]",
      "text/plain": [
       "<Figure size 640x480 with 1 Axes>"
      ]
     },
     "metadata": {},
     "output_type": "display_data"
    }
   ],
   "source": [
    "# Box plot for course_rating\n",
    "sns.boxplot(x=df['course_rating'])\n",
    "plt.title('Boxplot of Course Ratings')\n",
    "plt.show()"
   ]
  },
  {
   "cell_type": "markdown",
   "id": "04bd62cf-5589-480f-a7b3-164b57ecc0fb",
   "metadata": {},
   "source": [
    "### *Most courses have high ratings (median near 4.75)*\n",
    "A few courses received significantly lower ratings (outliers below 4).\n",
    "\n",
    "### Actions, which should be done, based on our data:\n",
    "Investigate the outliers: Why are some courses rated so low?\n",
    "Ensure quality control for courses to maintain high ratings.\n",
    "Consider promotional strategies for lower-rated courses to improve their reputation."
   ]
  },
  {
   "cell_type": "code",
   "execution_count": 14,
   "id": "4b5d76e7-c6ec-45fa-8d6c-80e77671dbbb",
   "metadata": {},
   "outputs": [
    {
     "data": {
      "image/png": "[encoded data removed]",
      "text/plain": [
       "<Figure size 640x480 with 1 Axes>"
      ]
     },
     "metadata": {},
     "output_type": "display_data"
    }
   ],
   "source": [
    "# Box plot for course_students_enrolled\n",
    "sns.boxplot(x=df['course_students_enrolled'])\n",
    "plt.title('Boxplot of Students Enrolled')\n",
    "plt.show()"
   ]
  },
  {
   "cell_type": "markdown",
   "id": "a31e1d99-7811-4aba-9aaf-d6979c1c3f87",
   "metadata": {},
   "source": [
    "### A few courses are extremely popular!\n",
    "The outliers (dots on the right) represent courses that have tens or hundreds of thousands of students enrolled.\n",
    "Most courses struggle to attract a LARGE audience (small interquartile range).\n",
    "Based on that, our courses creators can make their courses, having some ideas from \"outliers\"."
   ]
  },
  {
   "cell_type": "code",
   "execution_count": 16,
   "id": "eca2248c-813e-4a64-bb6b-e130f000271c",
   "metadata": {},
   "outputs": [
    {
     "data": {
      "image/png": "[encoded data removed]",
      "text/plain": [
       "<Figure size 640x480 with 1 Axes>"
      ]
     },
     "metadata": {},
     "output_type": "display_data"
    },
    {
     "data": {
      "image/png": "[encoded data removed]",
      "text/plain": [
       "<Figure size 640x480 with 1 Axes>"
      ]
     },
     "metadata": {},
     "output_type": "display_data"
    }
   ],
   "source": [
    "# Histogram for course_rating\n",
    "plt.hist(df['course_rating'], bins=10, edgecolor='black')\n",
    "plt.title('Histogram of Course Ratings')\n",
    "plt.xlabel('Course Rating')\n",
    "plt.ylabel('Frequency')\n",
    "plt.show()\n",
    "\n",
    "# Histogram for course_students_enrolled\n",
    "plt.hist(df['course_students_enrolled'], bins=50, edgecolor='black')\n",
    "plt.title('Histogram of Students Enrolled')\n",
    "plt.xlabel('Number of Students Enrolled')\n",
    "plt.ylabel('Frequency')\n",
    "plt.show()"
   ]
  },
  {
   "cell_type": "markdown",
   "id": "d4d80829-cc84-4840-b8b3-7d0f243580d8",
   "metadata": {},
   "source": [
    "### Observations:\n",
    "The highest bar is around 4.75, meaning most courses are rated in this range.\n",
    "The highest bars are close to 0 on the x-axis, meaning most courses have low enrollments."
   ]
  },
  {
   "cell_type": "markdown",
   "id": "ff6dcd58-7bda-4ff5-992c-f5f0704a147e",
   "metadata": {},
   "source": [
    "### Distrubution of Course Difficulty"
   ]
  },
  {
   "cell_type": "code",
   "execution_count": 19,
   "id": "b7a8494a-84d1-4a0f-ab9d-f82adf9fdb4d",
   "metadata": {},
   "outputs": [
    {
     "data": {
      "image/png": "[encoded data removed]",
      "text/plain": [
       "<Figure size 800x500 with 1 Axes>"
      ]
     },
     "metadata": {},
     "output_type": "display_data"
    }
   ],
   "source": [
    "plt.figure(figsize=(8, 5))\n",
    "sns.countplot(x=df['course_difficulty'], hue=df['course_difficulty'], palette='coolwarm', legend=False)\n",
    "plt.title('Course Difficulty Distribution')\n",
    "plt.xlabel('Difficulty Level')\n",
    "plt.ylabel('Count')\n",
    "plt.show()"
   ]
  },
  {
   "cell_type": "markdown",
   "id": "c2d6e916-e8db-4ce5-afdb-37065683e9f7",
   "metadata": {},
   "source": [
    "### Observations:\n",
    "The majority of courses are at an beginner difficulty level."
   ]
  },
  {
   "cell_type": "markdown",
   "id": "c9b54304-d14d-4f94-9c39-b4b252b4b096",
   "metadata": {},
   "source": [
    "### Most Popular Courses"
   ]
  },
  {
   "cell_type": "code",
   "execution_count": 22,
   "id": "d23aad0d-6c06-4681-b2b4-0adc9e2989cc",
   "metadata": {},
   "outputs": [
    {
     "data": {
      "image/png": "[encoded data removed]",
      "text/plain": [
       "<Figure size 1000x600 with 1 Axes>"
      ]
     },
     "metadata": {},
     "output_type": "display_data"
    }
   ],
   "source": [
    "plt.figure(figsize=(10, 6))\n",
    "top_courses = df.sort_values(by='course_students_enrolled', ascending=False).head(10)\n",
    "sns.barplot(y=top_courses['course_title'], x=top_courses['course_students_enrolled'], \n",
    "            hue=df['course_students_enrolled'], palette='coolwarm')\n",
    "plt.title('Top 10 Most Popular Courses')\n",
    "plt.xlabel('Students Enrolled')\n",
    "plt.ylabel('Course Title')\n",
    "plt.show()"
   ]
  },
  {
   "cell_type": "code",
   "execution_count": 23,
   "id": "014be6d4-d893-4681-b2f5-7da842ed9a1d",
   "metadata": {},
   "outputs": [
    {
     "data": {
      "application/vnd.plotly.v1+json": {
       "config": {
        "plotlyServerURL": "https://plot.ly"
       },
       "data": [
        {
         "domain": {
          "x": [
           0,
           1
          ],
          "y": [
           0,
           1
          ]
         },
         "hovertemplate": "course_certificate_type=%{label}<extra></extra>",
         "labels": [
          "SPECIALIZATION",
          "COURSE",
          "COURSE",
          "COURSE",
          "COURSE",
          "COURSE",
          "COURSE",
          "COURSE",
          "SPECIALIZATION",
          "COURSE",
          "COURSE",
          "SPECIALIZATION",
          "SPECIALIZATION",
          "COURSE",
          "COURSE",
          "COURSE",
          "COURSE",
          "COURSE",
          "SPECIALIZATION",
          "SPECIALIZATION",
          "COURSE",
          "COURSE",
          "COURSE",
          "SPECIALIZATION",
          "COURSE",
          "COURSE",
          "SPECIALIZATION",
          "SPECIALIZATION",
          "SPECIALIZATION",
          "SPECIALIZATION",
          "COURSE",
          "COURSE",
          "COURSE",
          "SPECIALIZATION",
          "COURSE",
          "COURSE",
          "COURSE",
          "COURSE",
          "SPECIALIZATION",
          "SPECIALIZATION",
          "COURSE",
          "COURSE",
          "COURSE",
          "SPECIALIZATION",
          "SPECIALIZATION",
          "SPECIALIZATION",
          "COURSE",
          "COURSE",
          "COURSE",
          "SPECIALIZATION",
          "COURSE",
          "COURSE",
          "COURSE",
          "COURSE",
          "SPECIALIZATION",
          "COURSE",
          "SPECIALIZATION",
          "COURSE",
          "COURSE",
          "SPECIALIZATION",
          "COURSE",
          "COURSE",
          "SPECIALIZATION",
          "SPECIALIZATION",
          "SPECIALIZATION",
          "PROFESSIONAL CERTIFICATE",
          "COURSE",
          "COURSE",
          "COURSE",
          "COURSE",
          "COURSE",
          "COURSE",
          "COURSE",
          "COURSE",
          "SPECIALIZATION",
          "SPECIALIZATION",
          "COURSE",
          "COURSE",
          "COURSE",
          "COURSE",
          "COURSE",
          "COURSE",
          "COURSE",
          "SPECIALIZATION",
          "SPECIALIZATION",
          "COURSE",
          "COURSE",
          "COURSE",
          "COURSE",
          "SPECIALIZATION",
          "COURSE",
          "COURSE",
          "SPECIALIZATION",
          "COURSE",
          "SPECIALIZATION",
          "SPECIALIZATION",
          "SPECIALIZATION",
          "COURSE",
          "COURSE",
          "COURSE",
          "SPECIALIZATION",
          "COURSE",
          "COURSE",
          "COURSE",
          "COURSE",
          "COURSE",
          "COURSE",
          "COURSE",
          "COURSE",
          "SPECIALIZATION",
          "SPECIALIZATION",
          "SPECIALIZATION",
          "COURSE",
          "SPECIALIZATION",
          "COURSE",
          "SPECIALIZATION",
          "SPECIALIZATION",
          "SPECIALIZATION",
          "SPECIALIZATION",
          "COURSE",
          "COURSE",
          "SPECIALIZATION",
          "COURSE",
          "SPECIALIZATION",
          "COURSE",
          "COURSE",
          "COURSE",
          "COURSE",
          "COURSE",
          "SPECIALIZATION",
          "COURSE",
          "COURSE",
          "COURSE",
          "COURSE",
          "COURSE",
          "SPECIALIZATION",
          "COURSE",
          "SPECIALIZATION",
          "SPECIALIZATION",
          "COURSE",
          "SPECIALIZATION",
          "COURSE",
          "PROFESSIONAL CERTIFICATE",
          "SPECIALIZATION",
          "COURSE",
          "SPECIALIZATION",
          "COURSE",
          "COURSE",
          "COURSE",
          "SPECIALIZATION",
          "SPECIALIZATION",
          "COURSE",
          "SPECIALIZATION",
          "SPECIALIZATION",
          "COURSE",
          "SPECIALIZATION",
          "COURSE",
          "COURSE",
          "COURSE",
          "SPECIALIZATION",
          "COURSE",
          "COURSE",
          "COURSE",
          "COURSE",
          "COURSE",
          "COURSE",
          "COURSE",
          "COURSE",
          "COURSE",
          "COURSE",
          "COURSE",
          "COURSE",
          "COURSE",
          "SPECIALIZATION",
          "COURSE",
          "SPECIALIZATION",
          "COURSE",
          "COURSE",
          "SPECIALIZATION",
          "COURSE",
          "COURSE",
          "SPECIALIZATION",
          "COURSE",
          "SPECIALIZATION",
          "COURSE",
          "COURSE",
          "SPECIALIZATION",
          "SPECIALIZATION",
          "COURSE",
          "COURSE",
          "COURSE",
          "SPECIALIZATION",
          "PROFESSIONAL CERTIFICATE",
          "SPECIALIZATION",
          "COURSE",
          "SPECIALIZATION",
          "SPECIALIZATION",
          "COURSE",
          "COURSE",
          "SPECIALIZATION",
          "SPECIALIZATION",
          "COURSE",
          "COURSE",
          "COURSE",
          "SPECIALIZATION",
          "SPECIALIZATION",
          "COURSE",
          "COURSE",
          "COURSE",
          "COURSE",
          "COURSE",
          "SPECIALIZATION",
          "COURSE",
          "COURSE",
          "COURSE",
          "COURSE",
          "COURSE",
          "COURSE",
          "COURSE",
          "COURSE",
          "SPECIALIZATION",
          "SPECIALIZATION",
          "SPECIALIZATION",
          "SPECIALIZATION",
          "COURSE",
          "SPECIALIZATION",
          "COURSE",
          "SPECIALIZATION",
          "COURSE",
          "SPECIALIZATION",
          "SPECIALIZATION",
          "COURSE",
          "SPECIALIZATION",
          "COURSE",
          "COURSE",
          "COURSE",
          "SPECIALIZATION",
          "COURSE",
          "COURSE",
          "COURSE",
          "COURSE",
          "COURSE",
          "COURSE",
          "SPECIALIZATION",
          "COURSE",
          "COURSE",
          "COURSE",
          "COURSE",
          "COURSE",
          "COURSE",
          "COURSE",
          "COURSE",
          "COURSE",
          "COURSE",
          "SPECIALIZATION",
          "SPECIALIZATION",
          "SPECIALIZATION",
          "COURSE",
          "COURSE",
          "COURSE",
          "COURSE",
          "COURSE",
          "COURSE",
          "SPECIALIZATION",
          "COURSE",
          "COURSE",
          "SPECIALIZATION",
          "SPECIALIZATION",
          "COURSE",
          "COURSE",
          "COURSE",
          "COURSE",
          "SPECIALIZATION",
          "COURSE",
          "COURSE",
          "SPECIALIZATION",
          "SPECIALIZATION",
          "COURSE",
          "COURSE",
          "COURSE",
          "SPECIALIZATION",
          "COURSE",
          "COURSE",
          "COURSE",
          "COURSE",
          "SPECIALIZATION",
          "COURSE",
          "COURSE",
          "SPECIALIZATION",
          "COURSE",
          "COURSE",
          "SPECIALIZATION",
          "COURSE",
          "COURSE",
          "COURSE",
          "COURSE",
          "SPECIALIZATION",
          "SPECIALIZATION",
          "COURSE",
          "SPECIALIZATION",
          "COURSE",
          "COURSE",
          "COURSE",
          "COURSE",
          "SPECIALIZATION",
          "COURSE",
          "SPECIALIZATION",
          "COURSE",
          "COURSE",
          "COURSE",
          "COURSE",
          "COURSE",
          "SPECIALIZATION",
          "COURSE",
          "SPECIALIZATION",
          "SPECIALIZATION",
          "SPECIALIZATION",
          "COURSE",
          "SPECIALIZATION",
          "COURSE",
          "COURSE",
          "SPECIALIZATION",
          "COURSE",
          "COURSE",
          "COURSE",
          "COURSE",
          "SPECIALIZATION",
          "COURSE",
          "COURSE",
          "SPECIALIZATION",
          "SPECIALIZATION",
          "SPECIALIZATION",
          "SPECIALIZATION",
          "SPECIALIZATION",
          "SPECIALIZATION",
          "COURSE",
          "COURSE",
          "COURSE",
          "SPECIALIZATION",
          "SPECIALIZATION",
          "COURSE",
          "SPECIALIZATION",
          "COURSE",
          "SPECIALIZATION",
          "SPECIALIZATION",
          "COURSE",
          "COURSE",
          "COURSE",
          "SPECIALIZATION",
          "COURSE",
          "COURSE",
          "COURSE",
          "COURSE",
          "COURSE",
          "COURSE",
          "SPECIALIZATION",
          "SPECIALIZATION",
          "COURSE",
          "COURSE",
          "COURSE",
          "SPECIALIZATION",
          "SPECIALIZATION",
          "SPECIALIZATION",
          "SPECIALIZATION",
          "SPECIALIZATION",
          "COURSE",
          "COURSE",
          "COURSE",
          "SPECIALIZATION",
          "SPECIALIZATION",
          "COURSE",
          "COURSE",
          "COURSE",
          "COURSE",
          "COURSE",
          "COURSE",
          "COURSE",
          "COURSE",
          "COURSE",
          "COURSE",
          "COURSE",
          "COURSE",
          "COURSE",
          "COURSE",
          "COURSE",
          "COURSE",
          "COURSE",
          "SPECIALIZATION",
          "SPECIALIZATION",
          "COURSE",
          "COURSE",
          "PROFESSIONAL CERTIFICATE",
          "PROFESSIONAL CERTIFICATE",
          "COURSE",
          "SPECIALIZATION",
          "COURSE",
          "COURSE",
          "COURSE",
          "COURSE",
          "COURSE",
          "SPECIALIZATION",
          "COURSE",
          "COURSE",
          "COURSE",
          "SPECIALIZATION",
          "SPECIALIZATION",
          "SPECIALIZATION",
          "SPECIALIZATION",
          "SPECIALIZATION",
          "COURSE",
          "SPECIALIZATION",
          "SPECIALIZATION",
          "COURSE",
          "COURSE",
          "SPECIALIZATION",
          "SPECIALIZATION",
          "PROFESSIONAL CERTIFICATE",
          "SPECIALIZATION",
          "PROFESSIONAL CERTIFICATE",
          "COURSE",
          "PROFESSIONAL CERTIFICATE",
          "SPECIALIZATION",
          "COURSE",
          "COURSE",
          "SPECIALIZATION",
          "SPECIALIZATION",
          "SPECIALIZATION",
          "COURSE",
          "SPECIALIZATION",
          "COURSE",
          "COURSE",
          "COURSE",
          "SPECIALIZATION",
          "COURSE",
          "SPECIALIZATION",
          "COURSE",
          "SPECIALIZATION",
          "SPECIALIZATION",
          "COURSE",
          "COURSE",
          "COURSE",
          "SPECIALIZATION",
          "SPECIALIZATION",
          "SPECIALIZATION",
          "COURSE",
          "COURSE",
          "COURSE",
          "SPECIALIZATION",
          "SPECIALIZATION",
          "SPECIALIZATION",
          "COURSE",
          "SPECIALIZATION",
          "COURSE",
          "COURSE",
          "COURSE",
          "COURSE",
          "COURSE",
          "SPECIALIZATION",
          "COURSE",
          "COURSE",
          "COURSE",
          "COURSE",
          "COURSE",
          "COURSE",
          "SPECIALIZATION",
          "COURSE",
          "COURSE",
          "COURSE",
          "COURSE",
          "COURSE",
          "COURSE",
          "COURSE",
          "COURSE",
          "COURSE",
          "COURSE",
          "COURSE",
          "COURSE",
          "COURSE",
          "COURSE",
          "COURSE",
          "SPECIALIZATION",
          "COURSE",
          "COURSE",
          "SPECIALIZATION",
          "COURSE",
          "COURSE",
          "SPECIALIZATION",
          "COURSE",
          "COURSE",
          "SPECIALIZATION",
          "COURSE",
          "COURSE",
          "COURSE",
          "COURSE",
          "COURSE",
          "COURSE",
          "COURSE",
          "COURSE",
          "COURSE",
          "COURSE",
          "COURSE",
          "COURSE",
          "COURSE",
          "COURSE",
          "COURSE",
          "COURSE",
          "COURSE",
          "COURSE",
          "COURSE",
          "COURSE",
          "SPECIALIZATION",
          "COURSE",
          "COURSE",
          "SPECIALIZATION",
          "COURSE",
          "COURSE",
          "COURSE",
          "COURSE",
          "COURSE",
          "COURSE",
          "COURSE",
          "COURSE",
          "COURSE",
          "COURSE",
          "COURSE",
          "COURSE",
          "COURSE",
          "COURSE",
          "COURSE",
          "SPECIALIZATION",
          "COURSE",
          "SPECIALIZATION",
          "SPECIALIZATION",
          "SPECIALIZATION",
          "COURSE",
          "SPECIALIZATION",
          "COURSE",
          "COURSE",
          "COURSE",
          "COURSE",
          "SPECIALIZATION",
          "SPECIALIZATION",
          "COURSE",
          "COURSE",
          "SPECIALIZATION",
          "COURSE",
          "SPECIALIZATION",
          "SPECIALIZATION",
          "SPECIALIZATION",
          "SPECIALIZATION",
          "SPECIALIZATION",
          "SPECIALIZATION",
          "SPECIALIZATION",
          "SPECIALIZATION",
          "SPECIALIZATION",
          "COURSE",
          "COURSE",
          "COURSE",
          "COURSE",
          "COURSE",
          "SPECIALIZATION",
          "COURSE",
          "COURSE",
          "SPECIALIZATION",
          "COURSE",
          "COURSE",
          "SPECIALIZATION",
          "COURSE",
          "COURSE",
          "SPECIALIZATION",
          "COURSE",
          "SPECIALIZATION",
          "COURSE",
          "COURSE",
          "COURSE",
          "COURSE",
          "SPECIALIZATION",
          "SPECIALIZATION",
          "COURSE",
          "COURSE",
          "COURSE",
          "SPECIALIZATION",
          "COURSE",
          "SPECIALIZATION",
          "COURSE",
          "SPECIALIZATION",
          "SPECIALIZATION",
          "COURSE",
          "SPECIALIZATION",
          "COURSE",
          "COURSE",
          "COURSE",
          "SPECIALIZATION",
          "COURSE",
          "SPECIALIZATION",
          "SPECIALIZATION",
          "COURSE",
          "COURSE",
          "COURSE",
          "SPECIALIZATION",
          "COURSE",
          "SPECIALIZATION",
          "SPECIALIZATION",
          "COURSE",
          "COURSE",
          "COURSE",
          "COURSE",
          "COURSE",
          "COURSE",
          "COURSE",
          "SPECIALIZATION",
          "SPECIALIZATION",
          "COURSE",
          "COURSE",
          "COURSE",
          "COURSE",
          "COURSE",
          "SPECIALIZATION",
          "COURSE",
          "SPECIALIZATION",
          "COURSE",
          "COURSE",
          "COURSE",
          "SPECIALIZATION",
          "COURSE",
          "SPECIALIZATION",
          "COURSE",
          "COURSE",
          "COURSE",
          "SPECIALIZATION",
          "COURSE",
          "COURSE",
          "SPECIALIZATION",
          "SPECIALIZATION",
          "COURSE",
          "COURSE",
          "COURSE",
          "SPECIALIZATION",
          "COURSE",
          "COURSE",
          "SPECIALIZATION",
          "SPECIALIZATION",
          "COURSE",
          "SPECIALIZATION",
          "SPECIALIZATION",
          "SPECIALIZATION",
          "COURSE",
          "SPECIALIZATION",
          "COURSE",
          "COURSE",
          "COURSE",
          "COURSE",
          "SPECIALIZATION",
          "SPECIALIZATION",
          "COURSE",
          "COURSE",
          "COURSE",
          "COURSE",
          "COURSE",
          "COURSE",
          "SPECIALIZATION",
          "SPECIALIZATION",
          "COURSE",
          "COURSE",
          "COURSE",
          "SPECIALIZATION",
          "SPECIALIZATION",
          "COURSE",
          "COURSE",
          "COURSE",
          "COURSE",
          "COURSE",
          "COURSE",
          "COURSE",
          "COURSE",
          "SPECIALIZATION",
          "COURSE",
          "COURSE",
          "SPECIALIZATION",
          "SPECIALIZATION",
          "COURSE",
          "COURSE",
          "COURSE",
          "COURSE",
          "COURSE",
          "COURSE",
          "COURSE",
          "COURSE",
          "SPECIALIZATION",
          "COURSE",
          "COURSE",
          "COURSE",
          "COURSE",
          "SPECIALIZATION",
          "COURSE",
          "SPECIALIZATION",
          "COURSE",
          "COURSE",
          "SPECIALIZATION",
          "COURSE",
          "COURSE",
          "SPECIALIZATION",
          "COURSE",
          "COURSE",
          "SPECIALIZATION",
          "COURSE",
          "COURSE",
          "SPECIALIZATION",
          "COURSE",
          "PROFESSIONAL CERTIFICATE",
          "PROFESSIONAL CERTIFICATE",
          "COURSE",
          "SPECIALIZATION",
          "SPECIALIZATION",
          "COURSE",
          "COURSE",
          "SPECIALIZATION",
          "COURSE",
          "COURSE",
          "SPECIALIZATION",
          "COURSE",
          "SPECIALIZATION",
          "SPECIALIZATION",
          "COURSE",
          "COURSE",
          "COURSE",
          "COURSE",
          "SPECIALIZATION",
          "COURSE",
          "COURSE",
          "COURSE",
          "SPECIALIZATION",
          "SPECIALIZATION",
          "COURSE",
          "SPECIALIZATION",
          "COURSE",
          "COURSE",
          "SPECIALIZATION",
          "SPECIALIZATION",
          "COURSE",
          "SPECIALIZATION",
          "COURSE",
          "COURSE",
          "PROFESSIONAL CERTIFICATE",
          "SPECIALIZATION",
          "COURSE",
          "COURSE",
          "COURSE",
          "COURSE",
          "COURSE",
          "COURSE",
          "SPECIALIZATION",
          "SPECIALIZATION",
          "SPECIALIZATION",
          "COURSE",
          "SPECIALIZATION",
          "COURSE",
          "SPECIALIZATION",
          "COURSE",
          "SPECIALIZATION",
          "SPECIALIZATION",
          "SPECIALIZATION",
          "COURSE",
          "COURSE",
          "COURSE",
          "COURSE",
          "COURSE",
          "COURSE",
          "SPECIALIZATION",
          "COURSE",
          "SPECIALIZATION",
          "COURSE",
          "COURSE",
          "COURSE",
          "SPECIALIZATION",
          "COURSE",
          "SPECIALIZATION",
          "COURSE",
          "SPECIALIZATION",
          "COURSE",
          "SPECIALIZATION",
          "SPECIALIZATION",
          "COURSE",
          "COURSE",
          "COURSE",
          "COURSE",
          "COURSE",
          "SPECIALIZATION",
          "SPECIALIZATION",
          "COURSE",
          "COURSE",
          "COURSE",
          "SPECIALIZATION",
          "COURSE",
          "COURSE",
          "SPECIALIZATION",
          "SPECIALIZATION",
          "COURSE",
          "COURSE",
          "SPECIALIZATION",
          "COURSE",
          "COURSE",
          "COURSE",
          "COURSE",
          "COURSE",
          "COURSE",
          "COURSE",
          "COURSE",
          "COURSE",
          "COURSE",
          "SPECIALIZATION",
          "COURSE",
          "COURSE",
          "COURSE",
          "COURSE",
          "COURSE",
          "SPECIALIZATION",
          "COURSE",
          "COURSE",
          "COURSE",
          "SPECIALIZATION",
          "COURSE",
          "COURSE",
          "COURSE",
          "COURSE",
          "COURSE",
          "SPECIALIZATION",
          "COURSE",
          "COURSE",
          "COURSE",
          "SPECIALIZATION",
          "PROFESSIONAL CERTIFICATE",
          "SPECIALIZATION",
          "COURSE",
          "COURSE",
          "COURSE",
          "COURSE",
          "COURSE",
          "SPECIALIZATION",
          "COURSE",
          "COURSE",
          "COURSE",
          "COURSE",
          "SPECIALIZATION",
          "SPECIALIZATION",
          "COURSE",
          "COURSE",
          "SPECIALIZATION",
          "SPECIALIZATION",
          "COURSE",
          "COURSE",
          "COURSE",
          "SPECIALIZATION",
          "COURSE",
          "COURSE",
          "SPECIALIZATION",
          "SPECIALIZATION",
          "COURSE",
          "SPECIALIZATION",
          "SPECIALIZATION",
          "COURSE",
          "COURSE",
          "COURSE",
          "COURSE",
          "COURSE",
          "COURSE",
          "COURSE",
          "COURSE",
          "COURSE",
          "COURSE",
          "COURSE",
          "COURSE",
          "COURSE",
          "SPECIALIZATION",
          "COURSE",
          "COURSE",
          "SPECIALIZATION",
          "SPECIALIZATION",
          "SPECIALIZATION",
          "SPECIALIZATION",
          "COURSE",
          "SPECIALIZATION",
          "SPECIALIZATION",
          "COURSE",
          "COURSE",
          "COURSE",
          "SPECIALIZATION",
          "COURSE",
          "SPECIALIZATION",
          "SPECIALIZATION",
          "SPECIALIZATION"
         ],
         "legendgroup": "",
         "name": "",
         "showlegend": true,
         "type": "pie"
        }
       ],
       "layout": {
        "autosize": true,
        "legend": {
         "tracegroupgap": 0
        },
        "piecolorway": [
         "rgb(103,0,31)",
         "rgb(178,24,43)",
         "rgb(214,96,77)",
         "rgb(244,165,130)",
         "rgb(253,219,199)",
         "rgb(247,247,247)",
         "rgb(209,229,240)",
         "rgb(146,197,222)",
         "rgb(67,147,195)",
         "rgb(33,102,172)",
         "rgb(5,48,97)"
        ],
        "template": {
         "data": {
          "bar": [
           {
            "error_x": {
             "color": "#2a3f5f"
            },
            "error_y": {
             "color": "#2a3f5f"
            },
            "marker": {
             "line": {
              "color": "#E5ECF6",
              "width": 0.5
             },
             "pattern": {
              "fillmode": "overlay",
              "size": 10,
              "solidity": 0.2
             }
            },
            "type": "bar"
           }
          ],
          "barpolar": [
           {
            "marker": {
             "line": {
              "color": "#E5ECF6",
              "width": 0.5
             },
             "pattern": {
              "fillmode": "overlay",
              "size": 10,
              "solidity": 0.2
             }
            },
            "type": "barpolar"
           }
          ],
          "carpet": [
           {
            "aaxis": {
             "endlinecolor": "#2a3f5f",
             "gridcolor": "white",
             "linecolor": "white",
             "minorgridcolor": "white",
             "startlinecolor": "#2a3f5f"
            },
            "baxis": {
             "endlinecolor": "#2a3f5f",
             "gridcolor": "white",
             "linecolor": "white",
             "minorgridcolor": "white",
             "startlinecolor": "#2a3f5f"
            },
            "type": "carpet"
           }
          ],
          "choropleth": [
           {
            "colorbar": {
             "outlinewidth": 0,
             "ticks": ""
            },
            "type": "choropleth"
           }
          ],
          "contour": [
           {
            "colorbar": {
             "outlinewidth": 0,
             "ticks": ""
            },
            "colorscale": [
             [
              0,
              "#0d0887"
             ],
             [
              0.1111111111111111,
              "#46039f"
             ],
             [
              0.2222222222222222,
              "#7201a8"
             ],
             [
              0.3333333333333333,
              "#9c179e"
             ],
             [
              0.4444444444444444,
              "#bd3786"
             ],
             [
              0.5555555555555556,
              "#d8576b"
             ],
             [
              0.6666666666666666,
              "#ed7953"
             ],
             [
              0.7777777777777778,
              "#fb9f3a"
             ],
             [
              0.8888888888888888,
              "#fdca26"
             ],
             [
              1,
              "#f0f921"
             ]
            ],
            "type": "contour"
           }
          ],
          "contourcarpet": [
           {
            "colorbar": {
             "outlinewidth": 0,
             "ticks": ""
            },
            "type": "contourcarpet"
           }
          ],
          "heatmap": [
           {
            "colorbar": {
             "outlinewidth": 0,
             "ticks": ""
            },
            "colorscale": [
             [
              0,
              "#0d0887"
             ],
             [
              0.1111111111111111,
              "#46039f"
             ],
             [
              0.2222222222222222,
              "#7201a8"
             ],
             [
              0.3333333333333333,
              "#9c179e"
             ],
             [
              0.4444444444444444,
              "#bd3786"
             ],
             [
              0.5555555555555556,
              "#d8576b"
             ],
             [
              0.6666666666666666,
              "#ed7953"
             ],
             [
              0.7777777777777778,
              "#fb9f3a"
             ],
             [
              0.8888888888888888,
              "#fdca26"
             ],
             [
              1,
              "#f0f921"
             ]
            ],
            "type": "heatmap"
           }
          ],
          "heatmapgl": [
           {
            "colorbar": {
             "outlinewidth": 0,
             "ticks": ""
            },
            "colorscale": [
             [
              0,
              "#0d0887"
             ],
             [
              0.1111111111111111,
              "#46039f"
             ],
             [
              0.2222222222222222,
              "#7201a8"
             ],
             [
              0.3333333333333333,
              "#9c179e"
             ],
             [
              0.4444444444444444,
              "#bd3786"
             ],
             [
              0.5555555555555556,
              "#d8576b"
             ],
             [
              0.6666666666666666,
              "#ed7953"
             ],
             [
              0.7777777777777778,
              "#fb9f3a"
             ],
             [
              0.8888888888888888,
              "#fdca26"
             ],
             [
              1,
              "#f0f921"
             ]
            ],
            "type": "heatmapgl"
           }
          ],
          "histogram": [
           {
            "marker": {
             "pattern": {
              "fillmode": "overlay",
              "size": 10,
              "solidity": 0.2
             }
            },
            "type": "histogram"
           }
          ],
          "histogram2d": [
           {
            "colorbar": {
             "outlinewidth": 0,
             "ticks": ""
            },
            "colorscale": [
             [
              0,
              "#0d0887"
             ],
             [
              0.1111111111111111,
              "#46039f"
             ],
             [
              0.2222222222222222,
              "#7201a8"
             ],
             [
              0.3333333333333333,
              "#9c179e"
             ],
             [
              0.4444444444444444,
              "#bd3786"
             ],
             [
              0.5555555555555556,
              "#d8576b"
             ],
             [
              0.6666666666666666,
              "#ed7953"
             ],
             [
              0.7777777777777778,
              "#fb9f3a"
             ],
             [
              0.8888888888888888,
              "#fdca26"
             ],
             [
              1,
              "#f0f921"
             ]
            ],
            "type": "histogram2d"
           }
          ],
          "histogram2dcontour": [
           {
            "colorbar": {
             "outlinewidth": 0,
             "ticks": ""
            },
            "colorscale": [
             [
              0,
              "#0d0887"
             ],
             [
              0.1111111111111111,
              "#46039f"
             ],
             [
              0.2222222222222222,
              "#7201a8"
             ],
             [
              0.3333333333333333,
              "#9c179e"
             ],
             [
              0.4444444444444444,
              "#bd3786"
             ],
             [
              0.5555555555555556,
              "#d8576b"
             ],
             [
              0.6666666666666666,
              "#ed7953"
             ],
             [
              0.7777777777777778,
              "#fb9f3a"
             ],
             [
              0.8888888888888888,
              "#fdca26"
             ],
             [
              1,
              "#f0f921"
             ]
            ],
            "type": "histogram2dcontour"
           }
          ],
          "mesh3d": [
           {
            "colorbar": {
             "outlinewidth": 0,
             "ticks": ""
            },
            "type": "mesh3d"
           }
          ],
          "parcoords": [
           {
            "line": {
             "colorbar": {
              "outlinewidth": 0,
              "ticks": ""
             }
            },
            "type": "parcoords"
           }
          ],
          "pie": [
           {
            "automargin": true,
            "type": "pie"
           }
          ],
          "scatter": [
           {
            "fillpattern": {
             "fillmode": "overlay",
             "size": 10,
             "solidity": 0.2
            },
            "type": "scatter"
           }
          ],
          "scatter3d": [
           {
            "line": {
             "colorbar": {
              "outlinewidth": 0,
              "ticks": ""
             }
            },
            "marker": {
             "colorbar": {
              "outlinewidth": 0,
              "ticks": ""
             }
            },
            "type": "scatter3d"
           }
          ],
          "scattercarpet": [
           {
            "marker": {
             "colorbar": {
              "outlinewidth": 0,
              "ticks": ""
             }
            },
            "type": "scattercarpet"
           }
          ],
          "scattergeo": [
           {
            "marker": {
             "colorbar": {
              "outlinewidth": 0,
              "ticks": ""
             }
            },
            "type": "scattergeo"
           }
          ],
          "scattergl": [
           {
            "marker": {
             "colorbar": {
              "outlinewidth": 0,
              "ticks": ""
             }
            },
            "type": "scattergl"
           }
          ],
          "scattermapbox": [
           {
            "marker": {
             "colorbar": {
              "outlinewidth": 0,
              "ticks": ""
             }
            },
            "type": "scattermapbox"
           }
          ],
          "scatterpolar": [
           {
            "marker": {
             "colorbar": {
              "outlinewidth": 0,
              "ticks": ""
             }
            },
            "type": "scatterpolar"
           }
          ],
          "scatterpolargl": [
           {
            "marker": {
             "colorbar": {
              "outlinewidth": 0,
              "ticks": ""
             }
            },
            "type": "scatterpolargl"
           }
          ],
          "scatterternary": [
           {
            "marker": {
             "colorbar": {
              "outlinewidth": 0,
              "ticks": ""
             }
            },
            "type": "scatterternary"
           }
          ],
          "surface": [
           {
            "colorbar": {
             "outlinewidth": 0,
             "ticks": ""
            },
            "colorscale": [
             [
              0,
              "#0d0887"
             ],
             [
              0.1111111111111111,
              "#46039f"
             ],
             [
              0.2222222222222222,
              "#7201a8"
             ],
             [
              0.3333333333333333,
              "#9c179e"
             ],
             [
              0.4444444444444444,
              "#bd3786"
             ],
             [
              0.5555555555555556,
              "#d8576b"
             ],
             [
              0.6666666666666666,
              "#ed7953"
             ],
             [
              0.7777777777777778,
              "#fb9f3a"
             ],
             [
              0.8888888888888888,
              "#fdca26"
             ],
             [
              1,
              "#f0f921"
             ]
            ],
            "type": "surface"
           }
          ],
          "table": [
           {
            "cells": {
             "fill": {
              "color": "#EBF0F8"
             },
             "line": {
              "color": "white"
             }
            },
            "header": {
             "fill": {
              "color": "#C8D4E3"
             },
             "line": {
              "color": "white"
             }
            },
            "type": "table"
           }
          ]
         },
         "layout": {
          "annotationdefaults": {
           "arrowcolor": "#2a3f5f",
           "arrowhead": 0,
           "arrowwidth": 1
          },
          "autotypenumbers": "strict",
          "coloraxis": {
           "colorbar": {
            "outlinewidth": 0,
            "ticks": ""
           }
          },
          "colorscale": {
           "diverging": [
            [
             0,
             "#8e0152"
            ],
            [
             0.1,
             "#c51b7d"
            ],
            [
             0.2,
             "#de77ae"
            ],
            [
             0.3,
             "#f1b6da"
            ],
            [
             0.4,
             "#fde0ef"
            ],
            [
             0.5,
             "#f7f7f7"
            ],
            [
             0.6,
             "#e6f5d0"
            ],
            [
             0.7,
             "#b8e186"
            ],
            [
             0.8,
             "#7fbc41"
            ],
            [
             0.9,
             "#4d9221"
            ],
            [
             1,
             "#276419"
            ]
           ],
           "sequential": [
            [
             0,
             "#0d0887"
            ],
            [
             0.1111111111111111,
             "#46039f"
            ],
            [
             0.2222222222222222,
             "#7201a8"
            ],
            [
             0.3333333333333333,
             "#9c179e"
            ],
            [
             0.4444444444444444,
             "#bd3786"
            ],
            [
             0.5555555555555556,
             "#d8576b"
            ],
            [
             0.6666666666666666,
             "#ed7953"
            ],
            [
             0.7777777777777778,
             "#fb9f3a"
            ],
            [
             0.8888888888888888,
             "#fdca26"
            ],
            [
             1,
             "#f0f921"
            ]
           ],
           "sequentialminus": [
            [
             0,
             "#0d0887"
            ],
            [
             0.1111111111111111,
             "#46039f"
            ],
            [
             0.2222222222222222,
             "#7201a8"
            ],
            [
             0.3333333333333333,
             "#9c179e"
            ],
            [
             0.4444444444444444,
             "#bd3786"
            ],
            [
             0.5555555555555556,
             "#d8576b"
            ],
            [
             0.6666666666666666,
             "#ed7953"
            ],
            [
             0.7777777777777778,
             "#fb9f3a"
            ],
            [
             0.8888888888888888,
             "#fdca26"
            ],
            [
             1,
             "#f0f921"
            ]
           ]
          },
          "colorway": [
           "#636efa",
           "#EF553B",
           "#00cc96",
           "#ab63fa",
           "#FFA15A",
           "#19d3f3",
           "#FF6692",
           "#B6E880",
           "#FF97FF",
           "#FECB52"
          ],
          "font": {
           "color": "#2a3f5f"
          },
          "geo": {
           "bgcolor": "white",
           "lakecolor": "white",
           "landcolor": "#E5ECF6",
           "showlakes": true,
           "showland": true,
           "subunitcolor": "white"
          },
          "hoverlabel": {
           "align": "left"
          },
          "hovermode": "closest",
          "mapbox": {
           "style": "light"
          },
          "paper_bgcolor": "white",
          "plot_bgcolor": "#E5ECF6",
          "polar": {
           "angularaxis": {
            "gridcolor": "white",
            "linecolor": "white",
            "ticks": ""
           },
           "bgcolor": "#E5ECF6",
           "radialaxis": {
            "gridcolor": "white",
            "linecolor": "white",
            "ticks": ""
           }
          },
          "scene": {
           "xaxis": {
            "backgroundcolor": "#E5ECF6",
            "gridcolor": "white",
            "gridwidth": 2,
            "linecolor": "white",
            "showbackground": true,
            "ticks": "",
            "zerolinecolor": "white"
           },
           "yaxis": {
            "backgroundcolor": "#E5ECF6",
            "gridcolor": "white",
            "gridwidth": 2,
            "linecolor": "white",
            "showbackground": true,
            "ticks": "",
            "zerolinecolor": "white"
           },
           "zaxis": {
            "backgroundcolor": "#E5ECF6",
            "gridcolor": "white",
            "gridwidth": 2,
            "linecolor": "white",
            "showbackground": true,
            "ticks": "",
            "zerolinecolor": "white"
           }
          },
          "shapedefaults": {
           "line": {
            "color": "#2a3f5f"
           }
          },
          "ternary": {
           "aaxis": {
            "gridcolor": "white",
            "linecolor": "white",
            "ticks": ""
           },
           "baxis": {
            "gridcolor": "white",
            "linecolor": "white",
            "ticks": ""
           },
           "bgcolor": "#E5ECF6",
           "caxis": {
            "gridcolor": "white",
            "linecolor": "white",
            "ticks": ""
           }
          },
          "title": {
           "x": 0.05
          },
          "xaxis": {
           "automargin": true,
           "gridcolor": "white",
           "linecolor": "white",
           "ticks": "",
           "title": {
            "standoff": 15
           },
           "zerolinecolor": "white",
           "zerolinewidth": 2
          },
          "yaxis": {
           "automargin": true,
           "gridcolor": "white",
           "linecolor": "white",
           "ticks": "",
           "title": {
            "standoff": 15
           },
           "zerolinecolor": "white",
           "zerolinewidth": 2
          }
         }
        },
        "title": {
         "text": "Course Certification Types Distribution"
        }
       }
      },
      "text/html": [
       "<div>                            <div id=\"c4471c1e-99e4-49f7-bacc-9e27aa1896c2\" class=\"plotly-graph-div\" style=\"height:525px; width:100%;\"></div>            <script type=\"text/javascript\">                require([\"plotly\"], function(Plotly) {                    window.PLOTLYENV=window.PLOTLYENV || {};                                    if (document.getElementById(\"c4471c1e-99e4-49f7-bacc-9e27aa1896c2\")) {                    Plotly.newPlot(                        \"c4471c1e-99e4-49f7-bacc-9e27aa1896c2\",                        [{\"domain\":{\"x\":[0.0,1.0],\"y\":[0.0,1.0]},\"hovertemplate\":\"course_certificate_type=%{label}\\u003cextra\\u003e\\u003c\\u002fextra\\u003e\",\"labels\":[\"SPECIALIZATION\",\"COURSE\",\"COURSE\",\"COURSE\",\"COURSE\",\"COURSE\",\"COURSE\",\"COURSE\",\"SPECIALIZATION\",\"COURSE\",\"COURSE\",\"SPECIALIZATION\",\"SPECIALIZATION\",\"COURSE\",\"COURSE\",\"COURSE\",\"COURSE\",\"COURSE\",\"SPECIALIZATION\",\"SPECIALIZATION\",\"COURSE\",\"COURSE\",\"COURSE\",\"SPECIALIZATION\",\"COURSE\",\"COURSE\",\"SPECIALIZATION\",\"SPECIALIZATION\",\"SPECIALIZATION\",\"SPECIALIZATION\",\"COURSE\",\"COURSE\",\"COURSE\",\"SPECIALIZATION\",\"COURSE\",\"COURSE\",\"COURSE\",\"COURSE\",\"SPECIALIZATION\",\"SPECIALIZATION\",\"COURSE\",\"COURSE\",\"COURSE\",\"SPECIALIZATION\",\"SPECIALIZATION\",\"SPECIALIZATION\",\"COURSE\",\"COURSE\",\"COURSE\",\"SPECIALIZATION\",\"COURSE\",\"COURSE\",\"COURSE\",\"COURSE\",\"SPECIALIZATION\",\"COURSE\",\"SPECIALIZATION\",\"COURSE\",\"COURSE\",\"SPECIALIZATION\",\"COURSE\",\"COURSE\",\"SPECIALIZATION\",\"SPECIALIZATION\",\"SPECIALIZATION\",\"PROFESSIONAL CERTIFICATE\",\"COURSE\",\"COURSE\",\"COURSE\",\"COURSE\",\"COURSE\",\"COURSE\",\"COURSE\",\"COURSE\",\"SPECIALIZATION\",\"SPECIALIZATION\",\"COURSE\",\"COURSE\",\"COURSE\",\"COURSE\",\"COURSE\",\"COURSE\",\"COURSE\",\"SPECIALIZATION\",\"SPECIALIZATION\",\"COURSE\",\"COURSE\",\"COURSE\",\"COURSE\",\"SPECIALIZATION\",\"COURSE\",\"COURSE\",\"SPECIALIZATION\",\"COURSE\",\"SPECIALIZATION\",\"SPECIALIZATION\",\"SPECIALIZATION\",\"COURSE\",\"COURSE\",\"COURSE\",\"SPECIALIZATION\",\"COURSE\",\"COURSE\",\"COURSE\",\"COURSE\",\"COURSE\",\"COURSE\",\"COURSE\",\"COURSE\",\"SPECIALIZATION\",\"SPECIALIZATION\",\"SPECIALIZATION\",\"COURSE\",\"SPECIALIZATION\",\"COURSE\",\"SPECIALIZATION\",\"SPECIALIZATION\",\"SPECIALIZATION\",\"SPECIALIZATION\",\"COURSE\",\"COURSE\",\"SPECIALIZATION\",\"COURSE\",\"SPECIALIZATION\",\"COURSE\",\"COURSE\",\"COURSE\",\"COURSE\",\"COURSE\",\"SPECIALIZATION\",\"COURSE\",\"COURSE\",\"COURSE\",\"COURSE\",\"COURSE\",\"SPECIALIZATION\",\"COURSE\",\"SPECIALIZATION\",\"SPECIALIZATION\",\"COURSE\",\"SPECIALIZATION\",\"COURSE\",\"PROFESSIONAL CERTIFICATE\",\"SPECIALIZATION\",\"COURSE\",\"SPECIALIZATION\",\"COURSE\",\"COURSE\",\"COURSE\",\"SPECIALIZATION\",\"SPECIALIZATION\",\"COURSE\",\"SPECIALIZATION\",\"SPECIALIZATION\",\"COURSE\",\"SPECIALIZATION\",\"COURSE\",\"COURSE\",\"COURSE\",\"SPECIALIZATION\",\"COURSE\",\"COURSE\",\"COURSE\",\"COURSE\",\"COURSE\",\"COURSE\",\"COURSE\",\"COURSE\",\"COURSE\",\"COURSE\",\"COURSE\",\"COURSE\",\"COURSE\",\"SPECIALIZATION\",\"COURSE\",\"SPECIALIZATION\",\"COURSE\",\"COURSE\",\"SPECIALIZATION\",\"COURSE\",\"COURSE\",\"SPECIALIZATION\",\"COURSE\",\"SPECIALIZATION\",\"COURSE\",\"COURSE\",\"SPECIALIZATION\",\"SPECIALIZATION\",\"COURSE\",\"COURSE\",\"COURSE\",\"SPECIALIZATION\",\"PROFESSIONAL CERTIFICATE\",\"SPECIALIZATION\",\"COURSE\",\"SPECIALIZATION\",\"SPECIALIZATION\",\"COURSE\",\"COURSE\",\"SPECIALIZATION\",\"SPECIALIZATION\",\"COURSE\",\"COURSE\",\"COURSE\",\"SPECIALIZATION\",\"SPECIALIZATION\",\"COURSE\",\"COURSE\",\"COURSE\",\"COURSE\",\"COURSE\",\"SPECIALIZATION\",\"COURSE\",\"COURSE\",\"COURSE\",\"COURSE\",\"COURSE\",\"COURSE\",\"COURSE\",\"COURSE\",\"SPECIALIZATION\",\"SPECIALIZATION\",\"SPECIALIZATION\",\"SPECIALIZATION\",\"COURSE\",\"SPECIALIZATION\",\"COURSE\",\"SPECIALIZATION\",\"COURSE\",\"SPECIALIZATION\",\"SPECIALIZATION\",\"COURSE\",\"SPECIALIZATION\",\"COURSE\",\"COURSE\",\"COURSE\",\"SPECIALIZATION\",\"COURSE\",\"COURSE\",\"COURSE\",\"COURSE\",\"COURSE\",\"COURSE\",\"SPECIALIZATION\",\"COURSE\",\"COURSE\",\"COURSE\",\"COURSE\",\"COURSE\",\"COURSE\",\"COURSE\",\"COURSE\",\"COURSE\",\"COURSE\",\"SPECIALIZATION\",\"SPECIALIZATION\",\"SPECIALIZATION\",\"COURSE\",\"COURSE\",\"COURSE\",\"COURSE\",\"COURSE\",\"COURSE\",\"SPECIALIZATION\",\"COURSE\",\"COURSE\",\"SPECIALIZATION\",\"SPECIALIZATION\",\"COURSE\",\"COURSE\",\"COURSE\",\"COURSE\",\"SPECIALIZATION\",\"COURSE\",\"COURSE\",\"SPECIALIZATION\",\"SPECIALIZATION\",\"COURSE\",\"COURSE\",\"COURSE\",\"SPECIALIZATION\",\"COURSE\",\"COURSE\",\"COURSE\",\"COURSE\",\"SPECIALIZATION\",\"COURSE\",\"COURSE\",\"SPECIALIZATION\",\"COURSE\",\"COURSE\",\"SPECIALIZATION\",\"COURSE\",\"COURSE\",\"COURSE\",\"COURSE\",\"SPECIALIZATION\",\"SPECIALIZATION\",\"COURSE\",\"SPECIALIZATION\",\"COURSE\",\"COURSE\",\"COURSE\",\"COURSE\",\"SPECIALIZATION\",\"COURSE\",\"SPECIALIZATION\",\"COURSE\",\"COURSE\",\"COURSE\",\"COURSE\",\"COURSE\",\"SPECIALIZATION\",\"COURSE\",\"SPECIALIZATION\",\"SPECIALIZATION\",\"SPECIALIZATION\",\"COURSE\",\"SPECIALIZATION\",\"COURSE\",\"COURSE\",\"SPECIALIZATION\",\"COURSE\",\"COURSE\",\"COURSE\",\"COURSE\",\"SPECIALIZATION\",\"COURSE\",\"COURSE\",\"SPECIALIZATION\",\"SPECIALIZATION\",\"SPECIALIZATION\",\"SPECIALIZATION\",\"SPECIALIZATION\",\"SPECIALIZATION\",\"COURSE\",\"COURSE\",\"COURSE\",\"SPECIALIZATION\",\"SPECIALIZATION\",\"COURSE\",\"SPECIALIZATION\",\"COURSE\",\"SPECIALIZATION\",\"SPECIALIZATION\",\"COURSE\",\"COURSE\",\"COURSE\",\"SPECIALIZATION\",\"COURSE\",\"COURSE\",\"COURSE\",\"COURSE\",\"COURSE\",\"COURSE\",\"SPECIALIZATION\",\"SPECIALIZATION\",\"COURSE\",\"COURSE\",\"COURSE\",\"SPECIALIZATION\",\"SPECIALIZATION\",\"SPECIALIZATION\",\"SPECIALIZATION\",\"SPECIALIZATION\",\"COURSE\",\"COURSE\",\"COURSE\",\"SPECIALIZATION\",\"SPECIALIZATION\",\"COURSE\",\"COURSE\",\"COURSE\",\"COURSE\",\"COURSE\",\"COURSE\",\"COURSE\",\"COURSE\",\"COURSE\",\"COURSE\",\"COURSE\",\"COURSE\",\"COURSE\",\"COURSE\",\"COURSE\",\"COURSE\",\"COURSE\",\"SPECIALIZATION\",\"SPECIALIZATION\",\"COURSE\",\"COURSE\",\"PROFESSIONAL CERTIFICATE\",\"PROFESSIONAL CERTIFICATE\",\"COURSE\",\"SPECIALIZATION\",\"COURSE\",\"COURSE\",\"COURSE\",\"COURSE\",\"COURSE\",\"SPECIALIZATION\",\"COURSE\",\"COURSE\",\"COURSE\",\"SPECIALIZATION\",\"SPECIALIZATION\",\"SPECIALIZATION\",\"SPECIALIZATION\",\"SPECIALIZATION\",\"COURSE\",\"SPECIALIZATION\",\"SPECIALIZATION\",\"COURSE\",\"COURSE\",\"SPECIALIZATION\",\"SPECIALIZATION\",\"PROFESSIONAL CERTIFICATE\",\"SPECIALIZATION\",\"PROFESSIONAL CERTIFICATE\",\"COURSE\",\"PROFESSIONAL CERTIFICATE\",\"SPECIALIZATION\",\"COURSE\",\"COURSE\",\"SPECIALIZATION\",\"SPECIALIZATION\",\"SPECIALIZATION\",\"COURSE\",\"SPECIALIZATION\",\"COURSE\",\"COURSE\",\"COURSE\",\"SPECIALIZATION\",\"COURSE\",\"SPECIALIZATION\",\"COURSE\",\"SPECIALIZATION\",\"SPECIALIZATION\",\"COURSE\",\"COURSE\",\"COURSE\",\"SPECIALIZATION\",\"SPECIALIZATION\",\"SPECIALIZATION\",\"COURSE\",\"COURSE\",\"COURSE\",\"SPECIALIZATION\",\"SPECIALIZATION\",\"SPECIALIZATION\",\"COURSE\",\"SPECIALIZATION\",\"COURSE\",\"COURSE\",\"COURSE\",\"COURSE\",\"COURSE\",\"SPECIALIZATION\",\"COURSE\",\"COURSE\",\"COURSE\",\"COURSE\",\"COURSE\",\"COURSE\",\"SPECIALIZATION\",\"COURSE\",\"COURSE\",\"COURSE\",\"COURSE\",\"COURSE\",\"COURSE\",\"COURSE\",\"COURSE\",\"COURSE\",\"COURSE\",\"COURSE\",\"COURSE\",\"COURSE\",\"COURSE\",\"COURSE\",\"SPECIALIZATION\",\"COURSE\",\"COURSE\",\"SPECIALIZATION\",\"COURSE\",\"COURSE\",\"SPECIALIZATION\",\"COURSE\",\"COURSE\",\"SPECIALIZATION\",\"COURSE\",\"COURSE\",\"COURSE\",\"COURSE\",\"COURSE\",\"COURSE\",\"COURSE\",\"COURSE\",\"COURSE\",\"COURSE\",\"COURSE\",\"COURSE\",\"COURSE\",\"COURSE\",\"COURSE\",\"COURSE\",\"COURSE\",\"COURSE\",\"COURSE\",\"COURSE\",\"SPECIALIZATION\",\"COURSE\",\"COURSE\",\"SPECIALIZATION\",\"COURSE\",\"COURSE\",\"COURSE\",\"COURSE\",\"COURSE\",\"COURSE\",\"COURSE\",\"COURSE\",\"COURSE\",\"COURSE\",\"COURSE\",\"COURSE\",\"COURSE\",\"COURSE\",\"COURSE\",\"SPECIALIZATION\",\"COURSE\",\"SPECIALIZATION\",\"SPECIALIZATION\",\"SPECIALIZATION\",\"COURSE\",\"SPECIALIZATION\",\"COURSE\",\"COURSE\",\"COURSE\",\"COURSE\",\"SPECIALIZATION\",\"SPECIALIZATION\",\"COURSE\",\"COURSE\",\"SPECIALIZATION\",\"COURSE\",\"SPECIALIZATION\",\"SPECIALIZATION\",\"SPECIALIZATION\",\"SPECIALIZATION\",\"SPECIALIZATION\",\"SPECIALIZATION\",\"SPECIALIZATION\",\"SPECIALIZATION\",\"SPECIALIZATION\",\"COURSE\",\"COURSE\",\"COURSE\",\"COURSE\",\"COURSE\",\"SPECIALIZATION\",\"COURSE\",\"COURSE\",\"SPECIALIZATION\",\"COURSE\",\"COURSE\",\"SPECIALIZATION\",\"COURSE\",\"COURSE\",\"SPECIALIZATION\",\"COURSE\",\"SPECIALIZATION\",\"COURSE\",\"COURSE\",\"COURSE\",\"COURSE\",\"SPECIALIZATION\",\"SPECIALIZATION\",\"COURSE\",\"COURSE\",\"COURSE\",\"SPECIALIZATION\",\"COURSE\",\"SPECIALIZATION\",\"COURSE\",\"SPECIALIZATION\",\"SPECIALIZATION\",\"COURSE\",\"SPECIALIZATION\",\"COURSE\",\"COURSE\",\"COURSE\",\"SPECIALIZATION\",\"COURSE\",\"SPECIALIZATION\",\"SPECIALIZATION\",\"COURSE\",\"COURSE\",\"COURSE\",\"SPECIALIZATION\",\"COURSE\",\"SPECIALIZATION\",\"SPECIALIZATION\",\"COURSE\",\"COURSE\",\"COURSE\",\"COURSE\",\"COURSE\",\"COURSE\",\"COURSE\",\"SPECIALIZATION\",\"SPECIALIZATION\",\"COURSE\",\"COURSE\",\"COURSE\",\"COURSE\",\"COURSE\",\"SPECIALIZATION\",\"COURSE\",\"SPECIALIZATION\",\"COURSE\",\"COURSE\",\"COURSE\",\"SPECIALIZATION\",\"COURSE\",\"SPECIALIZATION\",\"COURSE\",\"COURSE\",\"COURSE\",\"SPECIALIZATION\",\"COURSE\",\"COURSE\",\"SPECIALIZATION\",\"SPECIALIZATION\",\"COURSE\",\"COURSE\",\"COURSE\",\"SPECIALIZATION\",\"COURSE\",\"COURSE\",\"SPECIALIZATION\",\"SPECIALIZATION\",\"COURSE\",\"SPECIALIZATION\",\"SPECIALIZATION\",\"SPECIALIZATION\",\"COURSE\",\"SPECIALIZATION\",\"COURSE\",\"COURSE\",\"COURSE\",\"COURSE\",\"SPECIALIZATION\",\"SPECIALIZATION\",\"COURSE\",\"COURSE\",\"COURSE\",\"COURSE\",\"COURSE\",\"COURSE\",\"SPECIALIZATION\",\"SPECIALIZATION\",\"COURSE\",\"COURSE\",\"COURSE\",\"SPECIALIZATION\",\"SPECIALIZATION\",\"COURSE\",\"COURSE\",\"COURSE\",\"COURSE\",\"COURSE\",\"COURSE\",\"COURSE\",\"COURSE\",\"SPECIALIZATION\",\"COURSE\",\"COURSE\",\"SPECIALIZATION\",\"SPECIALIZATION\",\"COURSE\",\"COURSE\",\"COURSE\",\"COURSE\",\"COURSE\",\"COURSE\",\"COURSE\",\"COURSE\",\"SPECIALIZATION\",\"COURSE\",\"COURSE\",\"COURSE\",\"COURSE\",\"SPECIALIZATION\",\"COURSE\",\"SPECIALIZATION\",\"COURSE\",\"COURSE\",\"SPECIALIZATION\",\"COURSE\",\"COURSE\",\"SPECIALIZATION\",\"COURSE\",\"COURSE\",\"SPECIALIZATION\",\"COURSE\",\"COURSE\",\"SPECIALIZATION\",\"COURSE\",\"PROFESSIONAL CERTIFICATE\",\"PROFESSIONAL CERTIFICATE\",\"COURSE\",\"SPECIALIZATION\",\"SPECIALIZATION\",\"COURSE\",\"COURSE\",\"SPECIALIZATION\",\"COURSE\",\"COURSE\",\"SPECIALIZATION\",\"COURSE\",\"SPECIALIZATION\",\"SPECIALIZATION\",\"COURSE\",\"COURSE\",\"COURSE\",\"COURSE\",\"SPECIALIZATION\",\"COURSE\",\"COURSE\",\"COURSE\",\"SPECIALIZATION\",\"SPECIALIZATION\",\"COURSE\",\"SPECIALIZATION\",\"COURSE\",\"COURSE\",\"SPECIALIZATION\",\"SPECIALIZATION\",\"COURSE\",\"SPECIALIZATION\",\"COURSE\",\"COURSE\",\"PROFESSIONAL CERTIFICATE\",\"SPECIALIZATION\",\"COURSE\",\"COURSE\",\"COURSE\",\"COURSE\",\"COURSE\",\"COURSE\",\"SPECIALIZATION\",\"SPECIALIZATION\",\"SPECIALIZATION\",\"COURSE\",\"SPECIALIZATION\",\"COURSE\",\"SPECIALIZATION\",\"COURSE\",\"SPECIALIZATION\",\"SPECIALIZATION\",\"SPECIALIZATION\",\"COURSE\",\"COURSE\",\"COURSE\",\"COURSE\",\"COURSE\",\"COURSE\",\"SPECIALIZATION\",\"COURSE\",\"SPECIALIZATION\",\"COURSE\",\"COURSE\",\"COURSE\",\"SPECIALIZATION\",\"COURSE\",\"SPECIALIZATION\",\"COURSE\",\"SPECIALIZATION\",\"COURSE\",\"SPECIALIZATION\",\"SPECIALIZATION\",\"COURSE\",\"COURSE\",\"COURSE\",\"COURSE\",\"COURSE\",\"SPECIALIZATION\",\"SPECIALIZATION\",\"COURSE\",\"COURSE\",\"COURSE\",\"SPECIALIZATION\",\"COURSE\",\"COURSE\",\"SPECIALIZATION\",\"SPECIALIZATION\",\"COURSE\",\"COURSE\",\"SPECIALIZATION\",\"COURSE\",\"COURSE\",\"COURSE\",\"COURSE\",\"COURSE\",\"COURSE\",\"COURSE\",\"COURSE\",\"COURSE\",\"COURSE\",\"SPECIALIZATION\",\"COURSE\",\"COURSE\",\"COURSE\",\"COURSE\",\"COURSE\",\"SPECIALIZATION\",\"COURSE\",\"COURSE\",\"COURSE\",\"SPECIALIZATION\",\"COURSE\",\"COURSE\",\"COURSE\",\"COURSE\",\"COURSE\",\"SPECIALIZATION\",\"COURSE\",\"COURSE\",\"COURSE\",\"SPECIALIZATION\",\"PROFESSIONAL CERTIFICATE\",\"SPECIALIZATION\",\"COURSE\",\"COURSE\",\"COURSE\",\"COURSE\",\"COURSE\",\"SPECIALIZATION\",\"COURSE\",\"COURSE\",\"COURSE\",\"COURSE\",\"SPECIALIZATION\",\"SPECIALIZATION\",\"COURSE\",\"COURSE\",\"SPECIALIZATION\",\"SPECIALIZATION\",\"COURSE\",\"COURSE\",\"COURSE\",\"SPECIALIZATION\",\"COURSE\",\"COURSE\",\"SPECIALIZATION\",\"SPECIALIZATION\",\"COURSE\",\"SPECIALIZATION\",\"SPECIALIZATION\",\"COURSE\",\"COURSE\",\"COURSE\",\"COURSE\",\"COURSE\",\"COURSE\",\"COURSE\",\"COURSE\",\"COURSE\",\"COURSE\",\"COURSE\",\"COURSE\",\"COURSE\",\"SPECIALIZATION\",\"COURSE\",\"COURSE\",\"SPECIALIZATION\",\"SPECIALIZATION\",\"SPECIALIZATION\",\"SPECIALIZATION\",\"COURSE\",\"SPECIALIZATION\",\"SPECIALIZATION\",\"COURSE\",\"COURSE\",\"COURSE\",\"SPECIALIZATION\",\"COURSE\",\"SPECIALIZATION\",\"SPECIALIZATION\",\"SPECIALIZATION\"],\"legendgroup\":\"\",\"name\":\"\",\"showlegend\":true,\"type\":\"pie\"}],                        {\"template\":{\"data\":{\"histogram2dcontour\":[{\"type\":\"histogram2dcontour\",\"colorbar\":{\"outlinewidth\":0,\"ticks\":\"\"},\"colorscale\":[[0.0,\"#0d0887\"],[0.1111111111111111,\"#46039f\"],[0.2222222222222222,\"#7201a8\"],[0.3333333333333333,\"#9c179e\"],[0.4444444444444444,\"#bd3786\"],[0.5555555555555556,\"#d8576b\"],[0.6666666666666666,\"#ed7953\"],[0.7777777777777778,\"#fb9f3a\"],[0.8888888888888888,\"#fdca26\"],[1.0,\"#f0f921\"]]}],\"choropleth\":[{\"type\":\"choropleth\",\"colorbar\":{\"outlinewidth\":0,\"ticks\":\"\"}}],\"histogram2d\":[{\"type\":\"histogram2d\",\"colorbar\":{\"outlinewidth\":0,\"ticks\":\"\"},\"colorscale\":[[0.0,\"#0d0887\"],[0.1111111111111111,\"#46039f\"],[0.2222222222222222,\"#7201a8\"],[0.3333333333333333,\"#9c179e\"],[0.4444444444444444,\"#bd3786\"],[0.5555555555555556,\"#d8576b\"],[0.6666666666666666,\"#ed7953\"],[0.7777777777777778,\"#fb9f3a\"],[0.8888888888888888,\"#fdca26\"],[1.0,\"#f0f921\"]]}],\"heatmap\":[{\"type\":\"heatmap\",\"colorbar\":{\"outlinewidth\":0,\"ticks\":\"\"},\"colorscale\":[[0.0,\"#0d0887\"],[0.1111111111111111,\"#46039f\"],[0.2222222222222222,\"#7201a8\"],[0.3333333333333333,\"#9c179e\"],[0.4444444444444444,\"#bd3786\"],[0.5555555555555556,\"#d8576b\"],[0.6666666666666666,\"#ed7953\"],[0.7777777777777778,\"#fb9f3a\"],[0.8888888888888888,\"#fdca26\"],[1.0,\"#f0f921\"]]}],\"heatmapgl\":[{\"type\":\"heatmapgl\",\"colorbar\":{\"outlinewidth\":0,\"ticks\":\"\"},\"colorscale\":[[0.0,\"#0d0887\"],[0.1111111111111111,\"#46039f\"],[0.2222222222222222,\"#7201a8\"],[0.3333333333333333,\"#9c179e\"],[0.4444444444444444,\"#bd3786\"],[0.5555555555555556,\"#d8576b\"],[0.6666666666666666,\"#ed7953\"],[0.7777777777777778,\"#fb9f3a\"],[0.8888888888888888,\"#fdca26\"],[1.0,\"#f0f921\"]]}],\"contourcarpet\":[{\"type\":\"contourcarpet\",\"colorbar\":{\"outlinewidth\":0,\"ticks\":\"\"}}],\"contour\":[{\"type\":\"contour\",\"colorbar\":{\"outlinewidth\":0,\"ticks\":\"\"},\"colorscale\":[[0.0,\"#0d0887\"],[0.1111111111111111,\"#46039f\"],[0.2222222222222222,\"#7201a8\"],[0.3333333333333333,\"#9c179e\"],[0.4444444444444444,\"#bd3786\"],[0.5555555555555556,\"#d8576b\"],[0.6666666666666666,\"#ed7953\"],[0.7777777777777778,\"#fb9f3a\"],[0.8888888888888888,\"#fdca26\"],[1.0,\"#f0f921\"]]}],\"surface\":[{\"type\":\"surface\",\"colorbar\":{\"outlinewidth\":0,\"ticks\":\"\"},\"colorscale\":[[0.0,\"#0d0887\"],[0.1111111111111111,\"#46039f\"],[0.2222222222222222,\"#7201a8\"],[0.3333333333333333,\"#9c179e\"],[0.4444444444444444,\"#bd3786\"],[0.5555555555555556,\"#d8576b\"],[0.6666666666666666,\"#ed7953\"],[0.7777777777777778,\"#fb9f3a\"],[0.8888888888888888,\"#fdca26\"],[1.0,\"#f0f921\"]]}],\"mesh3d\":[{\"type\":\"mesh3d\",\"colorbar\":{\"outlinewidth\":0,\"ticks\":\"\"}}],\"scatter\":[{\"fillpattern\":{\"fillmode\":\"overlay\",\"size\":10,\"solidity\":0.2},\"type\":\"scatter\"}],\"parcoords\":[{\"type\":\"parcoords\",\"line\":{\"colorbar\":{\"outlinewidth\":0,\"ticks\":\"\"}}}],\"scatterpolargl\":[{\"type\":\"scatterpolargl\",\"marker\":{\"colorbar\":{\"outlinewidth\":0,\"ticks\":\"\"}}}],\"bar\":[{\"error_x\":{\"color\":\"#2a3f5f\"},\"error_y\":{\"color\":\"#2a3f5f\"},\"marker\":{\"line\":{\"color\":\"#E5ECF6\",\"width\":0.5},\"pattern\":{\"fillmode\":\"overlay\",\"size\":10,\"solidity\":0.2}},\"type\":\"bar\"}],\"scattergeo\":[{\"type\":\"scattergeo\",\"marker\":{\"colorbar\":{\"outlinewidth\":0,\"ticks\":\"\"}}}],\"scatterpolar\":[{\"type\":\"scatterpolar\",\"marker\":{\"colorbar\":{\"outlinewidth\":0,\"ticks\":\"\"}}}],\"histogram\":[{\"marker\":{\"pattern\":{\"fillmode\":\"overlay\",\"size\":10,\"solidity\":0.2}},\"type\":\"histogram\"}],\"scattergl\":[{\"type\":\"scattergl\",\"marker\":{\"colorbar\":{\"outlinewidth\":0,\"ticks\":\"\"}}}],\"scatter3d\":[{\"type\":\"scatter3d\",\"line\":{\"colorbar\":{\"outlinewidth\":0,\"ticks\":\"\"}},\"marker\":{\"colorbar\":{\"outlinewidth\":0,\"ticks\":\"\"}}}],\"scattermapbox\":[{\"type\":\"scattermapbox\",\"marker\":{\"colorbar\":{\"outlinewidth\":0,\"ticks\":\"\"}}}],\"scatterternary\":[{\"type\":\"scatterternary\",\"marker\":{\"colorbar\":{\"outlinewidth\":0,\"ticks\":\"\"}}}],\"scattercarpet\":[{\"type\":\"scattercarpet\",\"marker\":{\"colorbar\":{\"outlinewidth\":0,\"ticks\":\"\"}}}],\"carpet\":[{\"aaxis\":{\"endlinecolor\":\"#2a3f5f\",\"gridcolor\":\"white\",\"linecolor\":\"white\",\"minorgridcolor\":\"white\",\"startlinecolor\":\"#2a3f5f\"},\"baxis\":{\"endlinecolor\":\"#2a3f5f\",\"gridcolor\":\"white\",\"linecolor\":\"white\",\"minorgridcolor\":\"white\",\"startlinecolor\":\"#2a3f5f\"},\"type\":\"carpet\"}],\"table\":[{\"cells\":{\"fill\":{\"color\":\"#EBF0F8\"},\"line\":{\"color\":\"white\"}},\"header\":{\"fill\":{\"color\":\"#C8D4E3\"},\"line\":{\"color\":\"white\"}},\"type\":\"table\"}],\"barpolar\":[{\"marker\":{\"line\":{\"color\":\"#E5ECF6\",\"width\":0.5},\"pattern\":{\"fillmode\":\"overlay\",\"size\":10,\"solidity\":0.2}},\"type\":\"barpolar\"}],\"pie\":[{\"automargin\":true,\"type\":\"pie\"}]},\"layout\":{\"autotypenumbers\":\"strict\",\"colorway\":[\"#636efa\",\"#EF553B\",\"#00cc96\",\"#ab63fa\",\"#FFA15A\",\"#19d3f3\",\"#FF6692\",\"#B6E880\",\"#FF97FF\",\"#FECB52\"],\"font\":{\"color\":\"#2a3f5f\"},\"hovermode\":\"closest\",\"hoverlabel\":{\"align\":\"left\"},\"paper_bgcolor\":\"white\",\"plot_bgcolor\":\"#E5ECF6\",\"polar\":{\"bgcolor\":\"#E5ECF6\",\"angularaxis\":{\"gridcolor\":\"white\",\"linecolor\":\"white\",\"ticks\":\"\"},\"radialaxis\":{\"gridcolor\":\"white\",\"linecolor\":\"white\",\"ticks\":\"\"}},\"ternary\":{\"bgcolor\":\"#E5ECF6\",\"aaxis\":{\"gridcolor\":\"white\",\"linecolor\":\"white\",\"ticks\":\"\"},\"baxis\":{\"gridcolor\":\"white\",\"linecolor\":\"white\",\"ticks\":\"\"},\"caxis\":{\"gridcolor\":\"white\",\"linecolor\":\"white\",\"ticks\":\"\"}},\"coloraxis\":{\"colorbar\":{\"outlinewidth\":0,\"ticks\":\"\"}},\"colorscale\":{\"sequential\":[[0.0,\"#0d0887\"],[0.1111111111111111,\"#46039f\"],[0.2222222222222222,\"#7201a8\"],[0.3333333333333333,\"#9c179e\"],[0.4444444444444444,\"#bd3786\"],[0.5555555555555556,\"#d8576b\"],[0.6666666666666666,\"#ed7953\"],[0.7777777777777778,\"#fb9f3a\"],[0.8888888888888888,\"#fdca26\"],[1.0,\"#f0f921\"]],\"sequentialminus\":[[0.0,\"#0d0887\"],[0.1111111111111111,\"#46039f\"],[0.2222222222222222,\"#7201a8\"],[0.3333333333333333,\"#9c179e\"],[0.4444444444444444,\"#bd3786\"],[0.5555555555555556,\"#d8576b\"],[0.6666666666666666,\"#ed7953\"],[0.7777777777777778,\"#fb9f3a\"],[0.8888888888888888,\"#fdca26\"],[1.0,\"#f0f921\"]],\"diverging\":[[0,\"#8e0152\"],[0.1,\"#c51b7d\"],[0.2,\"#de77ae\"],[0.3,\"#f1b6da\"],[0.4,\"#fde0ef\"],[0.5,\"#f7f7f7\"],[0.6,\"#e6f5d0\"],[0.7,\"#b8e186\"],[0.8,\"#7fbc41\"],[0.9,\"#4d9221\"],[1,\"#276419\"]]},\"xaxis\":{\"gridcolor\":\"white\",\"linecolor\":\"white\",\"ticks\":\"\",\"title\":{\"standoff\":15},\"zerolinecolor\":\"white\",\"automargin\":true,\"zerolinewidth\":2},\"yaxis\":{\"gridcolor\":\"white\",\"linecolor\":\"white\",\"ticks\":\"\",\"title\":{\"standoff\":15},\"zerolinecolor\":\"white\",\"automargin\":true,\"zerolinewidth\":2},\"scene\":{\"xaxis\":{\"backgroundcolor\":\"#E5ECF6\",\"gridcolor\":\"white\",\"linecolor\":\"white\",\"showbackground\":true,\"ticks\":\"\",\"zerolinecolor\":\"white\",\"gridwidth\":2},\"yaxis\":{\"backgroundcolor\":\"#E5ECF6\",\"gridcolor\":\"white\",\"linecolor\":\"white\",\"showbackground\":true,\"ticks\":\"\",\"zerolinecolor\":\"white\",\"gridwidth\":2},\"zaxis\":{\"backgroundcolor\":\"#E5ECF6\",\"gridcolor\":\"white\",\"linecolor\":\"white\",\"showbackground\":true,\"ticks\":\"\",\"zerolinecolor\":\"white\",\"gridwidth\":2}},\"shapedefaults\":{\"line\":{\"color\":\"#2a3f5f\"}},\"annotationdefaults\":{\"arrowcolor\":\"#2a3f5f\",\"arrowhead\":0,\"arrowwidth\":1},\"geo\":{\"bgcolor\":\"white\",\"landcolor\":\"#E5ECF6\",\"subunitcolor\":\"white\",\"showland\":true,\"showlakes\":true,\"lakecolor\":\"white\"},\"title\":{\"x\":0.05},\"mapbox\":{\"style\":\"light\"}}},\"legend\":{\"tracegroupgap\":0},\"title\":{\"text\":\"Course Certification Types Distribution\"},\"piecolorway\":[\"rgb(103,0,31)\",\"rgb(178,24,43)\",\"rgb(214,96,77)\",\"rgb(244,165,130)\",\"rgb(253,219,199)\",\"rgb(247,247,247)\",\"rgb(209,229,240)\",\"rgb(146,197,222)\",\"rgb(67,147,195)\",\"rgb(33,102,172)\",\"rgb(5,48,97)\"]},                        {\"responsive\": true}                    ).then(function(){\n",
       "                            \n",
       "var gd = document.getElementById('c4471c1e-99e4-49f7-bacc-9e27aa1896c2');\n",
       "var x = new MutationObserver(function (mutations, observer) {{\n",
       "        var display = window.getComputedStyle(gd).display;\n",
       "        if (!display || display === 'none') {{\n",
       "            console.log([gd, 'removed!']);\n",
       "            Plotly.purge(gd);\n",
       "            observer.disconnect();\n",
       "        }}\n",
       "}});\n",
       "\n",
       "// Listen for the removal of the full notebook cells\n",
       "var notebookContainer = gd.closest('#notebook-container');\n",
       "if (notebookContainer) {{\n",
       "    x.observe(notebookContainer, {childList: true});\n",
       "}}\n",
       "\n",
       "// Listen for the clearing of the current output cell\n",
       "var outputEl = gd.closest('.output');\n",
       "if (outputEl) {{\n",
       "    x.observe(outputEl, {childList: true});\n",
       "}}\n",
       "\n",
       "                        })                };                });            </script>        </div>"
      ]
     },
     "metadata": {},
     "output_type": "display_data"
    }
   ],
   "source": [
    "fig = px.pie(df, names='course_certificate_type', title='Course Certification Types Distribution',\n",
    "             color_discrete_sequence=px.colors.sequential.RdBu)\n",
    "fig.show()"
   ]
  },
  {
   "cell_type": "markdown",
   "id": "678e9b41-1c03-4308-9c24-9f8b318ea172",
   "metadata": {},
   "source": [
    "### Observations:\n",
    "Different certification types may have different levels of popularity, influencing course enrollments.\n",
    "We can see, that \"course\" is the most popular specialization, most likely timing of receiving the certificate is affecting this choice."
   ]
  },
  {
   "cell_type": "code",
   "execution_count": 38,
   "id": "b96889a5-fbf7-41bd-a611-4ecf5a65829d",
   "metadata": {},
   "outputs": [
    {
     "data": {
      "image/png": "[encoded data removed]",
      "text/plain": [
       "<Figure size 1000x600 with 2 Axes>"
      ]
     },
     "metadata": {},
     "output_type": "display_data"
    }
   ],
   "source": [
    "# Create a pivot table to count occurrences\n",
    "cert_vs_difficulty = df.pivot_table(index='course_certificate_type', \n",
    "                                    columns='course_difficulty', \n",
    "                                    aggfunc='size', fill_value=0)\n",
    "\n",
    "# Plot a heatmap\n",
    "plt.figure(figsize=(10, 6))\n",
    "sns.heatmap(cert_vs_difficulty, annot=True, cmap='coolwarm', fmt=\"d\")\n",
    "plt.title(\"Correlation between Course Certification Type and Difficulty\")\n",
    "plt.xlabel(\"Course Difficulty Level\")\n",
    "plt.ylabel(\"Certification Type\")\n",
    "plt.show()"
   ]
  },
  {
   "cell_type": "markdown",
   "id": "83d5a802-9e7e-42e2-a20c-4f6d4d335e1f",
   "metadata": {},
   "source": [
    "Most courses are Beginner-friendly, making Coursera more accessible. Professional Certificate programs tend to be easier (likely to attract more learners). Advanced courses are quite rare – there is a gap for expert-level in COursera."
   ]
  },
  {
   "cell_type": "code",
   "execution_count": 25,
   "id": "565708e4-724f-4766-975d-ae66189af382",
   "metadata": {},
   "outputs": [
    {
     "data": {
      "application/vnd.plotly.v1+json": {
       "config": {
        "plotlyServerURL": "https://plot.ly"
       },
       "data": [
        {
         "alignmentgroup": "True",
         "hovertemplate": "count=%{marker.color}<br>course_organization=%{y}<extra></extra>",
         "legendgroup": "",
         "marker": {
          "color": [
           2,
           2,
           2,
           1,
           1,
           1,
           1,
           1,
           1,
           1
          ],
          "coloraxis": "coloraxis",
          "pattern": {
           "shape": ""
          }
         },
         "name": "",
         "offsetgroup": "",
         "orientation": "h",
         "showlegend": false,
         "text": [
          2,
          2,
          2,
          1,
          1,
          1,
          1,
          1,
          1,
          1
         ],
         "textposition": "auto",
         "type": "bar",
         "x": [
          2,
          2,
          2,
          1,
          1,
          1,
          1,
          1,
          1,
          1
         ],
         "xaxis": "x",
         "y": [
          "Developing Your Musicianship",
          "Marketing Digital",
          "Machine Learning",
          "(ISC)² Systems Security Certified Practitioner (SSCP)",
          "Medical Neuroscience",
          "Mastering Data Analysis in Excel",
          "Mastering Final Cut Pro",
          "Mastering Software Development in R",
          "Materials Science: 10 Things Every Engineer Should Know",
          "Mathematics for Data Science"
         ],
         "yaxis": "y"
        }
       ],
       "layout": {
        "autosize": true,
        "barmode": "relative",
        "coloraxis": {
         "colorbar": {
          "title": {
           "text": "count"
          }
         },
         "colorscale": [
          [
           0,
           "rgb(103,0,31)"
          ],
          [
           0.1,
           "rgb(178,24,43)"
          ],
          [
           0.2,
           "rgb(214,96,77)"
          ],
          [
           0.3,
           "rgb(244,165,130)"
          ],
          [
           0.4,
           "rgb(253,219,199)"
          ],
          [
           0.5,
           "rgb(247,247,247)"
          ],
          [
           0.6,
           "rgb(209,229,240)"
          ],
          [
           0.7,
           "rgb(146,197,222)"
          ],
          [
           0.8,
           "rgb(67,147,195)"
          ],
          [
           0.9,
           "rgb(33,102,172)"
          ],
          [
           1,
           "rgb(5,48,97)"
          ]
         ]
        },
        "hovermode": "y unified",
        "legend": {
         "tracegroupgap": 0
        },
        "template": {
         "data": {
          "bar": [
           {
            "error_x": {
             "color": "#2a3f5f"
            },
            "error_y": {
             "color": "#2a3f5f"
            },
            "marker": {
             "line": {
              "color": "#E5ECF6",
              "width": 0.5
             },
             "pattern": {
              "fillmode": "overlay",
              "size": 10,
              "solidity": 0.2
             }
            },
            "type": "bar"
           }
          ],
          "barpolar": [
           {
            "marker": {
             "line": {
              "color": "#E5ECF6",
              "width": 0.5
             },
             "pattern": {
              "fillmode": "overlay",
              "size": 10,
              "solidity": 0.2
             }
            },
            "type": "barpolar"
           }
          ],
          "carpet": [
           {
            "aaxis": {
             "endlinecolor": "#2a3f5f",
             "gridcolor": "white",
             "linecolor": "white",
             "minorgridcolor": "white",
             "startlinecolor": "#2a3f5f"
            },
            "baxis": {
             "endlinecolor": "#2a3f5f",
             "gridcolor": "white",
             "linecolor": "white",
             "minorgridcolor": "white",
             "startlinecolor": "#2a3f5f"
            },
            "type": "carpet"
           }
          ],
          "choropleth": [
           {
            "colorbar": {
             "outlinewidth": 0,
             "ticks": ""
            },
            "type": "choropleth"
           }
          ],
          "contour": [
           {
            "colorbar": {
             "outlinewidth": 0,
             "ticks": ""
            },
            "colorscale": [
             [
              0,
              "#0d0887"
             ],
             [
              0.1111111111111111,
              "#46039f"
             ],
             [
              0.2222222222222222,
              "#7201a8"
             ],
             [
              0.3333333333333333,
              "#9c179e"
             ],
             [
              0.4444444444444444,
              "#bd3786"
             ],
             [
              0.5555555555555556,
              "#d8576b"
             ],
             [
              0.6666666666666666,
              "#ed7953"
             ],
             [
              0.7777777777777778,
              "#fb9f3a"
             ],
             [
              0.8888888888888888,
              "#fdca26"
             ],
             [
              1,
              "#f0f921"
             ]
            ],
            "type": "contour"
           }
          ],
          "contourcarpet": [
           {
            "colorbar": {
             "outlinewidth": 0,
             "ticks": ""
            },
            "type": "contourcarpet"
           }
          ],
          "heatmap": [
           {
            "colorbar": {
             "outlinewidth": 0,
             "ticks": ""
            },
            "colorscale": [
             [
              0,
              "#0d0887"
             ],
             [
              0.1111111111111111,
              "#46039f"
             ],
             [
              0.2222222222222222,
              "#7201a8"
             ],
             [
              0.3333333333333333,
              "#9c179e"
             ],
             [
              0.4444444444444444,
              "#bd3786"
             ],
             [
              0.5555555555555556,
              "#d8576b"
             ],
             [
              0.6666666666666666,
              "#ed7953"
             ],
             [
              0.7777777777777778,
              "#fb9f3a"
             ],
             [
              0.8888888888888888,
              "#fdca26"
             ],
             [
              1,
              "#f0f921"
             ]
            ],
            "type": "heatmap"
           }
          ],
          "heatmapgl": [
           {
            "colorbar": {
             "outlinewidth": 0,
             "ticks": ""
            },
            "colorscale": [
             [
              0,
              "#0d0887"
             ],
             [
              0.1111111111111111,
              "#46039f"
             ],
             [
              0.2222222222222222,
              "#7201a8"
             ],
             [
              0.3333333333333333,
              "#9c179e"
             ],
             [
              0.4444444444444444,
              "#bd3786"
             ],
             [
              0.5555555555555556,
              "#d8576b"
             ],
             [
              0.6666666666666666,
              "#ed7953"
             ],
             [
              0.7777777777777778,
              "#fb9f3a"
             ],
             [
              0.8888888888888888,
              "#fdca26"
             ],
             [
              1,
              "#f0f921"
             ]
            ],
            "type": "heatmapgl"
           }
          ],
          "histogram": [
           {
            "marker": {
             "pattern": {
              "fillmode": "overlay",
              "size": 10,
              "solidity": 0.2
             }
            },
            "type": "histogram"
           }
          ],
          "histogram2d": [
           {
            "colorbar": {
             "outlinewidth": 0,
             "ticks": ""
            },
            "colorscale": [
             [
              0,
              "#0d0887"
             ],
             [
              0.1111111111111111,
              "#46039f"
             ],
             [
              0.2222222222222222,
              "#7201a8"
             ],
             [
              0.3333333333333333,
              "#9c179e"
             ],
             [
              0.4444444444444444,
              "#bd3786"
             ],
             [
              0.5555555555555556,
              "#d8576b"
             ],
             [
              0.6666666666666666,
              "#ed7953"
             ],
             [
              0.7777777777777778,
              "#fb9f3a"
             ],
             [
              0.8888888888888888,
              "#fdca26"
             ],
             [
              1,
              "#f0f921"
             ]
            ],
            "type": "histogram2d"
           }
          ],
          "histogram2dcontour": [
           {
            "colorbar": {
             "outlinewidth": 0,
             "ticks": ""
            },
            "colorscale": [
             [
              0,
              "#0d0887"
             ],
             [
              0.1111111111111111,
              "#46039f"
             ],
             [
              0.2222222222222222,
              "#7201a8"
             ],
             [
              0.3333333333333333,
              "#9c179e"
             ],
             [
              0.4444444444444444,
              "#bd3786"
             ],
             [
              0.5555555555555556,
              "#d8576b"
             ],
             [
              0.6666666666666666,
              "#ed7953"
             ],
             [
              0.7777777777777778,
              "#fb9f3a"
             ],
             [
              0.8888888888888888,
              "#fdca26"
             ],
             [
              1,
              "#f0f921"
             ]
            ],
            "type": "histogram2dcontour"
           }
          ],
          "mesh3d": [
           {
            "colorbar": {
             "outlinewidth": 0,
             "ticks": ""
            },
            "type": "mesh3d"
           }
          ],
          "parcoords": [
           {
            "line": {
             "colorbar": {
              "outlinewidth": 0,
              "ticks": ""
             }
            },
            "type": "parcoords"
           }
          ],
          "pie": [
           {
            "automargin": true,
            "type": "pie"
           }
          ],
          "scatter": [
           {
            "fillpattern": {
             "fillmode": "overlay",
             "size": 10,
             "solidity": 0.2
            },
            "type": "scatter"
           }
          ],
          "scatter3d": [
           {
            "line": {
             "colorbar": {
              "outlinewidth": 0,
              "ticks": ""
             }
            },
            "marker": {
             "colorbar": {
              "outlinewidth": 0,
              "ticks": ""
             }
            },
            "type": "scatter3d"
           }
          ],
          "scattercarpet": [
           {
            "marker": {
             "colorbar": {
              "outlinewidth": 0,
              "ticks": ""
             }
            },
            "type": "scattercarpet"
           }
          ],
          "scattergeo": [
           {
            "marker": {
             "colorbar": {
              "outlinewidth": 0,
              "ticks": ""
             }
            },
            "type": "scattergeo"
           }
          ],
          "scattergl": [
           {
            "marker": {
             "colorbar": {
              "outlinewidth": 0,
              "ticks": ""
             }
            },
            "type": "scattergl"
           }
          ],
          "scattermapbox": [
           {
            "marker": {
             "colorbar": {
              "outlinewidth": 0,
              "ticks": ""
             }
            },
            "type": "scattermapbox"
           }
          ],
          "scatterpolar": [
           {
            "marker": {
             "colorbar": {
              "outlinewidth": 0,
              "ticks": ""
             }
            },
            "type": "scatterpolar"
           }
          ],
          "scatterpolargl": [
           {
            "marker": {
             "colorbar": {
              "outlinewidth": 0,
              "ticks": ""
             }
            },
            "type": "scatterpolargl"
           }
          ],
          "scatterternary": [
           {
            "marker": {
             "colorbar": {
              "outlinewidth": 0,
              "ticks": ""
             }
            },
            "type": "scatterternary"
           }
          ],
          "surface": [
           {
            "colorbar": {
             "outlinewidth": 0,
             "ticks": ""
            },
            "colorscale": [
             [
              0,
              "#0d0887"
             ],
             [
              0.1111111111111111,
              "#46039f"
             ],
             [
              0.2222222222222222,
              "#7201a8"
             ],
             [
              0.3333333333333333,
              "#9c179e"
             ],
             [
              0.4444444444444444,
              "#bd3786"
             ],
             [
              0.5555555555555556,
              "#d8576b"
             ],
             [
              0.6666666666666666,
              "#ed7953"
             ],
             [
              0.7777777777777778,
              "#fb9f3a"
             ],
             [
              0.8888888888888888,
              "#fdca26"
             ],
             [
              1,
              "#f0f921"
             ]
            ],
            "type": "surface"
           }
          ],
          "table": [
           {
            "cells": {
             "fill": {
              "color": "#EBF0F8"
             },
             "line": {
              "color": "white"
             }
            },
            "header": {
             "fill": {
              "color": "#C8D4E3"
             },
             "line": {
              "color": "white"
             }
            },
            "type": "table"
           }
          ]
         },
         "layout": {
          "annotationdefaults": {
           "arrowcolor": "#2a3f5f",
           "arrowhead": 0,
           "arrowwidth": 1
          },
          "autotypenumbers": "strict",
          "coloraxis": {
           "colorbar": {
            "outlinewidth": 0,
            "ticks": ""
           }
          },
          "colorscale": {
           "diverging": [
            [
             0,
             "#8e0152"
            ],
            [
             0.1,
             "#c51b7d"
            ],
            [
             0.2,
             "#de77ae"
            ],
            [
             0.3,
             "#f1b6da"
            ],
            [
             0.4,
             "#fde0ef"
            ],
            [
             0.5,
             "#f7f7f7"
            ],
            [
             0.6,
             "#e6f5d0"
            ],
            [
             0.7,
             "#b8e186"
            ],
            [
             0.8,
             "#7fbc41"
            ],
            [
             0.9,
             "#4d9221"
            ],
            [
             1,
             "#276419"
            ]
           ],
           "sequential": [
            [
             0,
             "#0d0887"
            ],
            [
             0.1111111111111111,
             "#46039f"
            ],
            [
             0.2222222222222222,
             "#7201a8"
            ],
            [
             0.3333333333333333,
             "#9c179e"
            ],
            [
             0.4444444444444444,
             "#bd3786"
            ],
            [
             0.5555555555555556,
             "#d8576b"
            ],
            [
             0.6666666666666666,
             "#ed7953"
            ],
            [
             0.7777777777777778,
             "#fb9f3a"
            ],
            [
             0.8888888888888888,
             "#fdca26"
            ],
            [
             1,
             "#f0f921"
            ]
           ],
           "sequentialminus": [
            [
             0,
             "#0d0887"
            ],
            [
             0.1111111111111111,
             "#46039f"
            ],
            [
             0.2222222222222222,
             "#7201a8"
            ],
            [
             0.3333333333333333,
             "#9c179e"
            ],
            [
             0.4444444444444444,
             "#bd3786"
            ],
            [
             0.5555555555555556,
             "#d8576b"
            ],
            [
             0.6666666666666666,
             "#ed7953"
            ],
            [
             0.7777777777777778,
             "#fb9f3a"
            ],
            [
             0.8888888888888888,
             "#fdca26"
            ],
            [
             1,
             "#f0f921"
            ]
           ]
          },
          "colorway": [
           "#636efa",
           "#EF553B",
           "#00cc96",
           "#ab63fa",
           "#FFA15A",
           "#19d3f3",
           "#FF6692",
           "#B6E880",
           "#FF97FF",
           "#FECB52"
          ],
          "font": {
           "color": "#2a3f5f"
          },
          "geo": {
           "bgcolor": "white",
           "lakecolor": "white",
           "landcolor": "#E5ECF6",
           "showlakes": true,
           "showland": true,
           "subunitcolor": "white"
          },
          "hoverlabel": {
           "align": "left"
          },
          "hovermode": "closest",
          "mapbox": {
           "style": "light"
          },
          "paper_bgcolor": "white",
          "plot_bgcolor": "#E5ECF6",
          "polar": {
           "angularaxis": {
            "gridcolor": "white",
            "linecolor": "white",
            "ticks": ""
           },
           "bgcolor": "#E5ECF6",
           "radialaxis": {
            "gridcolor": "white",
            "linecolor": "white",
            "ticks": ""
           }
          },
          "scene": {
           "xaxis": {
            "backgroundcolor": "#E5ECF6",
            "gridcolor": "white",
            "gridwidth": 2,
            "linecolor": "white",
            "showbackground": true,
            "ticks": "",
            "zerolinecolor": "white"
           },
           "yaxis": {
            "backgroundcolor": "#E5ECF6",
            "gridcolor": "white",
            "gridwidth": 2,
            "linecolor": "white",
            "showbackground": true,
            "ticks": "",
            "zerolinecolor": "white"
           },
           "zaxis": {
            "backgroundcolor": "#E5ECF6",
            "gridcolor": "white",
            "gridwidth": 2,
            "linecolor": "white",
            "showbackground": true,
            "ticks": "",
            "zerolinecolor": "white"
           }
          },
          "shapedefaults": {
           "line": {
            "color": "#2a3f5f"
           }
          },
          "ternary": {
           "aaxis": {
            "gridcolor": "white",
            "linecolor": "white",
            "ticks": ""
           },
           "baxis": {
            "gridcolor": "white",
            "linecolor": "white",
            "ticks": ""
           },
           "bgcolor": "#E5ECF6",
           "caxis": {
            "gridcolor": "white",
            "linecolor": "white",
            "ticks": ""
           }
          },
          "title": {
           "x": 0.05
          },
          "xaxis": {
           "automargin": true,
           "gridcolor": "white",
           "linecolor": "white",
           "ticks": "",
           "title": {
            "standoff": 15
           },
           "zerolinecolor": "white",
           "zerolinewidth": 2
          },
          "yaxis": {
           "automargin": true,
           "gridcolor": "white",
           "linecolor": "white",
           "ticks": "",
           "title": {
            "standoff": 15
           },
           "zerolinecolor": "white",
           "zerolinewidth": 2
          }
         }
        },
        "title": {
         "text": "Top 10 Organizations by Number of Courses"
        },
        "xaxis": {
         "anchor": "y",
         "autorange": true,
         "domain": [
          0,
          1
         ],
         "range": [
          0,
          2.1052631578947367
         ],
         "title": {
          "text": "Number of Courses"
         },
         "type": "linear"
        },
        "yaxis": {
         "anchor": "x",
         "autorange": true,
         "domain": [
          0,
          1
         ],
         "range": [
          -0.5,
          9.5
         ],
         "title": {
          "text": "Organization"
         },
         "type": "category"
        }
       }
      },
      "image/png": "[encoded data removed]",
      "text/html": [
       "<div>                            <div id=\"4d117773-71b9-46ae-83e1-79e19835c6cc\" class=\"plotly-graph-div\" style=\"height:525px; width:100%;\"></div>            <script type=\"text/javascript\">                require([\"plotly\"], function(Plotly) {                    window.PLOTLYENV=window.PLOTLYENV || {};                                    if (document.getElementById(\"4d117773-71b9-46ae-83e1-79e19835c6cc\")) {                    Plotly.newPlot(                        \"4d117773-71b9-46ae-83e1-79e19835c6cc\",                        [{\"alignmentgroup\":\"True\",\"hovertemplate\":\"count=%{marker.color}\\u003cbr\\u003ecourse_organization=%{y}\\u003cextra\\u003e\\u003c\\u002fextra\\u003e\",\"legendgroup\":\"\",\"marker\":{\"color\":[2,2,2,1,1,1,1,1,1,1],\"coloraxis\":\"coloraxis\",\"pattern\":{\"shape\":\"\"}},\"name\":\"\",\"offsetgroup\":\"\",\"orientation\":\"h\",\"showlegend\":false,\"text\":[2.0,2.0,2.0,1.0,1.0,1.0,1.0,1.0,1.0,1.0],\"textposition\":\"auto\",\"x\":[2,2,2,1,1,1,1,1,1,1],\"xaxis\":\"x\",\"y\":[\"Developing Your Musicianship\",\"Marketing Digital\",\"Machine Learning\",\"(ISC)\\u00b2 Systems Security Certified Practitioner (SSCP)\",\"Medical Neuroscience\",\"Mastering Data Analysis in Excel\",\"Mastering Final Cut Pro\",\"Mastering Software Development in R\",\"Materials Science: 10 Things Every Engineer Should Know\",\"Mathematics for Data Science\"],\"yaxis\":\"y\",\"type\":\"bar\"}],                        {\"template\":{\"data\":{\"histogram2dcontour\":[{\"type\":\"histogram2dcontour\",\"colorbar\":{\"outlinewidth\":0,\"ticks\":\"\"},\"colorscale\":[[0.0,\"#0d0887\"],[0.1111111111111111,\"#46039f\"],[0.2222222222222222,\"#7201a8\"],[0.3333333333333333,\"#9c179e\"],[0.4444444444444444,\"#bd3786\"],[0.5555555555555556,\"#d8576b\"],[0.6666666666666666,\"#ed7953\"],[0.7777777777777778,\"#fb9f3a\"],[0.8888888888888888,\"#fdca26\"],[1.0,\"#f0f921\"]]}],\"choropleth\":[{\"type\":\"choropleth\",\"colorbar\":{\"outlinewidth\":0,\"ticks\":\"\"}}],\"histogram2d\":[{\"type\":\"histogram2d\",\"colorbar\":{\"outlinewidth\":0,\"ticks\":\"\"},\"colorscale\":[[0.0,\"#0d0887\"],[0.1111111111111111,\"#46039f\"],[0.2222222222222222,\"#7201a8\"],[0.3333333333333333,\"#9c179e\"],[0.4444444444444444,\"#bd3786\"],[0.5555555555555556,\"#d8576b\"],[0.6666666666666666,\"#ed7953\"],[0.7777777777777778,\"#fb9f3a\"],[0.8888888888888888,\"#fdca26\"],[1.0,\"#f0f921\"]]}],\"heatmap\":[{\"type\":\"heatmap\",\"colorbar\":{\"outlinewidth\":0,\"ticks\":\"\"},\"colorscale\":[[0.0,\"#0d0887\"],[0.1111111111111111,\"#46039f\"],[0.2222222222222222,\"#7201a8\"],[0.3333333333333333,\"#9c179e\"],[0.4444444444444444,\"#bd3786\"],[0.5555555555555556,\"#d8576b\"],[0.6666666666666666,\"#ed7953\"],[0.7777777777777778,\"#fb9f3a\"],[0.8888888888888888,\"#fdca26\"],[1.0,\"#f0f921\"]]}],\"heatmapgl\":[{\"type\":\"heatmapgl\",\"colorbar\":{\"outlinewidth\":0,\"ticks\":\"\"},\"colorscale\":[[0.0,\"#0d0887\"],[0.1111111111111111,\"#46039f\"],[0.2222222222222222,\"#7201a8\"],[0.3333333333333333,\"#9c179e\"],[0.4444444444444444,\"#bd3786\"],[0.5555555555555556,\"#d8576b\"],[0.6666666666666666,\"#ed7953\"],[0.7777777777777778,\"#fb9f3a\"],[0.8888888888888888,\"#fdca26\"],[1.0,\"#f0f921\"]]}],\"contourcarpet\":[{\"type\":\"contourcarpet\",\"colorbar\":{\"outlinewidth\":0,\"ticks\":\"\"}}],\"contour\":[{\"type\":\"contour\",\"colorbar\":{\"outlinewidth\":0,\"ticks\":\"\"},\"colorscale\":[[0.0,\"#0d0887\"],[0.1111111111111111,\"#46039f\"],[0.2222222222222222,\"#7201a8\"],[0.3333333333333333,\"#9c179e\"],[0.4444444444444444,\"#bd3786\"],[0.5555555555555556,\"#d8576b\"],[0.6666666666666666,\"#ed7953\"],[0.7777777777777778,\"#fb9f3a\"],[0.8888888888888888,\"#fdca26\"],[1.0,\"#f0f921\"]]}],\"surface\":[{\"type\":\"surface\",\"colorbar\":{\"outlinewidth\":0,\"ticks\":\"\"},\"colorscale\":[[0.0,\"#0d0887\"],[0.1111111111111111,\"#46039f\"],[0.2222222222222222,\"#7201a8\"],[0.3333333333333333,\"#9c179e\"],[0.4444444444444444,\"#bd3786\"],[0.5555555555555556,\"#d8576b\"],[0.6666666666666666,\"#ed7953\"],[0.7777777777777778,\"#fb9f3a\"],[0.8888888888888888,\"#fdca26\"],[1.0,\"#f0f921\"]]}],\"mesh3d\":[{\"type\":\"mesh3d\",\"colorbar\":{\"outlinewidth\":0,\"ticks\":\"\"}}],\"scatter\":[{\"fillpattern\":{\"fillmode\":\"overlay\",\"size\":10,\"solidity\":0.2},\"type\":\"scatter\"}],\"parcoords\":[{\"type\":\"parcoords\",\"line\":{\"colorbar\":{\"outlinewidth\":0,\"ticks\":\"\"}}}],\"scatterpolargl\":[{\"type\":\"scatterpolargl\",\"marker\":{\"colorbar\":{\"outlinewidth\":0,\"ticks\":\"\"}}}],\"bar\":[{\"error_x\":{\"color\":\"#2a3f5f\"},\"error_y\":{\"color\":\"#2a3f5f\"},\"marker\":{\"line\":{\"color\":\"#E5ECF6\",\"width\":0.5},\"pattern\":{\"fillmode\":\"overlay\",\"size\":10,\"solidity\":0.2}},\"type\":\"bar\"}],\"scattergeo\":[{\"type\":\"scattergeo\",\"marker\":{\"colorbar\":{\"outlinewidth\":0,\"ticks\":\"\"}}}],\"scatterpolar\":[{\"type\":\"scatterpolar\",\"marker\":{\"colorbar\":{\"outlinewidth\":0,\"ticks\":\"\"}}}],\"histogram\":[{\"marker\":{\"pattern\":{\"fillmode\":\"overlay\",\"size\":10,\"solidity\":0.2}},\"type\":\"histogram\"}],\"scattergl\":[{\"type\":\"scattergl\",\"marker\":{\"colorbar\":{\"outlinewidth\":0,\"ticks\":\"\"}}}],\"scatter3d\":[{\"type\":\"scatter3d\",\"line\":{\"colorbar\":{\"outlinewidth\":0,\"ticks\":\"\"}},\"marker\":{\"colorbar\":{\"outlinewidth\":0,\"ticks\":\"\"}}}],\"scattermapbox\":[{\"type\":\"scattermapbox\",\"marker\":{\"colorbar\":{\"outlinewidth\":0,\"ticks\":\"\"}}}],\"scatterternary\":[{\"type\":\"scatterternary\",\"marker\":{\"colorbar\":{\"outlinewidth\":0,\"ticks\":\"\"}}}],\"scattercarpet\":[{\"type\":\"scattercarpet\",\"marker\":{\"colorbar\":{\"outlinewidth\":0,\"ticks\":\"\"}}}],\"carpet\":[{\"aaxis\":{\"endlinecolor\":\"#2a3f5f\",\"gridcolor\":\"white\",\"linecolor\":\"white\",\"minorgridcolor\":\"white\",\"startlinecolor\":\"#2a3f5f\"},\"baxis\":{\"endlinecolor\":\"#2a3f5f\",\"gridcolor\":\"white\",\"linecolor\":\"white\",\"minorgridcolor\":\"white\",\"startlinecolor\":\"#2a3f5f\"},\"type\":\"carpet\"}],\"table\":[{\"cells\":{\"fill\":{\"color\":\"#EBF0F8\"},\"line\":{\"color\":\"white\"}},\"header\":{\"fill\":{\"color\":\"#C8D4E3\"},\"line\":{\"color\":\"white\"}},\"type\":\"table\"}],\"barpolar\":[{\"marker\":{\"line\":{\"color\":\"#E5ECF6\",\"width\":0.5},\"pattern\":{\"fillmode\":\"overlay\",\"size\":10,\"solidity\":0.2}},\"type\":\"barpolar\"}],\"pie\":[{\"automargin\":true,\"type\":\"pie\"}]},\"layout\":{\"autotypenumbers\":\"strict\",\"colorway\":[\"#636efa\",\"#EF553B\",\"#00cc96\",\"#ab63fa\",\"#FFA15A\",\"#19d3f3\",\"#FF6692\",\"#B6E880\",\"#FF97FF\",\"#FECB52\"],\"font\":{\"color\":\"#2a3f5f\"},\"hovermode\":\"closest\",\"hoverlabel\":{\"align\":\"left\"},\"paper_bgcolor\":\"white\",\"plot_bgcolor\":\"#E5ECF6\",\"polar\":{\"bgcolor\":\"#E5ECF6\",\"angularaxis\":{\"gridcolor\":\"white\",\"linecolor\":\"white\",\"ticks\":\"\"},\"radialaxis\":{\"gridcolor\":\"white\",\"linecolor\":\"white\",\"ticks\":\"\"}},\"ternary\":{\"bgcolor\":\"#E5ECF6\",\"aaxis\":{\"gridcolor\":\"white\",\"linecolor\":\"white\",\"ticks\":\"\"},\"baxis\":{\"gridcolor\":\"white\",\"linecolor\":\"white\",\"ticks\":\"\"},\"caxis\":{\"gridcolor\":\"white\",\"linecolor\":\"white\",\"ticks\":\"\"}},\"coloraxis\":{\"colorbar\":{\"outlinewidth\":0,\"ticks\":\"\"}},\"colorscale\":{\"sequential\":[[0.0,\"#0d0887\"],[0.1111111111111111,\"#46039f\"],[0.2222222222222222,\"#7201a8\"],[0.3333333333333333,\"#9c179e\"],[0.4444444444444444,\"#bd3786\"],[0.5555555555555556,\"#d8576b\"],[0.6666666666666666,\"#ed7953\"],[0.7777777777777778,\"#fb9f3a\"],[0.8888888888888888,\"#fdca26\"],[1.0,\"#f0f921\"]],\"sequentialminus\":[[0.0,\"#0d0887\"],[0.1111111111111111,\"#46039f\"],[0.2222222222222222,\"#7201a8\"],[0.3333333333333333,\"#9c179e\"],[0.4444444444444444,\"#bd3786\"],[0.5555555555555556,\"#d8576b\"],[0.6666666666666666,\"#ed7953\"],[0.7777777777777778,\"#fb9f3a\"],[0.8888888888888888,\"#fdca26\"],[1.0,\"#f0f921\"]],\"diverging\":[[0,\"#8e0152\"],[0.1,\"#c51b7d\"],[0.2,\"#de77ae\"],[0.3,\"#f1b6da\"],[0.4,\"#fde0ef\"],[0.5,\"#f7f7f7\"],[0.6,\"#e6f5d0\"],[0.7,\"#b8e186\"],[0.8,\"#7fbc41\"],[0.9,\"#4d9221\"],[1,\"#276419\"]]},\"xaxis\":{\"gridcolor\":\"white\",\"linecolor\":\"white\",\"ticks\":\"\",\"title\":{\"standoff\":15},\"zerolinecolor\":\"white\",\"automargin\":true,\"zerolinewidth\":2},\"yaxis\":{\"gridcolor\":\"white\",\"linecolor\":\"white\",\"ticks\":\"\",\"title\":{\"standoff\":15},\"zerolinecolor\":\"white\",\"automargin\":true,\"zerolinewidth\":2},\"scene\":{\"xaxis\":{\"backgroundcolor\":\"#E5ECF6\",\"gridcolor\":\"white\",\"linecolor\":\"white\",\"showbackground\":true,\"ticks\":\"\",\"zerolinecolor\":\"white\",\"gridwidth\":2},\"yaxis\":{\"backgroundcolor\":\"#E5ECF6\",\"gridcolor\":\"white\",\"linecolor\":\"white\",\"showbackground\":true,\"ticks\":\"\",\"zerolinecolor\":\"white\",\"gridwidth\":2},\"zaxis\":{\"backgroundcolor\":\"#E5ECF6\",\"gridcolor\":\"white\",\"linecolor\":\"white\",\"showbackground\":true,\"ticks\":\"\",\"zerolinecolor\":\"white\",\"gridwidth\":2}},\"shapedefaults\":{\"line\":{\"color\":\"#2a3f5f\"}},\"annotationdefaults\":{\"arrowcolor\":\"#2a3f5f\",\"arrowhead\":0,\"arrowwidth\":1},\"geo\":{\"bgcolor\":\"white\",\"landcolor\":\"#E5ECF6\",\"subunitcolor\":\"white\",\"showland\":true,\"showlakes\":true,\"lakecolor\":\"white\"},\"title\":{\"x\":0.05},\"mapbox\":{\"style\":\"light\"}}},\"xaxis\":{\"anchor\":\"y\",\"domain\":[0.0,1.0],\"title\":{\"text\":\"Number of Courses\"}},\"yaxis\":{\"anchor\":\"x\",\"domain\":[0.0,1.0],\"title\":{\"text\":\"Organization\"}},\"coloraxis\":{\"colorbar\":{\"title\":{\"text\":\"count\"}},\"colorscale\":[[0.0,\"rgb(103,0,31)\"],[0.1,\"rgb(178,24,43)\"],[0.2,\"rgb(214,96,77)\"],[0.3,\"rgb(244,165,130)\"],[0.4,\"rgb(253,219,199)\"],[0.5,\"rgb(247,247,247)\"],[0.6,\"rgb(209,229,240)\"],[0.7,\"rgb(146,197,222)\"],[0.8,\"rgb(67,147,195)\"],[0.9,\"rgb(33,102,172)\"],[1.0,\"rgb(5,48,97)\"]]},\"legend\":{\"tracegroupgap\":0},\"title\":{\"text\":\"Top 10 Organizations by Number of Courses\"},\"barmode\":\"relative\",\"hovermode\":\"y unified\"},                        {\"responsive\": true}                    ).then(function(){\n",
       "                            \n",
       "var gd = document.getElementById('4d117773-71b9-46ae-83e1-79e19835c6cc');\n",
       "var x = new MutationObserver(function (mutations, observer) {{\n",
       "        var display = window.getComputedStyle(gd).display;\n",
       "        if (!display || display === 'none') {{\n",
       "            console.log([gd, 'removed!']);\n",
       "            Plotly.purge(gd);\n",
       "            observer.disconnect();\n",
       "        }}\n",
       "}});\n",
       "\n",
       "// Listen for the removal of the full notebook cells\n",
       "var notebookContainer = gd.closest('#notebook-container');\n",
       "if (notebookContainer) {{\n",
       "    x.observe(notebookContainer, {childList: true});\n",
       "}}\n",
       "\n",
       "// Listen for the clearing of the current output cell\n",
       "var outputEl = gd.closest('.output');\n",
       "if (outputEl) {{\n",
       "    x.observe(outputEl, {childList: true});\n",
       "}}\n",
       "\n",
       "                        })                };                });            </script>        </div>"
      ]
     },
     "metadata": {},
     "output_type": "display_data"
    }
   ],
   "source": [
    "df_top_10_orgs = df['course_organization'].value_counts().head(10).reset_index()\n",
    "df_top_10_orgs.columns = ['course_organization', 'count']\n",
    "\n",
    "fig = px.bar(df_top_10_orgs, \n",
    "             x='count', \n",
    "             y='course_organization', \n",
    "             text='count',\n",
    "             title='Top 10 Organizations by Number of Courses',\n",
    "             orientation='h', \n",
    "             color='count', \n",
    "             color_continuous_scale='RdBu')\n",
    "\n",
    "fig.update_layout(xaxis_title='Number of Courses', \n",
    "                  yaxis_title='Organization', \n",
    "                  hovermode='y unified')\n",
    "\n",
    "fig.show()\n"
   ]
  },
  {
   "cell_type": "code",
   "execution_count": 26,
   "id": "42499bc7-4f7d-457f-83fa-3995e991809d",
   "metadata": {},
   "outputs": [
    {
     "data": {
      "application/vnd.plotly.v1+json": {
       "config": {
        "plotlyServerURL": "https://plot.ly"
       },
       "data": [
        {
         "colorscale": [
          [
           0,
           "#00083e"
          ],
          [
           0.5,
           "#ededee"
          ],
          [
           1,
           "#ffffff"
          ]
         ],
         "hoverinfo": "none",
         "opacity": 0.75,
         "showscale": false,
         "type": "heatmap",
         "z": [
          [
           0,
           0
          ],
          [
           0.5,
           0.5
          ],
          [
           1,
           1
          ],
          [
           0.5,
           0.5
          ],
          [
           1,
           1
          ],
          [
           0.5,
           0.5
          ],
          [
           1,
           1
          ],
          [
           0.5,
           0.5
          ],
          [
           1,
           1
          ]
         ]
        }
       ],
       "layout": {
        "annotations": [
         {
          "align": "left",
          "font": {
           "color": "#ffffff"
          },
          "showarrow": false,
          "text": "<b>course_organization</b>",
          "x": -0.45,
          "xanchor": "left",
          "xref": "x",
          "y": 0,
          "yref": "y"
         },
         {
          "align": "left",
          "font": {
           "color": "#ffffff"
          },
          "showarrow": false,
          "text": "<b>course_title</b>",
          "x": 0.55,
          "xanchor": "left",
          "xref": "x",
          "y": 0,
          "yref": "y"
         },
         {
          "align": "left",
          "font": {
           "color": "#000000"
          },
          "showarrow": false,
          "text": "(ISC)² Systems Security Certified Practitioner (SSCP)",
          "x": -0.45,
          "xanchor": "left",
          "xref": "x",
          "y": 1,
          "yref": "y"
         },
         {
          "align": "left",
          "font": {
           "color": "#000000"
          },
          "showarrow": false,
          "text": "(ISC)² Systems Security Certified Practitioner (SSCP)",
          "x": 0.55,
          "xanchor": "left",
          "xref": "x",
          "y": 1,
          "yref": "y"
         },
         {
          "align": "left",
          "font": {
           "color": "#000000"
          },
          "showarrow": false,
          "text": "Developing Your Musicianship",
          "x": -0.45,
          "xanchor": "left",
          "xref": "x",
          "y": 2,
          "yref": "y"
         },
         {
          "align": "left",
          "font": {
           "color": "#000000"
          },
          "showarrow": false,
          "text": "Developing Your Musicianship",
          "x": 0.55,
          "xanchor": "left",
          "xref": "x",
          "y": 2,
          "yref": "y"
         },
         {
          "align": "left",
          "font": {
           "color": "#000000"
          },
          "showarrow": false,
          "text": "Developing Your Musicianship",
          "x": -0.45,
          "xanchor": "left",
          "xref": "x",
          "y": 3,
          "yref": "y"
         },
         {
          "align": "left",
          "font": {
           "color": "#000000"
          },
          "showarrow": false,
          "text": "Developing Your Musicianship",
          "x": 0.55,
          "xanchor": "left",
          "xref": "x",
          "y": 3,
          "yref": "y"
         },
         {
          "align": "left",
          "font": {
           "color": "#000000"
          },
          "showarrow": false,
          "text": "Machine Learning",
          "x": -0.45,
          "xanchor": "left",
          "xref": "x",
          "y": 4,
          "yref": "y"
         },
         {
          "align": "left",
          "font": {
           "color": "#000000"
          },
          "showarrow": false,
          "text": "Machine Learning",
          "x": 0.55,
          "xanchor": "left",
          "xref": "x",
          "y": 4,
          "yref": "y"
         },
         {
          "align": "left",
          "font": {
           "color": "#000000"
          },
          "showarrow": false,
          "text": "Machine Learning",
          "x": -0.45,
          "xanchor": "left",
          "xref": "x",
          "y": 5,
          "yref": "y"
         },
         {
          "align": "left",
          "font": {
           "color": "#000000"
          },
          "showarrow": false,
          "text": "Machine Learning",
          "x": 0.55,
          "xanchor": "left",
          "xref": "x",
          "y": 5,
          "yref": "y"
         },
         {
          "align": "left",
          "font": {
           "color": "#000000"
          },
          "showarrow": false,
          "text": "Marketing Digital",
          "x": -0.45,
          "xanchor": "left",
          "xref": "x",
          "y": 6,
          "yref": "y"
         },
         {
          "align": "left",
          "font": {
           "color": "#000000"
          },
          "showarrow": false,
          "text": "Marketing Digital",
          "x": 0.55,
          "xanchor": "left",
          "xref": "x",
          "y": 6,
          "yref": "y"
         },
         {
          "align": "left",
          "font": {
           "color": "#000000"
          },
          "showarrow": false,
          "text": "Marketing Digital",
          "x": -0.45,
          "xanchor": "left",
          "xref": "x",
          "y": 7,
          "yref": "y"
         },
         {
          "align": "left",
          "font": {
           "color": "#000000"
          },
          "showarrow": false,
          "text": "Marketing Digital",
          "x": 0.55,
          "xanchor": "left",
          "xref": "x",
          "y": 7,
          "yref": "y"
         },
         {
          "align": "left",
          "font": {
           "color": "#000000"
          },
          "showarrow": false,
          "text": "Medical Neuroscience",
          "x": -0.45,
          "xanchor": "left",
          "xref": "x",
          "y": 8,
          "yref": "y"
         },
         {
          "align": "left",
          "font": {
           "color": "#000000"
          },
          "showarrow": false,
          "text": "Medical Neuroscience",
          "x": 0.55,
          "xanchor": "left",
          "xref": "x",
          "y": 8,
          "yref": "y"
         }
        ],
        "autosize": true,
        "margin": {
         "b": 0,
         "l": 0,
         "r": 0,
         "t": 0
        },
        "template": {
         "data": {
          "bar": [
           {
            "error_x": {
             "color": "#2a3f5f"
            },
            "error_y": {
             "color": "#2a3f5f"
            },
            "marker": {
             "line": {
              "color": "#E5ECF6",
              "width": 0.5
             },
             "pattern": {
              "fillmode": "overlay",
              "size": 10,
              "solidity": 0.2
             }
            },
            "type": "bar"
           }
          ],
          "barpolar": [
           {
            "marker": {
             "line": {
              "color": "#E5ECF6",
              "width": 0.5
             },
             "pattern": {
              "fillmode": "overlay",
              "size": 10,
              "solidity": 0.2
             }
            },
            "type": "barpolar"
           }
          ],
          "carpet": [
           {
            "aaxis": {
             "endlinecolor": "#2a3f5f",
             "gridcolor": "white",
             "linecolor": "white",
             "minorgridcolor": "white",
             "startlinecolor": "#2a3f5f"
            },
            "baxis": {
             "endlinecolor": "#2a3f5f",
             "gridcolor": "white",
             "linecolor": "white",
             "minorgridcolor": "white",
             "startlinecolor": "#2a3f5f"
            },
            "type": "carpet"
           }
          ],
          "choropleth": [
           {
            "colorbar": {
             "outlinewidth": 0,
             "ticks": ""
            },
            "type": "choropleth"
           }
          ],
          "contour": [
           {
            "colorbar": {
             "outlinewidth": 0,
             "ticks": ""
            },
            "colorscale": [
             [
              0,
              "#0d0887"
             ],
             [
              0.1111111111111111,
              "#46039f"
             ],
             [
              0.2222222222222222,
              "#7201a8"
             ],
             [
              0.3333333333333333,
              "#9c179e"
             ],
             [
              0.4444444444444444,
              "#bd3786"
             ],
             [
              0.5555555555555556,
              "#d8576b"
             ],
             [
              0.6666666666666666,
              "#ed7953"
             ],
             [
              0.7777777777777778,
              "#fb9f3a"
             ],
             [
              0.8888888888888888,
              "#fdca26"
             ],
             [
              1,
              "#f0f921"
             ]
            ],
            "type": "contour"
           }
          ],
          "contourcarpet": [
           {
            "colorbar": {
             "outlinewidth": 0,
             "ticks": ""
            },
            "type": "contourcarpet"
           }
          ],
          "heatmap": [
           {
            "colorbar": {
             "outlinewidth": 0,
             "ticks": ""
            },
            "colorscale": [
             [
              0,
              "#0d0887"
             ],
             [
              0.1111111111111111,
              "#46039f"
             ],
             [
              0.2222222222222222,
              "#7201a8"
             ],
             [
              0.3333333333333333,
              "#9c179e"
             ],
             [
              0.4444444444444444,
              "#bd3786"
             ],
             [
              0.5555555555555556,
              "#d8576b"
             ],
             [
              0.6666666666666666,
              "#ed7953"
             ],
             [
              0.7777777777777778,
              "#fb9f3a"
             ],
             [
              0.8888888888888888,
              "#fdca26"
             ],
             [
              1,
              "#f0f921"
             ]
            ],
            "type": "heatmap"
           }
          ],
          "heatmapgl": [
           {
            "colorbar": {
             "outlinewidth": 0,
             "ticks": ""
            },
            "colorscale": [
             [
              0,
              "#0d0887"
             ],
             [
              0.1111111111111111,
              "#46039f"
             ],
             [
              0.2222222222222222,
              "#7201a8"
             ],
             [
              0.3333333333333333,
              "#9c179e"
             ],
             [
              0.4444444444444444,
              "#bd3786"
             ],
             [
              0.5555555555555556,
              "#d8576b"
             ],
             [
              0.6666666666666666,
              "#ed7953"
             ],
             [
              0.7777777777777778,
              "#fb9f3a"
             ],
             [
              0.8888888888888888,
              "#fdca26"
             ],
             [
              1,
              "#f0f921"
             ]
            ],
            "type": "heatmapgl"
           }
          ],
          "histogram": [
           {
            "marker": {
             "pattern": {
              "fillmode": "overlay",
              "size": 10,
              "solidity": 0.2
             }
            },
            "type": "histogram"
           }
          ],
          "histogram2d": [
           {
            "colorbar": {
             "outlinewidth": 0,
             "ticks": ""
            },
            "colorscale": [
             [
              0,
              "#0d0887"
             ],
             [
              0.1111111111111111,
              "#46039f"
             ],
             [
              0.2222222222222222,
              "#7201a8"
             ],
             [
              0.3333333333333333,
              "#9c179e"
             ],
             [
              0.4444444444444444,
              "#bd3786"
             ],
             [
              0.5555555555555556,
              "#d8576b"
             ],
             [
              0.6666666666666666,
              "#ed7953"
             ],
             [
              0.7777777777777778,
              "#fb9f3a"
             ],
             [
              0.8888888888888888,
              "#fdca26"
             ],
             [
              1,
              "#f0f921"
             ]
            ],
            "type": "histogram2d"
           }
          ],
          "histogram2dcontour": [
           {
            "colorbar": {
             "outlinewidth": 0,
             "ticks": ""
            },
            "colorscale": [
             [
              0,
              "#0d0887"
             ],
             [
              0.1111111111111111,
              "#46039f"
             ],
             [
              0.2222222222222222,
              "#7201a8"
             ],
             [
              0.3333333333333333,
              "#9c179e"
             ],
             [
              0.4444444444444444,
              "#bd3786"
             ],
             [
              0.5555555555555556,
              "#d8576b"
             ],
             [
              0.6666666666666666,
              "#ed7953"
             ],
             [
              0.7777777777777778,
              "#fb9f3a"
             ],
             [
              0.8888888888888888,
              "#fdca26"
             ],
             [
              1,
              "#f0f921"
             ]
            ],
            "type": "histogram2dcontour"
           }
          ],
          "mesh3d": [
           {
            "colorbar": {
             "outlinewidth": 0,
             "ticks": ""
            },
            "type": "mesh3d"
           }
          ],
          "parcoords": [
           {
            "line": {
             "colorbar": {
              "outlinewidth": 0,
              "ticks": ""
             }
            },
            "type": "parcoords"
           }
          ],
          "pie": [
           {
            "automargin": true,
            "type": "pie"
           }
          ],
          "scatter": [
           {
            "fillpattern": {
             "fillmode": "overlay",
             "size": 10,
             "solidity": 0.2
            },
            "type": "scatter"
           }
          ],
          "scatter3d": [
           {
            "line": {
             "colorbar": {
              "outlinewidth": 0,
              "ticks": ""
             }
            },
            "marker": {
             "colorbar": {
              "outlinewidth": 0,
              "ticks": ""
             }
            },
            "type": "scatter3d"
           }
          ],
          "scattercarpet": [
           {
            "marker": {
             "colorbar": {
              "outlinewidth": 0,
              "ticks": ""
             }
            },
            "type": "scattercarpet"
           }
          ],
          "scattergeo": [
           {
            "marker": {
             "colorbar": {
              "outlinewidth": 0,
              "ticks": ""
             }
            },
            "type": "scattergeo"
           }
          ],
          "scattergl": [
           {
            "marker": {
             "colorbar": {
              "outlinewidth": 0,
              "ticks": ""
             }
            },
            "type": "scattergl"
           }
          ],
          "scattermapbox": [
           {
            "marker": {
             "colorbar": {
              "outlinewidth": 0,
              "ticks": ""
             }
            },
            "type": "scattermapbox"
           }
          ],
          "scatterpolar": [
           {
            "marker": {
             "colorbar": {
              "outlinewidth": 0,
              "ticks": ""
             }
            },
            "type": "scatterpolar"
           }
          ],
          "scatterpolargl": [
           {
            "marker": {
             "colorbar": {
              "outlinewidth": 0,
              "ticks": ""
             }
            },
            "type": "scatterpolargl"
           }
          ],
          "scatterternary": [
           {
            "marker": {
             "colorbar": {
              "outlinewidth": 0,
              "ticks": ""
             }
            },
            "type": "scatterternary"
           }
          ],
          "surface": [
           {
            "colorbar": {
             "outlinewidth": 0,
             "ticks": ""
            },
            "colorscale": [
             [
              0,
              "#0d0887"
             ],
             [
              0.1111111111111111,
              "#46039f"
             ],
             [
              0.2222222222222222,
              "#7201a8"
             ],
             [
              0.3333333333333333,
              "#9c179e"
             ],
             [
              0.4444444444444444,
              "#bd3786"
             ],
             [
              0.5555555555555556,
              "#d8576b"
             ],
             [
              0.6666666666666666,
              "#ed7953"
             ],
             [
              0.7777777777777778,
              "#fb9f3a"
             ],
             [
              0.8888888888888888,
              "#fdca26"
             ],
             [
              1,
              "#f0f921"
             ]
            ],
            "type": "surface"
           }
          ],
          "table": [
           {
            "cells": {
             "fill": {
              "color": "#EBF0F8"
             },
             "line": {
              "color": "white"
             }
            },
            "header": {
             "fill": {
              "color": "#C8D4E3"
             },
             "line": {
              "color": "white"
             }
            },
            "type": "table"
           }
          ]
         },
         "layout": {
          "annotationdefaults": {
           "arrowcolor": "#2a3f5f",
           "arrowhead": 0,
           "arrowwidth": 1
          },
          "autotypenumbers": "strict",
          "coloraxis": {
           "colorbar": {
            "outlinewidth": 0,
            "ticks": ""
           }
          },
          "colorscale": {
           "diverging": [
            [
             0,
             "#8e0152"
            ],
            [
             0.1,
             "#c51b7d"
            ],
            [
             0.2,
             "#de77ae"
            ],
            [
             0.3,
             "#f1b6da"
            ],
            [
             0.4,
             "#fde0ef"
            ],
            [
             0.5,
             "#f7f7f7"
            ],
            [
             0.6,
             "#e6f5d0"
            ],
            [
             0.7,
             "#b8e186"
            ],
            [
             0.8,
             "#7fbc41"
            ],
            [
             0.9,
             "#4d9221"
            ],
            [
             1,
             "#276419"
            ]
           ],
           "sequential": [
            [
             0,
             "#0d0887"
            ],
            [
             0.1111111111111111,
             "#46039f"
            ],
            [
             0.2222222222222222,
             "#7201a8"
            ],
            [
             0.3333333333333333,
             "#9c179e"
            ],
            [
             0.4444444444444444,
             "#bd3786"
            ],
            [
             0.5555555555555556,
             "#d8576b"
            ],
            [
             0.6666666666666666,
             "#ed7953"
            ],
            [
             0.7777777777777778,
             "#fb9f3a"
            ],
            [
             0.8888888888888888,
             "#fdca26"
            ],
            [
             1,
             "#f0f921"
            ]
           ],
           "sequentialminus": [
            [
             0,
             "#0d0887"
            ],
            [
             0.1111111111111111,
             "#46039f"
            ],
            [
             0.2222222222222222,
             "#7201a8"
            ],
            [
             0.3333333333333333,
             "#9c179e"
            ],
            [
             0.4444444444444444,
             "#bd3786"
            ],
            [
             0.5555555555555556,
             "#d8576b"
            ],
            [
             0.6666666666666666,
             "#ed7953"
            ],
            [
             0.7777777777777778,
             "#fb9f3a"
            ],
            [
             0.8888888888888888,
             "#fdca26"
            ],
            [
             1,
             "#f0f921"
            ]
           ]
          },
          "colorway": [
           "#636efa",
           "#EF553B",
           "#00cc96",
           "#ab63fa",
           "#FFA15A",
           "#19d3f3",
           "#FF6692",
           "#B6E880",
           "#FF97FF",
           "#FECB52"
          ],
          "font": {
           "color": "#2a3f5f"
          },
          "geo": {
           "bgcolor": "white",
           "lakecolor": "white",
           "landcolor": "#E5ECF6",
           "showlakes": true,
           "showland": true,
           "subunitcolor": "white"
          },
          "hoverlabel": {
           "align": "left"
          },
          "hovermode": "closest",
          "mapbox": {
           "style": "light"
          },
          "paper_bgcolor": "white",
          "plot_bgcolor": "#E5ECF6",
          "polar": {
           "angularaxis": {
            "gridcolor": "white",
            "linecolor": "white",
            "ticks": ""
           },
           "bgcolor": "#E5ECF6",
           "radialaxis": {
            "gridcolor": "white",
            "linecolor": "white",
            "ticks": ""
           }
          },
          "scene": {
           "xaxis": {
            "backgroundcolor": "#E5ECF6",
            "gridcolor": "white",
            "gridwidth": 2,
            "linecolor": "white",
            "showbackground": true,
            "ticks": "",
            "zerolinecolor": "white"
           },
           "yaxis": {
            "backgroundcolor": "#E5ECF6",
            "gridcolor": "white",
            "gridwidth": 2,
            "linecolor": "white",
            "showbackground": true,
            "ticks": "",
            "zerolinecolor": "white"
           },
           "zaxis": {
            "backgroundcolor": "#E5ECF6",
            "gridcolor": "white",
            "gridwidth": 2,
            "linecolor": "white",
            "showbackground": true,
            "ticks": "",
            "zerolinecolor": "white"
           }
          },
          "shapedefaults": {
           "line": {
            "color": "#2a3f5f"
           }
          },
          "ternary": {
           "aaxis": {
            "gridcolor": "white",
            "linecolor": "white",
            "ticks": ""
           },
           "baxis": {
            "gridcolor": "white",
            "linecolor": "white",
            "ticks": ""
           },
           "bgcolor": "#E5ECF6",
           "caxis": {
            "gridcolor": "white",
            "linecolor": "white",
            "ticks": ""
           }
          },
          "title": {
           "x": 0.05
          },
          "xaxis": {
           "automargin": true,
           "gridcolor": "white",
           "linecolor": "white",
           "ticks": "",
           "title": {
            "standoff": 15
           },
           "zerolinecolor": "white",
           "zerolinewidth": 2
          },
          "yaxis": {
           "automargin": true,
           "gridcolor": "white",
           "linecolor": "white",
           "ticks": "",
           "title": {
            "standoff": 15
           },
           "zerolinecolor": "white",
           "zerolinewidth": 2
          }
         }
        },
        "xaxis": {
         "autorange": true,
         "dtick": 1,
         "gridwidth": 2,
         "range": [
          -0.5,
          1.5
         ],
         "showticklabels": false,
         "tick0": -0.5,
         "ticks": "",
         "zeroline": false
        },
        "yaxis": {
         "autorange": true,
         "dtick": 1,
         "gridwidth": 2,
         "range": [
          8.5,
          -0.5
         ],
         "showticklabels": false,
         "tick0": 0.5,
         "ticks": "",
         "zeroline": false
        }
       }
      },
      "text/html": [
       "<div>                            <div id=\"fd2530f6-745b-4fee-abc9-45bb28d1159f\" class=\"plotly-graph-div\" style=\"height:320px; width:100%;\"></div>            <script type=\"text/javascript\">                require([\"plotly\"], function(Plotly) {                    window.PLOTLYENV=window.PLOTLYENV || {};                                    if (document.getElementById(\"fd2530f6-745b-4fee-abc9-45bb28d1159f\")) {                    Plotly.newPlot(                        \"fd2530f6-745b-4fee-abc9-45bb28d1159f\",                        [{\"colorscale\":[[0,\"#00083e\"],[0.5,\"#ededee\"],[1,\"#ffffff\"]],\"hoverinfo\":\"none\",\"opacity\":0.75,\"showscale\":false,\"z\":[[0,0],[0.5,0.5],[1,1],[0.5,0.5],[1,1],[0.5,0.5],[1,1],[0.5,0.5],[1,1]],\"type\":\"heatmap\"}],                        {\"annotations\":[{\"align\":\"left\",\"font\":{\"color\":\"#ffffff\"},\"showarrow\":false,\"text\":\"\\u003cb\\u003ecourse_organization\\u003c\\u002fb\\u003e\",\"x\":-0.45,\"xanchor\":\"left\",\"xref\":\"x\",\"y\":0,\"yref\":\"y\"},{\"align\":\"left\",\"font\":{\"color\":\"#ffffff\"},\"showarrow\":false,\"text\":\"\\u003cb\\u003ecourse_title\\u003c\\u002fb\\u003e\",\"x\":0.55,\"xanchor\":\"left\",\"xref\":\"x\",\"y\":0,\"yref\":\"y\"},{\"align\":\"left\",\"font\":{\"color\":\"#000000\"},\"showarrow\":false,\"text\":\"(ISC)\\u00b2 Systems Security Certified Practitioner (SSCP)\",\"x\":-0.45,\"xanchor\":\"left\",\"xref\":\"x\",\"y\":1,\"yref\":\"y\"},{\"align\":\"left\",\"font\":{\"color\":\"#000000\"},\"showarrow\":false,\"text\":\"(ISC)\\u00b2 Systems Security Certified Practitioner (SSCP)\",\"x\":0.55,\"xanchor\":\"left\",\"xref\":\"x\",\"y\":1,\"yref\":\"y\"},{\"align\":\"left\",\"font\":{\"color\":\"#000000\"},\"showarrow\":false,\"text\":\"Developing Your Musicianship\",\"x\":-0.45,\"xanchor\":\"left\",\"xref\":\"x\",\"y\":2,\"yref\":\"y\"},{\"align\":\"left\",\"font\":{\"color\":\"#000000\"},\"showarrow\":false,\"text\":\"Developing Your Musicianship\",\"x\":0.55,\"xanchor\":\"left\",\"xref\":\"x\",\"y\":2,\"yref\":\"y\"},{\"align\":\"left\",\"font\":{\"color\":\"#000000\"},\"showarrow\":false,\"text\":\"Developing Your Musicianship\",\"x\":-0.45,\"xanchor\":\"left\",\"xref\":\"x\",\"y\":3,\"yref\":\"y\"},{\"align\":\"left\",\"font\":{\"color\":\"#000000\"},\"showarrow\":false,\"text\":\"Developing Your Musicianship\",\"x\":0.55,\"xanchor\":\"left\",\"xref\":\"x\",\"y\":3,\"yref\":\"y\"},{\"align\":\"left\",\"font\":{\"color\":\"#000000\"},\"showarrow\":false,\"text\":\"Machine Learning\",\"x\":-0.45,\"xanchor\":\"left\",\"xref\":\"x\",\"y\":4,\"yref\":\"y\"},{\"align\":\"left\",\"font\":{\"color\":\"#000000\"},\"showarrow\":false,\"text\":\"Machine Learning\",\"x\":0.55,\"xanchor\":\"left\",\"xref\":\"x\",\"y\":4,\"yref\":\"y\"},{\"align\":\"left\",\"font\":{\"color\":\"#000000\"},\"showarrow\":false,\"text\":\"Machine Learning\",\"x\":-0.45,\"xanchor\":\"left\",\"xref\":\"x\",\"y\":5,\"yref\":\"y\"},{\"align\":\"left\",\"font\":{\"color\":\"#000000\"},\"showarrow\":false,\"text\":\"Machine Learning\",\"x\":0.55,\"xanchor\":\"left\",\"xref\":\"x\",\"y\":5,\"yref\":\"y\"},{\"align\":\"left\",\"font\":{\"color\":\"#000000\"},\"showarrow\":false,\"text\":\"Marketing Digital\",\"x\":-0.45,\"xanchor\":\"left\",\"xref\":\"x\",\"y\":6,\"yref\":\"y\"},{\"align\":\"left\",\"font\":{\"color\":\"#000000\"},\"showarrow\":false,\"text\":\"Marketing Digital\",\"x\":0.55,\"xanchor\":\"left\",\"xref\":\"x\",\"y\":6,\"yref\":\"y\"},{\"align\":\"left\",\"font\":{\"color\":\"#000000\"},\"showarrow\":false,\"text\":\"Marketing Digital\",\"x\":-0.45,\"xanchor\":\"left\",\"xref\":\"x\",\"y\":7,\"yref\":\"y\"},{\"align\":\"left\",\"font\":{\"color\":\"#000000\"},\"showarrow\":false,\"text\":\"Marketing Digital\",\"x\":0.55,\"xanchor\":\"left\",\"xref\":\"x\",\"y\":7,\"yref\":\"y\"},{\"align\":\"left\",\"font\":{\"color\":\"#000000\"},\"showarrow\":false,\"text\":\"Medical Neuroscience\",\"x\":-0.45,\"xanchor\":\"left\",\"xref\":\"x\",\"y\":8,\"yref\":\"y\"},{\"align\":\"left\",\"font\":{\"color\":\"#000000\"},\"showarrow\":false,\"text\":\"Medical Neuroscience\",\"x\":0.55,\"xanchor\":\"left\",\"xref\":\"x\",\"y\":8,\"yref\":\"y\"}],\"height\":320,\"margin\":{\"b\":0,\"l\":0,\"r\":0,\"t\":0},\"xaxis\":{\"dtick\":1,\"gridwidth\":2,\"showticklabels\":false,\"tick0\":-0.5,\"ticks\":\"\",\"zeroline\":false},\"yaxis\":{\"autorange\":\"reversed\",\"dtick\":1,\"gridwidth\":2,\"showticklabels\":false,\"tick0\":0.5,\"ticks\":\"\",\"zeroline\":false},\"template\":{\"data\":{\"histogram2dcontour\":[{\"type\":\"histogram2dcontour\",\"colorbar\":{\"outlinewidth\":0,\"ticks\":\"\"},\"colorscale\":[[0.0,\"#0d0887\"],[0.1111111111111111,\"#46039f\"],[0.2222222222222222,\"#7201a8\"],[0.3333333333333333,\"#9c179e\"],[0.4444444444444444,\"#bd3786\"],[0.5555555555555556,\"#d8576b\"],[0.6666666666666666,\"#ed7953\"],[0.7777777777777778,\"#fb9f3a\"],[0.8888888888888888,\"#fdca26\"],[1.0,\"#f0f921\"]]}],\"choropleth\":[{\"type\":\"choropleth\",\"colorbar\":{\"outlinewidth\":0,\"ticks\":\"\"}}],\"histogram2d\":[{\"type\":\"histogram2d\",\"colorbar\":{\"outlinewidth\":0,\"ticks\":\"\"},\"colorscale\":[[0.0,\"#0d0887\"],[0.1111111111111111,\"#46039f\"],[0.2222222222222222,\"#7201a8\"],[0.3333333333333333,\"#9c179e\"],[0.4444444444444444,\"#bd3786\"],[0.5555555555555556,\"#d8576b\"],[0.6666666666666666,\"#ed7953\"],[0.7777777777777778,\"#fb9f3a\"],[0.8888888888888888,\"#fdca26\"],[1.0,\"#f0f921\"]]}],\"heatmap\":[{\"type\":\"heatmap\",\"colorbar\":{\"outlinewidth\":0,\"ticks\":\"\"},\"colorscale\":[[0.0,\"#0d0887\"],[0.1111111111111111,\"#46039f\"],[0.2222222222222222,\"#7201a8\"],[0.3333333333333333,\"#9c179e\"],[0.4444444444444444,\"#bd3786\"],[0.5555555555555556,\"#d8576b\"],[0.6666666666666666,\"#ed7953\"],[0.7777777777777778,\"#fb9f3a\"],[0.8888888888888888,\"#fdca26\"],[1.0,\"#f0f921\"]]}],\"heatmapgl\":[{\"type\":\"heatmapgl\",\"colorbar\":{\"outlinewidth\":0,\"ticks\":\"\"},\"colorscale\":[[0.0,\"#0d0887\"],[0.1111111111111111,\"#46039f\"],[0.2222222222222222,\"#7201a8\"],[0.3333333333333333,\"#9c179e\"],[0.4444444444444444,\"#bd3786\"],[0.5555555555555556,\"#d8576b\"],[0.6666666666666666,\"#ed7953\"],[0.7777777777777778,\"#fb9f3a\"],[0.8888888888888888,\"#fdca26\"],[1.0,\"#f0f921\"]]}],\"contourcarpet\":[{\"type\":\"contourcarpet\",\"colorbar\":{\"outlinewidth\":0,\"ticks\":\"\"}}],\"contour\":[{\"type\":\"contour\",\"colorbar\":{\"outlinewidth\":0,\"ticks\":\"\"},\"colorscale\":[[0.0,\"#0d0887\"],[0.1111111111111111,\"#46039f\"],[0.2222222222222222,\"#7201a8\"],[0.3333333333333333,\"#9c179e\"],[0.4444444444444444,\"#bd3786\"],[0.5555555555555556,\"#d8576b\"],[0.6666666666666666,\"#ed7953\"],[0.7777777777777778,\"#fb9f3a\"],[0.8888888888888888,\"#fdca26\"],[1.0,\"#f0f921\"]]}],\"surface\":[{\"type\":\"surface\",\"colorbar\":{\"outlinewidth\":0,\"ticks\":\"\"},\"colorscale\":[[0.0,\"#0d0887\"],[0.1111111111111111,\"#46039f\"],[0.2222222222222222,\"#7201a8\"],[0.3333333333333333,\"#9c179e\"],[0.4444444444444444,\"#bd3786\"],[0.5555555555555556,\"#d8576b\"],[0.6666666666666666,\"#ed7953\"],[0.7777777777777778,\"#fb9f3a\"],[0.8888888888888888,\"#fdca26\"],[1.0,\"#f0f921\"]]}],\"mesh3d\":[{\"type\":\"mesh3d\",\"colorbar\":{\"outlinewidth\":0,\"ticks\":\"\"}}],\"scatter\":[{\"fillpattern\":{\"fillmode\":\"overlay\",\"size\":10,\"solidity\":0.2},\"type\":\"scatter\"}],\"parcoords\":[{\"type\":\"parcoords\",\"line\":{\"colorbar\":{\"outlinewidth\":0,\"ticks\":\"\"}}}],\"scatterpolargl\":[{\"type\":\"scatterpolargl\",\"marker\":{\"colorbar\":{\"outlinewidth\":0,\"ticks\":\"\"}}}],\"bar\":[{\"error_x\":{\"color\":\"#2a3f5f\"},\"error_y\":{\"color\":\"#2a3f5f\"},\"marker\":{\"line\":{\"color\":\"#E5ECF6\",\"width\":0.5},\"pattern\":{\"fillmode\":\"overlay\",\"size\":10,\"solidity\":0.2}},\"type\":\"bar\"}],\"scattergeo\":[{\"type\":\"scattergeo\",\"marker\":{\"colorbar\":{\"outlinewidth\":0,\"ticks\":\"\"}}}],\"scatterpolar\":[{\"type\":\"scatterpolar\",\"marker\":{\"colorbar\":{\"outlinewidth\":0,\"ticks\":\"\"}}}],\"histogram\":[{\"marker\":{\"pattern\":{\"fillmode\":\"overlay\",\"size\":10,\"solidity\":0.2}},\"type\":\"histogram\"}],\"scattergl\":[{\"type\":\"scattergl\",\"marker\":{\"colorbar\":{\"outlinewidth\":0,\"ticks\":\"\"}}}],\"scatter3d\":[{\"type\":\"scatter3d\",\"line\":{\"colorbar\":{\"outlinewidth\":0,\"ticks\":\"\"}},\"marker\":{\"colorbar\":{\"outlinewidth\":0,\"ticks\":\"\"}}}],\"scattermapbox\":[{\"type\":\"scattermapbox\",\"marker\":{\"colorbar\":{\"outlinewidth\":0,\"ticks\":\"\"}}}],\"scatterternary\":[{\"type\":\"scatterternary\",\"marker\":{\"colorbar\":{\"outlinewidth\":0,\"ticks\":\"\"}}}],\"scattercarpet\":[{\"type\":\"scattercarpet\",\"marker\":{\"colorbar\":{\"outlinewidth\":0,\"ticks\":\"\"}}}],\"carpet\":[{\"aaxis\":{\"endlinecolor\":\"#2a3f5f\",\"gridcolor\":\"white\",\"linecolor\":\"white\",\"minorgridcolor\":\"white\",\"startlinecolor\":\"#2a3f5f\"},\"baxis\":{\"endlinecolor\":\"#2a3f5f\",\"gridcolor\":\"white\",\"linecolor\":\"white\",\"minorgridcolor\":\"white\",\"startlinecolor\":\"#2a3f5f\"},\"type\":\"carpet\"}],\"table\":[{\"cells\":{\"fill\":{\"color\":\"#EBF0F8\"},\"line\":{\"color\":\"white\"}},\"header\":{\"fill\":{\"color\":\"#C8D4E3\"},\"line\":{\"color\":\"white\"}},\"type\":\"table\"}],\"barpolar\":[{\"marker\":{\"line\":{\"color\":\"#E5ECF6\",\"width\":0.5},\"pattern\":{\"fillmode\":\"overlay\",\"size\":10,\"solidity\":0.2}},\"type\":\"barpolar\"}],\"pie\":[{\"automargin\":true,\"type\":\"pie\"}]},\"layout\":{\"autotypenumbers\":\"strict\",\"colorway\":[\"#636efa\",\"#EF553B\",\"#00cc96\",\"#ab63fa\",\"#FFA15A\",\"#19d3f3\",\"#FF6692\",\"#B6E880\",\"#FF97FF\",\"#FECB52\"],\"font\":{\"color\":\"#2a3f5f\"},\"hovermode\":\"closest\",\"hoverlabel\":{\"align\":\"left\"},\"paper_bgcolor\":\"white\",\"plot_bgcolor\":\"#E5ECF6\",\"polar\":{\"bgcolor\":\"#E5ECF6\",\"angularaxis\":{\"gridcolor\":\"white\",\"linecolor\":\"white\",\"ticks\":\"\"},\"radialaxis\":{\"gridcolor\":\"white\",\"linecolor\":\"white\",\"ticks\":\"\"}},\"ternary\":{\"bgcolor\":\"#E5ECF6\",\"aaxis\":{\"gridcolor\":\"white\",\"linecolor\":\"white\",\"ticks\":\"\"},\"baxis\":{\"gridcolor\":\"white\",\"linecolor\":\"white\",\"ticks\":\"\"},\"caxis\":{\"gridcolor\":\"white\",\"linecolor\":\"white\",\"ticks\":\"\"}},\"coloraxis\":{\"colorbar\":{\"outlinewidth\":0,\"ticks\":\"\"}},\"colorscale\":{\"sequential\":[[0.0,\"#0d0887\"],[0.1111111111111111,\"#46039f\"],[0.2222222222222222,\"#7201a8\"],[0.3333333333333333,\"#9c179e\"],[0.4444444444444444,\"#bd3786\"],[0.5555555555555556,\"#d8576b\"],[0.6666666666666666,\"#ed7953\"],[0.7777777777777778,\"#fb9f3a\"],[0.8888888888888888,\"#fdca26\"],[1.0,\"#f0f921\"]],\"sequentialminus\":[[0.0,\"#0d0887\"],[0.1111111111111111,\"#46039f\"],[0.2222222222222222,\"#7201a8\"],[0.3333333333333333,\"#9c179e\"],[0.4444444444444444,\"#bd3786\"],[0.5555555555555556,\"#d8576b\"],[0.6666666666666666,\"#ed7953\"],[0.7777777777777778,\"#fb9f3a\"],[0.8888888888888888,\"#fdca26\"],[1.0,\"#f0f921\"]],\"diverging\":[[0,\"#8e0152\"],[0.1,\"#c51b7d\"],[0.2,\"#de77ae\"],[0.3,\"#f1b6da\"],[0.4,\"#fde0ef\"],[0.5,\"#f7f7f7\"],[0.6,\"#e6f5d0\"],[0.7,\"#b8e186\"],[0.8,\"#7fbc41\"],[0.9,\"#4d9221\"],[1,\"#276419\"]]},\"xaxis\":{\"gridcolor\":\"white\",\"linecolor\":\"white\",\"ticks\":\"\",\"title\":{\"standoff\":15},\"zerolinecolor\":\"white\",\"automargin\":true,\"zerolinewidth\":2},\"yaxis\":{\"gridcolor\":\"white\",\"linecolor\":\"white\",\"ticks\":\"\",\"title\":{\"standoff\":15},\"zerolinecolor\":\"white\",\"automargin\":true,\"zerolinewidth\":2},\"scene\":{\"xaxis\":{\"backgroundcolor\":\"#E5ECF6\",\"gridcolor\":\"white\",\"linecolor\":\"white\",\"showbackground\":true,\"ticks\":\"\",\"zerolinecolor\":\"white\",\"gridwidth\":2},\"yaxis\":{\"backgroundcolor\":\"#E5ECF6\",\"gridcolor\":\"white\",\"linecolor\":\"white\",\"showbackground\":true,\"ticks\":\"\",\"zerolinecolor\":\"white\",\"gridwidth\":2},\"zaxis\":{\"backgroundcolor\":\"#E5ECF6\",\"gridcolor\":\"white\",\"linecolor\":\"white\",\"showbackground\":true,\"ticks\":\"\",\"zerolinecolor\":\"white\",\"gridwidth\":2}},\"shapedefaults\":{\"line\":{\"color\":\"#2a3f5f\"}},\"annotationdefaults\":{\"arrowcolor\":\"#2a3f5f\",\"arrowhead\":0,\"arrowwidth\":1},\"geo\":{\"bgcolor\":\"white\",\"landcolor\":\"#E5ECF6\",\"subunitcolor\":\"white\",\"showland\":true,\"showlakes\":true,\"lakecolor\":\"white\"},\"title\":{\"x\":0.05},\"mapbox\":{\"style\":\"light\"}}}},                        {\"responsive\": true}                    ).then(function(){\n",
       "                            \n",
       "var gd = document.getElementById('fd2530f6-745b-4fee-abc9-45bb28d1159f');\n",
       "var x = new MutationObserver(function (mutations, observer) {{\n",
       "        var display = window.getComputedStyle(gd).display;\n",
       "        if (!display || display === 'none') {{\n",
       "            console.log([gd, 'removed!']);\n",
       "            Plotly.purge(gd);\n",
       "            observer.disconnect();\n",
       "        }}\n",
       "}});\n",
       "\n",
       "// Listen for the removal of the full notebook cells\n",
       "var notebookContainer = gd.closest('#notebook-container');\n",
       "if (notebookContainer) {{\n",
       "    x.observe(notebookContainer, {childList: true});\n",
       "}}\n",
       "\n",
       "// Listen for the clearing of the current output cell\n",
       "var outputEl = gd.closest('.output');\n",
       "if (outputEl) {{\n",
       "    x.observe(outputEl, {childList: true});\n",
       "}}\n",
       "\n",
       "                        })                };                });            </script>        </div>"
      ]
     },
     "metadata": {},
     "output_type": "display_data"
    }
   ],
   "source": [
    "# Get the top 5 organizations\n",
    "top_5_orgs = df['course_organization'].value_counts().head(5).index\n",
    "\n",
    "# Filter dataset for only these organizations\n",
    "df_top_5_courses = df[df['course_organization'].isin(top_5_orgs)]\n",
    "\n",
    "# Display the courses offered by these organizations\n",
    "df_top_5_courses[['course_organization', 'course_title']]\n",
    "\n",
    "import plotly.figure_factory as ff\n",
    "\n",
    "table = ff.create_table(df_top_5_courses[['course_organization', 'course_title']].head(20))\n",
    "table.show()\n"
   ]
  },
  {
   "cell_type": "markdown",
   "id": "6057041f-392a-4135-b3ed-e19af933139c",
   "metadata": {},
   "source": [
    "### Course ratings vs Students Enrolled"
   ]
  },
  {
   "cell_type": "code",
   "execution_count": 28,
   "id": "ed0ffb78-0a59-4be0-887d-85bf7758e806",
   "metadata": {},
   "outputs": [
    {
     "data": {
      "application/vnd.plotly.v1+json": {
       "config": {
        "plotlyServerURL": "https://plot.ly"
       },
       "data": [
        {
         "customdata": [
          [
           "(ISC)² Systems Security Certified Practitioner (SSCP)",
           "(ISC)² Systems Security Certified Practitioner (SSCP)"
          ],
          [
           "ADHD: Everyday Strategies for Elementary Students",
           "ADHD: Everyday Strategies for Elementary Students"
          ],
          [
           "AI For Everyone",
           "AI For Everyone"
          ],
          [
           "AI Foundations for Everyone",
           "AI Foundations for Everyone"
          ],
          [
           "AWS Fundamentals",
           "AWS Fundamentals"
          ],
          [
           "AWS Fundamentals: Addressing Security Risk",
           "AWS Fundamentals: Addressing Security Risk"
          ],
          [
           "AWS Fundamentals: Building Serverless Applications",
           "AWS Fundamentals: Building Serverless Applications"
          ],
          [
           "AWS Fundamentals: Going Cloud-Native",
           "AWS Fundamentals: Going Cloud-Native"
          ],
          [
           "Academic English: Writing",
           "Academic English: Writing"
          ],
          [
           "Access Controls",
           "Access Controls"
          ],
          [
           "Achieving Personal and Professional Success",
           "Achieving Personal and Professional Success"
          ],
          [
           "Addiction Treatment: Clinical Skills for Healthcare Providers",
           "Addiction Treatment: Clinical Skills for Healthcare Providers"
          ],
          [
           "Age of Cathedrals",
           "Age of Cathedrals"
          ],
          [
           "Agile Development",
           "Agile Development"
          ],
          [
           "Agile Meets Design Thinking",
           "Agile Meets Design Thinking"
          ],
          [
           "Agile with Atlassian Jira",
           "Agile with Atlassian Jira"
          ],
          [
           "Agile и Scrum в работе над проектами и продуктами",
           "Agile и Scrum в работе над проектами и продуктами"
          ],
          [
           "American Contract Law I",
           "American Contract Law I"
          ],
          [
           "An Introduction to American Law",
           "An Introduction to American Law"
          ],
          [
           "An Introduction to Consumer Neuroscience & Neuromarketing",
           "An Introduction to Consumer Neuroscience & Neuromarketing"
          ],
          [
           "An Introduction to Programming the Internet of Things (IOT)",
           "An Introduction to Programming the Internet of Things (IOT)"
          ],
          [
           "Analysing: Numeric and digital literacies",
           "Analysing: Numeric and digital literacies"
          ],
          [
           "Anatomy",
           "Anatomy"
          ],
          [
           "Anatomy: Musculoskeletal and Integumentary Systems",
           "Anatomy: Musculoskeletal and Integumentary Systems"
          ],
          [
           "Android App Development",
           "Android App Development"
          ],
          [
           "Anticorrupción: Introducción a conceptos y perspectiva práctica",
           "Anticorrupción: Introducción a conceptos y perspectiva práctica"
          ],
          [
           "Applied Data Science",
           "Applied Data Science"
          ],
          [
           "Aprende a programar con Python",
           "Aprende a programar con Python"
          ],
          [
           "Aprendiendo a aprender: Poderosas herramientas mentales con las que podrás dominar temas difíciles (Learning How to Learn)",
           "Aprendiendo a aprender: Poderosas herramientas mentales con las que podrás dominar temas difíciles (Learning How to Learn)"
          ],
          [
           "Architecting with Google Kubernetes Engine 日本語版",
           "Architecting with Google Kubernetes Engine 日本語版"
          ],
          [
           "Arizona State University TESOL",
           "Arizona State University TESOL"
          ],
          [
           "Aspectos básicos de la planificación y la gestión de proyectos",
           "Aspectos básicos de la planificación y la gestión de proyectos"
          ],
          [
           "BIM Fundamentals for Engineers",
           "BIM Fundamentals for Engineers"
          ],
          [
           "Basic Statistics",
           "Basic Statistics"
          ],
          [
           "Become a Journalist: Report the News!",
           "Become a Journalist: Report the News!"
          ],
          [
           "Becoming a Sports Agent",
           "Becoming a Sports Agent"
          ],
          [
           "Becoming a changemaker: Introduction to Social Innovation",
           "Becoming a changemaker: Introduction to Social Innovation"
          ],
          [
           "Big Data – Introducción al uso práctico de datos masivos",
           "Big Data – Introducción al uso práctico de datos masivos"
          ],
          [
           "Biohacking Your Brain's Health",
           "Biohacking Your Brain's Health"
          ],
          [
           "Biology Meets Programming: Bioinformatics for Beginners",
           "Biology Meets Programming: Bioinformatics for Beginners"
          ],
          [
           "Biostatistics in Public Health",
           "Biostatistics in Public Health"
          ],
          [
           "Blockchain Revolution",
           "Blockchain Revolution"
          ],
          [
           "Blockchain Revolution in Financial Services",
           "Blockchain Revolution in Financial Services"
          ],
          [
           "Blockchain: Foundations and Use Cases",
           "Blockchain: Foundations and Use Cases"
          ],
          [
           "Boosting Creativity for Innovation",
           "Boosting Creativity for Innovation"
          ],
          [
           "Brand Management: Aligning Business, Brand and Behaviour",
           "Brand Management: Aligning Business, Brand and Behaviour"
          ],
          [
           "Branding: The Creative Journey",
           "Branding: The Creative Journey"
          ],
          [
           "Bugs 101: Insect-Human Interactions",
           "Bugs 101: Insect-Human Interactions"
          ],
          [
           "Building Conversational Experiences with Dialogflow",
           "Building Conversational Experiences with Dialogflow"
          ],
          [
           "Business Analytics",
           "Business Analytics"
          ],
          [
           "Business Foundations",
           "Business Foundations"
          ],
          [
           "Business Statistics and Analysis",
           "Business Statistics and Analysis"
          ],
          [
           "Business Strategies for A Better World",
           "Business Strategies for A Better World"
          ],
          [
           "Business Strategy",
           "Business Strategy"
          ],
          [
           "Business Technology Management",
           "Business Technology Management"
          ],
          [
           "Business Transformation with Google Cloud",
           "Business Transformation with Google Cloud"
          ],
          [
           "Business Writing",
           "Business Writing"
          ],
          [
           "Business and Financial Modeling",
           "Business and Financial Modeling"
          ],
          [
           "C for Everyone: Programming Fundamentals",
           "C for Everyone: Programming Fundamentals"
          ],
          [
           "C# Programming for Unity Game Development",
           "C# Programming for Unity Game Development"
          ],
          [
           "COVID-19 Contact Tracing",
           "COVID-19 Contact Tracing"
          ],
          [
           "COVID-19: What You Need to Know (CME Eligible)",
           "COVID-19: What You Need to Know (CME Eligible)"
          ],
          [
           "Camino a la Excelencia en Gestión de Proyectos",
           "Camino a la Excelencia en Gestión de Proyectos"
          ],
          [
           "Career Success",
           "Career Success"
          ],
          [
           "Challenging Forensic Science: How Science Should Speak to Court",
           "Challenging Forensic Science: How Science Should Speak to Court"
          ],
          [
           "Chemicals and Health",
           "Chemicals and Health"
          ],
          [
           "Child Nutrition and Cooking",
           "Child Nutrition and Cooking"
          ],
          [
           "Chinese for HSK 1",
           "Chinese for HSK 1"
          ],
          [
           "Cisco Networking Basics",
           "Cisco Networking Basics"
          ],
          [
           "Claves de la Dirección de Empresas",
           "Claves de la Dirección de Empresas"
          ],
          [
           "Climate Change and Health: From Science to Action",
           "Climate Change and Health: From Science to Action"
          ],
          [
           "Clinical Terminology for International and U.S. Students",
           "Clinical Terminology for International and U.S. Students"
          ],
          [
           "Cloud Computing Basics (Cloud 101)",
           "Cloud Computing Basics (Cloud 101)"
          ],
          [
           "Code Yourself! An Introduction to Programming",
           "Code Yourself! An Introduction to Programming"
          ],
          [
           "Communication Skills for Engineers",
           "Communication Skills for Engineers"
          ],
          [
           "Communication Strategies for a Virtual Age",
           "Communication Strategies for a Virtual Age"
          ],
          [
           "Compassionate Leadership Through Service Learning with Jane Goodall and Roots & Shoots",
           "Compassionate Leadership Through Service Learning with Jane Goodall and Roots & Shoots"
          ],
          [
           "Competencias digitales. Herramientas de ofimática (Microsoft Word, Excel, Power Point)",
           "Competencias digitales. Herramientas de ofimática (Microsoft Word, Excel, Power Point)"
          ],
          [
           "Computational Social Science",
           "Computational Social Science"
          ],
          [
           "Computational Thinking for Problem Solving",
           "Computational Thinking for Problem Solving"
          ],
          [
           "Computer Security and Systems Management",
           "Computer Security and Systems Management"
          ],
          [
           "Conflict Management",
           "Conflict Management"
          ],
          [
           "Construction Cost Estimating and Cost Control",
           "Construction Cost Estimating and Cost Control"
          ],
          [
           "Construction Management",
           "Construction Management"
          ],
          [
           "Construction Project Management",
           "Construction Project Management"
          ],
          [
           "Construction Scheduling",
           "Construction Scheduling"
          ],
          [
           "Contabilidad para no contadores",
           "Contabilidad para no contadores"
          ],
          [
           "Content Strategy for Professionals",
           "Content Strategy for Professionals"
          ],
          [
           "Continuous Delivery & DevOps",
           "Continuous Delivery & DevOps"
          ],
          [
           "Corporate Strategy",
           "Corporate Strategy"
          ],
          [
           "Corrección, estilo y  variaciones de la lengua española",
           "Corrección, estilo y  variaciones de la lengua española"
          ],
          [
           "Cost and Economics in Pricing Strategy",
           "Cost and Economics in Pricing Strategy"
          ],
          [
           "Crash Course on Python",
           "Crash Course on Python"
          ],
          [
           "Creative Writing",
           "Creative Writing"
          ],
          [
           "Creatividad, diseño e innovación: Técnicas y herramientas",
           "Creatividad, diseño e innovación: Técnicas y herramientas"
          ],
          [
           "Culture-Driven Team Building",
           "Culture-Driven Team Building"
          ],
          [
           "Curanderismo: Traditional Healing Using Plants",
           "Curanderismo: Traditional Healing Using Plants"
          ],
          [
           "Customer Segmentation and Prospecting",
           "Customer Segmentation and Prospecting"
          ],
          [
           "Cybersecurity and Its Ten Domains",
           "Cybersecurity and Its Ten Domains"
          ],
          [
           "Cybersecurity for Business",
           "Cybersecurity for Business"
          ],
          [
           "Cómo hablar bien en público",
           "Cómo hablar bien en público"
          ],
          [
           "Data Analysis and Interpretation",
           "Data Analysis and Interpretation"
          ],
          [
           "Data Analysis and Presentation Skills: the PwC Approach",
           "Data Analysis and Presentation Skills: the PwC Approach"
          ],
          [
           "Data Analysis with Python",
           "Data Analysis with Python"
          ],
          [
           "Data Analytics for Lean Six Sigma",
           "Data Analytics for Lean Six Sigma"
          ],
          [
           "Data Management for Clinical Research",
           "Data Management for Clinical Research"
          ],
          [
           "Data Science",
           "Data Science"
          ],
          [
           "Data Science Math Skills",
           "Data Science Math Skills"
          ],
          [
           "Data Science Methodology",
           "Data Science Methodology"
          ],
          [
           "Data Science: Foundations using R",
           "Data Science: Foundations using R"
          ],
          [
           "Data Visualization with Advanced Excel",
           "Data Visualization with Advanced Excel"
          ],
          [
           "Data Visualization with Tableau",
           "Data Visualization with Tableau"
          ],
          [
           "Data and Health Indicators in Public Health Practice",
           "Data and Health Indicators in Public Health Practice"
          ],
          [
           "Data-driven Decision Making",
           "Data-driven Decision Making"
          ],
          [
           "Databases and SQL for Data Science",
           "Databases and SQL for Data Science"
          ],
          [
           "De-Mystifying Mindfulness",
           "De-Mystifying Mindfulness"
          ],
          [
           "Democracia y decisiones públicas. Introducción al análisis de políticas públicas",
           "Democracia y decisiones públicas. Introducción al análisis de políticas públicas"
          ],
          [
           "Dentistry 101",
           "Dentistry 101"
          ],
          [
           "Dermatology: Trip to skin",
           "Dermatology: Trip to skin"
          ],
          [
           "Design Thinking for Innovation",
           "Design Thinking for Innovation"
          ],
          [
           "Design Thinking for the Greater Good: Innovation in the Social Sector",
           "Design Thinking for the Greater Good: Innovation in the Social Sector"
          ],
          [
           "Developing Your Musicianship",
           "Developing Your Musicianship"
          ],
          [
           "Digital Advertising Strategy",
           "Digital Advertising Strategy"
          ],
          [
           "Digital Business Models",
           "Digital Business Models"
          ],
          [
           "Digital Manufacturing & Design Technology",
           "Digital Manufacturing & Design Technology"
          ],
          [
           "Digital Marketing",
           "Digital Marketing"
          ],
          [
           "Digital Product Management",
           "Digital Product Management"
          ],
          [
           "Digital Product Management: Modern Fundamentals",
           "Digital Product Management: Modern Fundamentals"
          ],
          [
           "Dino 101: Dinosaur Paleobiology",
           "Dino 101: Dinosaur Paleobiology"
          ],
          [
           "Diseño Instruccional: Aprendizaje activo y Pedagogía digital",
           "Diseño Instruccional: Aprendizaje activo y Pedagogía digital"
          ],
          [
           "Diseño y Creación de un Emprendimiento Social",
           "Diseño y Creación de un Emprendimiento Social"
          ],
          [
           "Driving business towards the Sustainable Development Goals",
           "Driving business towards the Sustainable Development Goals"
          ],
          [
           "Drug Commercialization",
           "Drug Commercialization"
          ],
          [
           "Drug Discovery",
           "Drug Discovery"
          ],
          [
           "Dynamic Public Speaking",
           "Dynamic Public Speaking"
          ],
          [
           "EMT Foundations",
           "EMT Foundations"
          ],
          [
           "Egiptología (Egyptology)",
           "Egiptología (Egyptology)"
          ],
          [
           "El Abogado del Futuro: Legaltech y la Transformación Digital del Derecho",
           "El Abogado del Futuro: Legaltech y la Transformación Digital del Derecho"
          ],
          [
           "Electric Industry Operations and Markets",
           "Electric Industry Operations and Markets"
          ],
          [
           "Emerging Technologies: From Smartphones to IoT to Big Data",
           "Emerging Technologies: From Smartphones to IoT to Big Data"
          ],
          [
           "Energy Production, Distribution & Safety",
           "Energy Production, Distribution & Safety"
          ],
          [
           "Engineering Health: Introduction to Yoga and Physiology",
           "Engineering Health: Introduction to Yoga and Physiology"
          ],
          [
           "Engineering Project Management: Initiating and Planning",
           "Engineering Project Management: Initiating and Planning"
          ],
          [
           "English Composition I",
           "English Composition I"
          ],
          [
           "English for Business and Entrepreneurship",
           "English for Business and Entrepreneurship"
          ],
          [
           "English for Science, Technology, Engineering, and Mathematics",
           "English for Science, Technology, Engineering, and Mathematics"
          ],
          [
           "Enterprise Architecture",
           "Enterprise Architecture"
          ],
          [
           "Entrepreneurship",
           "Entrepreneurship"
          ],
          [
           "Entrepreneurship 3: Growth Strategies",
           "Entrepreneurship 3: Growth Strategies"
          ],
          [
           "Entrepreneurship Strategy: From Ideation to Exit",
           "Entrepreneurship Strategy: From Ideation to Exit"
          ],
          [
           "Entrepreneurship: Launching an Innovative Business",
           "Entrepreneurship: Launching an Innovative Business"
          ],
          [
           "Epidemiology for Public Health",
           "Epidemiology for Public Health"
          ],
          [
           "Epidemiology in Public Health Practice",
           "Epidemiology in Public Health Practice"
          ],
          [
           "Equine Welfare and Management",
           "Equine Welfare and Management"
          ],
          [
           "Esports",
           "Esports"
          ],
          [
           "Essential Epidemiologic Tools for Public Health Practice",
           "Essential Epidemiologic Tools for Public Health Practice"
          ],
          [
           "Estadística y probabilidad",
           "Estadística y probabilidad"
          ],
          [
           "Evaluación educativa",
           "Evaluación educativa"
          ],
          [
           "Everyday Excel, Part 1",
           "Everyday Excel, Part 1"
          ],
          [
           "Everyday Parenting: The ABCs of Child Rearing",
           "Everyday Parenting: The ABCs of Child Rearing"
          ],
          [
           "Excel Skills for Business",
           "Excel Skills for Business"
          ],
          [
           "Excel Skills for Business: Essentials",
           "Excel Skills for Business: Essentials"
          ],
          [
           "Excel to MySQL: Analytic Techniques for Business",
           "Excel to MySQL: Analytic Techniques for Business"
          ],
          [
           "Excel/VBA for Creative Problem Solving",
           "Excel/VBA for Creative Problem Solving"
          ],
          [
           "Excel/VBA for Creative Problem Solving, Part 1",
           "Excel/VBA for Creative Problem Solving, Part 1"
          ],
          [
           "Executive Data Science",
           "Executive Data Science"
          ],
          [
           "Explorando la Energía Sustentable",
           "Explorando la Energía Sustentable"
          ],
          [
           "Fashion as Design",
           "Fashion as Design"
          ],
          [
           "Feminism and Social Justice",
           "Feminism and Social Justice"
          ],
          [
           "FinTech Law and Policy",
           "FinTech Law and Policy"
          ],
          [
           "FinTech: Finance Industry Transformation and Regulation",
           "FinTech: Finance Industry Transformation and Regulation"
          ],
          [
           "FinTech: Foundations, Payments, and Regulations",
           "FinTech: Foundations, Payments, and Regulations"
          ],
          [
           "Finance & Quantitative Modeling for Analysts",
           "Finance & Quantitative Modeling for Analysts"
          ],
          [
           "Finance for Non-Finance Professionals",
           "Finance for Non-Finance Professionals"
          ],
          [
           "Financial Accounting Fundamentals",
           "Financial Accounting Fundamentals"
          ],
          [
           "Financial Acumen for Non-Financial Managers",
           "Financial Acumen for Non-Financial Managers"
          ],
          [
           "Financial Markets",
           "Financial Markets"
          ],
          [
           "Financial Markets and Investment Strategy",
           "Financial Markets and Investment Strategy"
          ],
          [
           "Financial Technology (Fintech) Innovations",
           "Financial Technology (Fintech) Innovations"
          ],
          [
           "Finding Purpose and Meaning In Life: Living for What Matters Most",
           "Finding Purpose and Meaning In Life: Living for What Matters Most"
          ],
          [
           "Fintech: Foundations & Applications of Financial Technology",
           "Fintech: Foundations & Applications of Financial Technology"
          ],
          [
           "First Step Korean",
           "First Step Korean"
          ],
          [
           "Foundational Finance for Strategic Decision Making",
           "Foundational Finance for Strategic Decision Making"
          ],
          [
           "Foundations of Business Strategy",
           "Foundations of Business Strategy"
          ],
          [
           "Foundations of Global Health",
           "Foundations of Global Health"
          ],
          [
           "Foundations of Management",
           "Foundations of Management"
          ],
          [
           "Foundations of Positive Psychology",
           "Foundations of Positive Psychology"
          ],
          [
           "Foundations of Public Health Practice",
           "Foundations of Public Health Practice"
          ],
          [
           "From Data to Insights with Google Cloud Platform",
           "From Data to Insights with Google Cloud Platform"
          ],
          [
           "From the Big Bang to Dark Energy",
           "From the Big Bang to Dark Energy"
          ],
          [
           "Fundamental Neuroscience for Neuroimaging",
           "Fundamental Neuroscience for Neuroimaging"
          ],
          [
           "Fundamentals of Accounting",
           "Fundamentals of Accounting"
          ],
          [
           "Fundamentals of Computing",
           "Fundamentals of Computing"
          ],
          [
           "Fundamentals of GIS",
           "Fundamentals of GIS"
          ],
          [
           "Fundamentals of Graphic Design",
           "Fundamentals of Graphic Design"
          ],
          [
           "Fundamentals of Music Theory",
           "Fundamentals of Music Theory"
          ],
          [
           "Fundamentals of Project Planning and Management",
           "Fundamentals of Project Planning and Management"
          ],
          [
           "Fundamentals of Visualization with Tableau",
           "Fundamentals of Visualization with Tableau"
          ],
          [
           "Fundamentos Empresariales",
           "Fundamentos Empresariales"
          ],
          [
           "Fundamentos Estratégicos Empresariales",
           "Fundamentos Estratégicos Empresariales"
          ],
          [
           "Fundamentos de Excel para Negocios",
           "Fundamentos de Excel para Negocios"
          ],
          [
           "Fundamentos de Finanzas Empresariales",
           "Fundamentos de Finanzas Empresariales"
          ],
          [
           "Fundamentos de la escritura",
           "Fundamentos de la escritura"
          ],
          [
           "Fundraising and Development",
           "Fundraising and Development"
          ],
          [
           "Futures Thinking",
           "Futures Thinking"
          ],
          [
           "G Suite Administration",
           "G Suite Administration"
          ],
          [
           "GIS, Mapping, and Spatial Analysis",
           "GIS, Mapping, and Spatial Analysis"
          ],
          [
           "Game Theory",
           "Game Theory"
          ],
          [
           "Gender and Sexuality: Diversity and Inclusion in the Workplace",
           "Gender and Sexuality: Diversity and Inclusion in the Workplace"
          ],
          [
           "Geographic Information Systems  (GIS)",
           "Geographic Information Systems  (GIS)"
          ],
          [
           "Get Interactive: Practical Teaching with Technology",
           "Get Interactive: Practical Teaching with Technology"
          ],
          [
           "Getting Started With Music Theory",
           "Getting Started With Music Theory"
          ],
          [
           "Getting Started with Google Sheets",
           "Getting Started with Google Sheets"
          ],
          [
           "Getting Started with SAS Programming",
           "Getting Started with SAS Programming"
          ],
          [
           "Global Diplomacy: the United Nations in the World",
           "Global Diplomacy: the United Nations in the World"
          ],
          [
           "Global Energy and Climate Policy",
           "Global Energy and Climate Policy"
          ],
          [
           "Good with Words: Writing and Editing",
           "Good with Words: Writing and Editing"
          ],
          [
           "Google IT Automation with Python",
           "Google IT Automation with Python"
          ],
          [
           "Google IT Support",
           "Google IT Support"
          ],
          [
           "Graphic Design Elements for Non-Designers",
           "Graphic Design Elements for Non-Designers"
          ],
          [
           "Greening the Economy: Sustainable Cities",
           "Greening the Economy: Sustainable Cities"
          ],
          [
           "Habilidades Gerenciales",
           "Habilidades Gerenciales"
          ],
          [
           "Health Informatics",
           "Health Informatics"
          ],
          [
           "Healthcare Marketplace",
           "Healthcare Marketplace"
          ],
          [
           "Healthcare Organization Operations",
           "Healthcare Organization Operations"
          ],
          [
           "Homeland Security and Cybersecurity",
           "Homeland Security and Cybersecurity"
          ],
          [
           "Hotel Management: Distribution, Revenue and Demand Management",
           "Hotel Management: Distribution, Revenue and Demand Management"
          ],
          [
           "How to Start Your Own Business",
           "How to Start Your Own Business"
          ],
          [
           "Human Resource Management: HR for People Managers",
           "Human Resource Management: HR for People Managers"
          ],
          [
           "IBM Applied AI",
           "IBM Applied AI"
          ],
          [
           "IBM Customer Engagement Specialist Professional Certificate",
           "IBM Customer Engagement Specialist Professional Certificate"
          ],
          [
           "IBM Data Science",
           "IBM Data Science"
          ],
          [
           "IT Fundamentals for Cybersecurity",
           "IT Fundamentals for Cybersecurity"
          ],
          [
           "IT Security: Defense against the digital dark arts",
           "IT Security: Defense against the digital dark arts"
          ],
          [
           "Identifying, Monitoring, and Analyzing Risk and Incident Response and Recovery",
           "Identifying, Monitoring, and Analyzing Risk and Incident Response and Recovery"
          ],
          [
           "Implementación del Marketing Mix",
           "Implementación del Marketing Mix"
          ],
          [
           "Implementing RPA with Cognitive Automation and Analytics",
           "Implementing RPA with Cognitive Automation and Analytics"
          ],
          [
           "Improve Your English Communication Skills",
           "Improve Your English Communication Skills"
          ],
          [
           "Improving Deep Neural Networks: Hyperparameter tuning, Regularization and Optimization",
           "Improving Deep Neural Networks: Hyperparameter tuning, Regularization and Optimization"
          ],
          [
           "Improving Leadership & Governance in Nonprofit Organizations",
           "Improving Leadership & Governance in Nonprofit Organizations"
          ],
          [
           "In the Studio: Postwar Abstract Painting",
           "In the Studio: Postwar Abstract Painting"
          ],
          [
           "Industrial IoT on Google Cloud Platform",
           "Industrial IoT on Google Cloud Platform"
          ],
          [
           "Influencing: Storytelling, Change Management and Governance",
           "Influencing: Storytelling, Change Management and Governance"
          ],
          [
           "Information Security: Context and Introduction",
           "Information Security: Context and Introduction"
          ],
          [
           "Information Visualization",
           "Information Visualization"
          ],
          [
           "Information​ ​Systems",
           "Information​ ​Systems"
          ],
          [
           "Innovation Management",
           "Innovation Management"
          ],
          [
           "Innovation Through Design: Think, Make, Break, Repeat",
           "Innovation Through Design: Think, Make, Break, Repeat"
          ],
          [
           "Innovation: From Creativity to Entrepreneurship",
           "Innovation: From Creativity to Entrepreneurship"
          ],
          [
           "Inspirational Leadership: Leading with Sense",
           "Inspirational Leadership: Leading with Sense"
          ],
          [
           "Integrative Health and Medicine",
           "Integrative Health and Medicine"
          ],
          [
           "Intercultural Management",
           "Intercultural Management"
          ],
          [
           "International Humanitarian Law in Theory and Practice",
           "International Humanitarian Law in Theory and Practice"
          ],
          [
           "International Marketing & Cross Industry Growth",
           "International Marketing & Cross Industry Growth"
          ],
          [
           "International Organizations Management",
           "International Organizations Management"
          ],
          [
           "International Security Management",
           "International Security Management"
          ],
          [
           "International Women's Health and Human Rights",
           "International Women's Health and Human Rights"
          ],
          [
           "International migrations: a global issue",
           "International migrations: a global issue"
          ],
          [
           "Internet Connection: How to Get Online?",
           "Internet Connection: How to Get Online?"
          ],
          [
           "Introducción a Data Science: Programación Estadística con R",
           "Introducción a Data Science: Programación Estadística con R"
          ],
          [
           "Introducción a la programación en Python I: Aprendiendo a programar con Python",
           "Introducción a la programación en Python I: Aprendiendo a programar con Python"
          ],
          [
           "Introduction to Artificial Intelligence (AI)",
           "Introduction to Artificial Intelligence (AI)"
          ],
          [
           "Introduction to Blockchain Technologies",
           "Introduction to Blockchain Technologies"
          ],
          [
           "Introduction to Chemistry:  Reactions and Ratios",
           "Introduction to Chemistry:  Reactions and Ratios"
          ],
          [
           "Introduction to Cloud Computing",
           "Introduction to Cloud Computing"
          ],
          [
           "Introduction to Computer Programming",
           "Introduction to Computer Programming"
          ],
          [
           "Introduction to Computer Science and Programming",
           "Introduction to Computer Science and Programming"
          ],
          [
           "Introduction to Cyber Attacks",
           "Introduction to Cyber Attacks"
          ],
          [
           "Introduction to Cyber Security",
           "Introduction to Cyber Security"
          ],
          [
           "Introduction to Cybersecurity Tools & Cyber Attacks",
           "Introduction to Cybersecurity Tools & Cyber Attacks"
          ],
          [
           "Introduction to Data Science",
           "Introduction to Data Science"
          ],
          [
           "Introduction to Dental Medicine",
           "Introduction to Dental Medicine"
          ],
          [
           "Introduction to Discrete Mathematics for Computer Science",
           "Introduction to Discrete Mathematics for Computer Science"
          ],
          [
           "Introduction to Imagemaking",
           "Introduction to Imagemaking"
          ],
          [
           "Introduction to Intellectual Property",
           "Introduction to Intellectual Property"
          ],
          [
           "Introduction to Personal Branding",
           "Introduction to Personal Branding"
          ],
          [
           "Introduction to Probability and Data",
           "Introduction to Probability and Data"
          ],
          [
           "Introduction to Programming in C",
           "Introduction to Programming in C"
          ],
          [
           "Introduction to Programming with MATLAB",
           "Introduction to Programming with MATLAB"
          ],
          [
           "Introduction to Psychology",
           "Introduction to Psychology"
          ],
          [
           "Introduction to Scripting in Python",
           "Introduction to Scripting in Python"
          ],
          [
           "Introduction to Statistics & Data Analysis in Public Health",
           "Introduction to Statistics & Data Analysis in Public Health"
          ],
          [
           "Introduction to Thermodynamics: Transferring Energy from Here to There",
           "Introduction to Thermodynamics: Transferring Energy from Here to There"
          ],
          [
           "Introduction to Typography",
           "Introduction to Typography"
          ],
          [
           "Introduction to User Experience Design",
           "Introduction to User Experience Design"
          ],
          [
           "Introduction to User Experience Principles and Processes",
           "Introduction to User Experience Principles and Processes"
          ],
          [
           "Introduction to Web Development",
           "Introduction to Web Development"
          ],
          [
           "Introduction to the Biology of Cancer",
           "Introduction to the Biology of Cancer"
          ],
          [
           "Introdução aos Princípios e Práticas da Gestão De Projetos",
           "Introdução aos Princípios e Práticas da Gestão De Projetos"
          ],
          [
           "Introdução à Ciência da Computação com Python Parte 1",
           "Introdução à Ciência da Computação com Python Parte 1"
          ],
          [
           "Investment Management",
           "Investment Management"
          ],
          [
           "Investment Management with Python and Machine Learning",
           "Investment Management with Python and Machine Learning"
          ],
          [
           "Investment and Portfolio Management",
           "Investment and Portfolio Management"
          ],
          [
           "Japanese for beginners 1",
           "Japanese for beginners 1"
          ],
          [
           "Java Programming and Software Engineering Fundamentals",
           "Java Programming and Software Engineering Fundamentals"
          ],
          [
           "Java Programming: Solving Problems with Software",
           "Java Programming: Solving Problems with Software"
          ],
          [
           "Julia Scientific Programming",
           "Julia Scientific Programming"
          ],
          [
           "L'excellence opérationnelle en pratique",
           "L'excellence opérationnelle en pratique"
          ],
          [
           "L'impact investing, la finance qui change le monde",
           "L'impact investing, la finance qui change le monde"
          ],
          [
           "Leadership Development for Engineers",
           "Leadership Development for Engineers"
          ],
          [
           "Leading Healthcare Quality and Safety",
           "Leading Healthcare Quality and Safety"
          ],
          [
           "Leading People and Teams",
           "Leading People and Teams"
          ],
          [
           "Learn Chinese: HSK Test Preparation",
           "Learn Chinese: HSK Test Preparation"
          ],
          [
           "Learn English",
           "Learn English"
          ],
          [
           "Learn Mandarin Chinese",
           "Learn Mandarin Chinese"
          ],
          [
           "Learn SQL Basics for Data Science",
           "Learn SQL Basics for Data Science"
          ],
          [
           "Learn Spanish: Basic Spanish Vocabulary",
           "Learn Spanish: Basic Spanish Vocabulary"
          ],
          [
           "Learn to Program: The Fundamentals",
           "Learn to Program: The Fundamentals"
          ],
          [
           "Learn to Speak Korean 1",
           "Learn to Speak Korean 1"
          ],
          [
           "Learning to Teach Online",
           "Learning to Teach Online"
          ],
          [
           "Les Fondamentaux de la Négociation",
           "Les Fondamentaux de la Négociation"
          ],
          [
           "Love as a Force for Social Justice",
           "Love as a Force for Social Justice"
          ],
          [
           "Machine Learning for All",
           "Machine Learning for All"
          ],
          [
           "Magic in the Middle Ages",
           "Magic in the Middle Ages"
          ],
          [
           "Making Architecture",
           "Making Architecture"
          ],
          [
           "Managerial Accounting Fundamentals",
           "Managerial Accounting Fundamentals"
          ],
          [
           "Managerial Economics and Business Analysis",
           "Managerial Economics and Business Analysis"
          ],
          [
           "Managing Innovation and Design Thinking",
           "Managing Innovation and Design Thinking"
          ],
          [
           "Managing Social and Human Capital",
           "Managing Social and Human Capital"
          ],
          [
           "Managing Your Health: The Role of Physical Therapy and Exercise",
           "Managing Your Health: The Role of Physical Therapy and Exercise"
          ],
          [
           "Market Research",
           "Market Research"
          ],
          [
           "Marketing Digital",
           "Marketing Digital"
          ],
          [
           "Marketing Digital",
           "Marketing Digital"
          ],
          [
           "Marketing Mix Implementation",
           "Marketing Mix Implementation"
          ],
          [
           "Marketing Strategy",
           "Marketing Strategy"
          ],
          [
           "Marketing in a Digital World",
           "Marketing in a Digital World"
          ],
          [
           "Mastering Final Cut Pro",
           "Mastering Final Cut Pro"
          ],
          [
           "Mastering Software Development in R",
           "Mastering Software Development in R"
          ],
          [
           "Mathematics for Data Science",
           "Mathematics for Data Science"
          ],
          [
           "Mathematics for Machine Learning",
           "Mathematics for Machine Learning"
          ],
          [
           "Mathematics for Machine Learning: Linear Algebra",
           "Mathematics for Machine Learning: Linear Algebra"
          ],
          [
           "Mathematics for Machine Learning: Multivariate Calculus",
           "Mathematics for Machine Learning: Multivariate Calculus"
          ],
          [
           "Medical Cannabis: The Health Effects of THC and CBD",
           "Medical Cannabis: The Health Effects of THC and CBD"
          ],
          [
           "Memoir and Personal Essay: Write About Yourself",
           "Memoir and Personal Essay: Write About Yourself"
          ],
          [
           "Methods and Statistics in Social Sciences",
           "Methods and Statistics in Social Sciences"
          ],
          [
           "Microeconomics Principles",
           "Microeconomics Principles"
          ],
          [
           "Mindshift: Break Through Obstacles to Learning and Discover Your Hidden Potential",
           "Mindshift: Break Through Obstacles to Learning and Discover Your Hidden Potential"
          ],
          [
           "Miracles of Human Language: An Introduction to Linguistics",
           "Miracles of Human Language: An Introduction to Linguistics"
          ],
          [
           "Modern Art & Ideas",
           "Modern Art & Ideas"
          ],
          [
           "Modern Big Data Analysis with SQL",
           "Modern Big Data Analysis with SQL"
          ],
          [
           "Music Business",
           "Music Business"
          ],
          [
           "Music Production",
           "Music Production"
          ],
          [
           "Negotiation, Mediation and Conflict Resolution",
           "Negotiation, Mediation and Conflict Resolution"
          ],
          [
           "New Approaches to Countering Terror: Countering Violent Extremism",
           "New Approaches to Countering Terror: Countering Violent Extremism"
          ],
          [
           "Newborn Baby Care",
           "Newborn Baby Care"
          ],
          [
           "Nutrición y obesidad: control de sobrepeso",
           "Nutrición y obesidad: control de sobrepeso"
          ],
          [
           "Object Oriented Programming in Java",
           "Object Oriented Programming in Java"
          ],
          [
           "Open Source Software Development, Linux and Git",
           "Open Source Software Development, Linux and Git"
          ],
          [
           "Operating Systems and You: Becoming a Power User",
           "Operating Systems and You: Becoming a Power User"
          ],
          [
           "Osteoarchaeology: The Truth in Our Bones",
           "Osteoarchaeology: The Truth in Our Bones"
          ],
          [
           "Palliative Care: It's Not Just Hospice Anymore",
           "Palliative Care: It's Not Just Hospice Anymore"
          ],
          [
           "Palo Alto Networks Cybersecurity",
           "Palo Alto Networks Cybersecurity"
          ],
          [
           "Patient Safety",
           "Patient Safety"
          ],
          [
           "Patrocinio Deportivo",
           "Patrocinio Deportivo"
          ],
          [
           "Periodismo digital y combate a las fake news",
           "Periodismo digital y combate a las fake news"
          ],
          [
           "Photography Basics and Beyond: From Smartphone to DSLR",
           "Photography Basics and Beyond: From Smartphone to DSLR"
          ],
          [
           "Plant Bioinformatic Methods",
           "Plant Bioinformatic Methods"
          ],
          [
           "Politics and Economics of International Energy",
           "Politics and Economics of International Energy"
          ],
          [
           "Positive Psychology: Applications and Interventions",
           "Positive Psychology: Applications and Interventions"
          ],
          [
           "Positive Psychology: Martin E. P. Seligman’s Visionary Science",
           "Positive Psychology: Martin E. P. Seligman’s Visionary Science"
          ],
          [
           "Positive Psychology: Resilience Skills",
           "Positive Psychology: Resilience Skills"
          ],
          [
           "Practical Data Science with MATLAB",
           "Practical Data Science with MATLAB"
          ],
          [
           "Preparing for the Google Cloud Associate Cloud Engineer Exam",
           "Preparing for the Google Cloud Associate Cloud Engineer Exam"
          ],
          [
           "Presentation Skills: Speechwriting, Slides and Delivery",
           "Presentation Skills: Speechwriting, Slides and Delivery"
          ],
          [
           "Pricing Strategy Optimization",
           "Pricing Strategy Optimization"
          ],
          [
           "Probability and Statistics: To p or not to p?",
           "Probability and Statistics: To p or not to p?"
          ],
          [
           "Programming Foundations with JavaScript, HTML and CSS",
           "Programming Foundations with JavaScript, HTML and CSS"
          ],
          [
           "Programming Fundamentals",
           "Programming Fundamentals"
          ],
          [
           "Project Execution",
           "Project Execution"
          ],
          [
           "Project Launch",
           "Project Launch"
          ],
          [
           "Project Management & Other Tools for Career Development",
           "Project Management & Other Tools for Career Development"
          ],
          [
           "Project Management Principles and Practices",
           "Project Management Principles and Practices"
          ],
          [
           "Public Policy Challenges of the 21st Century",
           "Public Policy Challenges of the 21st Century"
          ],
          [
           "Python Basics",
           "Python Basics"
          ],
          [
           "Python Functions, Files, and Dictionaries",
           "Python Functions, Files, and Dictionaries"
          ],
          [
           "Python for Data Science and AI",
           "Python for Data Science and AI"
          ],
          [
           "Python for Everybody",
           "Python for Everybody"
          ],
          [
           "Queering Identities: LGBTQ+ Sexuality and Gender Identity",
           "Queering Identities: LGBTQ+ Sexuality and Gender Identity"
          ],
          [
           "Ready, Set, Future! Introduction to Futures Thinking",
           "Ready, Set, Future! Introduction to Futures Thinking"
          ],
          [
           "Renewable Energy and Green Building Entrepreneurship",
           "Renewable Energy and Green Building Entrepreneurship"
          ],
          [
           "Reporting extra-financier et stratégie RSE",
           "Reporting extra-financier et stratégie RSE"
          ],
          [
           "Requirements Engineering: Secure Software  Specifications",
           "Requirements Engineering: Secure Software  Specifications"
          ],
          [
           "Responsive Website Development and Design",
           "Responsive Website Development and Design"
          ],
          [
           "Robotics",
           "Robotics"
          ],
          [
           "Roman Architecture",
           "Roman Architecture"
          ],
          [
           "Russian Alphabet",
           "Russian Alphabet"
          ],
          [
           "Russian for beginners А1. Русский язык: A1",
           "Russian for beginners А1. Русский язык: A1"
          ],
          [
           "SAS Programmer",
           "SAS Programmer"
          ],
          [
           "SAS Visual Business Analytics",
           "SAS Visual Business Analytics"
          ],
          [
           "SQL for Data Science",
           "SQL for Data Science"
          ],
          [
           "Sales Operations/Management",
           "Sales Operations/Management"
          ],
          [
           "Sales Training for High Performing Teams",
           "Sales Training for High Performing Teams"
          ],
          [
           "School Health for Children and Adolescents",
           "School Health for Children and Adolescents"
          ],
          [
           "Science of Exercise",
           "Science of Exercise"
          ],
          [
           "Security & Safety Challenges in a Globalized World",
           "Security & Safety Challenges in a Globalized World"
          ],
          [
           "Sexualidad...mucho más que sexo",
           "Sexualidad...mucho más que sexo"
          ],
          [
           "Sharpened Visions: A Poetry Workshop",
           "Sharpened Visions: A Poetry Workshop"
          ],
          [
           "Sleep: Neurobiology, Medicine, and Society",
           "Sleep: Neurobiology, Medicine, and Society"
          ],
          [
           "Smart Cities – Management of Smart Urban Infrastructures",
           "Smart Cities – Management of Smart Urban Infrastructures"
          ],
          [
           "Social Entrepreneurship",
           "Social Entrepreneurship"
          ],
          [
           "Social Media Marketing",
           "Social Media Marketing"
          ],
          [
           "Social Norms, Social Change I",
           "Social Norms, Social Change I"
          ],
          [
           "Social Policy for Social Services & Health Practitioners",
           "Social Policy for Social Services & Health Practitioners"
          ],
          [
           "Social Psychology",
           "Social Psychology"
          ],
          [
           "Software Design and Architecture",
           "Software Design and Architecture"
          ],
          [
           "Software Product Management",
           "Software Product Management"
          ],
          [
           "Solar Energy Basics",
           "Solar Energy Basics"
          ],
          [
           "Songwriting: Writing the Lyrics",
           "Songwriting: Writing the Lyrics"
          ],
          [
           "Soporte de Tecnologías de la Información de Google",
           "Soporte de Tecnologías de la Información de Google"
          ],
          [
           "Spanish Vocabulary: Meeting People",
           "Spanish Vocabulary: Meeting People"
          ],
          [
           "Stanford Introduction to Food and Health",
           "Stanford Introduction to Food and Health"
          ],
          [
           "Stanford's Short Course on Breastfeeding",
           "Stanford's Short Course on Breastfeeding"
          ],
          [
           "Statistical Analysis with R for Public Health",
           "Statistical Analysis with R for Public Health"
          ],
          [
           "Statistics with Python",
           "Statistics with Python"
          ],
          [
           "Statistics with R",
           "Statistics with R"
          ],
          [
           "Strategic Business Management - Microeconomics",
           "Strategic Business Management - Microeconomics"
          ],
          [
           "Strategic Leadership and Management",
           "Strategic Leadership and Management"
          ],
          [
           "Strategic Management and Innovation",
           "Strategic Management and Innovation"
          ],
          [
           "Strategy and Sustainability",
           "Strategy and Sustainability"
          ],
          [
           "Structuring Machine Learning Projects",
           "Structuring Machine Learning Projects"
          ],
          [
           "Success",
           "Success"
          ],
          [
           "Summary Statistics in Public Health",
           "Summary Statistics in Public Health"
          ],
          [
           "Supply Chain Analytics",
           "Supply Chain Analytics"
          ],
          [
           "Supply Chain Logistics",
           "Supply Chain Logistics"
          ],
          [
           "Supply Chain Management",
           "Supply Chain Management"
          ],
          [
           "Supply Chain Operations",
           "Supply Chain Operations"
          ],
          [
           "Survey Data Collection and Analytics",
           "Survey Data Collection and Analytics"
          ],
          [
           "Sustainable Tourism – promoting environmental public health",
           "Sustainable Tourism – promoting environmental public health"
          ],
          [
           "Swift 5 iOS Application Developer",
           "Swift 5 iOS Application Developer"
          ],
          [
           "System Administration and IT Infrastructure Services",
           "System Administration and IT Infrastructure Services"
          ],
          [
           "TESOL Certificate, Part 1: Teach English Now!",
           "TESOL Certificate, Part 1: Teach English Now!"
          ],
          [
           "TESOL Certificate, Part 2: Teach English Now!",
           "TESOL Certificate, Part 2: Teach English Now!"
          ],
          [
           "Teamwork Skills: Communicating Effectively in Groups",
           "Teamwork Skills: Communicating Effectively in Groups"
          ],
          [
           "Technical Support Fundamentals",
           "Technical Support Fundamentals"
          ],
          [
           "Terrorism and Counterterrorism: Comparing Theory and Practice",
           "Terrorism and Counterterrorism: Comparing Theory and Practice"
          ],
          [
           "The Addicted Brain",
           "The Addicted Brain"
          ],
          [
           "The Art of Sales: Mastering the Selling Process",
           "The Art of Sales: Mastering the Selling Process"
          ],
          [
           "The Arts and Science of Relationships: Understanding Human Needs",
           "The Arts and Science of Relationships: Understanding Human Needs"
          ],
          [
           "The Bits and Bytes of Computer Networking",
           "The Bits and Bytes of Computer Networking"
          ],
          [
           "The Business of Health Care",
           "The Business of Health Care"
          ],
          [
           "The Business of Music Production",
           "The Business of Music Production"
          ],
          [
           "The Cycle: Management of Successful Arts and Cultural Organizations",
           "The Cycle: Management of Successful Arts and Cultural Organizations"
          ],
          [
           "The DIY Musician",
           "The DIY Musician"
          ],
          [
           "The Modern World, Part One: Global History from 1760 to 1910",
           "The Modern World, Part One: Global History from 1760 to 1910"
          ],
          [
           "The Modern World, Part Two: Global History since 1910",
           "The Modern World, Part Two: Global History since 1910"
          ],
          [
           "The Pronunciation of American English",
           "The Pronunciation of American English"
          ],
          [
           "The Science of Success: What Researchers Know that You Should Know",
           "The Science of Success: What Researchers Know that You Should Know"
          ],
          [
           "The Science of Training Young Athletes",
           "The Science of Training Young Athletes"
          ],
          [
           "The Singer Songwriter",
           "The Singer Songwriter"
          ],
          [
           "The Sustainable Development Goals – A global, transdisciplinary vision for the future",
           "The Sustainable Development Goals – A global, transdisciplinary vision for the future"
          ],
          [
           "The Teacher and Social and Emotional Learning (SEL)",
           "The Teacher and Social and Emotional Learning (SEL)"
          ],
          [
           "The Technology of Music Production",
           "The Technology of Music Production"
          ],
          [
           "The hidden value – Lean in manufacturing and services",
           "The hidden value – Lean in manufacturing and services"
          ],
          [
           "Think Again I: How to Understand Arguments",
           "Think Again I: How to Understand Arguments"
          ],
          [
           "Tools for Data Science",
           "Tools for Data Science"
          ],
          [
           "Trading Strategies in Emerging Markets",
           "Trading Strategies in Emerging Markets"
          ],
          [
           "Tricky American English Pronunciation",
           "Tricky American English Pronunciation"
          ],
          [
           "UCI Project Management",
           "UCI Project Management"
          ],
          [
           "UI / UX Design",
           "UI / UX Design"
          ],
          [
           "UX Design Fundamentals",
           "UX Design Fundamentals"
          ],
          [
           "Understanding Cancer Metastasis",
           "Understanding Cancer Metastasis"
          ],
          [
           "Understanding Einstein: The Special Theory of Relativity",
           "Understanding Einstein: The Special Theory of Relativity"
          ],
          [
           "Understanding Medical Research: Your Facebook Friend is Wrong",
           "Understanding Medical Research: Your Facebook Friend is Wrong"
          ],
          [
           "Understanding Plants - Part I: What a Plant Knows",
           "Understanding Plants - Part I: What a Plant Knows"
          ],
          [
           "Understanding and Visualizing Data with Python",
           "Understanding and Visualizing Data with Python"
          ],
          [
           "Understanding the Brain: The Neurobiology of Everyday Life",
           "Understanding the Brain: The Neurobiology of Everyday Life"
          ],
          [
           "Unity XR: How to Build AR and VR Apps",
           "Unity XR: How to Build AR and VR Apps"
          ],
          [
           "University Teaching",
           "University Teaching"
          ],
          [
           "User Experience Research and Design",
           "User Experience Research and Design"
          ],
          [
           "Using Python to Interact with the Operating System",
           "Using Python to Interact with the Operating System"
          ],
          [
           "Virtual Reality",
           "Virtual Reality"
          ],
          [
           "Virtual Teacher",
           "Virtual Teacher"
          ],
          [
           "Web Design for Everybody: Basics of Web Development & Coding",
           "Web Design for Everybody: Basics of Web Development & Coding"
          ],
          [
           "Weight Management: Beyond Balancing Calories",
           "Weight Management: Beyond Balancing Calories"
          ],
          [
           "What Is Contemporary Art?",
           "What Is Contemporary Art?"
          ],
          [
           "What is Data Science?",
           "What is Data Science?"
          ],
          [
           "Wine Tasting: Sensory Techniques for Wine Analysis",
           "Wine Tasting: Sensory Techniques for Wine Analysis"
          ],
          [
           "Write A Feature Length Screenplay For Film Or Television",
           "Write A Feature Length Screenplay For Film Or Television"
          ],
          [
           "Write Your First Novel",
           "Write Your First Novel"
          ],
          [
           "Writing in the Sciences",
           "Writing in the Sciences"
          ],
          [
           "¿Qué hacen los buenos directivos? Prioridades de la Alta Dirección",
           "¿Qué hacen los buenos directivos? Prioridades de la Alta Dirección"
          ],
          [
           "Éxito Profesional",
           "Éxito Profesional"
          ],
          [
           "Искусство ведения бизнеса",
           "Искусство ведения бизнеса"
          ],
          [
           "Корпоративные финансы и стоимость компании",
           "Корпоративные финансы и стоимость компании"
          ],
          [
           "Математика и Python для анализа данных",
           "Математика и Python для анализа данных"
          ],
          [
           "Основы программирования на Python",
           "Основы программирования на Python"
          ],
          [
           "Финансовые инструменты для частного инвестора",
           "Финансовые инструменты для частного инвестора"
          ]
         ],
         "hovertemplate": "course_difficulty=Beginner<br>course_rating=%{x}<br>course_students_enrolled=%{marker.size}<br>course_title=%{customdata[0]}<br>course_organization=%{customdata[1]}<extra></extra>",
         "legendgroup": "Beginner",
         "marker": {
          "color": "#636efa",
          "size": [
           5300,
           39000,
           350000,
           61000,
           130000,
           11000,
           27000,
           110000,
           540000,
           2900,
           110000,
           9200,
           21000,
           94000,
           69000,
           40000,
           12000,
           18000,
           23000,
           69000,
           270000,
           7900,
           30000,
           20000,
           120000,
           11000,
           220000,
           6600,
           180000,
           3900,
           150000,
           10000,
           13000,
           180000,
           28000,
           6500,
           61000,
           8800,
           35000,
           88000,
           14000,
           21000,
           1600,
           31000,
           9500,
           57000,
           26000,
           15000,
           22000,
           280000,
           510000,
           110000,
           24000,
           89000,
           67000,
           10000,
           48000,
           160000,
           31000,
           36000,
           220000,
           32000,
           340000,
           790000,
           31000,
           23000,
           30000,
           22000,
           57000,
           51000,
           4800,
           32000,
           37000,
           120000,
           15000,
           43000,
           6400,
           43000,
           5800,
           33000,
           27000,
           66000,
           19000,
           61000,
           43000,
           15000,
           220000,
           27000,
           26000,
           7800,
           75000,
           15000,
           81000,
           140000,
           150000,
           17000,
           5500,
           18000,
           140000,
           23000,
           55000,
           100000,
           220000,
           110000,
           24000,
           42000,
           830000,
           140000,
           89000,
           740000,
           60000,
           96000,
           18000,
           120000,
           110000,
           150000,
           44000,
           4500,
           8200,
           240000,
           17000,
           54000,
           9000,
           21000,
           37000,
           380000,
           140000,
           58000,
           35000,
           4000,
           21000,
           5600,
           17000,
           39000,
           110000,
           7100,
           46000,
           1500,
           12000,
           17000,
           37000,
           14000,
           23000,
           200000,
           230000,
           110000,
           2400,
           110000,
           31000,
           20000,
           69000,
           6400,
           31000,
           7200,
           1800,
           14000,
           27000,
           13000,
           11000,
           86000,
           240000,
           200000,
           490000,
           56000,
           54000,
           170000,
           28000,
           180000,
           18000,
           9700,
           13000,
           12000,
           260000,
           69000,
           65000,
           10000,
           470000,
           60000,
           6500,
           36000,
           20000,
           400000,
           14000,
           63000,
           31000,
           64000,
           89000,
           3200,
           26000,
           52000,
           30000,
           39000,
           200000,
           86000,
           290000,
           180000,
           120000,
           81000,
           25000,
           56000,
           150000,
           110000,
           47000,
           4900,
           9400,
           10000,
           140000,
           260000,
           14000,
           97000,
           14000,
           59000,
           18000,
           22000,
           29000,
           10000,
           3800,
           93000,
           350000,
           10000,
           56000,
           43000,
           8100,
           36000,
           5500,
           5500,
           28000,
           34000,
           98000,
           220000,
           3300,
           480000,
           35000,
           62000,
           1700,
           23000,
           2200,
           610000,
           270000,
           18000,
           79000,
           34000,
           22000,
           32000,
           10000,
           16000,
           40000,
           10000,
           25000,
           72000,
           14000,
           6500,
           22000,
           26000,
           20000,
           2200,
           35000,
           11000,
           36000,
           140000,
           100000,
           44000,
           16000,
           46000,
           2600,
           20000,
           32000,
           27000,
           32000,
           30000,
           310000,
           25000,
           75000,
           54000,
           6000,
           140000,
           160000,
           82000,
           270000,
           270000,
           49000,
           12000,
           4100,
           72000,
           87000,
           16000,
           76000,
           110000,
           4500,
           120000,
           99000,
           14000,
           49000,
           4400,
           380000,
           160000,
           22000,
           8000,
           6300,
           17000,
           16000,
           220000,
           43000,
           22000,
           39000,
           160000,
           80000,
           180000,
           120000,
           68000,
           10000,
           14000,
           19000,
           78000,
           43000,
           11000,
           55000,
           23000,
           27000,
           47000,
           22000,
           81000,
           39000,
           93000,
           57000,
           310000,
           8400,
           52000,
           12000,
           150000,
           140000,
           51000,
           4800,
           13000,
           260000,
           73000,
           230000,
           120000,
           310000,
           14000,
           42000,
           70000,
           22000,
           12000,
           5300,
           100000,
           330000,
           13000,
           76000,
           22000,
           3200,
           9100,
           8800,
           12000,
           8900,
           160000,
           83000,
           34000,
           23000,
           50000,
           40000,
           10000,
           22000,
           47000,
           20000,
           36000,
           250000,
           19000,
           70000,
           190000,
           440000,
           230000,
           52000,
           110000,
           26000,
           170000,
           1500000,
           3000,
           7700,
           24000,
           5200,
           7200,
           170000,
           120000,
           30000,
           3200,
           7000,
           370000,
           2600,
           160000,
           5600,
           16000,
           9100,
           140000,
           14000,
           110000,
           61000,
           20000,
           22000,
           13000,
           130000,
           78000,
           4200,
           220000,
           60000,
           110000,
           17000,
           68000,
           8800,
           71000,
           370000,
           17000,
           16000,
           34000,
           220000,
           9500,
           100000,
           68000,
           11000,
           220000,
           38000,
           11000,
           7900,
           66000,
           82000,
           24000,
           45000,
           9400,
           3900,
           62000,
           100000,
           62000,
           49000,
           280000,
           90000,
           130000,
           23000,
           73000,
           130000,
           22000,
           84000,
           11000,
           120000,
           130000,
           47000,
           1700,
           59000,
           13000,
           320000,
           26000,
           5200,
           28000,
           14000,
           200000,
           120000,
           68000,
           110000,
           44000,
           68000,
           25000,
           29000,
           89000,
           24000,
           49000,
           30000,
           130000,
           12000,
           9500,
           23000,
           19000,
           37000,
           23000,
           280000,
           34000,
           120000,
           260000,
           32000,
           12000,
           18000,
           140000,
           25000,
           69000,
           14000,
           16000,
           67000,
           83000,
           38000
          ],
          "sizemode": "area",
          "sizeref": 8000,
          "symbol": "circle"
         },
         "mode": "markers",
         "name": "Beginner",
         "orientation": "v",
         "showlegend": true,
         "type": "scatter",
         "x": [
          4.7,
          4.7,
          4.8,
          4.7,
          4.6,
          4.3,
          4.7,
          4.7,
          4.7,
          4.6,
          4.7,
          4.8,
          4.7,
          4.7,
          4.7,
          4.7,
          4.9,
          4.9,
          4.8,
          4.7,
          4.6,
          4.6,
          4.8,
          4.8,
          4.5,
          4.8,
          4.6,
          4.2,
          4.9,
          4.5,
          4.9,
          4.9,
          4.6,
          4.6,
          4.7,
          4.7,
          4.8,
          4.5,
          4.6,
          4.4,
          4.8,
          4.7,
          4.6,
          4.7,
          4.9,
          4.9,
          4.6,
          4.9,
          4.5,
          4.6,
          4.7,
          4.7,
          4.7,
          4.7,
          4.5,
          4.7,
          4.8,
          4.5,
          4.5,
          4.7,
          4.9,
          4.8,
          4.7,
          4.4,
          4.8,
          4.7,
          4.7,
          4.8,
          4.7,
          4.8,
          4.6,
          4.8,
          4.5,
          4.7,
          4.7,
          4.8,
          4.9,
          4.7,
          4.6,
          4.8,
          4.6,
          4.3,
          4.7,
          4.7,
          4.8,
          4.8,
          4.7,
          4.5,
          4.6,
          4.8,
          4.6,
          4.8,
          4.8,
          4.6,
          4.7,
          4.6,
          4.6,
          4.7,
          4.2,
          4.6,
          4.8,
          4.4,
          4.6,
          4.7,
          4.8,
          4.7,
          4.5,
          4.5,
          4.6,
          4.6,
          4.8,
          4.5,
          4.7,
          4.6,
          4.7,
          4.8,
          4.8,
          4.7,
          4.4,
          4.6,
          4.6,
          4.8,
          4.4,
          4.5,
          4.6,
          4.6,
          4.7,
          4.7,
          4.5,
          4.6,
          4.9,
          4.8,
          4.7,
          4.6,
          4.7,
          4.8,
          4.9,
          5,
          4.8,
          4.6,
          4.7,
          4.8,
          4.7,
          4.6,
          4.8,
          4.8,
          4.4,
          4.8,
          4.7,
          4.8,
          4.6,
          4.7,
          4.7,
          4.8,
          4.5,
          4.7,
          4.7,
          4.8,
          4.8,
          4.9,
          4.9,
          4.9,
          4.6,
          4.8,
          4.8,
          4.5,
          4.8,
          4.8,
          4.8,
          4.8,
          4.6,
          4.7,
          4.5,
          4.8,
          4.8,
          4.5,
          4.8,
          4.5,
          4.7,
          4.7,
          4.6,
          4.9,
          4.8,
          4.8,
          4.7,
          4.8,
          4.8,
          4.8,
          4.6,
          4.8,
          4.6,
          4.6,
          4.8,
          4.8,
          4.8,
          4.6,
          4.7,
          4.5,
          4.6,
          4.6,
          4.7,
          4.8,
          4.6,
          4.6,
          4.8,
          4.7,
          4.8,
          4.6,
          4.7,
          4.8,
          4.7,
          4.5,
          4.6,
          4.9,
          4.7,
          4.5,
          4.6,
          4.7,
          4.8,
          4.7,
          4.6,
          4.7,
          4.5,
          4.4,
          4.6,
          4.7,
          4.6,
          4.1,
          4.7,
          4.6,
          4.8,
          4.6,
          4.5,
          4.8,
          4.9,
          4.7,
          4.6,
          4.7,
          4.9,
          4.4,
          4.9,
          4.5,
          4.8,
          4.6,
          4.6,
          4.7,
          4.6,
          4.8,
          4.8,
          4.5,
          4.8,
          4.6,
          4.8,
          4.6,
          4.8,
          4.5,
          4.9,
          4.6,
          4.7,
          4.7,
          4.4,
          4.7,
          4.7,
          4.8,
          4.6,
          4.3,
          4.3,
          4.7,
          4.7,
          4.5,
          4.6,
          4.8,
          4.4,
          4.5,
          4.8,
          4.4,
          4.7,
          4.7,
          4.8,
          4.9,
          4.7,
          4.7,
          4.8,
          4.8,
          4.5,
          4.8,
          4.7,
          4.8,
          4.9,
          4.9,
          4.7,
          4.6,
          4.5,
          4.6,
          4.6,
          4.6,
          4.5,
          4.7,
          4.6,
          4.7,
          4.8,
          4.7,
          4.8,
          4.3,
          4.8,
          4.6,
          4.6,
          4.8,
          4.9,
          4.7,
          4.7,
          4.7,
          4.6,
          4.6,
          4.7,
          4.9,
          4.7,
          4.7,
          4.5,
          4.6,
          4.5,
          4.8,
          4.7,
          4.6,
          4.4,
          4.7,
          4.6,
          4.3,
          4.5,
          4.6,
          4.7,
          4.7,
          4.8,
          4.3,
          4.6,
          4.9,
          4.8,
          4.7,
          4.7,
          4.8,
          4.8,
          4.8,
          4.7,
          4.7,
          4.8,
          4.8,
          4.6,
          4.4,
          4.6,
          4.7,
          4.8,
          4.6,
          4.8,
          4.6,
          4.9,
          4.7,
          4.7,
          4.7,
          4.8,
          4.8,
          4.6,
          4.7,
          4.7,
          4.6,
          4.8,
          4.6,
          4.6,
          4.7,
          4.2,
          4.7,
          4.6,
          4.7,
          4.6,
          4.8,
          4.8,
          4.6,
          4.8,
          4.9,
          4.8,
          4.7,
          4.7,
          4.6,
          4.5,
          4.4,
          4.9,
          4.7,
          4.7,
          4.8,
          4.6,
          4.6,
          4.4,
          4.7,
          4.8,
          4.8,
          4.7,
          4.8,
          4.7,
          4.8,
          4.6,
          4.6,
          4.6,
          4.6,
          4.8,
          4.7,
          4.6,
          4.6,
          4.8,
          4.8,
          4.9,
          4.6,
          4.7,
          4.7,
          4.7,
          4.6,
          4.7,
          4.7,
          4.7,
          4.7,
          4.6,
          4.8,
          4.8,
          4.8,
          4.7,
          4.7,
          4.7,
          4.8,
          4.3,
          4.6,
          4.5,
          4.7,
          4.9,
          4.9,
          4.8,
          4.8,
          4.8,
          4.6,
          4.7,
          4.5,
          4.7,
          4.6,
          4.8,
          4.8,
          4.8,
          4.8,
          4.8,
          4.6,
          4.8,
          4.9,
          4.8,
          4.8,
          4.7,
          4.8,
          4.7,
          4.6,
          4.6,
          4.3,
          4.7,
          4.6,
          4.7,
          4.8,
          4.8,
          4.9,
          4.8,
          4.8,
          4.7,
          4.9,
          4.2,
          4.8,
          4.8,
          4.7,
          4.7,
          4.3,
          4.7,
          4.7,
          4.7,
          4.7,
          4.7,
          4.9,
          4.4,
          4.9,
          4.7,
          4.5,
          4.6,
          4.5,
          4.8,
          4.6,
          4.7
         ],
         "xaxis": "x",
         "y": [
          5300,
          39000,
          350000,
          61000,
          130000,
          11000,
          27000,
          110000,
          540000,
          2900,
          110000,
          9200,
          21000,
          94000,
          69000,
          40000,
          12000,
          18000,
          23000,
          69000,
          270000,
          7900,
          30000,
          20000,
          120000,
          11000,
          220000,
          6600,
          180000,
          3900,
          150000,
          10000,
          13000,
          180000,
          28000,
          6500,
          61000,
          8800,
          35000,
          88000,
          14000,
          21000,
          1600,
          31000,
          9500,
          57000,
          26000,
          15000,
          22000,
          280000,
          510000,
          110000,
          24000,
          89000,
          67000,
          10000,
          48000,
          160000,
          31000,
          36000,
          220000,
          32000,
          340000,
          790000,
          31000,
          23000,
          30000,
          22000,
          57000,
          51000,
          4800,
          32000,
          37000,
          120000,
          15000,
          43000,
          6400,
          43000,
          5800,
          33000,
          27000,
          66000,
          19000,
          61000,
          43000,
          15000,
          220000,
          27000,
          26000,
          7800,
          75000,
          15000,
          81000,
          140000,
          150000,
          17000,
          5500,
          18000,
          140000,
          23000,
          55000,
          100000,
          220000,
          110000,
          24000,
          42000,
          830000,
          140000,
          89000,
          740000,
          60000,
          96000,
          18000,
          120000,
          110000,
          150000,
          44000,
          4500,
          8200,
          240000,
          17000,
          54000,
          9000,
          21000,
          37000,
          380000,
          140000,
          58000,
          35000,
          4000,
          21000,
          5600,
          17000,
          39000,
          110000,
          7100,
          46000,
          1500,
          12000,
          17000,
          37000,
          14000,
          23000,
          200000,
          230000,
          110000,
          2400,
          110000,
          31000,
          20000,
          69000,
          6400,
          31000,
          7200,
          1800,
          14000,
          27000,
          13000,
          11000,
          86000,
          240000,
          200000,
          490000,
          56000,
          54000,
          170000,
          28000,
          180000,
          18000,
          9700,
          13000,
          12000,
          260000,
          69000,
          65000,
          10000,
          470000,
          60000,
          6500,
          36000,
          20000,
          400000,
          14000,
          63000,
          31000,
          64000,
          89000,
          3200,
          26000,
          52000,
          30000,
          39000,
          200000,
          86000,
          290000,
          180000,
          120000,
          81000,
          25000,
          56000,
          150000,
          110000,
          47000,
          4900,
          9400,
          10000,
          140000,
          260000,
          14000,
          97000,
          14000,
          59000,
          18000,
          22000,
          29000,
          10000,
          3800,
          93000,
          350000,
          10000,
          56000,
          43000,
          8100,
          36000,
          5500,
          5500,
          28000,
          34000,
          98000,
          220000,
          3300,
          480000,
          35000,
          62000,
          1700,
          23000,
          2200,
          610000,
          270000,
          18000,
          79000,
          34000,
          22000,
          32000,
          10000,
          16000,
          40000,
          10000,
          25000,
          72000,
          14000,
          6500,
          22000,
          26000,
          20000,
          2200,
          35000,
          11000,
          36000,
          140000,
          100000,
          44000,
          16000,
          46000,
          2600,
          20000,
          32000,
          27000,
          32000,
          30000,
          310000,
          25000,
          75000,
          54000,
          6000,
          140000,
          160000,
          82000,
          270000,
          270000,
          49000,
          12000,
          4100,
          72000,
          87000,
          16000,
          76000,
          110000,
          4500,
          120000,
          99000,
          14000,
          49000,
          4400,
          380000,
          160000,
          22000,
          8000,
          6300,
          17000,
          16000,
          220000,
          43000,
          22000,
          39000,
          160000,
          80000,
          180000,
          120000,
          68000,
          10000,
          14000,
          19000,
          78000,
          43000,
          11000,
          55000,
          23000,
          27000,
          47000,
          22000,
          81000,
          39000,
          93000,
          57000,
          310000,
          8400,
          52000,
          12000,
          150000,
          140000,
          51000,
          4800,
          13000,
          260000,
          73000,
          230000,
          120000,
          310000,
          14000,
          42000,
          70000,
          22000,
          12000,
          5300,
          100000,
          330000,
          13000,
          76000,
          22000,
          3200,
          9100,
          8800,
          12000,
          8900,
          160000,
          83000,
          34000,
          23000,
          50000,
          40000,
          10000,
          22000,
          47000,
          20000,
          36000,
          250000,
          19000,
          70000,
          190000,
          440000,
          230000,
          52000,
          110000,
          26000,
          170000,
          1500000,
          3000,
          7700,
          24000,
          5200,
          7200,
          170000,
          120000,
          30000,
          3200,
          7000,
          370000,
          2600,
          160000,
          5600,
          16000,
          9100,
          140000,
          14000,
          110000,
          61000,
          20000,
          22000,
          13000,
          130000,
          78000,
          4200,
          220000,
          60000,
          110000,
          17000,
          68000,
          8800,
          71000,
          370000,
          17000,
          16000,
          34000,
          220000,
          9500,
          100000,
          68000,
          11000,
          220000,
          38000,
          11000,
          7900,
          66000,
          82000,
          24000,
          45000,
          9400,
          3900,
          62000,
          100000,
          62000,
          49000,
          280000,
          90000,
          130000,
          23000,
          73000,
          130000,
          22000,
          84000,
          11000,
          120000,
          130000,
          47000,
          1700,
          59000,
          13000,
          320000,
          26000,
          5200,
          28000,
          14000,
          200000,
          120000,
          68000,
          110000,
          44000,
          68000,
          25000,
          29000,
          89000,
          24000,
          49000,
          30000,
          130000,
          12000,
          9500,
          23000,
          19000,
          37000,
          23000,
          280000,
          34000,
          120000,
          260000,
          32000,
          12000,
          18000,
          140000,
          25000,
          69000,
          14000,
          16000,
          67000,
          83000,
          38000
         ],
         "yaxis": "y"
        },
        {
         "customdata": [
          [
           "A Crash Course in Causality:  Inferring Causal Effects from Observational Data",
           "A Crash Course in Causality:  Inferring Causal Effects from Observational Data"
          ],
          [
           "AI For Medical Treatment",
           "AI For Medical Treatment"
          ],
          [
           "AI for Medical Diagnosis",
           "AI for Medical Diagnosis"
          ],
          [
           "AI for Medical Prognosis",
           "AI for Medical Prognosis"
          ],
          [
           "AI for Medicine",
           "AI for Medicine"
          ],
          [
           "AWS Fundamentals: Migrating to the Cloud",
           "AWS Fundamentals: Migrating to the Cloud"
          ],
          [
           "Accelerated Computer Science Fundamentals",
           "Accelerated Computer Science Fundamentals"
          ],
          [
           "Accounting for Decision Making",
           "Accounting for Decision Making"
          ],
          [
           "Advanced Business Analytics",
           "Advanced Business Analytics"
          ],
          [
           "Algorithmic Toolbox",
           "Algorithmic Toolbox"
          ],
          [
           "Algorithms",
           "Algorithms"
          ],
          [
           "Algorithms for Battery Management Systems",
           "Algorithms for Battery Management Systems"
          ],
          [
           "Anatomy of the Chest, Abdomen, and Pelvis",
           "Anatomy of the Chest, Abdomen, and Pelvis"
          ],
          [
           "Antimicrobial resistance - theory and methods",
           "Antimicrobial resistance - theory and methods"
          ],
          [
           "Applied Data Science Capstone",
           "Applied Data Science Capstone"
          ],
          [
           "Applied Data Science with Python",
           "Applied Data Science with Python"
          ],
          [
           "Applied Machine Learning in Python",
           "Applied Machine Learning in Python"
          ],
          [
           "Applied Plotting, Charting & Data Representation in Python",
           "Applied Plotting, Charting & Data Representation in Python"
          ],
          [
           "Architecting with Google Cloud Platform 日本語版",
           "Architecting with Google Cloud Platform 日本語版"
          ],
          [
           "Architecting with Google Compute Engine",
           "Architecting with Google Compute Engine"
          ],
          [
           "Atención Primaria en Salud: El desafío de las Enfermedades no Transmisibles",
           "Atención Primaria en Salud: El desafío de las Enfermedades no Transmisibles"
          ],
          [
           "Autodesk CAD/CAM for Manufacturing",
           "Autodesk CAD/CAM for Manufacturing"
          ],
          [
           "Autodesk CAD/CAM/CAE for Mechanical Engineering",
           "Autodesk CAD/CAM/CAE for Mechanical Engineering"
          ],
          [
           "Bayesian Statistics: From Concept to Data Analysis",
           "Bayesian Statistics: From Concept to Data Analysis"
          ],
          [
           "Bayesian Statistics: Techniques and Models",
           "Bayesian Statistics: Techniques and Models"
          ],
          [
           "Become a Sustainable Business Change Agent",
           "Become a Sustainable Business Change Agent"
          ],
          [
           "Blended Language Learning: Design and Practice for Teachers",
           "Blended Language Learning: Design and Practice for Teachers"
          ],
          [
           "Blockchain",
           "Blockchain"
          ],
          [
           "Building Batch Data Pipelines on GCP",
           "Building Batch Data Pipelines on GCP"
          ],
          [
           "Building Resilient Streaming Analytics Systems on GCP",
           "Building Resilient Streaming Analytics Systems on GCP"
          ],
          [
           "Building Scalable Java Microservices with Spring Boot and Spring Cloud",
           "Building Scalable Java Microservices with Spring Boot and Spring Cloud"
          ],
          [
           "Business English",
           "Business English"
          ],
          [
           "Business English Communication Skills",
           "Business English Communication Skills"
          ],
          [
           "Business English: Networking",
           "Business English: Networking"
          ],
          [
           "Cloud Computing",
           "Cloud Computing"
          ],
          [
           "Cloud Engineering with Google Cloud",
           "Cloud Engineering with Google Cloud"
          ],
          [
           "Coaching Skills for Managers",
           "Coaching Skills for Managers"
          ],
          [
           "Competitive Strategy and Organization Design",
           "Competitive Strategy and Organization Design"
          ],
          [
           "Convolutional Neural Networks",
           "Convolutional Neural Networks"
          ],
          [
           "Convolutional Neural Networks in TensorFlow",
           "Convolutional Neural Networks in TensorFlow"
          ],
          [
           "Corporate & Commercial Law I: Contracts & Employment Law",
           "Corporate & Commercial Law I: Contracts & Employment Law"
          ],
          [
           "Costos para los Negocios",
           "Costos para los Negocios"
          ],
          [
           "Cuidado de heridas en el ámbito hospitalario",
           "Cuidado de heridas en el ámbito hospitalario"
          ],
          [
           "Cuidados y procedimientos generales en la atención del recién nacido",
           "Cuidados y procedimientos generales en la atención del recién nacido"
          ],
          [
           "Cybersecurity",
           "Cybersecurity"
          ],
          [
           "Data Collection and Processing with Python",
           "Data Collection and Processing with Python"
          ],
          [
           "Data Engineering on Google Cloud Platform 日本語版",
           "Data Engineering on Google Cloud Platform 日本語版"
          ],
          [
           "Data Engineering with Google Cloud",
           "Data Engineering with Google Cloud"
          ],
          [
           "Data Engineering, Big Data, and Machine Learning on GCP",
           "Data Engineering, Big Data, and Machine Learning on GCP"
          ],
          [
           "Data Mining",
           "Data Mining"
          ],
          [
           "Data Science: Statistics and Machine Learning",
           "Data Science: Statistics and Machine Learning"
          ],
          [
           "Data Visualization with Python",
           "Data Visualization with Python"
          ],
          [
           "Deep Learning",
           "Deep Learning"
          ],
          [
           "Design-Led Strategy: Design thinking for business strategy and entrepreneurship",
           "Design-Led Strategy: Design thinking for business strategy and entrepreneurship"
          ],
          [
           "Developing APIs with Google Cloud's Apigee API Platform",
           "Developing APIs with Google Cloud's Apigee API Platform"
          ],
          [
           "Developing Applications with Google Cloud Platform",
           "Developing Applications with Google Cloud Platform"
          ],
          [
           "Developing Applications with Google Cloud Platform 日本語版",
           "Developing Applications with Google Cloud Platform 日本語版"
          ],
          [
           "Developing Industrial Internet of Things",
           "Developing Industrial Internet of Things"
          ],
          [
           "Discrete Optimization",
           "Discrete Optimization"
          ],
          [
           "Divide and Conquer, Sorting and Searching, and Randomized Algorithms",
           "Divide and Conquer, Sorting and Searching, and Randomized Algorithms"
          ],
          [
           "Ecology: Ecosystem Dynamics and Conservation",
           "Ecology: Ecosystem Dynamics and Conservation"
          ],
          [
           "Ecosystem Services: a Method for Sustainable Development",
           "Ecosystem Services: a Method for Sustainable Development"
          ],
          [
           "Elastic Google Cloud Infrastructure: Scaling and Automation",
           "Elastic Google Cloud Infrastructure: Scaling and Automation"
          ],
          [
           "Electronic Music Production",
           "Electronic Music Production"
          ],
          [
           "English for Research Publication Purposes",
           "English for Research Publication Purposes"
          ],
          [
           "Entrepreneurial Finance: Strategy and Innovation",
           "Entrepreneurial Finance: Strategy and Innovation"
          ],
          [
           "Essential Google Cloud Infrastructure: Core Services",
           "Essential Google Cloud Infrastructure: Core Services"
          ],
          [
           "Essential Google Cloud Infrastructure: Foundation",
           "Essential Google Cloud Infrastructure: Foundation"
          ],
          [
           "Essentials in Clinical Simulations Across the Health Professions",
           "Essentials in Clinical Simulations Across the Health Professions"
          ],
          [
           "Essentials of Corporate Finance",
           "Essentials of Corporate Finance"
          ],
          [
           "Excel Skills for Business: Advanced",
           "Excel Skills for Business: Advanced"
          ],
          [
           "Excel Skills for Business: Intermediate I",
           "Excel Skills for Business: Intermediate I"
          ],
          [
           "Excel Skills for Business: Intermediate II",
           "Excel Skills for Business: Intermediate II"
          ],
          [
           "Finance for Non-Financial Managers",
           "Finance for Non-Financial Managers"
          ],
          [
           "Financial Management",
           "Financial Management"
          ],
          [
           "Financial Reporting",
           "Financial Reporting"
          ],
          [
           "Finanzas corporativas",
           "Finanzas corporativas"
          ],
          [
           "Formulación y evaluación de proyectos complejos",
           "Formulación y evaluación de proyectos complejos"
          ],
          [
           "Foundations of Marketing Analytics",
           "Foundations of Marketing Analytics"
          ],
          [
           "Front-End Web Development with React",
           "Front-End Web Development with React"
          ],
          [
           "Front-End Web UI Frameworks and Tools: Bootstrap 4",
           "Front-End Web UI Frameworks and Tools: Bootstrap 4"
          ],
          [
           "Full Stack Web and Multiplatform Mobile App Development",
           "Full Stack Web and Multiplatform Mobile App Development"
          ],
          [
           "Full-Stack Web Development with React",
           "Full-Stack Web Development with React"
          ],
          [
           "Functional Programming Principles in Scala",
           "Functional Programming Principles in Scala"
          ],
          [
           "Functional Programming in Scala",
           "Functional Programming in Scala"
          ],
          [
           "Fundamentals of Immunology",
           "Fundamentals of Immunology"
          ],
          [
           "Fundamentals of Immunology: Innate Immunity and B-Cell Function",
           "Fundamentals of Immunology: Innate Immunity and B-Cell Function"
          ],
          [
           "Fundamentals of Reinforcement Learning",
           "Fundamentals of Reinforcement Learning"
          ],
          [
           "Game Design and Development",
           "Game Design and Development"
          ],
          [
           "Genomic Data Science",
           "Genomic Data Science"
          ],
          [
           "Getting Started with AWS Machine Learning",
           "Getting Started with AWS Machine Learning"
          ],
          [
           "Getting Started with Go",
           "Getting Started with Go"
          ],
          [
           "Getting Started with Google Kubernetes Engine",
           "Getting Started with Google Kubernetes Engine"
          ],
          [
           "Global Environmental Management",
           "Global Environmental Management"
          ],
          [
           "Global Financing Solutions  (by EDHEC and Société Générale)",
           "Global Financing Solutions  (by EDHEC and Société Générale)"
          ],
          [
           "Globalization, Economic Growth and Stability",
           "Globalization, Economic Growth and Stability"
          ],
          [
           "Google Cloud Platform Big Data and Machine Learning Fundamentals",
           "Google Cloud Platform Big Data and Machine Learning Fundamentals"
          ],
          [
           "Google Cloud Platform Fundamentals for AWS Professionals",
           "Google Cloud Platform Fundamentals for AWS Professionals"
          ],
          [
           "Hardware Description Languages for FPGA Design",
           "Hardware Description Languages for FPGA Design"
          ],
          [
           "Health Information Literacy for Data Analytics",
           "Health Information Literacy for Data Analytics"
          ],
          [
           "Healthcare Law",
           "Healthcare Law"
          ],
          [
           "How Things Work: An Introduction to Physics",
           "How Things Work: An Introduction to Physics"
          ],
          [
           "IBM AI Engineering",
           "IBM AI Engineering"
          ],
          [
           "Infectious Disease Modelling",
           "Infectious Disease Modelling"
          ],
          [
           "Influencer Marketing Strategy",
           "Influencer Marketing Strategy"
          ],
          [
           "Inspired Leadership",
           "Inspired Leadership"
          ],
          [
           "Instructional Methods in Health Professions Education",
           "Instructional Methods in Health Professions Education"
          ],
          [
           "Intellectual Property Law",
           "Intellectual Property Law"
          ],
          [
           "Interaction Design",
           "Interaction Design"
          ],
          [
           "International Business Essentials",
           "International Business Essentials"
          ],
          [
           "Interviewing and Resume Writing in English",
           "Interviewing and Resume Writing in English"
          ],
          [
           "Introduction to Business Analytics: Communicating with Data",
           "Introduction to Business Analytics: Communicating with Data"
          ],
          [
           "Introduction to Calculus",
           "Introduction to Calculus"
          ],
          [
           "Introduction to Data Science in Python",
           "Introduction to Data Science in Python"
          ],
          [
           "Introduction to Embedded Systems Software and Development Environments",
           "Introduction to Embedded Systems Software and Development Environments"
          ],
          [
           "Introduction to Mathematical Thinking",
           "Introduction to Mathematical Thinking"
          ],
          [
           "Introduction to TensorFlow for Artificial Intelligence, Machine Learning, and Deep Learning",
           "Introduction to TensorFlow for Artificial Intelligence, Machine Learning, and Deep Learning"
          ],
          [
           "Introduction to Trading, Machine Learning & GCP",
           "Introduction to Trading, Machine Learning & GCP"
          ],
          [
           "Kotlin for Java Developers",
           "Kotlin for Java Developers"
          ],
          [
           "Leading for Equity, Diversity and Inclusion in Higher Education",
           "Leading for Equity, Diversity and Inclusion in Higher Education"
          ],
          [
           "Leading: Human Resource Management and Leadership",
           "Leading: Human Resource Management and Leadership"
          ],
          [
           "Learn English: Advanced Academic Speaking and Listening",
           "Learn English: Advanced Academic Speaking and Listening"
          ],
          [
           "Learn English: Intermediate Grammar",
           "Learn English: Intermediate Grammar"
          ],
          [
           "Legal Tech & Startups",
           "Legal Tech & Startups"
          ],
          [
           "Liderazgo efectivo para el siglo XXI",
           "Liderazgo efectivo para el siglo XXI"
          ],
          [
           "Machine Learning",
           "Machine Learning"
          ],
          [
           "Machine Learning and Reinforcement Learning in Finance",
           "Machine Learning and Reinforcement Learning in Finance"
          ],
          [
           "Machine Learning for Business Professionals",
           "Machine Learning for Business Professionals"
          ],
          [
           "Machine Learning for Trading",
           "Machine Learning for Trading"
          ],
          [
           "Machine Learning with Python",
           "Machine Learning with Python"
          ],
          [
           "Machine Learning with TensorFlow on Google Cloud Platform",
           "Machine Learning with TensorFlow on Google Cloud Platform"
          ],
          [
           "Marketing Gerencial",
           "Marketing Gerencial"
          ],
          [
           "Marketing con Redes Sociales",
           "Marketing con Redes Sociales"
          ],
          [
           "Mathematics for Machine Learning: PCA",
           "Mathematics for Machine Learning: PCA"
          ],
          [
           "Modern Robotics:  Mechanics, Planning, and Control",
           "Modern Robotics:  Mechanics, Planning, and Control"
          ],
          [
           "Modernizing Data Lakes and Data Warehouses with GCP",
           "Modernizing Data Lakes and Data Warehouses with GCP"
          ],
          [
           "Municipal Solid Waste Management in Developing Countries",
           "Municipal Solid Waste Management in Developing Countries"
          ],
          [
           "Natural Language Processing in TensorFlow",
           "Natural Language Processing in TensorFlow"
          ],
          [
           "Networking and Security Architecture with VMware NSX",
           "Networking and Security Architecture with VMware NSX"
          ],
          [
           "Networking in Google Cloud",
           "Networking in Google Cloud"
          ],
          [
           "Neural Networks and Deep Learning",
           "Neural Networks and Deep Learning"
          ],
          [
           "Nutrition and Lifestyle in Pregnancy",
           "Nutrition and Lifestyle in Pregnancy"
          ],
          [
           "Object Oriented Java Programming: Data Structures and Beyond",
           "Object Oriented Java Programming: Data Structures and Beyond"
          ],
          [
           "Object-Oriented Data Structures in C++",
           "Object-Oriented Data Structures in C++"
          ],
          [
           "Object-Oriented Design",
           "Object-Oriented Design"
          ],
          [
           "Organizational Leadership",
           "Organizational Leadership"
          ],
          [
           "Parallel, Concurrent, and Distributed Programming in Java",
           "Parallel, Concurrent, and Distributed Programming in Java"
          ],
          [
           "Perfect Tenses and Modals",
           "Perfect Tenses and Modals"
          ],
          [
           "Power Electronics",
           "Power Electronics"
          ],
          [
           "Practical Time Series Analysis",
           "Practical Time Series Analysis"
          ],
          [
           "Process Mining: Data science in Action",
           "Process Mining: Data science in Action"
          ],
          [
           "Programming with Google Go",
           "Programming with Google Go"
          ],
          [
           "Python Classes and Inheritance",
           "Python Classes and Inheritance"
          ],
          [
           "Python and Statistics for Financial Analysis",
           "Python and Statistics for Financial Analysis"
          ],
          [
           "R Programming",
           "R Programming"
          ],
          [
           "Recommender Systems",
           "Recommender Systems"
          ],
          [
           "Reinforcement Learning",
           "Reinforcement Learning"
          ],
          [
           "Revisão Sistemática e Meta-análise",
           "Revisão Sistemática e Meta-análise"
          ],
          [
           "Sample-based Learning Methods",
           "Sample-based Learning Methods"
          ],
          [
           "Secure Coding Practices",
           "Secure Coding Practices"
          ],
          [
           "Security in Google Cloud Platform",
           "Security in Google Cloud Platform"
          ],
          [
           "Sequence Models",
           "Sequence Models"
          ],
          [
           "Six Sigma Green Belt",
           "Six Sigma Green Belt"
          ],
          [
           "Six Sigma and the Organization (Advanced)",
           "Six Sigma and the Organization (Advanced)"
          ],
          [
           "Software Development Lifecycle",
           "Software Development Lifecycle"
          ],
          [
           "Sports Marketing",
           "Sports Marketing"
          ],
          [
           "Stories of Infection",
           "Stories of Infection"
          ],
          [
           "Strategic Sales Management",
           "Strategic Sales Management"
          ],
          [
           "Strategising: Management for Global Competitive Advantage",
           "Strategising: Management for Global Competitive Advantage"
          ],
          [
           "Supply Chain Finance and Blockchain Technology",
           "Supply Chain Finance and Blockchain Technology"
          ],
          [
           "Systems Biology and Biotechnology",
           "Systems Biology and Biotechnology"
          ],
          [
           "Teach English Now! Teaching Language Online",
           "Teach English Now! Teaching Language Online"
          ],
          [
           "TensorFlow in Practice",
           "TensorFlow in Practice"
          ],
          [
           "TensorFlow: Data and Deployment",
           "TensorFlow: Data and Deployment"
          ],
          [
           "The Art of Music Production",
           "The Art of Music Production"
          ],
          [
           "The Changing Global Order",
           "The Changing Global Order"
          ],
          [
           "The Oral Cavity: Portal to Health and Disease",
           "The Oral Cavity: Portal to Health and Disease"
          ],
          [
           "The Science of Stem Cells",
           "The Science of Stem Cells"
          ],
          [
           "The Strategy of Content Marketing",
           "The Strategy of Content Marketing"
          ],
          [
           "Troubles du spectre de l'autisme : diagnostic",
           "Troubles du spectre de l'autisme : diagnostic"
          ],
          [
           "U.S. Federal Taxation",
           "U.S. Federal Taxation"
          ],
          [
           "Understanding Modern Finance",
           "Understanding Modern Finance"
          ],
          [
           "Unity Certified Programmer Exam Preparation",
           "Unity Certified Programmer Exam Preparation"
          ],
          [
           "Unraveling the Cycling City",
           "Unraveling the Cycling City"
          ],
          [
           "User Interface Design",
           "User Interface Design"
          ],
          [
           "Value Chain Management",
           "Value Chain Management"
          ],
          [
           "Web Applications for Everybody",
           "Web Applications for Everybody"
          ],
          [
           "Wonders of Ancient Egypt",
           "Wonders of Ancient Egypt"
          ],
          [
           "iOS App Development with Swift",
           "iOS App Development with Swift"
          ],
          [
           "Étudier en France: French Intermediate course B1-B2",
           "Étudier en France: French Intermediate course B1-B2"
          ],
          [
           "Искусство разработки на современном C++",
           "Искусство разработки на современном C++"
          ],
          [
           "Машинное обучение и анализ данных",
           "Машинное обучение и анализ данных"
          ],
          [
           "Основы Digital Маркетинга",
           "Основы Digital Маркетинга"
          ],
          [
           "Основы разработки на C++: белый пояс",
           "Основы разработки на C++: белый пояс"
          ],
          [
           "Погружение в Python",
           "Погружение в Python"
          ],
          [
           "Программирование на Python",
           "Программирование на Python"
          ],
          [
           "Разработка интерфейсов: вёрстка и JavaScript",
           "Разработка интерфейсов: вёрстка и JavaScript"
          ],
          [
           "Русский как иностранный",
           "Русский как иностранный"
          ]
         ],
         "hovertemplate": "course_difficulty=Intermediate<br>course_rating=%{x}<br>course_students_enrolled=%{marker.size}<br>course_title=%{customdata[0]}<br>course_organization=%{customdata[1]}<extra></extra>",
         "legendgroup": "Intermediate",
         "marker": {
          "color": "#EF553B",
          "size": [
           17000,
           2400,
           12000,
           4000,
           13000,
           13000,
           22000,
           9900,
           78000,
           220000,
           150000,
           14000,
           36000,
           63000,
           42000,
           480000,
           150000,
           97000,
           4200,
           310000,
           33000,
           7300,
           9200,
           91000,
           29000,
           4200,
           1900,
           68000,
           7300,
           5800,
           24000,
           38000,
           120000,
           77000,
           110000,
           310000,
           37000,
           350000,
           240000,
           46000,
           10000,
           43000,
           26000,
           22000,
           99000,
           19000,
           3000,
           120000,
           120000,
           140000,
           210000,
           66000,
           690000,
           19000,
           16000,
           300000,
           4000,
           8000,
           40000,
           130000,
           18000,
           16000,
           57000,
           110000,
           42000,
           7900,
           68000,
           83000,
           4100,
           54000,
           39000,
           76000,
           39000,
           12000,
           76000,
           12000,
           30000,
           4400,
           27000,
           45000,
           89000,
           150000,
           140000,
           170000,
           220000,
           20000,
           18000,
           22000,
           100000,
           80000,
           73000,
           59000,
           75000,
           22000,
           3600,
           44000,
           120000,
           36000,
           7400,
           5400,
           1700,
           170000,
           140000,
           1600,
           12000,
           97000,
           9700,
           8700,
           150000,
           22000,
           66000,
           14000,
           53000,
           390000,
           41000,
           270000,
           150000,
           13000,
           37000,
           5900,
           16000,
           78000,
           120000,
           7200,
           23000,
           290000,
           29000,
           58000,
           15000,
           120000,
           72000,
           49000,
           60000,
           33000,
           21000,
           9100,
           59000,
           40000,
           17000,
           290000,
           630000,
           35000,
           250000,
           21000,
           33000,
           92000,
           30000,
           79000,
           67000,
           39000,
           39000,
           18000,
           21000,
           41000,
           480000,
           29000,
           23000,
           17000,
           6800,
           6400,
           300000,
           14000,
           18000,
           15000,
           34000,
           12000,
           28000,
           9200,
           30000,
           4900,
           48000,
           8500,
           170000,
           12000,
           47000,
           23000,
           9400,
           12000,
           100000,
           5400,
           12000,
           11000,
           6100,
           3900,
           43000,
           63000,
           120000,
           17000,
           76000,
           190000,
           68000,
           77000,
           19000,
           41000,
           45000,
           52000,
           30000,
           9800
          ],
          "sizemode": "area",
          "sizeref": 8000,
          "symbol": "circle"
         },
         "mode": "markers",
         "name": "Intermediate",
         "orientation": "v",
         "showlegend": true,
         "type": "scatter",
         "x": [
          4.7,
          4.8,
          4.7,
          4.6,
          4.7,
          4.5,
          4.7,
          4.8,
          4.5,
          4.7,
          4.8,
          4.8,
          4.8,
          4.6,
          4.7,
          4.5,
          4.6,
          4.6,
          4.5,
          4.7,
          4.8,
          4.8,
          4.8,
          4.8,
          4.8,
          4.7,
          4.8,
          4.6,
          4.5,
          4.6,
          4.3,
          4.7,
          4.7,
          4.7,
          4.4,
          4.7,
          4.7,
          4.7,
          4.9,
          4.7,
          4.8,
          4.8,
          4.8,
          4.8,
          4.5,
          4.7,
          4.4,
          4.6,
          4.6,
          4.4,
          4.4,
          4.6,
          4.8,
          4.6,
          4.6,
          4.7,
          4.8,
          4.6,
          4.9,
          4.8,
          4.8,
          4.7,
          4.7,
          4.8,
          4.6,
          4.5,
          4.7,
          4.7,
          4.8,
          4.6,
          4.7,
          4.9,
          4.8,
          4.4,
          4.7,
          4.8,
          4.6,
          4.9,
          4.2,
          4.7,
          4.8,
          4.7,
          4.7,
          4.8,
          4.7,
          4.7,
          4.7,
          4.8,
          4.7,
          4.4,
          4.5,
          4.6,
          4.5,
          4.6,
          4.6,
          4.8,
          4.6,
          4.7,
          4.2,
          4.5,
          4.7,
          4.8,
          4.6,
          5,
          4.4,
          4.7,
          4.6,
          4.8,
          4.5,
          4.5,
          4.6,
          4.7,
          4.8,
          4.5,
          4.5,
          4.8,
          4.7,
          4,
          4.7,
          4.7,
          4.8,
          4.5,
          4.7,
          4.5,
          4.8,
          4.6,
          3.7,
          4.6,
          3.9,
          4.7,
          4.5,
          4.7,
          4.4,
          4,
          4.7,
          4.7,
          4.8,
          4.6,
          4.8,
          4.7,
          4.9,
          4.8,
          4.7,
          4.7,
          4.7,
          4.7,
          4.5,
          4.7,
          4.8,
          4.6,
          4.8,
          4.6,
          4.7,
          4.4,
          4.6,
          4.3,
          4.7,
          4.9,
          4.8,
          4.4,
          4.7,
          4.8,
          4.7,
          4.7,
          4.6,
          4.7,
          4.9,
          4.5,
          4.8,
          4.6,
          4.4,
          4.4,
          4.7,
          4.5,
          4.8,
          4.7,
          4.9,
          4.7,
          4.5,
          4.9,
          4.8,
          4.4,
          4.5,
          4.9,
          4.6,
          4.7,
          4.8,
          4.8,
          3.9,
          4.8,
          4.9,
          4.7,
          4.5,
          4.9,
          4.7,
          4.5,
          4.5,
          4.6
         ],
         "xaxis": "x",
         "y": [
          17000,
          2400,
          12000,
          4000,
          13000,
          13000,
          22000,
          9900,
          78000,
          220000,
          150000,
          14000,
          36000,
          63000,
          42000,
          480000,
          150000,
          97000,
          4200,
          310000,
          33000,
          7300,
          9200,
          91000,
          29000,
          4200,
          1900,
          68000,
          7300,
          5800,
          24000,
          38000,
          120000,
          77000,
          110000,
          310000,
          37000,
          350000,
          240000,
          46000,
          10000,
          43000,
          26000,
          22000,
          99000,
          19000,
          3000,
          120000,
          120000,
          140000,
          210000,
          66000,
          690000,
          19000,
          16000,
          300000,
          4000,
          8000,
          40000,
          130000,
          18000,
          16000,
          57000,
          110000,
          42000,
          7900,
          68000,
          83000,
          4100,
          54000,
          39000,
          76000,
          39000,
          12000,
          76000,
          12000,
          30000,
          4400,
          27000,
          45000,
          89000,
          150000,
          140000,
          170000,
          220000,
          20000,
          18000,
          22000,
          100000,
          80000,
          73000,
          59000,
          75000,
          22000,
          3600,
          44000,
          120000,
          36000,
          7400,
          5400,
          1700,
          170000,
          140000,
          1600,
          12000,
          97000,
          9700,
          8700,
          150000,
          22000,
          66000,
          14000,
          53000,
          390000,
          41000,
          270000,
          150000,
          13000,
          37000,
          5900,
          16000,
          78000,
          120000,
          7200,
          23000,
          290000,
          29000,
          58000,
          15000,
          120000,
          72000,
          49000,
          60000,
          33000,
          21000,
          9100,
          59000,
          40000,
          17000,
          290000,
          630000,
          35000,
          250000,
          21000,
          33000,
          92000,
          30000,
          79000,
          67000,
          39000,
          39000,
          18000,
          21000,
          41000,
          480000,
          29000,
          23000,
          17000,
          6800,
          6400,
          300000,
          14000,
          18000,
          15000,
          34000,
          12000,
          28000,
          9200,
          30000,
          4900,
          48000,
          8500,
          170000,
          12000,
          47000,
          23000,
          9400,
          12000,
          100000,
          5400,
          12000,
          11000,
          6100,
          3900,
          43000,
          63000,
          120000,
          17000,
          76000,
          190000,
          68000,
          77000,
          19000,
          41000,
          45000,
          52000,
          30000,
          9800
         ],
         "yaxis": "y"
        },
        {
         "customdata": [
          [
           "A Crash Course in Data Science",
           "A Crash Course in Data Science"
          ],
          [
           "A Law Student's Toolkit",
           "A Law Student's Toolkit"
          ],
          [
           "A Life of Happiness and Fulfillment",
           "A Life of Happiness and Fulfillment"
          ],
          [
           "Aboriginal Worldviews and Education",
           "Aboriginal Worldviews and Education"
          ],
          [
           "Accounting Analytics",
           "Accounting Analytics"
          ],
          [
           "Actualización en el manejo del paciente con diabetes mellitus tipo 2",
           "Actualización en el manejo del paciente con diabetes mellitus tipo 2"
          ],
          [
           "Advertising and Society",
           "Advertising and Society"
          ],
          [
           "Ancient Philosophy: Aristotle and His Successors",
           "Ancient Philosophy: Aristotle and His Successors"
          ],
          [
           "Animal Behaviour and Welfare",
           "Animal Behaviour and Welfare"
          ],
          [
           "Aprender",
           "Aprender"
          ],
          [
           "Art & Activity: Interactive Strategies for Engaging with Art",
           "Art & Activity: Interactive Strategies for Engaging with Art"
          ],
          [
           "Art & Ideas: Teaching with Themes",
           "Art & Ideas: Teaching with Themes"
          ],
          [
           "Arts and Culture Strategy",
           "Arts and Culture Strategy"
          ],
          [
           "Arts and Heritage Management",
           "Arts and Heritage Management"
          ],
          [
           "Astrobiology and the Search for Extraterrestrial Life",
           "Astrobiology and the Search for Extraterrestrial Life"
          ],
          [
           "Autism Spectrum Disorder",
           "Autism Spectrum Disorder"
          ],
          [
           "Become a CBRS Certified Professional Installer by Google",
           "Become a CBRS Certified Professional Installer by Google"
          ],
          [
           "Behavioral Finance",
           "Behavioral Finance"
          ],
          [
           "Beyond the Sustainable Development Goals (SDGs): Addressing Sustainability and Development",
           "Beyond the Sustainable Development Goals (SDGs): Addressing Sustainability and Development"
          ],
          [
           "Budgeting and Scheduling Projects",
           "Budgeting and Scheduling Projects"
          ],
          [
           "Build a Modern Computer from First Principles: From Nand to Tetris (Project-Centered Course)",
           "Build a Modern Computer from First Principles: From Nand to Tetris (Project-Centered Course)"
          ],
          [
           "Building Your Leadership Skills",
           "Building Your Leadership Skills"
          ],
          [
           "Business Model Innovation",
           "Business Model Innovation"
          ],
          [
           "Cameras, Exposure, and Photography",
           "Cameras, Exposure, and Photography"
          ],
          [
           "Capstone: Retrieving, Processing, and Visualizing Data with Python",
           "Capstone: Retrieving, Processing, and Visualizing Data with Python"
          ],
          [
           "Chicken Behaviour and Welfare",
           "Chicken Behaviour and Welfare"
          ],
          [
           "Classical Sociological Theory",
           "Classical Sociological Theory"
          ],
          [
           "Control of Mobile Robots",
           "Control of Mobile Robots"
          ],
          [
           "Corporate Finance Essentials",
           "Corporate Finance Essentials"
          ],
          [
           "Corporate Sustainability. Understanding and Seizing the Strategic Opportunity",
           "Corporate Sustainability. Understanding and Seizing the Strategic Opportunity"
          ],
          [
           "Creative Problem Solving",
           "Creative Problem Solving"
          ],
          [
           "Creative Writing: The Craft of Plot",
           "Creative Writing: The Craft of Plot"
          ],
          [
           "Dairy Production and Management",
           "Dairy Production and Management"
          ],
          [
           "Data Visualization and Communication with Tableau",
           "Data Visualization and Communication with Tableau"
          ],
          [
           "Decision-Making and Scenarios",
           "Decision-Making and Scenarios"
          ],
          [
           "Design and Interpretation of Clinical Trials",
           "Design and Interpretation of Clinical Trials"
          ],
          [
           "Design and Make Infographics (Project-Centered Course)",
           "Design and Make Infographics (Project-Centered Course)"
          ],
          [
           "Developing Your Musicianship",
           "Developing Your Musicianship"
          ],
          [
           "Devenir entrepreneur du changement",
           "Devenir entrepreneur du changement"
          ],
          [
           "Digital Media and Marketing Strategies",
           "Digital Media and Marketing Strategies"
          ],
          [
           "Dog Emotion and Cognition",
           "Dog Emotion and Cognition"
          ],
          [
           "Econometrics: Methods and Applications",
           "Econometrics: Methods and Applications"
          ],
          [
           "Economics of Money and Banking",
           "Economics of Money and Banking"
          ],
          [
           "Effective Compliance Programs",
           "Effective Compliance Programs"
          ],
          [
           "English for Career Development",
           "English for Career Development"
          ],
          [
           "English for Journalism",
           "English for Journalism"
          ],
          [
           "Entrepreneurship 1: Developing the Opportunity",
           "Entrepreneurship 1: Developing the Opportunity"
          ],
          [
           "Entrepreneurship 2: Launching your Start-Up",
           "Entrepreneurship 2: Launching your Start-Up"
          ],
          [
           "Epidemics - the Dynamics of Infectious Diseases",
           "Epidemics - the Dynamics of Infectious Diseases"
          ],
          [
           "Epidemics, Pandemics and Outbreaks",
           "Epidemics, Pandemics and Outbreaks"
          ],
          [
           "Epidemiology: The Basic Science of Public Health",
           "Epidemiology: The Basic Science of Public Health"
          ],
          [
           "Epigenetic Control of Gene Expression",
           "Epigenetic Control of Gene Expression"
          ],
          [
           "Essentials of Global Health",
           "Essentials of Global Health"
          ],
          [
           "Financial Engineering and Risk Management Part I",
           "Financial Engineering and Risk Management Part I"
          ],
          [
           "Financing and Investing in Infrastructure",
           "Financing and Investing in Infrastructure"
          ],
          [
           "Finanzas personales",
           "Finanzas personales"
          ],
          [
           "Food & Beverage Management",
           "Food & Beverage Management"
          ],
          [
           "Forensic Accounting and Fraud Examination",
           "Forensic Accounting and Fraud Examination"
          ],
          [
           "Foundations of Everyday Leadership",
           "Foundations of Everyday Leadership"
          ],
          [
           "Fundamentals of Engineering Exam Review",
           "Fundamentals of Engineering Exam Review"
          ],
          [
           "Fundamentals of Quantitative Modeling",
           "Fundamentals of Quantitative Modeling"
          ],
          [
           "Gamification",
           "Gamification"
          ],
          [
           "Geopolitics of Europe",
           "Geopolitics of Europe"
          ],
          [
           "Geopolítica y gobernanza global: riesgos y oportunidades",
           "Geopolítica y gobernanza global: riesgos y oportunidades"
          ],
          [
           "Gestión de organizaciones efectivas",
           "Gestión de organizaciones efectivas"
          ],
          [
           "Global Diplomacy – Diplomacy in the Modern World",
           "Global Diplomacy – Diplomacy in the Modern World"
          ],
          [
           "Global Financial Markets and Instruments",
           "Global Financial Markets and Instruments"
          ],
          [
           "Global Trends for Business and Society",
           "Global Trends for Business and Society"
          ],
          [
           "Grammar and Punctuation",
           "Grammar and Punctuation"
          ],
          [
           "Greek and Roman Mythology",
           "Greek and Roman Mythology"
          ],
          [
           "Guitar for Beginners",
           "Guitar for Beginners"
          ],
          [
           "Gut Check: Exploring Your Microbiome",
           "Gut Check: Exploring Your Microbiome"
          ],
          [
           "HTML, CSS, and Javascript for Web Developers",
           "HTML, CSS, and Javascript for Web Developers"
          ],
          [
           "Hacia una práctica constructivista en el aula",
           "Hacia una práctica constructivista en el aula"
          ],
          [
           "Healing with the Arts",
           "Healing with the Arts"
          ],
          [
           "High Performance Collaboration: Leadership, Teamwork, and Negotiation",
           "High Performance Collaboration: Leadership, Teamwork, and Negotiation"
          ],
          [
           "How To Create a Website in a Weekend! (Project-Centered Course)",
           "How To Create a Website in a Weekend! (Project-Centered Course)"
          ],
          [
           "Indigenous Canada",
           "Indigenous Canada"
          ],
          [
           "Initiating and Planning Projects",
           "Initiating and Planning Projects"
          ],
          [
           "Inspiring and Motivating Individuals",
           "Inspiring and Motivating Individuals"
          ],
          [
           "Instructional Design Foundations and Applications",
           "Instructional Design Foundations and Applications"
          ],
          [
           "International Cyber Conflicts",
           "International Cyber Conflicts"
          ],
          [
           "International Law in Action: A Guide to the International Courts and Tribunals in The Hague",
           "International Law in Action: A Guide to the International Courts and Tribunals in The Hague"
          ],
          [
           "International Law in Action: the Arbitration of International Disputes",
           "International Law in Action: the Arbitration of International Disputes"
          ],
          [
           "International Leadership and Organizational Behavior",
           "International Leadership and Organizational Behavior"
          ],
          [
           "Internet Giants: The Law and Economics of Media Platforms",
           "Internet Giants: The Law and Economics of Media Platforms"
          ],
          [
           "Introduction aux Droits de l’Homme",
           "Introduction aux Droits de l’Homme"
          ],
          [
           "Introduction to Ableton Live",
           "Introduction to Ableton Live"
          ],
          [
           "Introduction to Big Data",
           "Introduction to Big Data"
          ],
          [
           "Introduction to Breast Cancer",
           "Introduction to Breast Cancer"
          ],
          [
           "Introduction to CSS3",
           "Introduction to CSS3"
          ],
          [
           "Introduction to Classical Music",
           "Introduction to Classical Music"
          ],
          [
           "Introduction to Corporate Finance",
           "Introduction to Corporate Finance"
          ],
          [
           "Introduction to Data Analysis Using Excel",
           "Introduction to Data Analysis Using Excel"
          ],
          [
           "Introduction to Electronics",
           "Introduction to Electronics"
          ],
          [
           "Introduction to Engineering Mechanics",
           "Introduction to Engineering Mechanics"
          ],
          [
           "Introduction to Environmental Law and Policy",
           "Introduction to Environmental Law and Policy"
          ],
          [
           "Introduction to Financial Accounting",
           "Introduction to Financial Accounting"
          ],
          [
           "Introduction to Forensic Science",
           "Introduction to Forensic Science"
          ],
          [
           "Introduction to Game Development",
           "Introduction to Game Development"
          ],
          [
           "Introduction to Genetics and Evolution",
           "Introduction to Genetics and Evolution"
          ],
          [
           "Introduction to Genomic Technologies",
           "Introduction to Genomic Technologies"
          ],
          [
           "Introduction to HTML5",
           "Introduction to HTML5"
          ],
          [
           "Introduction to International Criminal Law",
           "Introduction to International Criminal Law"
          ],
          [
           "Introduction to Marketing",
           "Introduction to Marketing"
          ],
          [
           "Introduction to Operations Management",
           "Introduction to Operations Management"
          ],
          [
           "Introduction to Philosophy",
           "Introduction to Philosophy"
          ],
          [
           "Introduction to Portfolio Construction and Analysis with Python",
           "Introduction to Portfolio Construction and Analysis with Python"
          ],
          [
           "Introduction to Spreadsheets and Models",
           "Introduction to Spreadsheets and Models"
          ],
          [
           "Introduction to Sustainability",
           "Introduction to Sustainability"
          ],
          [
           "Introduction to Systematic Review and Meta-Analysis",
           "Introduction to Systematic Review and Meta-Analysis"
          ],
          [
           "Introduction to Systems Engineering",
           "Introduction to Systems Engineering"
          ],
          [
           "Introductory Human Physiology",
           "Introductory Human Physiology"
          ],
          [
           "Leadership in 21st Century Organizations",
           "Leadership in 21st Century Organizations"
          ],
          [
           "Linear Circuits 1: DC Analysis",
           "Linear Circuits 1: DC Analysis"
          ],
          [
           "Machine Learning",
           "Machine Learning"
          ],
          [
           "Machine Learning Foundations: A Case Study Approach",
           "Machine Learning Foundations: A Case Study Approach"
          ],
          [
           "Management of Fashion and Luxury Companies",
           "Management of Fashion and Luxury Companies"
          ],
          [
           "Managing Project Risks and Changes",
           "Managing Project Risks and Changes"
          ],
          [
           "Marketing Verde",
           "Marketing Verde"
          ],
          [
           "Mastering Data Analysis in Excel",
           "Mastering Data Analysis in Excel"
          ],
          [
           "Materials Science: 10 Things Every Engineer Should Know",
           "Materials Science: 10 Things Every Engineer Should Know"
          ],
          [
           "Microeconomics: The Power of Markets",
           "Microeconomics: The Power of Markets"
          ],
          [
           "Model Thinking",
           "Model Thinking"
          ],
          [
           "Modeling Risk and Realities",
           "Modeling Risk and Realities"
          ],
          [
           "Moral Foundations of Politics",
           "Moral Foundations of Politics"
          ],
          [
           "More Introduction to Financial Accounting",
           "More Introduction to Financial Accounting"
          ],
          [
           "Mountains 101",
           "Mountains 101"
          ],
          [
           "Music Business Foundations",
           "Music Business Foundations"
          ],
          [
           "Nanotechnology: A Maker’s Course",
           "Nanotechnology: A Maker’s Course"
          ],
          [
           "Negociación exitosa: Estrategias y habilidades esenciales (en español)",
           "Negociación exitosa: Estrategias y habilidades esenciales (en español)"
          ],
          [
           "Neurolinguistics",
           "Neurolinguistics"
          ],
          [
           "Oil & Gas Industry Operations and Markets",
           "Oil & Gas Industry Operations and Markets"
          ],
          [
           "Operations Analytics",
           "Operations Analytics"
          ],
          [
           "Particle Physics: an Introduction",
           "Particle Physics: an Introduction"
          ],
          [
           "People Analytics",
           "People Analytics"
          ],
          [
           "Positive Psychiatry and Mental Health",
           "Positive Psychiatry and Mental Health"
          ],
          [
           "Positive Psychology",
           "Positive Psychology"
          ],
          [
           "Preparing to Manage Human Resources",
           "Preparing to Manage Human Resources"
          ],
          [
           "Primeros Auxilios Psicológicos (PAP)",
           "Primeros Auxilios Psicológicos (PAP)"
          ],
          [
           "Private Equity and Venture Capital",
           "Private Equity and Venture Capital"
          ],
          [
           "Programming for Everybody (Getting Started with Python)",
           "Programming for Everybody (Getting Started with Python)"
          ],
          [
           "Psychological First Aid",
           "Psychological First Aid"
          ],
          [
           "Python Data Structures",
           "Python Data Structures"
          ],
          [
           "Quantitative Methods",
           "Quantitative Methods"
          ],
          [
           "Recruiting, Hiring, and Onboarding Employees",
           "Recruiting, Hiring, and Onboarding Employees"
          ],
          [
           "Research Data Management and Sharing",
           "Research Data Management and Sharing"
          ],
          [
           "Resilience in Children Exposed to Trauma, Disaster and War: Global Perspectives",
           "Resilience in Children Exposed to Trauma, Disaster and War: Global Perspectives"
          ],
          [
           "Rethinking International Tax Law",
           "Rethinking International Tax Law"
          ],
          [
           "Réussir le Changement",
           "Réussir le Changement"
          ],
          [
           "Scaling Operations: Linking Strategy and Execution",
           "Scaling Operations: Linking Strategy and Execution"
          ],
          [
           "Search Engine Optimization Fundamentals",
           "Search Engine Optimization Fundamentals"
          ],
          [
           "Software Processes and Agile Practices",
           "Software Processes and Agile Practices"
          ],
          [
           "Speak English Professionally: In Person, Online & On the Phone",
           "Speak English Professionally: In Person, Online & On the Phone"
          ],
          [
           "Sports and Society",
           "Sports and Society"
          ],
          [
           "Strategic Management",
           "Strategic Management"
          ],
          [
           "Successful Negotiation: Essential Strategies and Skills",
           "Successful Negotiation: Essential Strategies and Skills"
          ],
          [
           "Supply Chain Principles",
           "Supply Chain Principles"
          ],
          [
           "Supporting children with difficulties in reading and writing",
           "Supporting children with difficulties in reading and writing"
          ],
          [
           "Systems Thinking In Public Health",
           "Systems Thinking In Public Health"
          ],
          [
           "Teach English Now! Foundational Principles",
           "Teach English Now! Foundational Principles"
          ],
          [
           "Teaching Character and Creating Positive Classrooms",
           "Teaching Character and Creating Positive Classrooms"
          ],
          [
           "The Data Scientist’s Toolbox",
           "The Data Scientist’s Toolbox"
          ],
          [
           "The Economics of Health Care Delivery",
           "The Economics of Health Care Delivery"
          ],
          [
           "The Global Financial Crisis",
           "The Global Financial Crisis"
          ],
          [
           "The Horse Course: Introduction to Basic Care and Management",
           "The Horse Course: Introduction to Basic Care and Management"
          ],
          [
           "The Manager's Toolkit: A Practical Guide to Managing People at Work",
           "The Manager's Toolkit: A Practical Guide to Managing People at Work"
          ],
          [
           "The Power of Macroeconomics: Economic Principles in the Real World",
           "The Power of Macroeconomics: Economic Principles in the Real World"
          ],
          [
           "The Power of Microeconomics: Economic Principles in the Real World",
           "The Power of Microeconomics: Economic Principles in the Real World"
          ],
          [
           "The Science of Gastronomy",
           "The Science of Gastronomy"
          ],
          [
           "The Science of Well-Being",
           "The Science of Well-Being"
          ],
          [
           "The Social Context of Mental Health and Illness",
           "The Social Context of Mental Health and Illness"
          ],
          [
           "The Truth About Cats and Dogs",
           "The Truth About Cats and Dogs"
          ],
          [
           "Transmedia Storytelling: Narrative worlds, emerging technologies, and global audiences",
           "Transmedia Storytelling: Narrative worlds, emerging technologies, and global audiences"
          ],
          [
           "Understanding Clinical Research: Behind the Statistics",
           "Understanding Clinical Research: Behind the Statistics"
          ],
          [
           "Understanding Research Methods",
           "Understanding Research Methods"
          ],
          [
           "Using Databases with Python",
           "Using Databases with Python"
          ],
          [
           "Using Python to Access Web Data",
           "Using Python to Access Web Data"
          ],
          [
           "Version Control with Git",
           "Version Control with Git"
          ],
          [
           "Viral Marketing and How to Craft Contagious Content",
           "Viral Marketing and How to Craft Contagious Content"
          ],
          [
           "Vital Signs: Understanding What the Body Is Telling Us",
           "Vital Signs: Understanding What the Body Is Telling Us"
          ],
          [
           "What future for education?",
           "What future for education?"
          ],
          [
           "What is Compliance?",
           "What is Compliance?"
          ],
          [
           "What is Social?",
           "What is Social?"
          ],
          [
           "Write Professional Emails in English",
           "Write Professional Emails in English"
          ],
          [
           "e-Learning Ecologies: Innovative Approaches to Teaching and Learning for the Digital Age",
           "e-Learning Ecologies: Innovative Approaches to Teaching and Learning for the Digital Age"
          ],
          [
           "Психолингвистика (Psycholinguistics)",
           "Психолингвистика (Psycholinguistics)"
          ]
         ],
         "hovertemplate": "course_difficulty=Mixed<br>course_rating=%{x}<br>course_students_enrolled=%{marker.size}<br>course_title=%{customdata[0]}<br>course_organization=%{customdata[1]}<extra></extra>",
         "legendgroup": "Mixed",
         "marker": {
          "color": "#00cc96",
          "size": [
           130000,
           91000,
           320000,
           6600,
           80000,
           23000,
           14000,
           8100,
           71000,
           200000,
           79000,
           31000,
           15000,
           15000,
           66000,
           56000,
           210000,
           55000,
           2300,
           84000,
           95000,
           67000,
           13000,
           130000,
           82000,
           19000,
           51000,
           49000,
           56000,
           10000,
           140000,
           120000,
           23000,
           130000,
           31000,
           67000,
           97000,
           41000,
           54000,
           57000,
           150000,
           110000,
           83000,
           3400,
           760000,
           130000,
           86000,
           38000,
           45000,
           23000,
           130000,
           35000,
           31000,
           100000,
           24000,
           310000,
           57000,
           42000,
           62000,
           49000,
           110000,
           110000,
           19000,
           34000,
           47000,
           79000,
           37000,
           7600,
           430000,
           260000,
           210000,
           62000,
           240000,
           62000,
           39000,
           46000,
           140000,
           51000,
           180000,
           85000,
           12000,
           25000,
           36000,
           19000,
           41000,
           38000,
           46000,
           60000,
           160000,
           27000,
           84000,
           150000,
           130000,
           99000,
           110000,
           150000,
           34000,
           200000,
           47000,
           79000,
           74000,
           42000,
           220000,
           82000,
           220000,
           87000,
           370000,
           11000,
           76000,
           69000,
           67000,
           33000,
           270000,
           34000,
           29000,
           3200000,
           240000,
           120000,
           71000,
           58000,
           280000,
           48000,
           34000,
           130000,
           36000,
           100000,
           40000,
           44000,
           34000,
           21000,
           95000,
           41000,
           57000,
           80000,
           42000,
           84000,
           72000,
           180000,
           68000,
           280000,
           79000,
           1300000,
           190000,
           420000,
           69000,
           35000,
           16000,
           15000,
           36000,
           33000,
           12000,
           47000,
           60000,
           430000,
           16000,
           58000,
           750000,
           29000,
           50000,
           33000,
           81000,
           53000,
           420000,
           7200,
           84000,
           29000,
           47000,
           180000,
           120000,
           50000,
           2500000,
           19000,
           33000,
           45000,
           78000,
           120000,
           220000,
           310000,
           40000,
           150000,
           190000,
           35000,
           6200,
           94000,
           270000,
           17000,
           21000
          ],
          "sizemode": "area",
          "sizeref": 8000,
          "symbol": "circle"
         },
         "mode": "markers",
         "name": "Mixed",
         "orientation": "v",
         "showlegend": true,
         "type": "scatter",
         "x": [
          4.5,
          4.7,
          4.8,
          4.7,
          4.5,
          4.8,
          4.8,
          4.8,
          4.8,
          4.8,
          4.8,
          4.8,
          4.6,
          4.8,
          4.7,
          4.6,
          4.9,
          4.4,
          4.6,
          4.7,
          4.9,
          4.5,
          4.7,
          4.7,
          4.6,
          4.7,
          4.8,
          4.8,
          4.8,
          4.6,
          4.3,
          4.7,
          4.8,
          4.7,
          4.6,
          4.7,
          4.7,
          4.8,
          4.7,
          4.4,
          4.6,
          4.7,
          4.9,
          4.9,
          4.8,
          4.8,
          4.8,
          4.8,
          4.8,
          4.7,
          4.6,
          4.8,
          4.8,
          4.6,
          4.8,
          4.8,
          4.8,
          4.7,
          4.8,
          4.7,
          4.6,
          4.8,
          4.3,
          4.8,
          4.7,
          4.6,
          4.6,
          4.8,
          4.7,
          4.8,
          4.8,
          4.7,
          4.8,
          4.8,
          4.6,
          4.8,
          3.3,
          4.8,
          4.7,
          4.8,
          4.2,
          4.4,
          4.8,
          4.8,
          4.8,
          4.8,
          4.8,
          4.8,
          4.6,
          4.9,
          4.8,
          4.9,
          4.6,
          4.7,
          4.7,
          4.7,
          4.8,
          4.7,
          4.9,
          4.8,
          4.8,
          4.6,
          4.7,
          4.8,
          4.8,
          4.5,
          4.6,
          4.8,
          4.2,
          4.8,
          4.8,
          4.7,
          4.7,
          4.7,
          4.6,
          4.9,
          4.6,
          4.7,
          4.7,
          4.8,
          4.2,
          4.7,
          4.7,
          4.8,
          4.6,
          4.8,
          4.9,
          4.9,
          4.9,
          4.8,
          4.8,
          4.7,
          4.8,
          4.7,
          4.5,
          4.5,
          4.8,
          4.7,
          4.8,
          4.8,
          4.8,
          4.8,
          4.8,
          4.9,
          4.7,
          4.7,
          4.6,
          4.8,
          4.9,
          4.5,
          4.5,
          4.7,
          4.7,
          4.6,
          4.8,
          4.7,
          4.8,
          4.6,
          4.8,
          4.9,
          4.9,
          4.8,
          4.6,
          4.8,
          4.8,
          4.9,
          4.6,
          4.6,
          4.7,
          4.6,
          4.9,
          4.6,
          4.7,
          4.8,
          4.8,
          4.5,
          4.8,
          4.8,
          4.8,
          4.7,
          4.8,
          4.7,
          4.8,
          4.6,
          4.7,
          4.5,
          4.8
         ],
         "xaxis": "x",
         "y": [
          130000,
          91000,
          320000,
          6600,
          80000,
          23000,
          14000,
          8100,
          71000,
          200000,
          79000,
          31000,
          15000,
          15000,
          66000,
          56000,
          210000,
          55000,
          2300,
          84000,
          95000,
          67000,
          13000,
          130000,
          82000,
          19000,
          51000,
          49000,
          56000,
          10000,
          140000,
          120000,
          23000,
          130000,
          31000,
          67000,
          97000,
          41000,
          54000,
          57000,
          150000,
          110000,
          83000,
          3400,
          760000,
          130000,
          86000,
          38000,
          45000,
          23000,
          130000,
          35000,
          31000,
          100000,
          24000,
          310000,
          57000,
          42000,
          62000,
          49000,
          110000,
          110000,
          19000,
          34000,
          47000,
          79000,
          37000,
          7600,
          430000,
          260000,
          210000,
          62000,
          240000,
          62000,
          39000,
          46000,
          140000,
          51000,
          180000,
          85000,
          12000,
          25000,
          36000,
          19000,
          41000,
          38000,
          46000,
          60000,
          160000,
          27000,
          84000,
          150000,
          130000,
          99000,
          110000,
          150000,
          34000,
          200000,
          47000,
          79000,
          74000,
          42000,
          220000,
          82000,
          220000,
          87000,
          370000,
          11000,
          76000,
          69000,
          67000,
          33000,
          270000,
          34000,
          29000,
          3200000,
          240000,
          120000,
          71000,
          58000,
          280000,
          48000,
          34000,
          130000,
          36000,
          100000,
          40000,
          44000,
          34000,
          21000,
          95000,
          41000,
          57000,
          80000,
          42000,
          84000,
          72000,
          180000,
          68000,
          280000,
          79000,
          1300000,
          190000,
          420000,
          69000,
          35000,
          16000,
          15000,
          36000,
          33000,
          12000,
          47000,
          60000,
          430000,
          16000,
          58000,
          750000,
          29000,
          50000,
          33000,
          81000,
          53000,
          420000,
          7200,
          84000,
          29000,
          47000,
          180000,
          120000,
          50000,
          2500000,
          19000,
          33000,
          45000,
          78000,
          120000,
          220000,
          310000,
          40000,
          150000,
          190000,
          35000,
          6200,
          94000,
          270000,
          17000,
          21000
         ],
         "yaxis": "y"
        },
        {
         "customdata": [
          [
           "Advanced Data Science with IBM",
           "Advanced Data Science with IBM"
          ],
          [
           "Advanced Machine Learning",
           "Advanced Machine Learning"
          ],
          [
           "Advanced Machine Learning with TensorFlow on Google Cloud Platform",
           "Advanced Machine Learning with TensorFlow on Google Cloud Platform"
          ],
          [
           "Advanced Valuation and Strategy - M&A, Private Equity, and Venture Capital",
           "Advanced Valuation and Strategy - M&A, Private Equity, and Venture Capital"
          ],
          [
           "Antibiotic Stewardship",
           "Antibiotic Stewardship"
          ],
          [
           "Autodesk Certified Professional: AutoCAD for Design and Drafting Exam Prep",
           "Autodesk Certified Professional: AutoCAD for Design and Drafting Exam Prep"
          ],
          [
           "Autodesk Certified Professional: Revit for Architectural Design Exam Prep",
           "Autodesk Certified Professional: Revit for Architectural Design Exam Prep"
          ],
          [
           "Data Warehousing for Business Intelligence",
           "Data Warehousing for Business Intelligence"
          ],
          [
           "IBM AI Enterprise Workflow",
           "IBM AI Enterprise Workflow"
          ],
          [
           "Introduction to Self-Driving Cars",
           "Introduction to Self-Driving Cars"
          ],
          [
           "Learn English: Advanced Grammar and Punctuation",
           "Learn English: Advanced Grammar and Punctuation"
          ],
          [
           "Medical Neuroscience",
           "Medical Neuroscience"
          ],
          [
           "Optical Engineering",
           "Optical Engineering"
          ],
          [
           "Probabilistic Graphical Models 1: Representation",
           "Probabilistic Graphical Models 1: Representation"
          ],
          [
           "Self-Driving Cars",
           "Self-Driving Cars"
          ],
          [
           "Site Reliability Engineering: Measuring and Managing Reliability",
           "Site Reliability Engineering: Measuring and Managing Reliability"
          ],
          [
           "Social and Economic Networks:  Models and Analysis",
           "Social and Economic Networks:  Models and Analysis"
          ],
          [
           "Spacecraft Dynamics and Control",
           "Spacecraft Dynamics and Control"
          ],
          [
           "Strategic Business Analytics",
           "Strategic Business Analytics"
          ]
         ],
         "hovertemplate": "course_difficulty=Advanced<br>course_rating=%{x}<br>course_students_enrolled=%{marker.size}<br>course_title=%{customdata[0]}<br>course_organization=%{customdata[1]}<extra></extra>",
         "legendgroup": "Advanced",
         "marker": {
          "color": "#ab63fa",
          "size": [
           320000,
           190000,
           35000,
           29000,
           11000,
           22000,
           9700,
           140000,
           3500,
           39000,
           52000,
           170000,
           6200,
           68000,
           39000,
           16000,
           42000,
           12000,
           60000
          ],
          "sizemode": "area",
          "sizeref": 8000,
          "symbol": "circle"
         },
         "mode": "markers",
         "name": "Advanced",
         "orientation": "v",
         "showlegend": true,
         "type": "scatter",
         "x": [
          4.4,
          4.5,
          4.5,
          4.7,
          4.5,
          4.7,
          4.7,
          4.5,
          4.4,
          4.8,
          4.8,
          4.9,
          4.2,
          4.7,
          4.7,
          4.5,
          4.8,
          4.8,
          4.3
         ],
         "xaxis": "x",
         "y": [
          320000,
          190000,
          35000,
          29000,
          11000,
          22000,
          9700,
          140000,
          3500,
          39000,
          52000,
          170000,
          6200,
          68000,
          39000,
          16000,
          42000,
          12000,
          60000
         ],
         "yaxis": "y"
        }
       ],
       "layout": {
        "autosize": true,
        "legend": {
         "itemsizing": "constant",
         "title": {
          "text": "course_difficulty"
         },
         "tracegroupgap": 0
        },
        "template": {
         "data": {
          "bar": [
           {
            "error_x": {
             "color": "#2a3f5f"
            },
            "error_y": {
             "color": "#2a3f5f"
            },
            "marker": {
             "line": {
              "color": "#E5ECF6",
              "width": 0.5
             },
             "pattern": {
              "fillmode": "overlay",
              "size": 10,
              "solidity": 0.2
             }
            },
            "type": "bar"
           }
          ],
          "barpolar": [
           {
            "marker": {
             "line": {
              "color": "#E5ECF6",
              "width": 0.5
             },
             "pattern": {
              "fillmode": "overlay",
              "size": 10,
              "solidity": 0.2
             }
            },
            "type": "barpolar"
           }
          ],
          "carpet": [
           {
            "aaxis": {
             "endlinecolor": "#2a3f5f",
             "gridcolor": "white",
             "linecolor": "white",
             "minorgridcolor": "white",
             "startlinecolor": "#2a3f5f"
            },
            "baxis": {
             "endlinecolor": "#2a3f5f",
             "gridcolor": "white",
             "linecolor": "white",
             "minorgridcolor": "white",
             "startlinecolor": "#2a3f5f"
            },
            "type": "carpet"
           }
          ],
          "choropleth": [
           {
            "colorbar": {
             "outlinewidth": 0,
             "ticks": ""
            },
            "type": "choropleth"
           }
          ],
          "contour": [
           {
            "colorbar": {
             "outlinewidth": 0,
             "ticks": ""
            },
            "colorscale": [
             [
              0,
              "#0d0887"
             ],
             [
              0.1111111111111111,
              "#46039f"
             ],
             [
              0.2222222222222222,
              "#7201a8"
             ],
             [
              0.3333333333333333,
              "#9c179e"
             ],
             [
              0.4444444444444444,
              "#bd3786"
             ],
             [
              0.5555555555555556,
              "#d8576b"
             ],
             [
              0.6666666666666666,
              "#ed7953"
             ],
             [
              0.7777777777777778,
              "#fb9f3a"
             ],
             [
              0.8888888888888888,
              "#fdca26"
             ],
             [
              1,
              "#f0f921"
             ]
            ],
            "type": "contour"
           }
          ],
          "contourcarpet": [
           {
            "colorbar": {
             "outlinewidth": 0,
             "ticks": ""
            },
            "type": "contourcarpet"
           }
          ],
          "heatmap": [
           {
            "colorbar": {
             "outlinewidth": 0,
             "ticks": ""
            },
            "colorscale": [
             [
              0,
              "#0d0887"
             ],
             [
              0.1111111111111111,
              "#46039f"
             ],
             [
              0.2222222222222222,
              "#7201a8"
             ],
             [
              0.3333333333333333,
              "#9c179e"
             ],
             [
              0.4444444444444444,
              "#bd3786"
             ],
             [
              0.5555555555555556,
              "#d8576b"
             ],
             [
              0.6666666666666666,
              "#ed7953"
             ],
             [
              0.7777777777777778,
              "#fb9f3a"
             ],
             [
              0.8888888888888888,
              "#fdca26"
             ],
             [
              1,
              "#f0f921"
             ]
            ],
            "type": "heatmap"
           }
          ],
          "heatmapgl": [
           {
            "colorbar": {
             "outlinewidth": 0,
             "ticks": ""
            },
            "colorscale": [
             [
              0,
              "#0d0887"
             ],
             [
              0.1111111111111111,
              "#46039f"
             ],
             [
              0.2222222222222222,
              "#7201a8"
             ],
             [
              0.3333333333333333,
              "#9c179e"
             ],
             [
              0.4444444444444444,
              "#bd3786"
             ],
             [
              0.5555555555555556,
              "#d8576b"
             ],
             [
              0.6666666666666666,
              "#ed7953"
             ],
             [
              0.7777777777777778,
              "#fb9f3a"
             ],
             [
              0.8888888888888888,
              "#fdca26"
             ],
             [
              1,
              "#f0f921"
             ]
            ],
            "type": "heatmapgl"
           }
          ],
          "histogram": [
           {
            "marker": {
             "pattern": {
              "fillmode": "overlay",
              "size": 10,
              "solidity": 0.2
             }
            },
            "type": "histogram"
           }
          ],
          "histogram2d": [
           {
            "colorbar": {
             "outlinewidth": 0,
             "ticks": ""
            },
            "colorscale": [
             [
              0,
              "#0d0887"
             ],
             [
              0.1111111111111111,
              "#46039f"
             ],
             [
              0.2222222222222222,
              "#7201a8"
             ],
             [
              0.3333333333333333,
              "#9c179e"
             ],
             [
              0.4444444444444444,
              "#bd3786"
             ],
             [
              0.5555555555555556,
              "#d8576b"
             ],
             [
              0.6666666666666666,
              "#ed7953"
             ],
             [
              0.7777777777777778,
              "#fb9f3a"
             ],
             [
              0.8888888888888888,
              "#fdca26"
             ],
             [
              1,
              "#f0f921"
             ]
            ],
            "type": "histogram2d"
           }
          ],
          "histogram2dcontour": [
           {
            "colorbar": {
             "outlinewidth": 0,
             "ticks": ""
            },
            "colorscale": [
             [
              0,
              "#0d0887"
             ],
             [
              0.1111111111111111,
              "#46039f"
             ],
             [
              0.2222222222222222,
              "#7201a8"
             ],
             [
              0.3333333333333333,
              "#9c179e"
             ],
             [
              0.4444444444444444,
              "#bd3786"
             ],
             [
              0.5555555555555556,
              "#d8576b"
             ],
             [
              0.6666666666666666,
              "#ed7953"
             ],
             [
              0.7777777777777778,
              "#fb9f3a"
             ],
             [
              0.8888888888888888,
              "#fdca26"
             ],
             [
              1,
              "#f0f921"
             ]
            ],
            "type": "histogram2dcontour"
           }
          ],
          "mesh3d": [
           {
            "colorbar": {
             "outlinewidth": 0,
             "ticks": ""
            },
            "type": "mesh3d"
           }
          ],
          "parcoords": [
           {
            "line": {
             "colorbar": {
              "outlinewidth": 0,
              "ticks": ""
             }
            },
            "type": "parcoords"
           }
          ],
          "pie": [
           {
            "automargin": true,
            "type": "pie"
           }
          ],
          "scatter": [
           {
            "fillpattern": {
             "fillmode": "overlay",
             "size": 10,
             "solidity": 0.2
            },
            "type": "scatter"
           }
          ],
          "scatter3d": [
           {
            "line": {
             "colorbar": {
              "outlinewidth": 0,
              "ticks": ""
             }
            },
            "marker": {
             "colorbar": {
              "outlinewidth": 0,
              "ticks": ""
             }
            },
            "type": "scatter3d"
           }
          ],
          "scattercarpet": [
           {
            "marker": {
             "colorbar": {
              "outlinewidth": 0,
              "ticks": ""
             }
            },
            "type": "scattercarpet"
           }
          ],
          "scattergeo": [
           {
            "marker": {
             "colorbar": {
              "outlinewidth": 0,
              "ticks": ""
             }
            },
            "type": "scattergeo"
           }
          ],
          "scattergl": [
           {
            "marker": {
             "colorbar": {
              "outlinewidth": 0,
              "ticks": ""
             }
            },
            "type": "scattergl"
           }
          ],
          "scattermapbox": [
           {
            "marker": {
             "colorbar": {
              "outlinewidth": 0,
              "ticks": ""
             }
            },
            "type": "scattermapbox"
           }
          ],
          "scatterpolar": [
           {
            "marker": {
             "colorbar": {
              "outlinewidth": 0,
              "ticks": ""
             }
            },
            "type": "scatterpolar"
           }
          ],
          "scatterpolargl": [
           {
            "marker": {
             "colorbar": {
              "outlinewidth": 0,
              "ticks": ""
             }
            },
            "type": "scatterpolargl"
           }
          ],
          "scatterternary": [
           {
            "marker": {
             "colorbar": {
              "outlinewidth": 0,
              "ticks": ""
             }
            },
            "type": "scatterternary"
           }
          ],
          "surface": [
           {
            "colorbar": {
             "outlinewidth": 0,
             "ticks": ""
            },
            "colorscale": [
             [
              0,
              "#0d0887"
             ],
             [
              0.1111111111111111,
              "#46039f"
             ],
             [
              0.2222222222222222,
              "#7201a8"
             ],
             [
              0.3333333333333333,
              "#9c179e"
             ],
             [
              0.4444444444444444,
              "#bd3786"
             ],
             [
              0.5555555555555556,
              "#d8576b"
             ],
             [
              0.6666666666666666,
              "#ed7953"
             ],
             [
              0.7777777777777778,
              "#fb9f3a"
             ],
             [
              0.8888888888888888,
              "#fdca26"
             ],
             [
              1,
              "#f0f921"
             ]
            ],
            "type": "surface"
           }
          ],
          "table": [
           {
            "cells": {
             "fill": {
              "color": "#EBF0F8"
             },
             "line": {
              "color": "white"
             }
            },
            "header": {
             "fill": {
              "color": "#C8D4E3"
             },
             "line": {
              "color": "white"
             }
            },
            "type": "table"
           }
          ]
         },
         "layout": {
          "annotationdefaults": {
           "arrowcolor": "#2a3f5f",
           "arrowhead": 0,
           "arrowwidth": 1
          },
          "autotypenumbers": "strict",
          "coloraxis": {
           "colorbar": {
            "outlinewidth": 0,
            "ticks": ""
           }
          },
          "colorscale": {
           "diverging": [
            [
             0,
             "#8e0152"
            ],
            [
             0.1,
             "#c51b7d"
            ],
            [
             0.2,
             "#de77ae"
            ],
            [
             0.3,
             "#f1b6da"
            ],
            [
             0.4,
             "#fde0ef"
            ],
            [
             0.5,
             "#f7f7f7"
            ],
            [
             0.6,
             "#e6f5d0"
            ],
            [
             0.7,
             "#b8e186"
            ],
            [
             0.8,
             "#7fbc41"
            ],
            [
             0.9,
             "#4d9221"
            ],
            [
             1,
             "#276419"
            ]
           ],
           "sequential": [
            [
             0,
             "#0d0887"
            ],
            [
             0.1111111111111111,
             "#46039f"
            ],
            [
             0.2222222222222222,
             "#7201a8"
            ],
            [
             0.3333333333333333,
             "#9c179e"
            ],
            [
             0.4444444444444444,
             "#bd3786"
            ],
            [
             0.5555555555555556,
             "#d8576b"
            ],
            [
             0.6666666666666666,
             "#ed7953"
            ],
            [
             0.7777777777777778,
             "#fb9f3a"
            ],
            [
             0.8888888888888888,
             "#fdca26"
            ],
            [
             1,
             "#f0f921"
            ]
           ],
           "sequentialminus": [
            [
             0,
             "#0d0887"
            ],
            [
             0.1111111111111111,
             "#46039f"
            ],
            [
             0.2222222222222222,
             "#7201a8"
            ],
            [
             0.3333333333333333,
             "#9c179e"
            ],
            [
             0.4444444444444444,
             "#bd3786"
            ],
            [
             0.5555555555555556,
             "#d8576b"
            ],
            [
             0.6666666666666666,
             "#ed7953"
            ],
            [
             0.7777777777777778,
             "#fb9f3a"
            ],
            [
             0.8888888888888888,
             "#fdca26"
            ],
            [
             1,
             "#f0f921"
            ]
           ]
          },
          "colorway": [
           "#636efa",
           "#EF553B",
           "#00cc96",
           "#ab63fa",
           "#FFA15A",
           "#19d3f3",
           "#FF6692",
           "#B6E880",
           "#FF97FF",
           "#FECB52"
          ],
          "font": {
           "color": "#2a3f5f"
          },
          "geo": {
           "bgcolor": "white",
           "lakecolor": "white",
           "landcolor": "#E5ECF6",
           "showlakes": true,
           "showland": true,
           "subunitcolor": "white"
          },
          "hoverlabel": {
           "align": "left"
          },
          "hovermode": "closest",
          "mapbox": {
           "style": "light"
          },
          "paper_bgcolor": "white",
          "plot_bgcolor": "#E5ECF6",
          "polar": {
           "angularaxis": {
            "gridcolor": "white",
            "linecolor": "white",
            "ticks": ""
           },
           "bgcolor": "#E5ECF6",
           "radialaxis": {
            "gridcolor": "white",
            "linecolor": "white",
            "ticks": ""
           }
          },
          "scene": {
           "xaxis": {
            "backgroundcolor": "#E5ECF6",
            "gridcolor": "white",
            "gridwidth": 2,
            "linecolor": "white",
            "showbackground": true,
            "ticks": "",
            "zerolinecolor": "white"
           },
           "yaxis": {
            "backgroundcolor": "#E5ECF6",
            "gridcolor": "white",
            "gridwidth": 2,
            "linecolor": "white",
            "showbackground": true,
            "ticks": "",
            "zerolinecolor": "white"
           },
           "zaxis": {
            "backgroundcolor": "#E5ECF6",
            "gridcolor": "white",
            "gridwidth": 2,
            "linecolor": "white",
            "showbackground": true,
            "ticks": "",
            "zerolinecolor": "white"
           }
          },
          "shapedefaults": {
           "line": {
            "color": "#2a3f5f"
           }
          },
          "ternary": {
           "aaxis": {
            "gridcolor": "white",
            "linecolor": "white",
            "ticks": ""
           },
           "baxis": {
            "gridcolor": "white",
            "linecolor": "white",
            "ticks": ""
           },
           "bgcolor": "#E5ECF6",
           "caxis": {
            "gridcolor": "white",
            "linecolor": "white",
            "ticks": ""
           }
          },
          "title": {
           "x": 0.05
          },
          "xaxis": {
           "automargin": true,
           "gridcolor": "white",
           "linecolor": "white",
           "ticks": "",
           "title": {
            "standoff": 15
           },
           "zerolinecolor": "white",
           "zerolinewidth": 2
          },
          "yaxis": {
           "automargin": true,
           "gridcolor": "white",
           "linecolor": "white",
           "ticks": "",
           "title": {
            "standoff": 15
           },
           "zerolinecolor": "white",
           "zerolinewidth": 2
          }
         }
        },
        "title": {
         "text": "Course Ratings vs Students Enrolled"
        },
        "xaxis": {
         "anchor": "y",
         "autorange": true,
         "domain": [
          0,
          1
         ],
         "range": [
          3.197512665461533,
          5.101811837976249
         ],
         "title": {
          "text": "course_rating"
         },
         "type": "linear"
        },
        "yaxis": {
         "anchor": "x",
         "autorange": true,
         "domain": [
          0,
          1
         ],
         "range": [
          -266552.0436963331,
          3754228.6117486632
         ],
         "title": {
          "text": "course_students_enrolled"
         },
         "type": "linear"
        }
       }
      },
      "image/png": "[encoded data removed]",
      "text/html": [
       "<div>                            <div id=\"c632d33e-2810-4db6-80ea-9a480238c997\" class=\"plotly-graph-div\" style=\"height:525px; width:100%;\"></div>            <script type=\"text/javascript\">                require([\"plotly\"], function(Plotly) {                    window.PLOTLYENV=window.PLOTLYENV || {};                                    if (document.getElementById(\"c632d33e-2810-4db6-80ea-9a480238c997\")) {                    Plotly.newPlot(                        \"c632d33e-2810-4db6-80ea-9a480238c997\",                        [{\"customdata\":[[\"(ISC)\\u00b2 Systems Security Certified Practitioner (SSCP)\",\"(ISC)\\u00b2 Systems Security Certified Practitioner (SSCP)\"],[\"ADHD: Everyday Strategies for Elementary Students\",\"ADHD: Everyday Strategies for Elementary Students\"],[\"AI For Everyone\",\"AI For Everyone\"],[\"AI Foundations for Everyone\",\"AI Foundations for Everyone\"],[\"AWS Fundamentals\",\"AWS Fundamentals\"],[\"AWS Fundamentals: Addressing Security Risk\",\"AWS Fundamentals: Addressing Security Risk\"],[\"AWS Fundamentals: Building Serverless Applications\",\"AWS Fundamentals: Building Serverless Applications\"],[\"AWS Fundamentals: Going Cloud-Native\",\"AWS Fundamentals: Going Cloud-Native\"],[\"Academic English: Writing\",\"Academic English: Writing\"],[\"Access Controls\",\"Access Controls\"],[\"Achieving Personal and Professional Success\",\"Achieving Personal and Professional Success\"],[\"Addiction Treatment: Clinical Skills for Healthcare Providers\",\"Addiction Treatment: Clinical Skills for Healthcare Providers\"],[\"Age of Cathedrals\",\"Age of Cathedrals\"],[\"Agile Development\",\"Agile Development\"],[\"Agile Meets Design Thinking\",\"Agile Meets Design Thinking\"],[\"Agile with Atlassian Jira\",\"Agile with Atlassian Jira\"],[\"Agile \\u0438 Scrum \\u0432 \\u0440\\u0430\\u0431\\u043e\\u0442\\u0435 \\u043d\\u0430\\u0434 \\u043f\\u0440\\u043e\\u0435\\u043a\\u0442\\u0430\\u043c\\u0438 \\u0438 \\u043f\\u0440\\u043e\\u0434\\u0443\\u043a\\u0442\\u0430\\u043c\\u0438\",\"Agile \\u0438 Scrum \\u0432 \\u0440\\u0430\\u0431\\u043e\\u0442\\u0435 \\u043d\\u0430\\u0434 \\u043f\\u0440\\u043e\\u0435\\u043a\\u0442\\u0430\\u043c\\u0438 \\u0438 \\u043f\\u0440\\u043e\\u0434\\u0443\\u043a\\u0442\\u0430\\u043c\\u0438\"],[\"American Contract Law I\",\"American Contract Law I\"],[\"An Introduction to American Law\",\"An Introduction to American Law\"],[\"An Introduction to Consumer Neuroscience & Neuromarketing\",\"An Introduction to Consumer Neuroscience & Neuromarketing\"],[\"An Introduction to Programming the Internet of Things (IOT)\",\"An Introduction to Programming the Internet of Things (IOT)\"],[\"Analysing: Numeric and digital literacies\",\"Analysing: Numeric and digital literacies\"],[\"Anatomy\",\"Anatomy\"],[\"Anatomy: Musculoskeletal and Integumentary Systems\",\"Anatomy: Musculoskeletal and Integumentary Systems\"],[\"Android App Development\",\"Android App Development\"],[\"Anticorrupci\\u00f3n: Introducci\\u00f3n a conceptos y perspectiva pr\\u00e1ctica\",\"Anticorrupci\\u00f3n: Introducci\\u00f3n a conceptos y perspectiva pr\\u00e1ctica\"],[\"Applied Data Science\",\"Applied Data Science\"],[\"Aprende a programar con Python\",\"Aprende a programar con Python\"],[\"Aprendiendo a aprender: Poderosas herramientas mentales con las que podr\\u00e1s dominar temas dif\\u00edciles (Learning How to Learn)\",\"Aprendiendo a aprender: Poderosas herramientas mentales con las que podr\\u00e1s dominar temas dif\\u00edciles (Learning How to Learn)\"],[\"Architecting with Google Kubernetes Engine \\u65e5\\u672c\\u8a9e\\u7248\",\"Architecting with Google Kubernetes Engine \\u65e5\\u672c\\u8a9e\\u7248\"],[\"Arizona State University TESOL\",\"Arizona State University TESOL\"],[\"Aspectos b\\u00e1sicos de la planificaci\\u00f3n y la gesti\\u00f3n de proyectos\",\"Aspectos b\\u00e1sicos de la planificaci\\u00f3n y la gesti\\u00f3n de proyectos\"],[\"BIM Fundamentals for Engineers\",\"BIM Fundamentals for Engineers\"],[\"Basic Statistics\",\"Basic Statistics\"],[\"Become a Journalist: Report the News!\",\"Become a Journalist: Report the News!\"],[\"Becoming a Sports Agent\",\"Becoming a Sports Agent\"],[\"Becoming a changemaker: Introduction to Social Innovation\",\"Becoming a changemaker: Introduction to Social Innovation\"],[\"Big Data \\u2013 Introducci\\u00f3n al uso pr\\u00e1ctico de datos masivos\",\"Big Data \\u2013 Introducci\\u00f3n al uso pr\\u00e1ctico de datos masivos\"],[\"Biohacking Your Brain's Health\",\"Biohacking Your Brain's Health\"],[\"Biology Meets Programming: Bioinformatics for Beginners\",\"Biology Meets Programming: Bioinformatics for Beginners\"],[\"Biostatistics in Public Health\",\"Biostatistics in Public Health\"],[\"Blockchain Revolution\",\"Blockchain Revolution\"],[\"Blockchain Revolution in Financial Services\",\"Blockchain Revolution in Financial Services\"],[\"Blockchain: Foundations and Use Cases\",\"Blockchain: Foundations and Use Cases\"],[\"Boosting Creativity for Innovation\",\"Boosting Creativity for Innovation\"],[\"Brand Management: Aligning Business, Brand and Behaviour\",\"Brand Management: Aligning Business, Brand and Behaviour\"],[\"Branding: The Creative Journey\",\"Branding: The Creative Journey\"],[\"Bugs 101: Insect-Human Interactions\",\"Bugs 101: Insect-Human Interactions\"],[\"Building Conversational Experiences with Dialogflow\",\"Building Conversational Experiences with Dialogflow\"],[\"Business Analytics\",\"Business Analytics\"],[\"Business Foundations\",\"Business Foundations\"],[\"Business Statistics and Analysis\",\"Business Statistics and Analysis\"],[\"Business Strategies for A Better World\",\"Business Strategies for A Better World\"],[\"Business Strategy\",\"Business Strategy\"],[\"Business Technology Management\",\"Business Technology Management\"],[\"Business Transformation with Google Cloud\",\"Business Transformation with Google Cloud\"],[\"Business Writing\",\"Business Writing\"],[\"Business and Financial Modeling\",\"Business and Financial Modeling\"],[\"C for Everyone: Programming Fundamentals\",\"C for Everyone: Programming Fundamentals\"],[\"C# Programming for Unity Game Development\",\"C# Programming for Unity Game Development\"],[\"COVID-19 Contact Tracing\",\"COVID-19 Contact Tracing\"],[\"COVID-19: What You Need to Know (CME Eligible)\",\"COVID-19: What You Need to Know (CME Eligible)\"],[\"Camino a la Excelencia en Gesti\\u00f3n de Proyectos\",\"Camino a la Excelencia en Gesti\\u00f3n de Proyectos\"],[\"Career Success\",\"Career Success\"],[\"Challenging Forensic Science: How Science Should Speak to Court\",\"Challenging Forensic Science: How Science Should Speak to Court\"],[\"Chemicals and Health\",\"Chemicals and Health\"],[\"Child Nutrition and Cooking\",\"Child Nutrition and Cooking\"],[\"Chinese for HSK 1\",\"Chinese for HSK 1\"],[\"Cisco Networking Basics\",\"Cisco Networking Basics\"],[\"Claves de la Direcci\\u00f3n de Empresas\",\"Claves de la Direcci\\u00f3n de Empresas\"],[\"Climate Change and Health: From Science to Action\",\"Climate Change and Health: From Science to Action\"],[\"Clinical Terminology for International and U.S. Students\",\"Clinical Terminology for International and U.S. Students\"],[\"Cloud Computing Basics (Cloud 101)\",\"Cloud Computing Basics (Cloud 101)\"],[\"Code Yourself! An Introduction to Programming\",\"Code Yourself! An Introduction to Programming\"],[\"Communication Skills for Engineers\",\"Communication Skills for Engineers\"],[\"Communication Strategies for a Virtual Age\",\"Communication Strategies for a Virtual Age\"],[\"Compassionate Leadership Through Service Learning with Jane Goodall and Roots & Shoots\",\"Compassionate Leadership Through Service Learning with Jane Goodall and Roots & Shoots\"],[\"Competencias digitales. Herramientas de ofim\\u00e1tica (Microsoft Word, Excel, Power Point)\",\"Competencias digitales. Herramientas de ofim\\u00e1tica (Microsoft Word, Excel, Power Point)\"],[\"Computational Social Science\",\"Computational Social Science\"],[\"Computational Thinking for Problem Solving\",\"Computational Thinking for Problem Solving\"],[\"Computer Security and Systems Management\",\"Computer Security and Systems Management\"],[\"Conflict Management\",\"Conflict Management\"],[\"Construction Cost Estimating and Cost Control\",\"Construction Cost Estimating and Cost Control\"],[\"Construction Management\",\"Construction Management\"],[\"Construction Project Management\",\"Construction Project Management\"],[\"Construction Scheduling\",\"Construction Scheduling\"],[\"Contabilidad para no contadores\",\"Contabilidad para no contadores\"],[\"Content Strategy for Professionals\",\"Content Strategy for Professionals\"],[\"Continuous Delivery & DevOps\",\"Continuous Delivery & DevOps\"],[\"Corporate Strategy\",\"Corporate Strategy\"],[\"Correcci\\u00f3n, estilo y  variaciones de la lengua espa\\u00f1ola\",\"Correcci\\u00f3n, estilo y  variaciones de la lengua espa\\u00f1ola\"],[\"Cost and Economics in Pricing Strategy\",\"Cost and Economics in Pricing Strategy\"],[\"Crash Course on Python\",\"Crash Course on Python\"],[\"Creative Writing\",\"Creative Writing\"],[\"Creatividad, dise\\u00f1o e innovaci\\u00f3n: T\\u00e9cnicas y herramientas\",\"Creatividad, dise\\u00f1o e innovaci\\u00f3n: T\\u00e9cnicas y herramientas\"],[\"Culture-Driven Team Building\",\"Culture-Driven Team Building\"],[\"Curanderismo: Traditional Healing Using Plants\",\"Curanderismo: Traditional Healing Using Plants\"],[\"Customer Segmentation and Prospecting\",\"Customer Segmentation and Prospecting\"],[\"Cybersecurity and Its Ten Domains\",\"Cybersecurity and Its Ten Domains\"],[\"Cybersecurity for Business\",\"Cybersecurity for Business\"],[\"C\\u00f3mo hablar bien en p\\u00fablico\",\"C\\u00f3mo hablar bien en p\\u00fablico\"],[\"Data Analysis and Interpretation\",\"Data Analysis and Interpretation\"],[\"Data Analysis and Presentation Skills: the PwC Approach\",\"Data Analysis and Presentation Skills: the PwC Approach\"],[\"Data Analysis with Python\",\"Data Analysis with Python\"],[\"Data Analytics for Lean Six Sigma\",\"Data Analytics for Lean Six Sigma\"],[\"Data Management for Clinical Research\",\"Data Management for Clinical Research\"],[\"Data Science\",\"Data Science\"],[\"Data Science Math Skills\",\"Data Science Math Skills\"],[\"Data Science Methodology\",\"Data Science Methodology\"],[\"Data Science: Foundations using R\",\"Data Science: Foundations using R\"],[\"Data Visualization with Advanced Excel\",\"Data Visualization with Advanced Excel\"],[\"Data Visualization with Tableau\",\"Data Visualization with Tableau\"],[\"Data and Health Indicators in Public Health Practice\",\"Data and Health Indicators in Public Health Practice\"],[\"Data-driven Decision Making\",\"Data-driven Decision Making\"],[\"Databases and SQL for Data Science\",\"Databases and SQL for Data Science\"],[\"De-Mystifying Mindfulness\",\"De-Mystifying Mindfulness\"],[\"Democracia y decisiones p\\u00fablicas. Introducci\\u00f3n al an\\u00e1lisis de pol\\u00edticas p\\u00fablicas\",\"Democracia y decisiones p\\u00fablicas. Introducci\\u00f3n al an\\u00e1lisis de pol\\u00edticas p\\u00fablicas\"],[\"Dentistry 101\",\"Dentistry 101\"],[\"Dermatology: Trip to skin\",\"Dermatology: Trip to skin\"],[\"Design Thinking for Innovation\",\"Design Thinking for Innovation\"],[\"Design Thinking for the Greater Good: Innovation in the Social Sector\",\"Design Thinking for the Greater Good: Innovation in the Social Sector\"],[\"Developing Your Musicianship\",\"Developing Your Musicianship\"],[\"Digital Advertising Strategy\",\"Digital Advertising Strategy\"],[\"Digital Business Models\",\"Digital Business Models\"],[\"Digital Manufacturing & Design Technology\",\"Digital Manufacturing & Design Technology\"],[\"Digital Marketing\",\"Digital Marketing\"],[\"Digital Product Management\",\"Digital Product Management\"],[\"Digital Product Management: Modern Fundamentals\",\"Digital Product Management: Modern Fundamentals\"],[\"Dino 101: Dinosaur Paleobiology\",\"Dino 101: Dinosaur Paleobiology\"],[\"Dise\\u00f1o Instruccional: Aprendizaje activo y Pedagog\\u00eda digital\",\"Dise\\u00f1o Instruccional: Aprendizaje activo y Pedagog\\u00eda digital\"],[\"Dise\\u00f1o y Creaci\\u00f3n de un Emprendimiento Social\",\"Dise\\u00f1o y Creaci\\u00f3n de un Emprendimiento Social\"],[\"Driving business towards the Sustainable Development Goals\",\"Driving business towards the Sustainable Development Goals\"],[\"Drug Commercialization\",\"Drug Commercialization\"],[\"Drug Discovery\",\"Drug Discovery\"],[\"Dynamic Public Speaking\",\"Dynamic Public Speaking\"],[\"EMT Foundations\",\"EMT Foundations\"],[\"Egiptolog\\u00eda (Egyptology)\",\"Egiptolog\\u00eda (Egyptology)\"],[\"El Abogado del Futuro: Legaltech y la Transformaci\\u00f3n Digital del Derecho\",\"El Abogado del Futuro: Legaltech y la Transformaci\\u00f3n Digital del Derecho\"],[\"Electric Industry Operations and Markets\",\"Electric Industry Operations and Markets\"],[\"Emerging Technologies: From Smartphones to IoT to Big Data\",\"Emerging Technologies: From Smartphones to IoT to Big Data\"],[\"Energy Production, Distribution & Safety\",\"Energy Production, Distribution & Safety\"],[\"Engineering Health: Introduction to Yoga and Physiology\",\"Engineering Health: Introduction to Yoga and Physiology\"],[\"Engineering Project Management: Initiating and Planning\",\"Engineering Project Management: Initiating and Planning\"],[\"English Composition I\",\"English Composition I\"],[\"English for Business and Entrepreneurship\",\"English for Business and Entrepreneurship\"],[\"English for Science, Technology, Engineering, and Mathematics\",\"English for Science, Technology, Engineering, and Mathematics\"],[\"Enterprise Architecture\",\"Enterprise Architecture\"],[\"Entrepreneurship\",\"Entrepreneurship\"],[\"Entrepreneurship 3: Growth Strategies\",\"Entrepreneurship 3: Growth Strategies\"],[\"Entrepreneurship Strategy: From Ideation to Exit\",\"Entrepreneurship Strategy: From Ideation to Exit\"],[\"Entrepreneurship: Launching an Innovative Business\",\"Entrepreneurship: Launching an Innovative Business\"],[\"Epidemiology for Public Health\",\"Epidemiology for Public Health\"],[\"Epidemiology in Public Health Practice\",\"Epidemiology in Public Health Practice\"],[\"Equine Welfare and Management\",\"Equine Welfare and Management\"],[\"Esports\",\"Esports\"],[\"Essential Epidemiologic Tools for Public Health Practice\",\"Essential Epidemiologic Tools for Public Health Practice\"],[\"Estad\\u00edstica y probabilidad\",\"Estad\\u00edstica y probabilidad\"],[\"Evaluaci\\u00f3n educativa\",\"Evaluaci\\u00f3n educativa\"],[\"Everyday Excel, Part 1\",\"Everyday Excel, Part 1\"],[\"Everyday Parenting: The ABCs of Child Rearing\",\"Everyday Parenting: The ABCs of Child Rearing\"],[\"Excel Skills for Business\",\"Excel Skills for Business\"],[\"Excel Skills for Business: Essentials\",\"Excel Skills for Business: Essentials\"],[\"Excel to MySQL: Analytic Techniques for Business\",\"Excel to MySQL: Analytic Techniques for Business\"],[\"Excel\\u002fVBA for Creative Problem Solving\",\"Excel\\u002fVBA for Creative Problem Solving\"],[\"Excel\\u002fVBA for Creative Problem Solving, Part 1\",\"Excel\\u002fVBA for Creative Problem Solving, Part 1\"],[\"Executive Data Science\",\"Executive Data Science\"],[\"Explorando la Energ\\u00eda Sustentable\",\"Explorando la Energ\\u00eda Sustentable\"],[\"Fashion as Design\",\"Fashion as Design\"],[\"Feminism and Social Justice\",\"Feminism and Social Justice\"],[\"FinTech Law and Policy\",\"FinTech Law and Policy\"],[\"FinTech: Finance Industry Transformation and Regulation\",\"FinTech: Finance Industry Transformation and Regulation\"],[\"FinTech: Foundations, Payments, and Regulations\",\"FinTech: Foundations, Payments, and Regulations\"],[\"Finance & Quantitative Modeling for Analysts\",\"Finance & Quantitative Modeling for Analysts\"],[\"Finance for Non-Finance Professionals\",\"Finance for Non-Finance Professionals\"],[\"Financial Accounting Fundamentals\",\"Financial Accounting Fundamentals\"],[\"Financial Acumen for Non-Financial Managers\",\"Financial Acumen for Non-Financial Managers\"],[\"Financial Markets\",\"Financial Markets\"],[\"Financial Markets and Investment Strategy\",\"Financial Markets and Investment Strategy\"],[\"Financial Technology (Fintech) Innovations\",\"Financial Technology (Fintech) Innovations\"],[\"Finding Purpose and Meaning In Life: Living for What Matters Most\",\"Finding Purpose and Meaning In Life: Living for What Matters Most\"],[\"Fintech: Foundations & Applications of Financial Technology\",\"Fintech: Foundations & Applications of Financial Technology\"],[\"First Step Korean\",\"First Step Korean\"],[\"Foundational Finance for Strategic Decision Making\",\"Foundational Finance for Strategic Decision Making\"],[\"Foundations of Business Strategy\",\"Foundations of Business Strategy\"],[\"Foundations of Global Health\",\"Foundations of Global Health\"],[\"Foundations of Management\",\"Foundations of Management\"],[\"Foundations of Positive Psychology\",\"Foundations of Positive Psychology\"],[\"Foundations of Public Health Practice\",\"Foundations of Public Health Practice\"],[\"From Data to Insights with Google Cloud Platform\",\"From Data to Insights with Google Cloud Platform\"],[\"From the Big Bang to Dark Energy\",\"From the Big Bang to Dark Energy\"],[\"Fundamental Neuroscience for Neuroimaging\",\"Fundamental Neuroscience for Neuroimaging\"],[\"Fundamentals of Accounting\",\"Fundamentals of Accounting\"],[\"Fundamentals of Computing\",\"Fundamentals of Computing\"],[\"Fundamentals of GIS\",\"Fundamentals of GIS\"],[\"Fundamentals of Graphic Design\",\"Fundamentals of Graphic Design\"],[\"Fundamentals of Music Theory\",\"Fundamentals of Music Theory\"],[\"Fundamentals of Project Planning and Management\",\"Fundamentals of Project Planning and Management\"],[\"Fundamentals of Visualization with Tableau\",\"Fundamentals of Visualization with Tableau\"],[\"Fundamentos Empresariales\",\"Fundamentos Empresariales\"],[\"Fundamentos Estrat\\u00e9gicos Empresariales\",\"Fundamentos Estrat\\u00e9gicos Empresariales\"],[\"Fundamentos de Excel para Negocios\",\"Fundamentos de Excel para Negocios\"],[\"Fundamentos de Finanzas Empresariales\",\"Fundamentos de Finanzas Empresariales\"],[\"Fundamentos de la escritura\",\"Fundamentos de la escritura\"],[\"Fundraising and Development\",\"Fundraising and Development\"],[\"Futures Thinking\",\"Futures Thinking\"],[\"G Suite Administration\",\"G Suite Administration\"],[\"GIS, Mapping, and Spatial Analysis\",\"GIS, Mapping, and Spatial Analysis\"],[\"Game Theory\",\"Game Theory\"],[\"Gender and Sexuality: Diversity and Inclusion in the Workplace\",\"Gender and Sexuality: Diversity and Inclusion in the Workplace\"],[\"Geographic Information Systems  (GIS)\",\"Geographic Information Systems  (GIS)\"],[\"Get Interactive: Practical Teaching with Technology\",\"Get Interactive: Practical Teaching with Technology\"],[\"Getting Started With Music Theory\",\"Getting Started With Music Theory\"],[\"Getting Started with Google Sheets\",\"Getting Started with Google Sheets\"],[\"Getting Started with SAS Programming\",\"Getting Started with SAS Programming\"],[\"Global Diplomacy: the United Nations in the World\",\"Global Diplomacy: the United Nations in the World\"],[\"Global Energy and Climate Policy\",\"Global Energy and Climate Policy\"],[\"Good with Words: Writing and Editing\",\"Good with Words: Writing and Editing\"],[\"Google IT Automation with Python\",\"Google IT Automation with Python\"],[\"Google IT Support\",\"Google IT Support\"],[\"Graphic Design Elements for Non-Designers\",\"Graphic Design Elements for Non-Designers\"],[\"Greening the Economy: Sustainable Cities\",\"Greening the Economy: Sustainable Cities\"],[\"Habilidades Gerenciales\",\"Habilidades Gerenciales\"],[\"Health Informatics\",\"Health Informatics\"],[\"Healthcare Marketplace\",\"Healthcare Marketplace\"],[\"Healthcare Organization Operations\",\"Healthcare Organization Operations\"],[\"Homeland Security and Cybersecurity\",\"Homeland Security and Cybersecurity\"],[\"Hotel Management: Distribution, Revenue and Demand Management\",\"Hotel Management: Distribution, Revenue and Demand Management\"],[\"How to Start Your Own Business\",\"How to Start Your Own Business\"],[\"Human Resource Management: HR for People Managers\",\"Human Resource Management: HR for People Managers\"],[\"IBM Applied AI\",\"IBM Applied AI\"],[\"IBM Customer Engagement Specialist Professional Certificate\",\"IBM Customer Engagement Specialist Professional Certificate\"],[\"IBM Data Science\",\"IBM Data Science\"],[\"IT Fundamentals for Cybersecurity\",\"IT Fundamentals for Cybersecurity\"],[\"IT Security: Defense against the digital dark arts\",\"IT Security: Defense against the digital dark arts\"],[\"Identifying, Monitoring, and Analyzing Risk and Incident Response and Recovery\",\"Identifying, Monitoring, and Analyzing Risk and Incident Response and Recovery\"],[\"Implementaci\\u00f3n del Marketing Mix\",\"Implementaci\\u00f3n del Marketing Mix\"],[\"Implementing RPA with Cognitive Automation and Analytics\",\"Implementing RPA with Cognitive Automation and Analytics\"],[\"Improve Your English Communication Skills\",\"Improve Your English Communication Skills\"],[\"Improving Deep Neural Networks: Hyperparameter tuning, Regularization and Optimization\",\"Improving Deep Neural Networks: Hyperparameter tuning, Regularization and Optimization\"],[\"Improving Leadership & Governance in Nonprofit Organizations\",\"Improving Leadership & Governance in Nonprofit Organizations\"],[\"In the Studio: Postwar Abstract Painting\",\"In the Studio: Postwar Abstract Painting\"],[\"Industrial IoT on Google Cloud Platform\",\"Industrial IoT on Google Cloud Platform\"],[\"Influencing: Storytelling, Change Management and Governance\",\"Influencing: Storytelling, Change Management and Governance\"],[\"Information Security: Context and Introduction\",\"Information Security: Context and Introduction\"],[\"Information Visualization\",\"Information Visualization\"],[\"Information\\u200b \\u200bSystems\",\"Information\\u200b \\u200bSystems\"],[\"Innovation Management\",\"Innovation Management\"],[\"Innovation Through Design: Think, Make, Break, Repeat\",\"Innovation Through Design: Think, Make, Break, Repeat\"],[\"Innovation: From Creativity to Entrepreneurship\",\"Innovation: From Creativity to Entrepreneurship\"],[\"Inspirational Leadership: Leading with Sense\",\"Inspirational Leadership: Leading with Sense\"],[\"Integrative Health and Medicine\",\"Integrative Health and Medicine\"],[\"Intercultural Management\",\"Intercultural Management\"],[\"International Humanitarian Law in Theory and Practice\",\"International Humanitarian Law in Theory and Practice\"],[\"International Marketing & Cross Industry Growth\",\"International Marketing & Cross Industry Growth\"],[\"International Organizations Management\",\"International Organizations Management\"],[\"International Security Management\",\"International Security Management\"],[\"International Women's Health and Human Rights\",\"International Women's Health and Human Rights\"],[\"International migrations: a global issue\",\"International migrations: a global issue\"],[\"Internet Connection: How to Get Online?\",\"Internet Connection: How to Get Online?\"],[\"Introducci\\u00f3n a Data Science: Programaci\\u00f3n Estad\\u00edstica con R\",\"Introducci\\u00f3n a Data Science: Programaci\\u00f3n Estad\\u00edstica con R\"],[\"Introducci\\u00f3n a la programaci\\u00f3n en Python I: Aprendiendo a programar con Python\",\"Introducci\\u00f3n a la programaci\\u00f3n en Python I: Aprendiendo a programar con Python\"],[\"Introduction to Artificial Intelligence (AI)\",\"Introduction to Artificial Intelligence (AI)\"],[\"Introduction to Blockchain Technologies\",\"Introduction to Blockchain Technologies\"],[\"Introduction to Chemistry:  Reactions and Ratios\",\"Introduction to Chemistry:  Reactions and Ratios\"],[\"Introduction to Cloud Computing\",\"Introduction to Cloud Computing\"],[\"Introduction to Computer Programming\",\"Introduction to Computer Programming\"],[\"Introduction to Computer Science and Programming\",\"Introduction to Computer Science and Programming\"],[\"Introduction to Cyber Attacks\",\"Introduction to Cyber Attacks\"],[\"Introduction to Cyber Security\",\"Introduction to Cyber Security\"],[\"Introduction to Cybersecurity Tools & Cyber Attacks\",\"Introduction to Cybersecurity Tools & Cyber Attacks\"],[\"Introduction to Data Science\",\"Introduction to Data Science\"],[\"Introduction to Dental Medicine\",\"Introduction to Dental Medicine\"],[\"Introduction to Discrete Mathematics for Computer Science\",\"Introduction to Discrete Mathematics for Computer Science\"],[\"Introduction to Imagemaking\",\"Introduction to Imagemaking\"],[\"Introduction to Intellectual Property\",\"Introduction to Intellectual Property\"],[\"Introduction to Personal Branding\",\"Introduction to Personal Branding\"],[\"Introduction to Probability and Data\",\"Introduction to Probability and Data\"],[\"Introduction to Programming in C\",\"Introduction to Programming in C\"],[\"Introduction to Programming with MATLAB\",\"Introduction to Programming with MATLAB\"],[\"Introduction to Psychology\",\"Introduction to Psychology\"],[\"Introduction to Scripting in Python\",\"Introduction to Scripting in Python\"],[\"Introduction to Statistics & Data Analysis in Public Health\",\"Introduction to Statistics & Data Analysis in Public Health\"],[\"Introduction to Thermodynamics: Transferring Energy from Here to There\",\"Introduction to Thermodynamics: Transferring Energy from Here to There\"],[\"Introduction to Typography\",\"Introduction to Typography\"],[\"Introduction to User Experience Design\",\"Introduction to User Experience Design\"],[\"Introduction to User Experience Principles and Processes\",\"Introduction to User Experience Principles and Processes\"],[\"Introduction to Web Development\",\"Introduction to Web Development\"],[\"Introduction to the Biology of Cancer\",\"Introduction to the Biology of Cancer\"],[\"Introdu\\u00e7\\u00e3o aos Princ\\u00edpios e Pr\\u00e1ticas da Gest\\u00e3o De Projetos\",\"Introdu\\u00e7\\u00e3o aos Princ\\u00edpios e Pr\\u00e1ticas da Gest\\u00e3o De Projetos\"],[\"Introdu\\u00e7\\u00e3o \\u00e0 Ci\\u00eancia da Computa\\u00e7\\u00e3o com Python Parte 1\",\"Introdu\\u00e7\\u00e3o \\u00e0 Ci\\u00eancia da Computa\\u00e7\\u00e3o com Python Parte 1\"],[\"Investment Management\",\"Investment Management\"],[\"Investment Management with Python and Machine Learning\",\"Investment Management with Python and Machine Learning\"],[\"Investment and Portfolio Management\",\"Investment and Portfolio Management\"],[\"Japanese for beginners 1\",\"Japanese for beginners 1\"],[\"Java Programming and Software Engineering Fundamentals\",\"Java Programming and Software Engineering Fundamentals\"],[\"Java Programming: Solving Problems with Software\",\"Java Programming: Solving Problems with Software\"],[\"Julia Scientific Programming\",\"Julia Scientific Programming\"],[\"L'excellence op\\u00e9rationnelle en pratique\",\"L'excellence op\\u00e9rationnelle en pratique\"],[\"L'impact investing, la finance qui change le monde\",\"L'impact investing, la finance qui change le monde\"],[\"Leadership Development for Engineers\",\"Leadership Development for Engineers\"],[\"Leading Healthcare Quality and Safety\",\"Leading Healthcare Quality and Safety\"],[\"Leading People and Teams\",\"Leading People and Teams\"],[\"Learn Chinese: HSK Test Preparation\",\"Learn Chinese: HSK Test Preparation\"],[\"Learn English\",\"Learn English\"],[\"Learn Mandarin Chinese\",\"Learn Mandarin Chinese\"],[\"Learn SQL Basics for Data Science\",\"Learn SQL Basics for Data Science\"],[\"Learn Spanish: Basic Spanish Vocabulary\",\"Learn Spanish: Basic Spanish Vocabulary\"],[\"Learn to Program: The Fundamentals\",\"Learn to Program: The Fundamentals\"],[\"Learn to Speak Korean 1\",\"Learn to Speak Korean 1\"],[\"Learning to Teach Online\",\"Learning to Teach Online\"],[\"Les Fondamentaux de la N\\u00e9gociation\",\"Les Fondamentaux de la N\\u00e9gociation\"],[\"Love as a Force for Social Justice\",\"Love as a Force for Social Justice\"],[\"Machine Learning for All\",\"Machine Learning for All\"],[\"Magic in the Middle Ages\",\"Magic in the Middle Ages\"],[\"Making Architecture\",\"Making Architecture\"],[\"Managerial Accounting Fundamentals\",\"Managerial Accounting Fundamentals\"],[\"Managerial Economics and Business Analysis\",\"Managerial Economics and Business Analysis\"],[\"Managing Innovation and Design Thinking\",\"Managing Innovation and Design Thinking\"],[\"Managing Social and Human Capital\",\"Managing Social and Human Capital\"],[\"Managing Your Health: The Role of Physical Therapy and Exercise\",\"Managing Your Health: The Role of Physical Therapy and Exercise\"],[\"Market Research\",\"Market Research\"],[\"Marketing Digital\",\"Marketing Digital\"],[\"Marketing Digital\",\"Marketing Digital\"],[\"Marketing Mix Implementation\",\"Marketing Mix Implementation\"],[\"Marketing Strategy\",\"Marketing Strategy\"],[\"Marketing in a Digital World\",\"Marketing in a Digital World\"],[\"Mastering Final Cut Pro\",\"Mastering Final Cut Pro\"],[\"Mastering Software Development in R\",\"Mastering Software Development in R\"],[\"Mathematics for Data Science\",\"Mathematics for Data Science\"],[\"Mathematics for Machine Learning\",\"Mathematics for Machine Learning\"],[\"Mathematics for Machine Learning: Linear Algebra\",\"Mathematics for Machine Learning: Linear Algebra\"],[\"Mathematics for Machine Learning: Multivariate Calculus\",\"Mathematics for Machine Learning: Multivariate Calculus\"],[\"Medical Cannabis: The Health Effects of THC and CBD\",\"Medical Cannabis: The Health Effects of THC and CBD\"],[\"Memoir and Personal Essay: Write About Yourself\",\"Memoir and Personal Essay: Write About Yourself\"],[\"Methods and Statistics in Social Sciences\",\"Methods and Statistics in Social Sciences\"],[\"Microeconomics Principles\",\"Microeconomics Principles\"],[\"Mindshift: Break Through Obstacles to Learning and Discover Your Hidden Potential\",\"Mindshift: Break Through Obstacles to Learning and Discover Your Hidden Potential\"],[\"Miracles of Human Language: An Introduction to Linguistics\",\"Miracles of Human Language: An Introduction to Linguistics\"],[\"Modern Art & Ideas\",\"Modern Art & Ideas\"],[\"Modern Big Data Analysis with SQL\",\"Modern Big Data Analysis with SQL\"],[\"Music Business\",\"Music Business\"],[\"Music Production\",\"Music Production\"],[\"Negotiation, Mediation and Conflict Resolution\",\"Negotiation, Mediation and Conflict Resolution\"],[\"New Approaches to Countering Terror: Countering Violent Extremism\",\"New Approaches to Countering Terror: Countering Violent Extremism\"],[\"Newborn Baby Care\",\"Newborn Baby Care\"],[\"Nutrici\\u00f3n y obesidad: control de sobrepeso\",\"Nutrici\\u00f3n y obesidad: control de sobrepeso\"],[\"Object Oriented Programming in Java\",\"Object Oriented Programming in Java\"],[\"Open Source Software Development, Linux and Git\",\"Open Source Software Development, Linux and Git\"],[\"Operating Systems and You: Becoming a Power User\",\"Operating Systems and You: Becoming a Power User\"],[\"Osteoarchaeology: The Truth in Our Bones\",\"Osteoarchaeology: The Truth in Our Bones\"],[\"Palliative Care: It's Not Just Hospice Anymore\",\"Palliative Care: It's Not Just Hospice Anymore\"],[\"Palo Alto Networks Cybersecurity\",\"Palo Alto Networks Cybersecurity\"],[\"Patient Safety\",\"Patient Safety\"],[\"Patrocinio Deportivo\",\"Patrocinio Deportivo\"],[\"Periodismo digital y combate a las fake news\",\"Periodismo digital y combate a las fake news\"],[\"Photography Basics and Beyond: From Smartphone to DSLR\",\"Photography Basics and Beyond: From Smartphone to DSLR\"],[\"Plant Bioinformatic Methods\",\"Plant Bioinformatic Methods\"],[\"Politics and Economics of International Energy\",\"Politics and Economics of International Energy\"],[\"Positive Psychology: Applications and Interventions\",\"Positive Psychology: Applications and Interventions\"],[\"Positive Psychology: Martin E. P. Seligman\\u2019s Visionary Science\",\"Positive Psychology: Martin E. P. Seligman\\u2019s Visionary Science\"],[\"Positive Psychology: Resilience Skills\",\"Positive Psychology: Resilience Skills\"],[\"Practical Data Science with MATLAB\",\"Practical Data Science with MATLAB\"],[\"Preparing for the Google Cloud Associate Cloud Engineer Exam\",\"Preparing for the Google Cloud Associate Cloud Engineer Exam\"],[\"Presentation Skills: Speechwriting, Slides and Delivery\",\"Presentation Skills: Speechwriting, Slides and Delivery\"],[\"Pricing Strategy Optimization\",\"Pricing Strategy Optimization\"],[\"Probability and Statistics: To p or not to p?\",\"Probability and Statistics: To p or not to p?\"],[\"Programming Foundations with JavaScript, HTML and CSS\",\"Programming Foundations with JavaScript, HTML and CSS\"],[\"Programming Fundamentals\",\"Programming Fundamentals\"],[\"Project Execution\",\"Project Execution\"],[\"Project Launch\",\"Project Launch\"],[\"Project Management & Other Tools for Career Development\",\"Project Management & Other Tools for Career Development\"],[\"Project Management Principles and Practices\",\"Project Management Principles and Practices\"],[\"Public Policy Challenges of the 21st Century\",\"Public Policy Challenges of the 21st Century\"],[\"Python Basics\",\"Python Basics\"],[\"Python Functions, Files, and Dictionaries\",\"Python Functions, Files, and Dictionaries\"],[\"Python for Data Science and AI\",\"Python for Data Science and AI\"],[\"Python for Everybody\",\"Python for Everybody\"],[\"Queering Identities: LGBTQ+ Sexuality and Gender Identity\",\"Queering Identities: LGBTQ+ Sexuality and Gender Identity\"],[\"Ready, Set, Future! Introduction to Futures Thinking\",\"Ready, Set, Future! Introduction to Futures Thinking\"],[\"Renewable Energy and Green Building Entrepreneurship\",\"Renewable Energy and Green Building Entrepreneurship\"],[\"Reporting extra-financier et strat\\u00e9gie RSE\",\"Reporting extra-financier et strat\\u00e9gie RSE\"],[\"Requirements Engineering: Secure Software  Specifications\",\"Requirements Engineering: Secure Software  Specifications\"],[\"Responsive Website Development and Design\",\"Responsive Website Development and Design\"],[\"Robotics\",\"Robotics\"],[\"Roman Architecture\",\"Roman Architecture\"],[\"Russian Alphabet\",\"Russian Alphabet\"],[\"Russian for beginners \\u04101. \\u0420\\u0443\\u0441\\u0441\\u043a\\u0438\\u0439 \\u044f\\u0437\\u044b\\u043a: A1\",\"Russian for beginners \\u04101. \\u0420\\u0443\\u0441\\u0441\\u043a\\u0438\\u0439 \\u044f\\u0437\\u044b\\u043a: A1\"],[\"SAS Programmer\",\"SAS Programmer\"],[\"SAS Visual Business Analytics\",\"SAS Visual Business Analytics\"],[\"SQL for Data Science\",\"SQL for Data Science\"],[\"Sales Operations\\u002fManagement\",\"Sales Operations\\u002fManagement\"],[\"Sales Training for High Performing Teams\",\"Sales Training for High Performing Teams\"],[\"School Health for Children and Adolescents\",\"School Health for Children and Adolescents\"],[\"Science of Exercise\",\"Science of Exercise\"],[\"Security & Safety Challenges in a Globalized World\",\"Security & Safety Challenges in a Globalized World\"],[\"Sexualidad...mucho m\\u00e1s que sexo\",\"Sexualidad...mucho m\\u00e1s que sexo\"],[\"Sharpened Visions: A Poetry Workshop\",\"Sharpened Visions: A Poetry Workshop\"],[\"Sleep: Neurobiology, Medicine, and Society\",\"Sleep: Neurobiology, Medicine, and Society\"],[\"Smart Cities \\u2013 Management of Smart Urban Infrastructures\",\"Smart Cities \\u2013 Management of Smart Urban Infrastructures\"],[\"Social Entrepreneurship\",\"Social Entrepreneurship\"],[\"Social Media Marketing\",\"Social Media Marketing\"],[\"Social Norms, Social Change I\",\"Social Norms, Social Change I\"],[\"Social Policy for Social Services & Health Practitioners\",\"Social Policy for Social Services & Health Practitioners\"],[\"Social Psychology\",\"Social Psychology\"],[\"Software Design and Architecture\",\"Software Design and Architecture\"],[\"Software Product Management\",\"Software Product Management\"],[\"Solar Energy Basics\",\"Solar Energy Basics\"],[\"Songwriting: Writing the Lyrics\",\"Songwriting: Writing the Lyrics\"],[\"Soporte de Tecnolog\\u00edas de la Informaci\\u00f3n de Google\",\"Soporte de Tecnolog\\u00edas de la Informaci\\u00f3n de Google\"],[\"Spanish Vocabulary: Meeting People\",\"Spanish Vocabulary: Meeting People\"],[\"Stanford Introduction to Food and Health\",\"Stanford Introduction to Food and Health\"],[\"Stanford's Short Course on Breastfeeding\",\"Stanford's Short Course on Breastfeeding\"],[\"Statistical Analysis with R for Public Health\",\"Statistical Analysis with R for Public Health\"],[\"Statistics with Python\",\"Statistics with Python\"],[\"Statistics with R\",\"Statistics with R\"],[\"Strategic Business Management - Microeconomics\",\"Strategic Business Management - Microeconomics\"],[\"Strategic Leadership and Management\",\"Strategic Leadership and Management\"],[\"Strategic Management and Innovation\",\"Strategic Management and Innovation\"],[\"Strategy and Sustainability\",\"Strategy and Sustainability\"],[\"Structuring Machine Learning Projects\",\"Structuring Machine Learning Projects\"],[\"Success\",\"Success\"],[\"Summary Statistics in Public Health\",\"Summary Statistics in Public Health\"],[\"Supply Chain Analytics\",\"Supply Chain Analytics\"],[\"Supply Chain Logistics\",\"Supply Chain Logistics\"],[\"Supply Chain Management\",\"Supply Chain Management\"],[\"Supply Chain Operations\",\"Supply Chain Operations\"],[\"Survey Data Collection and Analytics\",\"Survey Data Collection and Analytics\"],[\"Sustainable Tourism \\u2013 promoting environmental public health\",\"Sustainable Tourism \\u2013 promoting environmental public health\"],[\"Swift 5 iOS Application Developer\",\"Swift 5 iOS Application Developer\"],[\"System Administration and IT Infrastructure Services\",\"System Administration and IT Infrastructure Services\"],[\"TESOL Certificate, Part 1: Teach English Now!\",\"TESOL Certificate, Part 1: Teach English Now!\"],[\"TESOL Certificate, Part 2: Teach English Now!\",\"TESOL Certificate, Part 2: Teach English Now!\"],[\"Teamwork Skills: Communicating Effectively in Groups\",\"Teamwork Skills: Communicating Effectively in Groups\"],[\"Technical Support Fundamentals\",\"Technical Support Fundamentals\"],[\"Terrorism and Counterterrorism: Comparing Theory and Practice\",\"Terrorism and Counterterrorism: Comparing Theory and Practice\"],[\"The Addicted Brain\",\"The Addicted Brain\"],[\"The Art of Sales: Mastering the Selling Process\",\"The Art of Sales: Mastering the Selling Process\"],[\"The Arts and Science of Relationships: Understanding Human Needs\",\"The Arts and Science of Relationships: Understanding Human Needs\"],[\"The Bits and Bytes of Computer Networking\",\"The Bits and Bytes of Computer Networking\"],[\"The Business of Health Care\",\"The Business of Health Care\"],[\"The Business of Music Production\",\"The Business of Music Production\"],[\"The Cycle: Management of Successful Arts and Cultural Organizations\",\"The Cycle: Management of Successful Arts and Cultural Organizations\"],[\"The DIY Musician\",\"The DIY Musician\"],[\"The Modern World, Part One: Global History from 1760 to 1910\",\"The Modern World, Part One: Global History from 1760 to 1910\"],[\"The Modern World, Part Two: Global History since 1910\",\"The Modern World, Part Two: Global History since 1910\"],[\"The Pronunciation of American English\",\"The Pronunciation of American English\"],[\"The Science of Success: What Researchers Know that You Should Know\",\"The Science of Success: What Researchers Know that You Should Know\"],[\"The Science of Training Young Athletes\",\"The Science of Training Young Athletes\"],[\"The Singer Songwriter\",\"The Singer Songwriter\"],[\"The Sustainable Development Goals \\u2013 A global, transdisciplinary vision for the future\",\"The Sustainable Development Goals \\u2013 A global, transdisciplinary vision for the future\"],[\"The Teacher and Social and Emotional Learning (SEL)\",\"The Teacher and Social and Emotional Learning (SEL)\"],[\"The Technology of Music Production\",\"The Technology of Music Production\"],[\"The hidden value \\u2013 Lean in manufacturing and services\",\"The hidden value \\u2013 Lean in manufacturing and services\"],[\"Think Again I: How to Understand Arguments\",\"Think Again I: How to Understand Arguments\"],[\"Tools for Data Science\",\"Tools for Data Science\"],[\"Trading Strategies in Emerging Markets\",\"Trading Strategies in Emerging Markets\"],[\"Tricky American English Pronunciation\",\"Tricky American English Pronunciation\"],[\"UCI Project Management\",\"UCI Project Management\"],[\"UI \\u002f UX Design\",\"UI \\u002f UX Design\"],[\"UX Design Fundamentals\",\"UX Design Fundamentals\"],[\"Understanding Cancer Metastasis\",\"Understanding Cancer Metastasis\"],[\"Understanding Einstein: The Special Theory of Relativity\",\"Understanding Einstein: The Special Theory of Relativity\"],[\"Understanding Medical Research: Your Facebook Friend is Wrong\",\"Understanding Medical Research: Your Facebook Friend is Wrong\"],[\"Understanding Plants - Part I: What a Plant Knows\",\"Understanding Plants - Part I: What a Plant Knows\"],[\"Understanding and Visualizing Data with Python\",\"Understanding and Visualizing Data with Python\"],[\"Understanding the Brain: The Neurobiology of Everyday Life\",\"Understanding the Brain: The Neurobiology of Everyday Life\"],[\"Unity XR: How to Build AR and VR Apps\",\"Unity XR: How to Build AR and VR Apps\"],[\"University Teaching\",\"University Teaching\"],[\"User Experience Research and Design\",\"User Experience Research and Design\"],[\"Using Python to Interact with the Operating System\",\"Using Python to Interact with the Operating System\"],[\"Virtual Reality\",\"Virtual Reality\"],[\"Virtual Teacher\",\"Virtual Teacher\"],[\"Web Design for Everybody: Basics of Web Development & Coding\",\"Web Design for Everybody: Basics of Web Development & Coding\"],[\"Weight Management: Beyond Balancing Calories\",\"Weight Management: Beyond Balancing Calories\"],[\"What Is Contemporary Art?\",\"What Is Contemporary Art?\"],[\"What is Data Science?\",\"What is Data Science?\"],[\"Wine Tasting: Sensory Techniques for Wine Analysis\",\"Wine Tasting: Sensory Techniques for Wine Analysis\"],[\"Write A Feature Length Screenplay For Film Or Television\",\"Write A Feature Length Screenplay For Film Or Television\"],[\"Write Your First Novel\",\"Write Your First Novel\"],[\"Writing in the Sciences\",\"Writing in the Sciences\"],[\"\\u00bfQu\\u00e9 hacen los buenos directivos? Prioridades de la Alta Direcci\\u00f3n\",\"\\u00bfQu\\u00e9 hacen los buenos directivos? Prioridades de la Alta Direcci\\u00f3n\"],[\"\\u00c9xito Profesional\",\"\\u00c9xito Profesional\"],[\"\\u0418\\u0441\\u043a\\u0443\\u0441\\u0441\\u0442\\u0432\\u043e \\u0432\\u0435\\u0434\\u0435\\u043d\\u0438\\u044f \\u0431\\u0438\\u0437\\u043d\\u0435\\u0441\\u0430\",\"\\u0418\\u0441\\u043a\\u0443\\u0441\\u0441\\u0442\\u0432\\u043e \\u0432\\u0435\\u0434\\u0435\\u043d\\u0438\\u044f \\u0431\\u0438\\u0437\\u043d\\u0435\\u0441\\u0430\"],[\"\\u041a\\u043e\\u0440\\u043f\\u043e\\u0440\\u0430\\u0442\\u0438\\u0432\\u043d\\u044b\\u0435 \\u0444\\u0438\\u043d\\u0430\\u043d\\u0441\\u044b \\u0438 \\u0441\\u0442\\u043e\\u0438\\u043c\\u043e\\u0441\\u0442\\u044c \\u043a\\u043e\\u043c\\u043f\\u0430\\u043d\\u0438\\u0438\",\"\\u041a\\u043e\\u0440\\u043f\\u043e\\u0440\\u0430\\u0442\\u0438\\u0432\\u043d\\u044b\\u0435 \\u0444\\u0438\\u043d\\u0430\\u043d\\u0441\\u044b \\u0438 \\u0441\\u0442\\u043e\\u0438\\u043c\\u043e\\u0441\\u0442\\u044c \\u043a\\u043e\\u043c\\u043f\\u0430\\u043d\\u0438\\u0438\"],[\"\\u041c\\u0430\\u0442\\u0435\\u043c\\u0430\\u0442\\u0438\\u043a\\u0430 \\u0438 Python \\u0434\\u043b\\u044f \\u0430\\u043d\\u0430\\u043b\\u0438\\u0437\\u0430 \\u0434\\u0430\\u043d\\u043d\\u044b\\u0445\",\"\\u041c\\u0430\\u0442\\u0435\\u043c\\u0430\\u0442\\u0438\\u043a\\u0430 \\u0438 Python \\u0434\\u043b\\u044f \\u0430\\u043d\\u0430\\u043b\\u0438\\u0437\\u0430 \\u0434\\u0430\\u043d\\u043d\\u044b\\u0445\"],[\"\\u041e\\u0441\\u043d\\u043e\\u0432\\u044b \\u043f\\u0440\\u043e\\u0433\\u0440\\u0430\\u043c\\u043c\\u0438\\u0440\\u043e\\u0432\\u0430\\u043d\\u0438\\u044f \\u043d\\u0430 Python\",\"\\u041e\\u0441\\u043d\\u043e\\u0432\\u044b \\u043f\\u0440\\u043e\\u0433\\u0440\\u0430\\u043c\\u043c\\u0438\\u0440\\u043e\\u0432\\u0430\\u043d\\u0438\\u044f \\u043d\\u0430 Python\"],[\"\\u0424\\u0438\\u043d\\u0430\\u043d\\u0441\\u043e\\u0432\\u044b\\u0435 \\u0438\\u043d\\u0441\\u0442\\u0440\\u0443\\u043c\\u0435\\u043d\\u0442\\u044b \\u0434\\u043b\\u044f \\u0447\\u0430\\u0441\\u0442\\u043d\\u043e\\u0433\\u043e \\u0438\\u043d\\u0432\\u0435\\u0441\\u0442\\u043e\\u0440\\u0430\",\"\\u0424\\u0438\\u043d\\u0430\\u043d\\u0441\\u043e\\u0432\\u044b\\u0435 \\u0438\\u043d\\u0441\\u0442\\u0440\\u0443\\u043c\\u0435\\u043d\\u0442\\u044b \\u0434\\u043b\\u044f \\u0447\\u0430\\u0441\\u0442\\u043d\\u043e\\u0433\\u043e \\u0438\\u043d\\u0432\\u0435\\u0441\\u0442\\u043e\\u0440\\u0430\"]],\"hovertemplate\":\"course_difficulty=Beginner\\u003cbr\\u003ecourse_rating=%{x}\\u003cbr\\u003ecourse_students_enrolled=%{marker.size}\\u003cbr\\u003ecourse_title=%{customdata[0]}\\u003cbr\\u003ecourse_organization=%{customdata[1]}\\u003cextra\\u003e\\u003c\\u002fextra\\u003e\",\"legendgroup\":\"Beginner\",\"marker\":{\"color\":\"#636efa\",\"size\":[5300,39000,350000,61000,130000,11000,27000,110000,540000,2900,110000,9200,21000,94000,69000,40000,12000,18000,23000,69000,270000,7900,30000,20000,120000,11000,220000,6600,180000,3900,150000,10000,13000,180000,28000,6500,61000,8800,35000,88000,14000,21000,1600,31000,9500,57000,26000,15000,22000,280000,510000,110000,24000,89000,67000,10000,48000,160000,31000,36000,220000,32000,340000,790000,31000,23000,30000,22000,57000,51000,4800,32000,37000,120000,15000,43000,6400,43000,5800,33000,27000,66000,19000,61000,43000,15000,220000,27000,26000,7800,75000,15000,81000,140000,150000,17000,5500,18000,140000,23000,55000,100000,220000,110000,24000,42000,830000,140000,89000,740000,60000,96000,18000,120000,110000,150000,44000,4500,8200,240000,17000,54000,9000,21000,37000,380000,140000,58000,35000,4000,21000,5600,17000,39000,110000,7100,46000,1500,12000,17000,37000,14000,23000,200000,230000,110000,2400,110000,31000,20000,69000,6400,31000,7200,1800,14000,27000,13000,11000,86000,240000,200000,490000,56000,54000,170000,28000,180000,18000,9700,13000,12000,260000,69000,65000,10000,470000,60000,6500,36000,20000,400000,14000,63000,31000,64000,89000,3200,26000,52000,30000,39000,200000,86000,290000,180000,120000,81000,25000,56000,150000,110000,47000,4900,9400,10000,140000,260000,14000,97000,14000,59000,18000,22000,29000,10000,3800,93000,350000,10000,56000,43000,8100,36000,5500,5500,28000,34000,98000,220000,3300,480000,35000,62000,1700,23000,2200,610000,270000,18000,79000,34000,22000,32000,10000,16000,40000,10000,25000,72000,14000,6500,22000,26000,20000,2200,35000,11000,36000,140000,100000,44000,16000,46000,2600,20000,32000,27000,32000,30000,310000,25000,75000,54000,6000,140000,160000,82000,270000,270000,49000,12000,4100,72000,87000,16000,76000,110000,4500,120000,99000,14000,49000,4400,380000,160000,22000,8000,6300,17000,16000,220000,43000,22000,39000,160000,80000,180000,120000,68000,10000,14000,19000,78000,43000,11000,55000,23000,27000,47000,22000,81000,39000,93000,57000,310000,8400,52000,12000,150000,140000,51000,4800,13000,260000,73000,230000,120000,310000,14000,42000,70000,22000,12000,5300,100000,330000,13000,76000,22000,3200,9100,8800,12000,8900,160000,83000,34000,23000,50000,40000,10000,22000,47000,20000,36000,250000,19000,70000,190000,440000,230000,52000,110000,26000,170000,1500000,3000,7700,24000,5200,7200,170000,120000,30000,3200,7000,370000,2600,160000,5600,16000,9100,140000,14000,110000,61000,20000,22000,13000,130000,78000,4200,220000,60000,110000,17000,68000,8800,71000,370000,17000,16000,34000,220000,9500,100000,68000,11000,220000,38000,11000,7900,66000,82000,24000,45000,9400,3900,62000,100000,62000,49000,280000,90000,130000,23000,73000,130000,22000,84000,11000,120000,130000,47000,1700,59000,13000,320000,26000,5200,28000,14000,200000,120000,68000,110000,44000,68000,25000,29000,89000,24000,49000,30000,130000,12000,9500,23000,19000,37000,23000,280000,34000,120000,260000,32000,12000,18000,140000,25000,69000,14000,16000,67000,83000,38000],\"sizemode\":\"area\",\"sizeref\":8000.0,\"symbol\":\"circle\"},\"mode\":\"markers\",\"name\":\"Beginner\",\"orientation\":\"v\",\"showlegend\":true,\"x\":[4.7,4.7,4.8,4.7,4.6,4.3,4.7,4.7,4.7,4.6,4.7,4.8,4.7,4.7,4.7,4.7,4.9,4.9,4.8,4.7,4.6,4.6,4.8,4.8,4.5,4.8,4.6,4.2,4.9,4.5,4.9,4.9,4.6,4.6,4.7,4.7,4.8,4.5,4.6,4.4,4.8,4.7,4.6,4.7,4.9,4.9,4.6,4.9,4.5,4.6,4.7,4.7,4.7,4.7,4.5,4.7,4.8,4.5,4.5,4.7,4.9,4.8,4.7,4.4,4.8,4.7,4.7,4.8,4.7,4.8,4.6,4.8,4.5,4.7,4.7,4.8,4.9,4.7,4.6,4.8,4.6,4.3,4.7,4.7,4.8,4.8,4.7,4.5,4.6,4.8,4.6,4.8,4.8,4.6,4.7,4.6,4.6,4.7,4.2,4.6,4.8,4.4,4.6,4.7,4.8,4.7,4.5,4.5,4.6,4.6,4.8,4.5,4.7,4.6,4.7,4.8,4.8,4.7,4.4,4.6,4.6,4.8,4.4,4.5,4.6,4.6,4.7,4.7,4.5,4.6,4.9,4.8,4.7,4.6,4.7,4.8,4.9,5.0,4.8,4.6,4.7,4.8,4.7,4.6,4.8,4.8,4.4,4.8,4.7,4.8,4.6,4.7,4.7,4.8,4.5,4.7,4.7,4.8,4.8,4.9,4.9,4.9,4.6,4.8,4.8,4.5,4.8,4.8,4.8,4.8,4.6,4.7,4.5,4.8,4.8,4.5,4.8,4.5,4.7,4.7,4.6,4.9,4.8,4.8,4.7,4.8,4.8,4.8,4.6,4.8,4.6,4.6,4.8,4.8,4.8,4.6,4.7,4.5,4.6,4.6,4.7,4.8,4.6,4.6,4.8,4.7,4.8,4.6,4.7,4.8,4.7,4.5,4.6,4.9,4.7,4.5,4.6,4.7,4.8,4.7,4.6,4.7,4.5,4.4,4.6,4.7,4.6,4.1,4.7,4.6,4.8,4.6,4.5,4.8,4.9,4.7,4.6,4.7,4.9,4.4,4.9,4.5,4.8,4.6,4.6,4.7,4.6,4.8,4.8,4.5,4.8,4.6,4.8,4.6,4.8,4.5,4.9,4.6,4.7,4.7,4.4,4.7,4.7,4.8,4.6,4.3,4.3,4.7,4.7,4.5,4.6,4.8,4.4,4.5,4.8,4.4,4.7,4.7,4.8,4.9,4.7,4.7,4.8,4.8,4.5,4.8,4.7,4.8,4.9,4.9,4.7,4.6,4.5,4.6,4.6,4.6,4.5,4.7,4.6,4.7,4.8,4.7,4.8,4.3,4.8,4.6,4.6,4.8,4.9,4.7,4.7,4.7,4.6,4.6,4.7,4.9,4.7,4.7,4.5,4.6,4.5,4.8,4.7,4.6,4.4,4.7,4.6,4.3,4.5,4.6,4.7,4.7,4.8,4.3,4.6,4.9,4.8,4.7,4.7,4.8,4.8,4.8,4.7,4.7,4.8,4.8,4.6,4.4,4.6,4.7,4.8,4.6,4.8,4.6,4.9,4.7,4.7,4.7,4.8,4.8,4.6,4.7,4.7,4.6,4.8,4.6,4.6,4.7,4.2,4.7,4.6,4.7,4.6,4.8,4.8,4.6,4.8,4.9,4.8,4.7,4.7,4.6,4.5,4.4,4.9,4.7,4.7,4.8,4.6,4.6,4.4,4.7,4.8,4.8,4.7,4.8,4.7,4.8,4.6,4.6,4.6,4.6,4.8,4.7,4.6,4.6,4.8,4.8,4.9,4.6,4.7,4.7,4.7,4.6,4.7,4.7,4.7,4.7,4.6,4.8,4.8,4.8,4.7,4.7,4.7,4.8,4.3,4.6,4.5,4.7,4.9,4.9,4.8,4.8,4.8,4.6,4.7,4.5,4.7,4.6,4.8,4.8,4.8,4.8,4.8,4.6,4.8,4.9,4.8,4.8,4.7,4.8,4.7,4.6,4.6,4.3,4.7,4.6,4.7,4.8,4.8,4.9,4.8,4.8,4.7,4.9,4.2,4.8,4.8,4.7,4.7,4.3,4.7,4.7,4.7,4.7,4.7,4.9,4.4,4.9,4.7,4.5,4.6,4.5,4.8,4.6,4.7],\"xaxis\":\"x\",\"y\":[5300,39000,350000,61000,130000,11000,27000,110000,540000,2900,110000,9200,21000,94000,69000,40000,12000,18000,23000,69000,270000,7900,30000,20000,120000,11000,220000,6600,180000,3900,150000,10000,13000,180000,28000,6500,61000,8800,35000,88000,14000,21000,1600,31000,9500,57000,26000,15000,22000,280000,510000,110000,24000,89000,67000,10000,48000,160000,31000,36000,220000,32000,340000,790000,31000,23000,30000,22000,57000,51000,4800,32000,37000,120000,15000,43000,6400,43000,5800,33000,27000,66000,19000,61000,43000,15000,220000,27000,26000,7800,75000,15000,81000,140000,150000,17000,5500,18000,140000,23000,55000,100000,220000,110000,24000,42000,830000,140000,89000,740000,60000,96000,18000,120000,110000,150000,44000,4500,8200,240000,17000,54000,9000,21000,37000,380000,140000,58000,35000,4000,21000,5600,17000,39000,110000,7100,46000,1500,12000,17000,37000,14000,23000,200000,230000,110000,2400,110000,31000,20000,69000,6400,31000,7200,1800,14000,27000,13000,11000,86000,240000,200000,490000,56000,54000,170000,28000,180000,18000,9700,13000,12000,260000,69000,65000,10000,470000,60000,6500,36000,20000,400000,14000,63000,31000,64000,89000,3200,26000,52000,30000,39000,200000,86000,290000,180000,120000,81000,25000,56000,150000,110000,47000,4900,9400,10000,140000,260000,14000,97000,14000,59000,18000,22000,29000,10000,3800,93000,350000,10000,56000,43000,8100,36000,5500,5500,28000,34000,98000,220000,3300,480000,35000,62000,1700,23000,2200,610000,270000,18000,79000,34000,22000,32000,10000,16000,40000,10000,25000,72000,14000,6500,22000,26000,20000,2200,35000,11000,36000,140000,100000,44000,16000,46000,2600,20000,32000,27000,32000,30000,310000,25000,75000,54000,6000,140000,160000,82000,270000,270000,49000,12000,4100,72000,87000,16000,76000,110000,4500,120000,99000,14000,49000,4400,380000,160000,22000,8000,6300,17000,16000,220000,43000,22000,39000,160000,80000,180000,120000,68000,10000,14000,19000,78000,43000,11000,55000,23000,27000,47000,22000,81000,39000,93000,57000,310000,8400,52000,12000,150000,140000,51000,4800,13000,260000,73000,230000,120000,310000,14000,42000,70000,22000,12000,5300,100000,330000,13000,76000,22000,3200,9100,8800,12000,8900,160000,83000,34000,23000,50000,40000,10000,22000,47000,20000,36000,250000,19000,70000,190000,440000,230000,52000,110000,26000,170000,1500000,3000,7700,24000,5200,7200,170000,120000,30000,3200,7000,370000,2600,160000,5600,16000,9100,140000,14000,110000,61000,20000,22000,13000,130000,78000,4200,220000,60000,110000,17000,68000,8800,71000,370000,17000,16000,34000,220000,9500,100000,68000,11000,220000,38000,11000,7900,66000,82000,24000,45000,9400,3900,62000,100000,62000,49000,280000,90000,130000,23000,73000,130000,22000,84000,11000,120000,130000,47000,1700,59000,13000,320000,26000,5200,28000,14000,200000,120000,68000,110000,44000,68000,25000,29000,89000,24000,49000,30000,130000,12000,9500,23000,19000,37000,23000,280000,34000,120000,260000,32000,12000,18000,140000,25000,69000,14000,16000,67000,83000,38000],\"yaxis\":\"y\",\"type\":\"scatter\"},{\"customdata\":[[\"A Crash Course in Causality:  Inferring Causal Effects from Observational Data\",\"A Crash Course in Causality:  Inferring Causal Effects from Observational Data\"],[\"AI For Medical Treatment\",\"AI For Medical Treatment\"],[\"AI for Medical Diagnosis\",\"AI for Medical Diagnosis\"],[\"AI for Medical Prognosis\",\"AI for Medical Prognosis\"],[\"AI for Medicine\",\"AI for Medicine\"],[\"AWS Fundamentals: Migrating to the Cloud\",\"AWS Fundamentals: Migrating to the Cloud\"],[\"Accelerated Computer Science Fundamentals\",\"Accelerated Computer Science Fundamentals\"],[\"Accounting for Decision Making\",\"Accounting for Decision Making\"],[\"Advanced Business Analytics\",\"Advanced Business Analytics\"],[\"Algorithmic Toolbox\",\"Algorithmic Toolbox\"],[\"Algorithms\",\"Algorithms\"],[\"Algorithms for Battery Management Systems\",\"Algorithms for Battery Management Systems\"],[\"Anatomy of the Chest, Abdomen, and Pelvis\",\"Anatomy of the Chest, Abdomen, and Pelvis\"],[\"Antimicrobial resistance - theory and methods\",\"Antimicrobial resistance - theory and methods\"],[\"Applied Data Science Capstone\",\"Applied Data Science Capstone\"],[\"Applied Data Science with Python\",\"Applied Data Science with Python\"],[\"Applied Machine Learning in Python\",\"Applied Machine Learning in Python\"],[\"Applied Plotting, Charting & Data Representation in Python\",\"Applied Plotting, Charting & Data Representation in Python\"],[\"Architecting with Google Cloud Platform \\u65e5\\u672c\\u8a9e\\u7248\",\"Architecting with Google Cloud Platform \\u65e5\\u672c\\u8a9e\\u7248\"],[\"Architecting with Google Compute Engine\",\"Architecting with Google Compute Engine\"],[\"Atenci\\u00f3n Primaria en Salud: El desaf\\u00edo de las Enfermedades no Transmisibles\",\"Atenci\\u00f3n Primaria en Salud: El desaf\\u00edo de las Enfermedades no Transmisibles\"],[\"Autodesk CAD\\u002fCAM for Manufacturing\",\"Autodesk CAD\\u002fCAM for Manufacturing\"],[\"Autodesk CAD\\u002fCAM\\u002fCAE for Mechanical Engineering\",\"Autodesk CAD\\u002fCAM\\u002fCAE for Mechanical Engineering\"],[\"Bayesian Statistics: From Concept to Data Analysis\",\"Bayesian Statistics: From Concept to Data Analysis\"],[\"Bayesian Statistics: Techniques and Models\",\"Bayesian Statistics: Techniques and Models\"],[\"Become a Sustainable Business Change Agent\",\"Become a Sustainable Business Change Agent\"],[\"Blended Language Learning: Design and Practice for Teachers\",\"Blended Language Learning: Design and Practice for Teachers\"],[\"Blockchain\",\"Blockchain\"],[\"Building Batch Data Pipelines on GCP\",\"Building Batch Data Pipelines on GCP\"],[\"Building Resilient Streaming Analytics Systems on GCP\",\"Building Resilient Streaming Analytics Systems on GCP\"],[\"Building Scalable Java Microservices with Spring Boot and Spring Cloud\",\"Building Scalable Java Microservices with Spring Boot and Spring Cloud\"],[\"Business English\",\"Business English\"],[\"Business English Communication Skills\",\"Business English Communication Skills\"],[\"Business English: Networking\",\"Business English: Networking\"],[\"Cloud Computing\",\"Cloud Computing\"],[\"Cloud Engineering with Google Cloud\",\"Cloud Engineering with Google Cloud\"],[\"Coaching Skills for Managers\",\"Coaching Skills for Managers\"],[\"Competitive Strategy and Organization Design\",\"Competitive Strategy and Organization Design\"],[\"Convolutional Neural Networks\",\"Convolutional Neural Networks\"],[\"Convolutional Neural Networks in TensorFlow\",\"Convolutional Neural Networks in TensorFlow\"],[\"Corporate & Commercial Law I: Contracts & Employment Law\",\"Corporate & Commercial Law I: Contracts & Employment Law\"],[\"Costos para los Negocios\",\"Costos para los Negocios\"],[\"Cuidado de heridas en el \\u00e1mbito hospitalario\",\"Cuidado de heridas en el \\u00e1mbito hospitalario\"],[\"Cuidados y procedimientos generales en la atenci\\u00f3n del reci\\u00e9n nacido\",\"Cuidados y procedimientos generales en la atenci\\u00f3n del reci\\u00e9n nacido\"],[\"Cybersecurity\",\"Cybersecurity\"],[\"Data Collection and Processing with Python\",\"Data Collection and Processing with Python\"],[\"Data Engineering on Google Cloud Platform \\u65e5\\u672c\\u8a9e\\u7248\",\"Data Engineering on Google Cloud Platform \\u65e5\\u672c\\u8a9e\\u7248\"],[\"Data Engineering with Google Cloud\",\"Data Engineering with Google Cloud\"],[\"Data Engineering, Big Data, and Machine Learning on GCP\",\"Data Engineering, Big Data, and Machine Learning on GCP\"],[\"Data Mining\",\"Data Mining\"],[\"Data Science: Statistics and Machine Learning\",\"Data Science: Statistics and Machine Learning\"],[\"Data Visualization with Python\",\"Data Visualization with Python\"],[\"Deep Learning\",\"Deep Learning\"],[\"Design-Led Strategy: Design thinking for business strategy and entrepreneurship\",\"Design-Led Strategy: Design thinking for business strategy and entrepreneurship\"],[\"Developing APIs with Google Cloud's Apigee API Platform\",\"Developing APIs with Google Cloud's Apigee API Platform\"],[\"Developing Applications with Google Cloud Platform\",\"Developing Applications with Google Cloud Platform\"],[\"Developing Applications with Google Cloud Platform \\u65e5\\u672c\\u8a9e\\u7248\",\"Developing Applications with Google Cloud Platform \\u65e5\\u672c\\u8a9e\\u7248\"],[\"Developing Industrial Internet of Things\",\"Developing Industrial Internet of Things\"],[\"Discrete Optimization\",\"Discrete Optimization\"],[\"Divide and Conquer, Sorting and Searching, and Randomized Algorithms\",\"Divide and Conquer, Sorting and Searching, and Randomized Algorithms\"],[\"Ecology: Ecosystem Dynamics and Conservation\",\"Ecology: Ecosystem Dynamics and Conservation\"],[\"Ecosystem Services: a Method for Sustainable Development\",\"Ecosystem Services: a Method for Sustainable Development\"],[\"Elastic Google Cloud Infrastructure: Scaling and Automation\",\"Elastic Google Cloud Infrastructure: Scaling and Automation\"],[\"Electronic Music Production\",\"Electronic Music Production\"],[\"English for Research Publication Purposes\",\"English for Research Publication Purposes\"],[\"Entrepreneurial Finance: Strategy and Innovation\",\"Entrepreneurial Finance: Strategy and Innovation\"],[\"Essential Google Cloud Infrastructure: Core Services\",\"Essential Google Cloud Infrastructure: Core Services\"],[\"Essential Google Cloud Infrastructure: Foundation\",\"Essential Google Cloud Infrastructure: Foundation\"],[\"Essentials in Clinical Simulations Across the Health Professions\",\"Essentials in Clinical Simulations Across the Health Professions\"],[\"Essentials of Corporate Finance\",\"Essentials of Corporate Finance\"],[\"Excel Skills for Business: Advanced\",\"Excel Skills for Business: Advanced\"],[\"Excel Skills for Business: Intermediate I\",\"Excel Skills for Business: Intermediate I\"],[\"Excel Skills for Business: Intermediate II\",\"Excel Skills for Business: Intermediate II\"],[\"Finance for Non-Financial Managers\",\"Finance for Non-Financial Managers\"],[\"Financial Management\",\"Financial Management\"],[\"Financial Reporting\",\"Financial Reporting\"],[\"Finanzas corporativas\",\"Finanzas corporativas\"],[\"Formulaci\\u00f3n y evaluaci\\u00f3n de proyectos complejos\",\"Formulaci\\u00f3n y evaluaci\\u00f3n de proyectos complejos\"],[\"Foundations of Marketing Analytics\",\"Foundations of Marketing Analytics\"],[\"Front-End Web Development with React\",\"Front-End Web Development with React\"],[\"Front-End Web UI Frameworks and Tools: Bootstrap 4\",\"Front-End Web UI Frameworks and Tools: Bootstrap 4\"],[\"Full Stack Web and Multiplatform Mobile App Development\",\"Full Stack Web and Multiplatform Mobile App Development\"],[\"Full-Stack Web Development with React\",\"Full-Stack Web Development with React\"],[\"Functional Programming Principles in Scala\",\"Functional Programming Principles in Scala\"],[\"Functional Programming in Scala\",\"Functional Programming in Scala\"],[\"Fundamentals of Immunology\",\"Fundamentals of Immunology\"],[\"Fundamentals of Immunology: Innate Immunity and B-Cell Function\",\"Fundamentals of Immunology: Innate Immunity and B-Cell Function\"],[\"Fundamentals of Reinforcement Learning\",\"Fundamentals of Reinforcement Learning\"],[\"Game Design and Development\",\"Game Design and Development\"],[\"Genomic Data Science\",\"Genomic Data Science\"],[\"Getting Started with AWS Machine Learning\",\"Getting Started with AWS Machine Learning\"],[\"Getting Started with Go\",\"Getting Started with Go\"],[\"Getting Started with Google Kubernetes Engine\",\"Getting Started with Google Kubernetes Engine\"],[\"Global Environmental Management\",\"Global Environmental Management\"],[\"Global Financing Solutions  (by EDHEC and Soci\\u00e9t\\u00e9 G\\u00e9n\\u00e9rale)\",\"Global Financing Solutions  (by EDHEC and Soci\\u00e9t\\u00e9 G\\u00e9n\\u00e9rale)\"],[\"Globalization, Economic Growth and Stability\",\"Globalization, Economic Growth and Stability\"],[\"Google Cloud Platform Big Data and Machine Learning Fundamentals\",\"Google Cloud Platform Big Data and Machine Learning Fundamentals\"],[\"Google Cloud Platform Fundamentals for AWS Professionals\",\"Google Cloud Platform Fundamentals for AWS Professionals\"],[\"Hardware Description Languages for FPGA Design\",\"Hardware Description Languages for FPGA Design\"],[\"Health Information Literacy for Data Analytics\",\"Health Information Literacy for Data Analytics\"],[\"Healthcare Law\",\"Healthcare Law\"],[\"How Things Work: An Introduction to Physics\",\"How Things Work: An Introduction to Physics\"],[\"IBM AI Engineering\",\"IBM AI Engineering\"],[\"Infectious Disease Modelling\",\"Infectious Disease Modelling\"],[\"Influencer Marketing Strategy\",\"Influencer Marketing Strategy\"],[\"Inspired Leadership\",\"Inspired Leadership\"],[\"Instructional Methods in Health Professions Education\",\"Instructional Methods in Health Professions Education\"],[\"Intellectual Property Law\",\"Intellectual Property Law\"],[\"Interaction Design\",\"Interaction Design\"],[\"International Business Essentials\",\"International Business Essentials\"],[\"Interviewing and Resume Writing in English\",\"Interviewing and Resume Writing in English\"],[\"Introduction to Business Analytics: Communicating with Data\",\"Introduction to Business Analytics: Communicating with Data\"],[\"Introduction to Calculus\",\"Introduction to Calculus\"],[\"Introduction to Data Science in Python\",\"Introduction to Data Science in Python\"],[\"Introduction to Embedded Systems Software and Development Environments\",\"Introduction to Embedded Systems Software and Development Environments\"],[\"Introduction to Mathematical Thinking\",\"Introduction to Mathematical Thinking\"],[\"Introduction to TensorFlow for Artificial Intelligence, Machine Learning, and Deep Learning\",\"Introduction to TensorFlow for Artificial Intelligence, Machine Learning, and Deep Learning\"],[\"Introduction to Trading, Machine Learning & GCP\",\"Introduction to Trading, Machine Learning & GCP\"],[\"Kotlin for Java Developers\",\"Kotlin for Java Developers\"],[\"Leading for Equity, Diversity and Inclusion in Higher Education\",\"Leading for Equity, Diversity and Inclusion in Higher Education\"],[\"Leading: Human Resource Management and Leadership\",\"Leading: Human Resource Management and Leadership\"],[\"Learn English: Advanced Academic Speaking and Listening\",\"Learn English: Advanced Academic Speaking and Listening\"],[\"Learn English: Intermediate Grammar\",\"Learn English: Intermediate Grammar\"],[\"Legal Tech & Startups\",\"Legal Tech & Startups\"],[\"Liderazgo efectivo para el siglo XXI\",\"Liderazgo efectivo para el siglo XXI\"],[\"Machine Learning\",\"Machine Learning\"],[\"Machine Learning and Reinforcement Learning in Finance\",\"Machine Learning and Reinforcement Learning in Finance\"],[\"Machine Learning for Business Professionals\",\"Machine Learning for Business Professionals\"],[\"Machine Learning for Trading\",\"Machine Learning for Trading\"],[\"Machine Learning with Python\",\"Machine Learning with Python\"],[\"Machine Learning with TensorFlow on Google Cloud Platform\",\"Machine Learning with TensorFlow on Google Cloud Platform\"],[\"Marketing Gerencial\",\"Marketing Gerencial\"],[\"Marketing con Redes Sociales\",\"Marketing con Redes Sociales\"],[\"Mathematics for Machine Learning: PCA\",\"Mathematics for Machine Learning: PCA\"],[\"Modern Robotics:  Mechanics, Planning, and Control\",\"Modern Robotics:  Mechanics, Planning, and Control\"],[\"Modernizing Data Lakes and Data Warehouses with GCP\",\"Modernizing Data Lakes and Data Warehouses with GCP\"],[\"Municipal Solid Waste Management in Developing Countries\",\"Municipal Solid Waste Management in Developing Countries\"],[\"Natural Language Processing in TensorFlow\",\"Natural Language Processing in TensorFlow\"],[\"Networking and Security Architecture with VMware NSX\",\"Networking and Security Architecture with VMware NSX\"],[\"Networking in Google Cloud\",\"Networking in Google Cloud\"],[\"Neural Networks and Deep Learning\",\"Neural Networks and Deep Learning\"],[\"Nutrition and Lifestyle in Pregnancy\",\"Nutrition and Lifestyle in Pregnancy\"],[\"Object Oriented Java Programming: Data Structures and Beyond\",\"Object Oriented Java Programming: Data Structures and Beyond\"],[\"Object-Oriented Data Structures in C++\",\"Object-Oriented Data Structures in C++\"],[\"Object-Oriented Design\",\"Object-Oriented Design\"],[\"Organizational Leadership\",\"Organizational Leadership\"],[\"Parallel, Concurrent, and Distributed Programming in Java\",\"Parallel, Concurrent, and Distributed Programming in Java\"],[\"Perfect Tenses and Modals\",\"Perfect Tenses and Modals\"],[\"Power Electronics\",\"Power Electronics\"],[\"Practical Time Series Analysis\",\"Practical Time Series Analysis\"],[\"Process Mining: Data science in Action\",\"Process Mining: Data science in Action\"],[\"Programming with Google Go\",\"Programming with Google Go\"],[\"Python Classes and Inheritance\",\"Python Classes and Inheritance\"],[\"Python and Statistics for Financial Analysis\",\"Python and Statistics for Financial Analysis\"],[\"R Programming\",\"R Programming\"],[\"Recommender Systems\",\"Recommender Systems\"],[\"Reinforcement Learning\",\"Reinforcement Learning\"],[\"Revis\\u00e3o Sistem\\u00e1tica e Meta-an\\u00e1lise\",\"Revis\\u00e3o Sistem\\u00e1tica e Meta-an\\u00e1lise\"],[\"Sample-based Learning Methods\",\"Sample-based Learning Methods\"],[\"Secure Coding Practices\",\"Secure Coding Practices\"],[\"Security in Google Cloud Platform\",\"Security in Google Cloud Platform\"],[\"Sequence Models\",\"Sequence Models\"],[\"Six Sigma Green Belt\",\"Six Sigma Green Belt\"],[\"Six Sigma and the Organization (Advanced)\",\"Six Sigma and the Organization (Advanced)\"],[\"Software Development Lifecycle\",\"Software Development Lifecycle\"],[\"Sports Marketing\",\"Sports Marketing\"],[\"Stories of Infection\",\"Stories of Infection\"],[\"Strategic Sales Management\",\"Strategic Sales Management\"],[\"Strategising: Management for Global Competitive Advantage\",\"Strategising: Management for Global Competitive Advantage\"],[\"Supply Chain Finance and Blockchain Technology\",\"Supply Chain Finance and Blockchain Technology\"],[\"Systems Biology and Biotechnology\",\"Systems Biology and Biotechnology\"],[\"Teach English Now! Teaching Language Online\",\"Teach English Now! Teaching Language Online\"],[\"TensorFlow in Practice\",\"TensorFlow in Practice\"],[\"TensorFlow: Data and Deployment\",\"TensorFlow: Data and Deployment\"],[\"The Art of Music Production\",\"The Art of Music Production\"],[\"The Changing Global Order\",\"The Changing Global Order\"],[\"The Oral Cavity: Portal to Health and Disease\",\"The Oral Cavity: Portal to Health and Disease\"],[\"The Science of Stem Cells\",\"The Science of Stem Cells\"],[\"The Strategy of Content Marketing\",\"The Strategy of Content Marketing\"],[\"Troubles du spectre de l'autisme : diagnostic\",\"Troubles du spectre de l'autisme : diagnostic\"],[\"U.S. Federal Taxation\",\"U.S. Federal Taxation\"],[\"Understanding Modern Finance\",\"Understanding Modern Finance\"],[\"Unity Certified Programmer Exam Preparation\",\"Unity Certified Programmer Exam Preparation\"],[\"Unraveling the Cycling City\",\"Unraveling the Cycling City\"],[\"User Interface Design\",\"User Interface Design\"],[\"Value Chain Management\",\"Value Chain Management\"],[\"Web Applications for Everybody\",\"Web Applications for Everybody\"],[\"Wonders of Ancient Egypt\",\"Wonders of Ancient Egypt\"],[\"iOS App Development with Swift\",\"iOS App Development with Swift\"],[\"\\u00c9tudier en France: French Intermediate course B1-B2\",\"\\u00c9tudier en France: French Intermediate course B1-B2\"],[\"\\u0418\\u0441\\u043a\\u0443\\u0441\\u0441\\u0442\\u0432\\u043e \\u0440\\u0430\\u0437\\u0440\\u0430\\u0431\\u043e\\u0442\\u043a\\u0438 \\u043d\\u0430 \\u0441\\u043e\\u0432\\u0440\\u0435\\u043c\\u0435\\u043d\\u043d\\u043e\\u043c C++\",\"\\u0418\\u0441\\u043a\\u0443\\u0441\\u0441\\u0442\\u0432\\u043e \\u0440\\u0430\\u0437\\u0440\\u0430\\u0431\\u043e\\u0442\\u043a\\u0438 \\u043d\\u0430 \\u0441\\u043e\\u0432\\u0440\\u0435\\u043c\\u0435\\u043d\\u043d\\u043e\\u043c C++\"],[\"\\u041c\\u0430\\u0448\\u0438\\u043d\\u043d\\u043e\\u0435 \\u043e\\u0431\\u0443\\u0447\\u0435\\u043d\\u0438\\u0435 \\u0438 \\u0430\\u043d\\u0430\\u043b\\u0438\\u0437 \\u0434\\u0430\\u043d\\u043d\\u044b\\u0445\",\"\\u041c\\u0430\\u0448\\u0438\\u043d\\u043d\\u043e\\u0435 \\u043e\\u0431\\u0443\\u0447\\u0435\\u043d\\u0438\\u0435 \\u0438 \\u0430\\u043d\\u0430\\u043b\\u0438\\u0437 \\u0434\\u0430\\u043d\\u043d\\u044b\\u0445\"],[\"\\u041e\\u0441\\u043d\\u043e\\u0432\\u044b Digital \\u041c\\u0430\\u0440\\u043a\\u0435\\u0442\\u0438\\u043d\\u0433\\u0430\",\"\\u041e\\u0441\\u043d\\u043e\\u0432\\u044b Digital \\u041c\\u0430\\u0440\\u043a\\u0435\\u0442\\u0438\\u043d\\u0433\\u0430\"],[\"\\u041e\\u0441\\u043d\\u043e\\u0432\\u044b \\u0440\\u0430\\u0437\\u0440\\u0430\\u0431\\u043e\\u0442\\u043a\\u0438 \\u043d\\u0430 C++: \\u0431\\u0435\\u043b\\u044b\\u0439 \\u043f\\u043e\\u044f\\u0441\",\"\\u041e\\u0441\\u043d\\u043e\\u0432\\u044b \\u0440\\u0430\\u0437\\u0440\\u0430\\u0431\\u043e\\u0442\\u043a\\u0438 \\u043d\\u0430 C++: \\u0431\\u0435\\u043b\\u044b\\u0439 \\u043f\\u043e\\u044f\\u0441\"],[\"\\u041f\\u043e\\u0433\\u0440\\u0443\\u0436\\u0435\\u043d\\u0438\\u0435 \\u0432 Python\",\"\\u041f\\u043e\\u0433\\u0440\\u0443\\u0436\\u0435\\u043d\\u0438\\u0435 \\u0432 Python\"],[\"\\u041f\\u0440\\u043e\\u0433\\u0440\\u0430\\u043c\\u043c\\u0438\\u0440\\u043e\\u0432\\u0430\\u043d\\u0438\\u0435 \\u043d\\u0430 Python\",\"\\u041f\\u0440\\u043e\\u0433\\u0440\\u0430\\u043c\\u043c\\u0438\\u0440\\u043e\\u0432\\u0430\\u043d\\u0438\\u0435 \\u043d\\u0430 Python\"],[\"\\u0420\\u0430\\u0437\\u0440\\u0430\\u0431\\u043e\\u0442\\u043a\\u0430 \\u0438\\u043d\\u0442\\u0435\\u0440\\u0444\\u0435\\u0439\\u0441\\u043e\\u0432: \\u0432\\u0451\\u0440\\u0441\\u0442\\u043a\\u0430 \\u0438 JavaScript\",\"\\u0420\\u0430\\u0437\\u0440\\u0430\\u0431\\u043e\\u0442\\u043a\\u0430 \\u0438\\u043d\\u0442\\u0435\\u0440\\u0444\\u0435\\u0439\\u0441\\u043e\\u0432: \\u0432\\u0451\\u0440\\u0441\\u0442\\u043a\\u0430 \\u0438 JavaScript\"],[\"\\u0420\\u0443\\u0441\\u0441\\u043a\\u0438\\u0439 \\u043a\\u0430\\u043a \\u0438\\u043d\\u043e\\u0441\\u0442\\u0440\\u0430\\u043d\\u043d\\u044b\\u0439\",\"\\u0420\\u0443\\u0441\\u0441\\u043a\\u0438\\u0439 \\u043a\\u0430\\u043a \\u0438\\u043d\\u043e\\u0441\\u0442\\u0440\\u0430\\u043d\\u043d\\u044b\\u0439\"]],\"hovertemplate\":\"course_difficulty=Intermediate\\u003cbr\\u003ecourse_rating=%{x}\\u003cbr\\u003ecourse_students_enrolled=%{marker.size}\\u003cbr\\u003ecourse_title=%{customdata[0]}\\u003cbr\\u003ecourse_organization=%{customdata[1]}\\u003cextra\\u003e\\u003c\\u002fextra\\u003e\",\"legendgroup\":\"Intermediate\",\"marker\":{\"color\":\"#EF553B\",\"size\":[17000,2400,12000,4000,13000,13000,22000,9900,78000,220000,150000,14000,36000,63000,42000,480000,150000,97000,4200,310000,33000,7300,9200,91000,29000,4200,1900,68000,7300,5800,24000,38000,120000,77000,110000,310000,37000,350000,240000,46000,10000,43000,26000,22000,99000,19000,3000,120000,120000,140000,210000,66000,690000,19000,16000,300000,4000,8000,40000,130000,18000,16000,57000,110000,42000,7900,68000,83000,4100,54000,39000,76000,39000,12000,76000,12000,30000,4400,27000,45000,89000,150000,140000,170000,220000,20000,18000,22000,100000,80000,73000,59000,75000,22000,3600,44000,120000,36000,7400,5400,1700,170000,140000,1600,12000,97000,9700,8700,150000,22000,66000,14000,53000,390000,41000,270000,150000,13000,37000,5900,16000,78000,120000,7200,23000,290000,29000,58000,15000,120000,72000,49000,60000,33000,21000,9100,59000,40000,17000,290000,630000,35000,250000,21000,33000,92000,30000,79000,67000,39000,39000,18000,21000,41000,480000,29000,23000,17000,6800,6400,300000,14000,18000,15000,34000,12000,28000,9200,30000,4900,48000,8500,170000,12000,47000,23000,9400,12000,100000,5400,12000,11000,6100,3900,43000,63000,120000,17000,76000,190000,68000,77000,19000,41000,45000,52000,30000,9800],\"sizemode\":\"area\",\"sizeref\":8000.0,\"symbol\":\"circle\"},\"mode\":\"markers\",\"name\":\"Intermediate\",\"orientation\":\"v\",\"showlegend\":true,\"x\":[4.7,4.8,4.7,4.6,4.7,4.5,4.7,4.8,4.5,4.7,4.8,4.8,4.8,4.6,4.7,4.5,4.6,4.6,4.5,4.7,4.8,4.8,4.8,4.8,4.8,4.7,4.8,4.6,4.5,4.6,4.3,4.7,4.7,4.7,4.4,4.7,4.7,4.7,4.9,4.7,4.8,4.8,4.8,4.8,4.5,4.7,4.4,4.6,4.6,4.4,4.4,4.6,4.8,4.6,4.6,4.7,4.8,4.6,4.9,4.8,4.8,4.7,4.7,4.8,4.6,4.5,4.7,4.7,4.8,4.6,4.7,4.9,4.8,4.4,4.7,4.8,4.6,4.9,4.2,4.7,4.8,4.7,4.7,4.8,4.7,4.7,4.7,4.8,4.7,4.4,4.5,4.6,4.5,4.6,4.6,4.8,4.6,4.7,4.2,4.5,4.7,4.8,4.6,5.0,4.4,4.7,4.6,4.8,4.5,4.5,4.6,4.7,4.8,4.5,4.5,4.8,4.7,4.0,4.7,4.7,4.8,4.5,4.7,4.5,4.8,4.6,3.7,4.6,3.9,4.7,4.5,4.7,4.4,4.0,4.7,4.7,4.8,4.6,4.8,4.7,4.9,4.8,4.7,4.7,4.7,4.7,4.5,4.7,4.8,4.6,4.8,4.6,4.7,4.4,4.6,4.3,4.7,4.9,4.8,4.4,4.7,4.8,4.7,4.7,4.6,4.7,4.9,4.5,4.8,4.6,4.4,4.4,4.7,4.5,4.8,4.7,4.9,4.7,4.5,4.9,4.8,4.4,4.5,4.9,4.6,4.7,4.8,4.8,3.9,4.8,4.9,4.7,4.5,4.9,4.7,4.5,4.5,4.6],\"xaxis\":\"x\",\"y\":[17000,2400,12000,4000,13000,13000,22000,9900,78000,220000,150000,14000,36000,63000,42000,480000,150000,97000,4200,310000,33000,7300,9200,91000,29000,4200,1900,68000,7300,5800,24000,38000,120000,77000,110000,310000,37000,350000,240000,46000,10000,43000,26000,22000,99000,19000,3000,120000,120000,140000,210000,66000,690000,19000,16000,300000,4000,8000,40000,130000,18000,16000,57000,110000,42000,7900,68000,83000,4100,54000,39000,76000,39000,12000,76000,12000,30000,4400,27000,45000,89000,150000,140000,170000,220000,20000,18000,22000,100000,80000,73000,59000,75000,22000,3600,44000,120000,36000,7400,5400,1700,170000,140000,1600,12000,97000,9700,8700,150000,22000,66000,14000,53000,390000,41000,270000,150000,13000,37000,5900,16000,78000,120000,7200,23000,290000,29000,58000,15000,120000,72000,49000,60000,33000,21000,9100,59000,40000,17000,290000,630000,35000,250000,21000,33000,92000,30000,79000,67000,39000,39000,18000,21000,41000,480000,29000,23000,17000,6800,6400,300000,14000,18000,15000,34000,12000,28000,9200,30000,4900,48000,8500,170000,12000,47000,23000,9400,12000,100000,5400,12000,11000,6100,3900,43000,63000,120000,17000,76000,190000,68000,77000,19000,41000,45000,52000,30000,9800],\"yaxis\":\"y\",\"type\":\"scatter\"},{\"customdata\":[[\"A Crash Course in Data Science\",\"A Crash Course in Data Science\"],[\"A Law Student's Toolkit\",\"A Law Student's Toolkit\"],[\"A Life of Happiness and Fulfillment\",\"A Life of Happiness and Fulfillment\"],[\"Aboriginal Worldviews and Education\",\"Aboriginal Worldviews and Education\"],[\"Accounting Analytics\",\"Accounting Analytics\"],[\"Actualizaci\\u00f3n en el manejo del paciente con diabetes mellitus tipo 2\",\"Actualizaci\\u00f3n en el manejo del paciente con diabetes mellitus tipo 2\"],[\"Advertising and Society\",\"Advertising and Society\"],[\"Ancient Philosophy: Aristotle and His Successors\",\"Ancient Philosophy: Aristotle and His Successors\"],[\"Animal Behaviour and Welfare\",\"Animal Behaviour and Welfare\"],[\"Aprender\",\"Aprender\"],[\"Art & Activity: Interactive Strategies for Engaging with Art\",\"Art & Activity: Interactive Strategies for Engaging with Art\"],[\"Art & Ideas: Teaching with Themes\",\"Art & Ideas: Teaching with Themes\"],[\"Arts and Culture Strategy\",\"Arts and Culture Strategy\"],[\"Arts and Heritage Management\",\"Arts and Heritage Management\"],[\"Astrobiology and the Search for Extraterrestrial Life\",\"Astrobiology and the Search for Extraterrestrial Life\"],[\"Autism Spectrum Disorder\",\"Autism Spectrum Disorder\"],[\"Become a CBRS Certified Professional Installer by Google\",\"Become a CBRS Certified Professional Installer by Google\"],[\"Behavioral Finance\",\"Behavioral Finance\"],[\"Beyond the Sustainable Development Goals (SDGs): Addressing Sustainability and Development\",\"Beyond the Sustainable Development Goals (SDGs): Addressing Sustainability and Development\"],[\"Budgeting and Scheduling Projects\",\"Budgeting and Scheduling Projects\"],[\"Build a Modern Computer from First Principles: From Nand to Tetris (Project-Centered Course)\",\"Build a Modern Computer from First Principles: From Nand to Tetris (Project-Centered Course)\"],[\"Building Your Leadership Skills\",\"Building Your Leadership Skills\"],[\"Business Model Innovation\",\"Business Model Innovation\"],[\"Cameras, Exposure, and Photography\",\"Cameras, Exposure, and Photography\"],[\"Capstone: Retrieving, Processing, and Visualizing Data with Python\",\"Capstone: Retrieving, Processing, and Visualizing Data with Python\"],[\"Chicken Behaviour and Welfare\",\"Chicken Behaviour and Welfare\"],[\"Classical Sociological Theory\",\"Classical Sociological Theory\"],[\"Control of Mobile Robots\",\"Control of Mobile Robots\"],[\"Corporate Finance Essentials\",\"Corporate Finance Essentials\"],[\"Corporate Sustainability. Understanding and Seizing the Strategic Opportunity\",\"Corporate Sustainability. Understanding and Seizing the Strategic Opportunity\"],[\"Creative Problem Solving\",\"Creative Problem Solving\"],[\"Creative Writing: The Craft of Plot\",\"Creative Writing: The Craft of Plot\"],[\"Dairy Production and Management\",\"Dairy Production and Management\"],[\"Data Visualization and Communication with Tableau\",\"Data Visualization and Communication with Tableau\"],[\"Decision-Making and Scenarios\",\"Decision-Making and Scenarios\"],[\"Design and Interpretation of Clinical Trials\",\"Design and Interpretation of Clinical Trials\"],[\"Design and Make Infographics (Project-Centered Course)\",\"Design and Make Infographics (Project-Centered Course)\"],[\"Developing Your Musicianship\",\"Developing Your Musicianship\"],[\"Devenir entrepreneur du changement\",\"Devenir entrepreneur du changement\"],[\"Digital Media and Marketing Strategies\",\"Digital Media and Marketing Strategies\"],[\"Dog Emotion and Cognition\",\"Dog Emotion and Cognition\"],[\"Econometrics: Methods and Applications\",\"Econometrics: Methods and Applications\"],[\"Economics of Money and Banking\",\"Economics of Money and Banking\"],[\"Effective Compliance Programs\",\"Effective Compliance Programs\"],[\"English for Career Development\",\"English for Career Development\"],[\"English for Journalism\",\"English for Journalism\"],[\"Entrepreneurship 1: Developing the Opportunity\",\"Entrepreneurship 1: Developing the Opportunity\"],[\"Entrepreneurship 2: Launching your Start-Up\",\"Entrepreneurship 2: Launching your Start-Up\"],[\"Epidemics - the Dynamics of Infectious Diseases\",\"Epidemics - the Dynamics of Infectious Diseases\"],[\"Epidemics, Pandemics and Outbreaks\",\"Epidemics, Pandemics and Outbreaks\"],[\"Epidemiology: The Basic Science of Public Health\",\"Epidemiology: The Basic Science of Public Health\"],[\"Epigenetic Control of Gene Expression\",\"Epigenetic Control of Gene Expression\"],[\"Essentials of Global Health\",\"Essentials of Global Health\"],[\"Financial Engineering and Risk Management Part I\",\"Financial Engineering and Risk Management Part I\"],[\"Financing and Investing in Infrastructure\",\"Financing and Investing in Infrastructure\"],[\"Finanzas personales\",\"Finanzas personales\"],[\"Food & Beverage Management\",\"Food & Beverage Management\"],[\"Forensic Accounting and Fraud Examination\",\"Forensic Accounting and Fraud Examination\"],[\"Foundations of Everyday Leadership\",\"Foundations of Everyday Leadership\"],[\"Fundamentals of Engineering Exam Review\",\"Fundamentals of Engineering Exam Review\"],[\"Fundamentals of Quantitative Modeling\",\"Fundamentals of Quantitative Modeling\"],[\"Gamification\",\"Gamification\"],[\"Geopolitics of Europe\",\"Geopolitics of Europe\"],[\"Geopol\\u00edtica y gobernanza global: riesgos y oportunidades\",\"Geopol\\u00edtica y gobernanza global: riesgos y oportunidades\"],[\"Gesti\\u00f3n de organizaciones efectivas\",\"Gesti\\u00f3n de organizaciones efectivas\"],[\"Global Diplomacy \\u2013 Diplomacy in the Modern World\",\"Global Diplomacy \\u2013 Diplomacy in the Modern World\"],[\"Global Financial Markets and Instruments\",\"Global Financial Markets and Instruments\"],[\"Global Trends for Business and Society\",\"Global Trends for Business and Society\"],[\"Grammar and Punctuation\",\"Grammar and Punctuation\"],[\"Greek and Roman Mythology\",\"Greek and Roman Mythology\"],[\"Guitar for Beginners\",\"Guitar for Beginners\"],[\"Gut Check: Exploring Your Microbiome\",\"Gut Check: Exploring Your Microbiome\"],[\"HTML, CSS, and Javascript for Web Developers\",\"HTML, CSS, and Javascript for Web Developers\"],[\"Hacia una pr\\u00e1ctica constructivista en el aula\",\"Hacia una pr\\u00e1ctica constructivista en el aula\"],[\"Healing with the Arts\",\"Healing with the Arts\"],[\"High Performance Collaboration: Leadership, Teamwork, and Negotiation\",\"High Performance Collaboration: Leadership, Teamwork, and Negotiation\"],[\"How To Create a Website in a Weekend! (Project-Centered Course)\",\"How To Create a Website in a Weekend! (Project-Centered Course)\"],[\"Indigenous Canada\",\"Indigenous Canada\"],[\"Initiating and Planning Projects\",\"Initiating and Planning Projects\"],[\"Inspiring and Motivating Individuals\",\"Inspiring and Motivating Individuals\"],[\"Instructional Design Foundations and Applications\",\"Instructional Design Foundations and Applications\"],[\"International Cyber Conflicts\",\"International Cyber Conflicts\"],[\"International Law in Action: A Guide to the International Courts and Tribunals in The Hague\",\"International Law in Action: A Guide to the International Courts and Tribunals in The Hague\"],[\"International Law in Action: the Arbitration of International Disputes\",\"International Law in Action: the Arbitration of International Disputes\"],[\"International Leadership and Organizational Behavior\",\"International Leadership and Organizational Behavior\"],[\"Internet Giants: The Law and Economics of Media Platforms\",\"Internet Giants: The Law and Economics of Media Platforms\"],[\"Introduction aux Droits de l\\u2019Homme\",\"Introduction aux Droits de l\\u2019Homme\"],[\"Introduction to Ableton Live\",\"Introduction to Ableton Live\"],[\"Introduction to Big Data\",\"Introduction to Big Data\"],[\"Introduction to Breast Cancer\",\"Introduction to Breast Cancer\"],[\"Introduction to CSS3\",\"Introduction to CSS3\"],[\"Introduction to Classical Music\",\"Introduction to Classical Music\"],[\"Introduction to Corporate Finance\",\"Introduction to Corporate Finance\"],[\"Introduction to Data Analysis Using Excel\",\"Introduction to Data Analysis Using Excel\"],[\"Introduction to Electronics\",\"Introduction to Electronics\"],[\"Introduction to Engineering Mechanics\",\"Introduction to Engineering Mechanics\"],[\"Introduction to Environmental Law and Policy\",\"Introduction to Environmental Law and Policy\"],[\"Introduction to Financial Accounting\",\"Introduction to Financial Accounting\"],[\"Introduction to Forensic Science\",\"Introduction to Forensic Science\"],[\"Introduction to Game Development\",\"Introduction to Game Development\"],[\"Introduction to Genetics and Evolution\",\"Introduction to Genetics and Evolution\"],[\"Introduction to Genomic Technologies\",\"Introduction to Genomic Technologies\"],[\"Introduction to HTML5\",\"Introduction to HTML5\"],[\"Introduction to International Criminal Law\",\"Introduction to International Criminal Law\"],[\"Introduction to Marketing\",\"Introduction to Marketing\"],[\"Introduction to Operations Management\",\"Introduction to Operations Management\"],[\"Introduction to Philosophy\",\"Introduction to Philosophy\"],[\"Introduction to Portfolio Construction and Analysis with Python\",\"Introduction to Portfolio Construction and Analysis with Python\"],[\"Introduction to Spreadsheets and Models\",\"Introduction to Spreadsheets and Models\"],[\"Introduction to Sustainability\",\"Introduction to Sustainability\"],[\"Introduction to Systematic Review and Meta-Analysis\",\"Introduction to Systematic Review and Meta-Analysis\"],[\"Introduction to Systems Engineering\",\"Introduction to Systems Engineering\"],[\"Introductory Human Physiology\",\"Introductory Human Physiology\"],[\"Leadership in 21st Century Organizations\",\"Leadership in 21st Century Organizations\"],[\"Linear Circuits 1: DC Analysis\",\"Linear Circuits 1: DC Analysis\"],[\"Machine Learning\",\"Machine Learning\"],[\"Machine Learning Foundations: A Case Study Approach\",\"Machine Learning Foundations: A Case Study Approach\"],[\"Management of Fashion and Luxury Companies\",\"Management of Fashion and Luxury Companies\"],[\"Managing Project Risks and Changes\",\"Managing Project Risks and Changes\"],[\"Marketing Verde\",\"Marketing Verde\"],[\"Mastering Data Analysis in Excel\",\"Mastering Data Analysis in Excel\"],[\"Materials Science: 10 Things Every Engineer Should Know\",\"Materials Science: 10 Things Every Engineer Should Know\"],[\"Microeconomics: The Power of Markets\",\"Microeconomics: The Power of Markets\"],[\"Model Thinking\",\"Model Thinking\"],[\"Modeling Risk and Realities\",\"Modeling Risk and Realities\"],[\"Moral Foundations of Politics\",\"Moral Foundations of Politics\"],[\"More Introduction to Financial Accounting\",\"More Introduction to Financial Accounting\"],[\"Mountains 101\",\"Mountains 101\"],[\"Music Business Foundations\",\"Music Business Foundations\"],[\"Nanotechnology: A Maker\\u2019s Course\",\"Nanotechnology: A Maker\\u2019s Course\"],[\"Negociaci\\u00f3n exitosa: Estrategias y habilidades esenciales (en espa\\u00f1ol)\",\"Negociaci\\u00f3n exitosa: Estrategias y habilidades esenciales (en espa\\u00f1ol)\"],[\"Neurolinguistics\",\"Neurolinguistics\"],[\"Oil & Gas Industry Operations and Markets\",\"Oil & Gas Industry Operations and Markets\"],[\"Operations Analytics\",\"Operations Analytics\"],[\"Particle Physics: an Introduction\",\"Particle Physics: an Introduction\"],[\"People Analytics\",\"People Analytics\"],[\"Positive Psychiatry and Mental Health\",\"Positive Psychiatry and Mental Health\"],[\"Positive Psychology\",\"Positive Psychology\"],[\"Preparing to Manage Human Resources\",\"Preparing to Manage Human Resources\"],[\"Primeros Auxilios Psicol\\u00f3gicos (PAP)\",\"Primeros Auxilios Psicol\\u00f3gicos (PAP)\"],[\"Private Equity and Venture Capital\",\"Private Equity and Venture Capital\"],[\"Programming for Everybody (Getting Started with Python)\",\"Programming for Everybody (Getting Started with Python)\"],[\"Psychological First Aid\",\"Psychological First Aid\"],[\"Python Data Structures\",\"Python Data Structures\"],[\"Quantitative Methods\",\"Quantitative Methods\"],[\"Recruiting, Hiring, and Onboarding Employees\",\"Recruiting, Hiring, and Onboarding Employees\"],[\"Research Data Management and Sharing\",\"Research Data Management and Sharing\"],[\"Resilience in Children Exposed to Trauma, Disaster and War: Global Perspectives\",\"Resilience in Children Exposed to Trauma, Disaster and War: Global Perspectives\"],[\"Rethinking International Tax Law\",\"Rethinking International Tax Law\"],[\"R\\u00e9ussir le Changement\",\"R\\u00e9ussir le Changement\"],[\"Scaling Operations: Linking Strategy and Execution\",\"Scaling Operations: Linking Strategy and Execution\"],[\"Search Engine Optimization Fundamentals\",\"Search Engine Optimization Fundamentals\"],[\"Software Processes and Agile Practices\",\"Software Processes and Agile Practices\"],[\"Speak English Professionally: In Person, Online & On the Phone\",\"Speak English Professionally: In Person, Online & On the Phone\"],[\"Sports and Society\",\"Sports and Society\"],[\"Strategic Management\",\"Strategic Management\"],[\"Successful Negotiation: Essential Strategies and Skills\",\"Successful Negotiation: Essential Strategies and Skills\"],[\"Supply Chain Principles\",\"Supply Chain Principles\"],[\"Supporting children with difficulties in reading and writing\",\"Supporting children with difficulties in reading and writing\"],[\"Systems Thinking In Public Health\",\"Systems Thinking In Public Health\"],[\"Teach English Now! Foundational Principles\",\"Teach English Now! Foundational Principles\"],[\"Teaching Character and Creating Positive Classrooms\",\"Teaching Character and Creating Positive Classrooms\"],[\"The Data Scientist\\u2019s Toolbox\",\"The Data Scientist\\u2019s Toolbox\"],[\"The Economics of Health Care Delivery\",\"The Economics of Health Care Delivery\"],[\"The Global Financial Crisis\",\"The Global Financial Crisis\"],[\"The Horse Course: Introduction to Basic Care and Management\",\"The Horse Course: Introduction to Basic Care and Management\"],[\"The Manager's Toolkit: A Practical Guide to Managing People at Work\",\"The Manager's Toolkit: A Practical Guide to Managing People at Work\"],[\"The Power of Macroeconomics: Economic Principles in the Real World\",\"The Power of Macroeconomics: Economic Principles in the Real World\"],[\"The Power of Microeconomics: Economic Principles in the Real World\",\"The Power of Microeconomics: Economic Principles in the Real World\"],[\"The Science of Gastronomy\",\"The Science of Gastronomy\"],[\"The Science of Well-Being\",\"The Science of Well-Being\"],[\"The Social Context of Mental Health and Illness\",\"The Social Context of Mental Health and Illness\"],[\"The Truth About Cats and Dogs\",\"The Truth About Cats and Dogs\"],[\"Transmedia Storytelling: Narrative worlds, emerging technologies, and global audiences\",\"Transmedia Storytelling: Narrative worlds, emerging technologies, and global audiences\"],[\"Understanding Clinical Research: Behind the Statistics\",\"Understanding Clinical Research: Behind the Statistics\"],[\"Understanding Research Methods\",\"Understanding Research Methods\"],[\"Using Databases with Python\",\"Using Databases with Python\"],[\"Using Python to Access Web Data\",\"Using Python to Access Web Data\"],[\"Version Control with Git\",\"Version Control with Git\"],[\"Viral Marketing and How to Craft Contagious Content\",\"Viral Marketing and How to Craft Contagious Content\"],[\"Vital Signs: Understanding What the Body Is Telling Us\",\"Vital Signs: Understanding What the Body Is Telling Us\"],[\"What future for education?\",\"What future for education?\"],[\"What is Compliance?\",\"What is Compliance?\"],[\"What is Social?\",\"What is Social?\"],[\"Write Professional Emails in English\",\"Write Professional Emails in English\"],[\"e-Learning Ecologies: Innovative Approaches to Teaching and Learning for the Digital Age\",\"e-Learning Ecologies: Innovative Approaches to Teaching and Learning for the Digital Age\"],[\"\\u041f\\u0441\\u0438\\u0445\\u043e\\u043b\\u0438\\u043d\\u0433\\u0432\\u0438\\u0441\\u0442\\u0438\\u043a\\u0430 (Psycholinguistics)\",\"\\u041f\\u0441\\u0438\\u0445\\u043e\\u043b\\u0438\\u043d\\u0433\\u0432\\u0438\\u0441\\u0442\\u0438\\u043a\\u0430 (Psycholinguistics)\"]],\"hovertemplate\":\"course_difficulty=Mixed\\u003cbr\\u003ecourse_rating=%{x}\\u003cbr\\u003ecourse_students_enrolled=%{marker.size}\\u003cbr\\u003ecourse_title=%{customdata[0]}\\u003cbr\\u003ecourse_organization=%{customdata[1]}\\u003cextra\\u003e\\u003c\\u002fextra\\u003e\",\"legendgroup\":\"Mixed\",\"marker\":{\"color\":\"#00cc96\",\"size\":[130000,91000,320000,6600,80000,23000,14000,8100,71000,200000,79000,31000,15000,15000,66000,56000,210000,55000,2300,84000,95000,67000,13000,130000,82000,19000,51000,49000,56000,10000,140000,120000,23000,130000,31000,67000,97000,41000,54000,57000,150000,110000,83000,3400,760000,130000,86000,38000,45000,23000,130000,35000,31000,100000,24000,310000,57000,42000,62000,49000,110000,110000,19000,34000,47000,79000,37000,7600,430000,260000,210000,62000,240000,62000,39000,46000,140000,51000,180000,85000,12000,25000,36000,19000,41000,38000,46000,60000,160000,27000,84000,150000,130000,99000,110000,150000,34000,200000,47000,79000,74000,42000,220000,82000,220000,87000,370000,11000,76000,69000,67000,33000,270000,34000,29000,3200000,240000,120000,71000,58000,280000,48000,34000,130000,36000,100000,40000,44000,34000,21000,95000,41000,57000,80000,42000,84000,72000,180000,68000,280000,79000,1300000,190000,420000,69000,35000,16000,15000,36000,33000,12000,47000,60000,430000,16000,58000,750000,29000,50000,33000,81000,53000,420000,7200,84000,29000,47000,180000,120000,50000,2500000,19000,33000,45000,78000,120000,220000,310000,40000,150000,190000,35000,6200,94000,270000,17000,21000],\"sizemode\":\"area\",\"sizeref\":8000.0,\"symbol\":\"circle\"},\"mode\":\"markers\",\"name\":\"Mixed\",\"orientation\":\"v\",\"showlegend\":true,\"x\":[4.5,4.7,4.8,4.7,4.5,4.8,4.8,4.8,4.8,4.8,4.8,4.8,4.6,4.8,4.7,4.6,4.9,4.4,4.6,4.7,4.9,4.5,4.7,4.7,4.6,4.7,4.8,4.8,4.8,4.6,4.3,4.7,4.8,4.7,4.6,4.7,4.7,4.8,4.7,4.4,4.6,4.7,4.9,4.9,4.8,4.8,4.8,4.8,4.8,4.7,4.6,4.8,4.8,4.6,4.8,4.8,4.8,4.7,4.8,4.7,4.6,4.8,4.3,4.8,4.7,4.6,4.6,4.8,4.7,4.8,4.8,4.7,4.8,4.8,4.6,4.8,3.3,4.8,4.7,4.8,4.2,4.4,4.8,4.8,4.8,4.8,4.8,4.8,4.6,4.9,4.8,4.9,4.6,4.7,4.7,4.7,4.8,4.7,4.9,4.8,4.8,4.6,4.7,4.8,4.8,4.5,4.6,4.8,4.2,4.8,4.8,4.7,4.7,4.7,4.6,4.9,4.6,4.7,4.7,4.8,4.2,4.7,4.7,4.8,4.6,4.8,4.9,4.9,4.9,4.8,4.8,4.7,4.8,4.7,4.5,4.5,4.8,4.7,4.8,4.8,4.8,4.8,4.8,4.9,4.7,4.7,4.6,4.8,4.9,4.5,4.5,4.7,4.7,4.6,4.8,4.7,4.8,4.6,4.8,4.9,4.9,4.8,4.6,4.8,4.8,4.9,4.6,4.6,4.7,4.6,4.9,4.6,4.7,4.8,4.8,4.5,4.8,4.8,4.8,4.7,4.8,4.7,4.8,4.6,4.7,4.5,4.8],\"xaxis\":\"x\",\"y\":[130000,91000,320000,6600,80000,23000,14000,8100,71000,200000,79000,31000,15000,15000,66000,56000,210000,55000,2300,84000,95000,67000,13000,130000,82000,19000,51000,49000,56000,10000,140000,120000,23000,130000,31000,67000,97000,41000,54000,57000,150000,110000,83000,3400,760000,130000,86000,38000,45000,23000,130000,35000,31000,100000,24000,310000,57000,42000,62000,49000,110000,110000,19000,34000,47000,79000,37000,7600,430000,260000,210000,62000,240000,62000,39000,46000,140000,51000,180000,85000,12000,25000,36000,19000,41000,38000,46000,60000,160000,27000,84000,150000,130000,99000,110000,150000,34000,200000,47000,79000,74000,42000,220000,82000,220000,87000,370000,11000,76000,69000,67000,33000,270000,34000,29000,3200000,240000,120000,71000,58000,280000,48000,34000,130000,36000,100000,40000,44000,34000,21000,95000,41000,57000,80000,42000,84000,72000,180000,68000,280000,79000,1300000,190000,420000,69000,35000,16000,15000,36000,33000,12000,47000,60000,430000,16000,58000,750000,29000,50000,33000,81000,53000,420000,7200,84000,29000,47000,180000,120000,50000,2500000,19000,33000,45000,78000,120000,220000,310000,40000,150000,190000,35000,6200,94000,270000,17000,21000],\"yaxis\":\"y\",\"type\":\"scatter\"},{\"customdata\":[[\"Advanced Data Science with IBM\",\"Advanced Data Science with IBM\"],[\"Advanced Machine Learning\",\"Advanced Machine Learning\"],[\"Advanced Machine Learning with TensorFlow on Google Cloud Platform\",\"Advanced Machine Learning with TensorFlow on Google Cloud Platform\"],[\"Advanced Valuation and Strategy - M&A, Private Equity, and Venture Capital\",\"Advanced Valuation and Strategy - M&A, Private Equity, and Venture Capital\"],[\"Antibiotic Stewardship\",\"Antibiotic Stewardship\"],[\"Autodesk Certified Professional: AutoCAD for Design and Drafting Exam Prep\",\"Autodesk Certified Professional: AutoCAD for Design and Drafting Exam Prep\"],[\"Autodesk Certified Professional: Revit for Architectural Design Exam Prep\",\"Autodesk Certified Professional: Revit for Architectural Design Exam Prep\"],[\"Data Warehousing for Business Intelligence\",\"Data Warehousing for Business Intelligence\"],[\"IBM AI Enterprise Workflow\",\"IBM AI Enterprise Workflow\"],[\"Introduction to Self-Driving Cars\",\"Introduction to Self-Driving Cars\"],[\"Learn English: Advanced Grammar and Punctuation\",\"Learn English: Advanced Grammar and Punctuation\"],[\"Medical Neuroscience\",\"Medical Neuroscience\"],[\"Optical Engineering\",\"Optical Engineering\"],[\"Probabilistic Graphical Models 1: Representation\",\"Probabilistic Graphical Models 1: Representation\"],[\"Self-Driving Cars\",\"Self-Driving Cars\"],[\"Site Reliability Engineering: Measuring and Managing Reliability\",\"Site Reliability Engineering: Measuring and Managing Reliability\"],[\"Social and Economic Networks:  Models and Analysis\",\"Social and Economic Networks:  Models and Analysis\"],[\"Spacecraft Dynamics and Control\",\"Spacecraft Dynamics and Control\"],[\"Strategic Business Analytics\",\"Strategic Business Analytics\"]],\"hovertemplate\":\"course_difficulty=Advanced\\u003cbr\\u003ecourse_rating=%{x}\\u003cbr\\u003ecourse_students_enrolled=%{marker.size}\\u003cbr\\u003ecourse_title=%{customdata[0]}\\u003cbr\\u003ecourse_organization=%{customdata[1]}\\u003cextra\\u003e\\u003c\\u002fextra\\u003e\",\"legendgroup\":\"Advanced\",\"marker\":{\"color\":\"#ab63fa\",\"size\":[320000,190000,35000,29000,11000,22000,9700,140000,3500,39000,52000,170000,6200,68000,39000,16000,42000,12000,60000],\"sizemode\":\"area\",\"sizeref\":8000.0,\"symbol\":\"circle\"},\"mode\":\"markers\",\"name\":\"Advanced\",\"orientation\":\"v\",\"showlegend\":true,\"x\":[4.4,4.5,4.5,4.7,4.5,4.7,4.7,4.5,4.4,4.8,4.8,4.9,4.2,4.7,4.7,4.5,4.8,4.8,4.3],\"xaxis\":\"x\",\"y\":[320000,190000,35000,29000,11000,22000,9700,140000,3500,39000,52000,170000,6200,68000,39000,16000,42000,12000,60000],\"yaxis\":\"y\",\"type\":\"scatter\"}],                        {\"template\":{\"data\":{\"histogram2dcontour\":[{\"type\":\"histogram2dcontour\",\"colorbar\":{\"outlinewidth\":0,\"ticks\":\"\"},\"colorscale\":[[0.0,\"#0d0887\"],[0.1111111111111111,\"#46039f\"],[0.2222222222222222,\"#7201a8\"],[0.3333333333333333,\"#9c179e\"],[0.4444444444444444,\"#bd3786\"],[0.5555555555555556,\"#d8576b\"],[0.6666666666666666,\"#ed7953\"],[0.7777777777777778,\"#fb9f3a\"],[0.8888888888888888,\"#fdca26\"],[1.0,\"#f0f921\"]]}],\"choropleth\":[{\"type\":\"choropleth\",\"colorbar\":{\"outlinewidth\":0,\"ticks\":\"\"}}],\"histogram2d\":[{\"type\":\"histogram2d\",\"colorbar\":{\"outlinewidth\":0,\"ticks\":\"\"},\"colorscale\":[[0.0,\"#0d0887\"],[0.1111111111111111,\"#46039f\"],[0.2222222222222222,\"#7201a8\"],[0.3333333333333333,\"#9c179e\"],[0.4444444444444444,\"#bd3786\"],[0.5555555555555556,\"#d8576b\"],[0.6666666666666666,\"#ed7953\"],[0.7777777777777778,\"#fb9f3a\"],[0.8888888888888888,\"#fdca26\"],[1.0,\"#f0f921\"]]}],\"heatmap\":[{\"type\":\"heatmap\",\"colorbar\":{\"outlinewidth\":0,\"ticks\":\"\"},\"colorscale\":[[0.0,\"#0d0887\"],[0.1111111111111111,\"#46039f\"],[0.2222222222222222,\"#7201a8\"],[0.3333333333333333,\"#9c179e\"],[0.4444444444444444,\"#bd3786\"],[0.5555555555555556,\"#d8576b\"],[0.6666666666666666,\"#ed7953\"],[0.7777777777777778,\"#fb9f3a\"],[0.8888888888888888,\"#fdca26\"],[1.0,\"#f0f921\"]]}],\"heatmapgl\":[{\"type\":\"heatmapgl\",\"colorbar\":{\"outlinewidth\":0,\"ticks\":\"\"},\"colorscale\":[[0.0,\"#0d0887\"],[0.1111111111111111,\"#46039f\"],[0.2222222222222222,\"#7201a8\"],[0.3333333333333333,\"#9c179e\"],[0.4444444444444444,\"#bd3786\"],[0.5555555555555556,\"#d8576b\"],[0.6666666666666666,\"#ed7953\"],[0.7777777777777778,\"#fb9f3a\"],[0.8888888888888888,\"#fdca26\"],[1.0,\"#f0f921\"]]}],\"contourcarpet\":[{\"type\":\"contourcarpet\",\"colorbar\":{\"outlinewidth\":0,\"ticks\":\"\"}}],\"contour\":[{\"type\":\"contour\",\"colorbar\":{\"outlinewidth\":0,\"ticks\":\"\"},\"colorscale\":[[0.0,\"#0d0887\"],[0.1111111111111111,\"#46039f\"],[0.2222222222222222,\"#7201a8\"],[0.3333333333333333,\"#9c179e\"],[0.4444444444444444,\"#bd3786\"],[0.5555555555555556,\"#d8576b\"],[0.6666666666666666,\"#ed7953\"],[0.7777777777777778,\"#fb9f3a\"],[0.8888888888888888,\"#fdca26\"],[1.0,\"#f0f921\"]]}],\"surface\":[{\"type\":\"surface\",\"colorbar\":{\"outlinewidth\":0,\"ticks\":\"\"},\"colorscale\":[[0.0,\"#0d0887\"],[0.1111111111111111,\"#46039f\"],[0.2222222222222222,\"#7201a8\"],[0.3333333333333333,\"#9c179e\"],[0.4444444444444444,\"#bd3786\"],[0.5555555555555556,\"#d8576b\"],[0.6666666666666666,\"#ed7953\"],[0.7777777777777778,\"#fb9f3a\"],[0.8888888888888888,\"#fdca26\"],[1.0,\"#f0f921\"]]}],\"mesh3d\":[{\"type\":\"mesh3d\",\"colorbar\":{\"outlinewidth\":0,\"ticks\":\"\"}}],\"scatter\":[{\"fillpattern\":{\"fillmode\":\"overlay\",\"size\":10,\"solidity\":0.2},\"type\":\"scatter\"}],\"parcoords\":[{\"type\":\"parcoords\",\"line\":{\"colorbar\":{\"outlinewidth\":0,\"ticks\":\"\"}}}],\"scatterpolargl\":[{\"type\":\"scatterpolargl\",\"marker\":{\"colorbar\":{\"outlinewidth\":0,\"ticks\":\"\"}}}],\"bar\":[{\"error_x\":{\"color\":\"#2a3f5f\"},\"error_y\":{\"color\":\"#2a3f5f\"},\"marker\":{\"line\":{\"color\":\"#E5ECF6\",\"width\":0.5},\"pattern\":{\"fillmode\":\"overlay\",\"size\":10,\"solidity\":0.2}},\"type\":\"bar\"}],\"scattergeo\":[{\"type\":\"scattergeo\",\"marker\":{\"colorbar\":{\"outlinewidth\":0,\"ticks\":\"\"}}}],\"scatterpolar\":[{\"type\":\"scatterpolar\",\"marker\":{\"colorbar\":{\"outlinewidth\":0,\"ticks\":\"\"}}}],\"histogram\":[{\"marker\":{\"pattern\":{\"fillmode\":\"overlay\",\"size\":10,\"solidity\":0.2}},\"type\":\"histogram\"}],\"scattergl\":[{\"type\":\"scattergl\",\"marker\":{\"colorbar\":{\"outlinewidth\":0,\"ticks\":\"\"}}}],\"scatter3d\":[{\"type\":\"scatter3d\",\"line\":{\"colorbar\":{\"outlinewidth\":0,\"ticks\":\"\"}},\"marker\":{\"colorbar\":{\"outlinewidth\":0,\"ticks\":\"\"}}}],\"scattermapbox\":[{\"type\":\"scattermapbox\",\"marker\":{\"colorbar\":{\"outlinewidth\":0,\"ticks\":\"\"}}}],\"scatterternary\":[{\"type\":\"scatterternary\",\"marker\":{\"colorbar\":{\"outlinewidth\":0,\"ticks\":\"\"}}}],\"scattercarpet\":[{\"type\":\"scattercarpet\",\"marker\":{\"colorbar\":{\"outlinewidth\":0,\"ticks\":\"\"}}}],\"carpet\":[{\"aaxis\":{\"endlinecolor\":\"#2a3f5f\",\"gridcolor\":\"white\",\"linecolor\":\"white\",\"minorgridcolor\":\"white\",\"startlinecolor\":\"#2a3f5f\"},\"baxis\":{\"endlinecolor\":\"#2a3f5f\",\"gridcolor\":\"white\",\"linecolor\":\"white\",\"minorgridcolor\":\"white\",\"startlinecolor\":\"#2a3f5f\"},\"type\":\"carpet\"}],\"table\":[{\"cells\":{\"fill\":{\"color\":\"#EBF0F8\"},\"line\":{\"color\":\"white\"}},\"header\":{\"fill\":{\"color\":\"#C8D4E3\"},\"line\":{\"color\":\"white\"}},\"type\":\"table\"}],\"barpolar\":[{\"marker\":{\"line\":{\"color\":\"#E5ECF6\",\"width\":0.5},\"pattern\":{\"fillmode\":\"overlay\",\"size\":10,\"solidity\":0.2}},\"type\":\"barpolar\"}],\"pie\":[{\"automargin\":true,\"type\":\"pie\"}]},\"layout\":{\"autotypenumbers\":\"strict\",\"colorway\":[\"#636efa\",\"#EF553B\",\"#00cc96\",\"#ab63fa\",\"#FFA15A\",\"#19d3f3\",\"#FF6692\",\"#B6E880\",\"#FF97FF\",\"#FECB52\"],\"font\":{\"color\":\"#2a3f5f\"},\"hovermode\":\"closest\",\"hoverlabel\":{\"align\":\"left\"},\"paper_bgcolor\":\"white\",\"plot_bgcolor\":\"#E5ECF6\",\"polar\":{\"bgcolor\":\"#E5ECF6\",\"angularaxis\":{\"gridcolor\":\"white\",\"linecolor\":\"white\",\"ticks\":\"\"},\"radialaxis\":{\"gridcolor\":\"white\",\"linecolor\":\"white\",\"ticks\":\"\"}},\"ternary\":{\"bgcolor\":\"#E5ECF6\",\"aaxis\":{\"gridcolor\":\"white\",\"linecolor\":\"white\",\"ticks\":\"\"},\"baxis\":{\"gridcolor\":\"white\",\"linecolor\":\"white\",\"ticks\":\"\"},\"caxis\":{\"gridcolor\":\"white\",\"linecolor\":\"white\",\"ticks\":\"\"}},\"coloraxis\":{\"colorbar\":{\"outlinewidth\":0,\"ticks\":\"\"}},\"colorscale\":{\"sequential\":[[0.0,\"#0d0887\"],[0.1111111111111111,\"#46039f\"],[0.2222222222222222,\"#7201a8\"],[0.3333333333333333,\"#9c179e\"],[0.4444444444444444,\"#bd3786\"],[0.5555555555555556,\"#d8576b\"],[0.6666666666666666,\"#ed7953\"],[0.7777777777777778,\"#fb9f3a\"],[0.8888888888888888,\"#fdca26\"],[1.0,\"#f0f921\"]],\"sequentialminus\":[[0.0,\"#0d0887\"],[0.1111111111111111,\"#46039f\"],[0.2222222222222222,\"#7201a8\"],[0.3333333333333333,\"#9c179e\"],[0.4444444444444444,\"#bd3786\"],[0.5555555555555556,\"#d8576b\"],[0.6666666666666666,\"#ed7953\"],[0.7777777777777778,\"#fb9f3a\"],[0.8888888888888888,\"#fdca26\"],[1.0,\"#f0f921\"]],\"diverging\":[[0,\"#8e0152\"],[0.1,\"#c51b7d\"],[0.2,\"#de77ae\"],[0.3,\"#f1b6da\"],[0.4,\"#fde0ef\"],[0.5,\"#f7f7f7\"],[0.6,\"#e6f5d0\"],[0.7,\"#b8e186\"],[0.8,\"#7fbc41\"],[0.9,\"#4d9221\"],[1,\"#276419\"]]},\"xaxis\":{\"gridcolor\":\"white\",\"linecolor\":\"white\",\"ticks\":\"\",\"title\":{\"standoff\":15},\"zerolinecolor\":\"white\",\"automargin\":true,\"zerolinewidth\":2},\"yaxis\":{\"gridcolor\":\"white\",\"linecolor\":\"white\",\"ticks\":\"\",\"title\":{\"standoff\":15},\"zerolinecolor\":\"white\",\"automargin\":true,\"zerolinewidth\":2},\"scene\":{\"xaxis\":{\"backgroundcolor\":\"#E5ECF6\",\"gridcolor\":\"white\",\"linecolor\":\"white\",\"showbackground\":true,\"ticks\":\"\",\"zerolinecolor\":\"white\",\"gridwidth\":2},\"yaxis\":{\"backgroundcolor\":\"#E5ECF6\",\"gridcolor\":\"white\",\"linecolor\":\"white\",\"showbackground\":true,\"ticks\":\"\",\"zerolinecolor\":\"white\",\"gridwidth\":2},\"zaxis\":{\"backgroundcolor\":\"#E5ECF6\",\"gridcolor\":\"white\",\"linecolor\":\"white\",\"showbackground\":true,\"ticks\":\"\",\"zerolinecolor\":\"white\",\"gridwidth\":2}},\"shapedefaults\":{\"line\":{\"color\":\"#2a3f5f\"}},\"annotationdefaults\":{\"arrowcolor\":\"#2a3f5f\",\"arrowhead\":0,\"arrowwidth\":1},\"geo\":{\"bgcolor\":\"white\",\"landcolor\":\"#E5ECF6\",\"subunitcolor\":\"white\",\"showland\":true,\"showlakes\":true,\"lakecolor\":\"white\"},\"title\":{\"x\":0.05},\"mapbox\":{\"style\":\"light\"}}},\"xaxis\":{\"anchor\":\"y\",\"domain\":[0.0,1.0],\"title\":{\"text\":\"course_rating\"}},\"yaxis\":{\"anchor\":\"x\",\"domain\":[0.0,1.0],\"title\":{\"text\":\"course_students_enrolled\"}},\"legend\":{\"title\":{\"text\":\"course_difficulty\"},\"tracegroupgap\":0,\"itemsizing\":\"constant\"},\"title\":{\"text\":\"Course Ratings vs Students Enrolled\"}},                        {\"responsive\": true}                    ).then(function(){\n",
       "                            \n",
       "var gd = document.getElementById('c632d33e-2810-4db6-80ea-9a480238c997');\n",
       "var x = new MutationObserver(function (mutations, observer) {{\n",
       "        var display = window.getComputedStyle(gd).display;\n",
       "        if (!display || display === 'none') {{\n",
       "            console.log([gd, 'removed!']);\n",
       "            Plotly.purge(gd);\n",
       "            observer.disconnect();\n",
       "        }}\n",
       "}});\n",
       "\n",
       "// Listen for the removal of the full notebook cells\n",
       "var notebookContainer = gd.closest('#notebook-container');\n",
       "if (notebookContainer) {{\n",
       "    x.observe(notebookContainer, {childList: true});\n",
       "}}\n",
       "\n",
       "// Listen for the clearing of the current output cell\n",
       "var outputEl = gd.closest('.output');\n",
       "if (outputEl) {{\n",
       "    x.observe(outputEl, {childList: true});\n",
       "}}\n",
       "\n",
       "                        })                };                });            </script>        </div>"
      ]
     },
     "metadata": {},
     "output_type": "display_data"
    }
   ],
   "source": [
    "fig = px.scatter(df, x='course_rating', y='course_students_enrolled', \n",
    "                 size='course_students_enrolled', color='course_difficulty', \n",
    "                 hover_data=['course_title', 'course_organization'], \n",
    "                 title='Course Ratings vs Students Enrolled')\n",
    "fig.show()"
   ]
  },
  {
   "cell_type": "markdown",
   "id": "bd77fadb-31eb-45be-a42a-5ab6f635579b",
   "metadata": {},
   "source": [
    "# Observations\n",
    "\n",
    "We can see, that some of our courses are not even importantly being for beginners to be popular. Most likely, organization is well-known, which is making sense for future analogy how to develop other courses."
   ]
  },
  {
   "cell_type": "markdown",
   "id": "756a86b3-aeb2-4892-ac69-3d392c1f2916",
   "metadata": {},
   "source": [
    "*Perc, ratios, date of creation, statements must be proven, reflect by data my assumtions*"
   ]
  },
  {
   "cell_type": "markdown",
   "id": "e6fad962-9815-4fc1-914c-0940b0d78312",
   "metadata": {},
   "source": [
    "*importing, TITLE of the project, SOURCE of the data, write down WHY this project is*"
   ]
  },
  {
   "cell_type": "markdown",
   "id": "47859a7e-9717-4ff3-bb7e-0305fdc9491e",
   "metadata": {},
   "source": [
    "*requirements, final conclusions - summary of all project*"
   ]
  },
  {
   "cell_type": "markdown",
   "id": "b7761c87-8b61-4a0c-8ea0-486c2a69a6bc",
   "metadata": {},
   "source": [
    "*not to use comments*"
   ]
  },
  {
   "cell_type": "markdown",
   "id": "81115587-2456-40a5-9446-4509e4e620f6",
   "metadata": {},
   "source": [
    "*to print out duplicates, to explore outliers and to treat them in my EDA, RATIO of outliers, also to add annot. to barplots*"
   ]
  },
  {
   "cell_type": "markdown",
   "id": "2e5fbfce-5a6c-4188-b170-af840acecefe",
   "metadata": {},
   "source": [
    "*to work on correlation in project. To take a look on courses with low ratings. when courses started. LIMITATIONS AND BIASES*"
   ]
  }
 ],
 "metadata": {
  "kernelspec": {
   "display_name": "Python [conda env:base] *",
   "language": "python",
   "name": "conda-base-py"
  },
  "language_info": {
   "codemirror_mode": {
    "name": "ipython",
    "version": 3
   },
   "file_extension": ".py",
   "mimetype": "text/x-python",
   "name": "python",
   "nbconvert_exporter": "python",
   "pygments_lexer": "ipython3",
   "version": "3.12.7"
  }
 },
 "nbformat": 4,
 "nbformat_minor": 5
}
